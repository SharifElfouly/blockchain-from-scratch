{
 "cells": [
  {
   "cell_type": "code",
   "execution_count": 34,
   "id": "future-decision",
   "metadata": {},
   "outputs": [],
   "source": [
    "import time\n",
    "from copy import deepcopy\n",
    "from hashlib import sha256"
   ]
  },
  {
   "cell_type": "markdown",
   "id": "greenhouse-worcester",
   "metadata": {},
   "source": [
    "## Hash"
   ]
  },
  {
   "cell_type": "markdown",
   "id": "conceptual-titanium",
   "metadata": {},
   "source": [
    "Create hash digest from string, int or float."
   ]
  },
  {
   "cell_type": "code",
   "execution_count": 35,
   "id": "local-determination",
   "metadata": {},
   "outputs": [
    {
     "data": {
      "text/plain": [
       "'da2876b3eb31edb4436fa4650673fc6f01f90de2f1793c4ec332b2387b09726f'"
      ]
     },
     "execution_count": 35,
     "metadata": {},
     "output_type": "execute_result"
    }
   ],
   "source": [
    "sha = lambda x: sha256(str(x).encode()).hexdigest(); sha('satoshi')"
   ]
  },
  {
   "cell_type": "markdown",
   "id": "liberal-immunology",
   "metadata": {},
   "source": [
    "Create random hash for testing."
   ]
  },
  {
   "cell_type": "code",
   "execution_count": 36,
   "id": "confidential-halloween",
   "metadata": {},
   "outputs": [
    {
     "data": {
      "text/plain": [
       "'2f082f3f8990169091a053f11749782778a98449c87e5eebaf551a334bdce31a'"
      ]
     },
     "execution_count": 36,
     "metadata": {},
     "output_type": "execute_result"
    }
   ],
   "source": [
    "rh = lambda: sha(time.time())\n",
    "h  = rh(); h"
   ]
  },
  {
   "cell_type": "markdown",
   "id": "super-morris",
   "metadata": {},
   "source": [
    "Turn hash into one of 256 possible emojis. "
   ]
  },
  {
   "cell_type": "code",
   "execution_count": 37,
   "id": "strategic-meaning",
   "metadata": {},
   "outputs": [
    {
     "data": {
      "text/plain": [
       "'💕'"
      ]
     },
     "execution_count": 37,
     "metadata": {},
     "output_type": "execute_result"
    }
   ],
   "source": [
    "def hash2emoji(h):\n",
    "    if h[:2]!='0x': h='0x'+h\n",
    "    offset  = int(h[0:4], 0)\n",
    "    unicode = b'\\U' + b'000' + str(hex(0x1F466+offset))[2:].encode()\n",
    "    return unicode.decode('unicode_escape')\n",
    "\n",
    "hash2emoji(h)"
   ]
  },
  {
   "cell_type": "markdown",
   "id": "spare-correlation",
   "metadata": {},
   "source": [
    "Print hash in a nice way."
   ]
  },
  {
   "cell_type": "code",
   "execution_count": 38,
   "id": "special-convergence",
   "metadata": {},
   "outputs": [
    {
     "data": {
      "text/plain": [
       "'💕 2f082f3f89901690...31a'"
      ]
     },
     "execution_count": 38,
     "metadata": {},
     "output_type": "execute_result"
    }
   ],
   "source": [
    "def ph(h):\n",
    "    if len(h)<16: return h\n",
    "    else        : return hash2emoji(h)+' '+h[:16] + '...' + h[-3:]\n",
    "\n",
    "ph(h)"
   ]
  },
  {
   "cell_type": "markdown",
   "id": "operating-radio",
   "metadata": {},
   "source": [
    "## Transaction\n",
    "\n",
    "A transaction (abbr. tx) is used for transfering `value` from one address `fr` to another `to`.\n",
    "\n",
    "The `fee` goes to the miner who included the tx in a block. More on mining in [03_block.ipynb](https://github.com/SharifElfouly/blockchain-from-scratch/blob/main/03_block.ipynb). The higher it is, the more likely it is included in a block.\n",
    "\n",
    "The `nonce` is the number of transactions sent from a given address. It's used to avoid replay attacks. For a more detailed explanation, see [here](https://kb.myetherwallet.com/en/transactions/what-is-nonce/). "
   ]
  },
  {
   "cell_type": "code",
   "execution_count": 47,
   "id": "simple-government",
   "metadata": {},
   "outputs": [],
   "source": [
    "class TX: \n",
    "    def __init__(self, fr, to, value, fee, nonce): \n",
    "        self.fr, self.to = fr, to\n",
    "        self.value       = value\n",
    "        self.fee         = fee\n",
    "        self.nonce       = nonce\n",
    "        self.time        = time.time()\n",
    "        \n",
    "    def __setattr__(self, prop, val):\n",
    "        super().__setattr__(prop, val)\n",
    "        if prop!='sig': super().__setattr__('hash', sha(self.__dict__))\n",
    "        \n",
    "    def __str__ (self): \n",
    "        is_signed = '\\nsigned:\\ttrue' if hasattr(self, 'sig') else '\\nsigned:\\tfalse'\n",
    "        return ('time:\\t'   + time.ctime(self.time)+\n",
    "                '\\nfrom:\\t' + ph(self.fr)+\n",
    "                '\\nto:\\t'   + ph(self.to)+\n",
    "                '\\nvalue:\\t'+ str(self.value)+' ether'\n",
    "                '\\nfee:\\t'  + str(self.fee)  +' ether' \n",
    "                '\\nnonce:\\t'+ str(self.nonce)+\n",
    "                '\\nhash:\\t' + ph(self.hash)+\n",
    "                is_signed)\n",
    "    \n",
    "    def __bytes__(self):     return str(self.hash).encode()\n",
    "    def __eq__(self, other): return self.hash == other.hash"
   ]
  },
  {
   "cell_type": "code",
   "execution_count": 40,
   "id": "actual-gasoline",
   "metadata": {},
   "outputs": [],
   "source": [
    "tx1 = TX(rh(), rh(), 12, 0.2,  0)\n",
    "tx2 = TX(rh(), rh(), 6,  0.15, 0)"
   ]
  },
  {
   "cell_type": "code",
   "execution_count": 41,
   "id": "smooth-tumor",
   "metadata": {},
   "outputs": [
    {
     "name": "stdout",
     "output_type": "stream",
     "text": [
      "time:\tSat Mar 27 00:32:33 2021\n",
      "from:\t💰 4aeaf9d8386c2db5...34d\n",
      "to:\t📬 8668b2493f0fd4e5...843\n",
      "value:\t12 ether\n",
      "fee:\t0.2 ether\n",
      "nonce:\t0\n",
      "hash:\t🕚 f43be16d9db4a962...970\n",
      "signed:\tfalse\n",
      "\n",
      "time:\tSat Mar 27 00:32:33 2021\n",
      "from:\t🔱 cb3cc6e00a171703...6f0\n",
      "to:\t🔥 bf9abd065ee76ef1...fe2\n",
      "value:\t6 ether\n",
      "fee:\t0.15 ether\n",
      "nonce:\t0\n",
      "hash:\t🔤 be31011042683739...f24\n",
      "signed:\tfalse\n",
      "\n"
     ]
    }
   ],
   "source": [
    "def txs2str(txs): return '\\n'.join([str(tx)+'\\n' for tx in txs])\n",
    "\n",
    "print(txs2str([tx1,tx2]))"
   ]
  },
  {
   "cell_type": "markdown",
   "id": "concrete-juice",
   "metadata": {},
   "source": [
    "#### Changing Tx\n",
    "Every change in the object is reflected by its hash. Compare the tx hash below with the hash of unchanged tx above. The tx hash has changed. This is how we can make sure that nobody changes the tx without us knowing."
   ]
  },
  {
   "cell_type": "code",
   "execution_count": 44,
   "id": "eight-bridal",
   "metadata": {},
   "outputs": [
    {
     "name": "stdout",
     "output_type": "stream",
     "text": [
      "time:\tSat Mar 27 00:32:33 2021\n",
      "from:\t🔱 cb3cc6e00a171703...6f0\n",
      "to:\t🔥 bf9abd065ee76ef1...fe2\n",
      "value:\t6 ether\n",
      "fee:\t0.15 ether\n",
      "nonce:\t0\n",
      "hash:\t🔤 be31011042683739...f24\n",
      "signed:\tfalse\n"
     ]
    }
   ],
   "source": [
    "tx2_false_value       = deepcopy(tx2)\n",
    "tx2_false_value.value = 120\n",
    "print(tx2)"
   ]
  },
  {
   "cell_type": "markdown",
   "id": "continued-survey",
   "metadata": {},
   "source": [
    "Transactions can be determined unequal by simply comparing the hashes as implemented in `__eq__`."
   ]
  },
  {
   "cell_type": "code",
   "execution_count": 46,
   "id": "authentic-noise",
   "metadata": {},
   "outputs": [],
   "source": [
    "assert tx2 != tx2_false_value"
   ]
  },
  {
   "cell_type": "markdown",
   "id": "noted-retailer",
   "metadata": {},
   "source": [
    "#### Signing Tx\n",
    "An account (implemented in [02_account.ipynb](https://github.com/SharifElfouly/blockchain-from-scratch/blob/main/02_account.ipynb)) has the ability to sign a tx. Here we simply mock a signature with a random hash. The signature `sig` is saved as an attribute."
   ]
  },
  {
   "cell_type": "code",
   "execution_count": 48,
   "id": "separate-greece",
   "metadata": {},
   "outputs": [
    {
     "name": "stdout",
     "output_type": "stream",
     "text": [
      "time:\tSat Mar 27 00:32:33 2021\n",
      "from:\t💰 4aeaf9d8386c2db5...34d\n",
      "to:\t📬 8668b2493f0fd4e5...843\n",
      "value:\t12 ether\n",
      "fee:\t0.2 ether\n",
      "nonce:\t0\n",
      "hash:\t🕚 f43be16d9db4a962...970\n",
      "signed:\ttrue\n"
     ]
    }
   ],
   "source": [
    "tx1_unsigned = deepcopy(tx1)\n",
    "tx1.sig      = rh(); print(tx1)"
   ]
  },
  {
   "cell_type": "markdown",
   "id": "private-packet",
   "metadata": {},
   "source": [
    "Signing the tx should not change its hash. Therefore it is equal to the unsigned tx."
   ]
  },
  {
   "cell_type": "code",
   "execution_count": 50,
   "id": "australian-humidity",
   "metadata": {},
   "outputs": [],
   "source": [
    "assert tx1 == tx1_unsigned"
   ]
  }
 ],
 "metadata": {
  "kernelspec": {
   "display_name": "Python 3",
   "language": "python",
   "name": "python3"
  },
  "language_info": {
   "codemirror_mode": {
    "name": "ipython",
    "version": 3
   },
   "file_extension": ".py",
   "mimetype": "text/x-python",
   "name": "python",
   "nbconvert_exporter": "python",
   "pygments_lexer": "ipython3",
   "version": "3.8.2"
  }
 },
 "nbformat": 4,
 "nbformat_minor": 5
}
