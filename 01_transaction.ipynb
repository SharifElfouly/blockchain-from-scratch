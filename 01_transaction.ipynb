{
 "cells": [
  {
   "cell_type": "code",
   "execution_count": 57,
   "id": "future-decision",
   "metadata": {},
   "outputs": [],
   "source": [
    "import time\n",
    "from hashlib import sha256"
   ]
  },
  {
   "cell_type": "markdown",
   "id": "greenhouse-worcester",
   "metadata": {},
   "source": [
    "## Hash"
   ]
  },
  {
   "cell_type": "markdown",
   "id": "liberal-immunology",
   "metadata": {},
   "source": [
    "Create random hash for testing."
   ]
  },
  {
   "cell_type": "code",
   "execution_count": 58,
   "id": "confidential-halloween",
   "metadata": {},
   "outputs": [
    {
     "data": {
      "text/plain": [
       "'3e7f24e1ea78d351152432ad7319cf09877fec7cffcc854ebafbea961d99ef32'"
      ]
     },
     "execution_count": 58,
     "metadata": {},
     "output_type": "execute_result"
    }
   ],
   "source": [
    "rh = lambda: sha256(str(time.time()).encode()).hexdigest()\n",
    "h  = rh(); h"
   ]
  },
  {
   "cell_type": "markdown",
   "id": "coated-sender",
   "metadata": {},
   "source": [
    "Print hash in a nice way."
   ]
  },
  {
   "cell_type": "code",
   "execution_count": 59,
   "id": "special-convergence",
   "metadata": {},
   "outputs": [
    {
     "data": {
      "text/plain": [
       "'3e7f24e1ea78d351...f32'"
      ]
     },
     "execution_count": 59,
     "metadata": {},
     "output_type": "execute_result"
    }
   ],
   "source": [
    "ph = lambda h: h if len(h)<16 else h[:16] + '...' + h[-3:] \n",
    "ph(h)"
   ]
  },
  {
   "cell_type": "markdown",
   "id": "super-morris",
   "metadata": {},
   "source": [
    "Turn hash into one of 256 possible emojis. "
   ]
  },
  {
   "cell_type": "code",
   "execution_count": 64,
   "id": "strategic-meaning",
   "metadata": {},
   "outputs": [
    {
     "data": {
      "text/plain": [
       "'💤'"
      ]
     },
     "execution_count": 64,
     "metadata": {},
     "output_type": "execute_result"
    }
   ],
   "source": [
    "def hash2emoji(h):\n",
    "    if h[:2]!='0x': h='0x'+h\n",
    "    offset  = int(h[0:4], 0)\n",
    "    unicode = b'\\U' + b'000' + str(hex(0x1F466+offset))[2:].encode()\n",
    "    return unicode.decode('unicode_escape')\n",
    "\n",
    "hash2emoji(h)"
   ]
  },
  {
   "cell_type": "markdown",
   "id": "operating-radio",
   "metadata": {},
   "source": [
    "## Transaction\n",
    "\n",
    "A transaction (abbr. tx) is used for transfering `value` from one address `fr` to another `to`.\n",
    "\n",
    "The `nonce` is the number of transactions sent from a given address. It's used to avoid replay attacks. For a more detailed explanation: https://kb.myetherwallet.com/en/transactions/what-is-nonce/"
   ]
  },
  {
   "cell_type": "code",
   "execution_count": 85,
   "id": "simple-government",
   "metadata": {},
   "outputs": [],
   "source": [
    "class TX: \n",
    "    def __init__(self, fr, to, value, nonce): \n",
    "        self.fr, self.to = fr, to\n",
    "        self.value       = value\n",
    "        self.nonce       = nonce\n",
    "        self.time        = time.time()\n",
    "    def __str__ (self): \n",
    "        is_signed = '\\nsigned:\\ttrue' if hasattr(self, 'sig') else '\\nsigned:\\tfalse'\n",
    "        return ('time:\\t'   + time.ctime(self.time)+\n",
    "                                '\\nfrom:\\t' + hash2emoji(self.fr)+' '+ph(self.fr)+\n",
    "                                '\\nto:\\t'   + hash2emoji(self.to)+' '+ph(self.to)+\n",
    "                                '\\nvalue:\\t'+ str(self.value)+' ether' \n",
    "                                '\\nnonce:\\t'+ str(self.nonce)+\n",
    "                                 is_signed+'\\n')\n",
    "    def __bytes__(self): return (self.fr+\n",
    "                                 self.to+\n",
    "                                 str(self.value)+\n",
    "                                 str(self.nonce)+\n",
    "                                 str(self.time)).encode()"
   ]
  },
  {
   "cell_type": "code",
   "execution_count": 92,
   "id": "actual-gasoline",
   "metadata": {},
   "outputs": [
    {
     "name": "stdout",
     "output_type": "stream",
     "text": [
      "time:\tFri Mar 26 00:45:54 2021\n",
      "from:\t📷 91313b967427cf0f...afd\n",
      "to:\t💚 3471b42e7daadd2d...595\n",
      "value:\t12 ether\n",
      "nonce:\t0\n",
      "signed:\tfalse\n",
      "\n",
      "time:\tFri Mar 26 00:45:54 2021\n",
      "from:\t🕒 ecb53d6eae553de4...f15\n",
      "to:\t📯 890109a1a7a707e5...a52\n",
      "value:\t12 ether\n",
      "nonce:\t0\n",
      "signed:\tfalse\n",
      "\n"
     ]
    }
   ],
   "source": [
    "print(TX(rh(), rh(), 12, 0))\n",
    "tx = TX(rh(), rh(), 12, 0); print(tx)"
   ]
  },
  {
   "cell_type": "markdown",
   "id": "known-chamber",
   "metadata": {},
   "source": [
    "An account (implemented in `02_account.ipynb`) has the ability to sign a tx. Here we simply mock one."
   ]
  },
  {
   "cell_type": "code",
   "execution_count": 93,
   "id": "searching-timing",
   "metadata": {},
   "outputs": [
    {
     "name": "stdout",
     "output_type": "stream",
     "text": [
      "time:\tFri Mar 26 00:45:54 2021\n",
      "from:\t🕒 ecb53d6eae553de4...f15\n",
      "to:\t📯 890109a1a7a707e5...a52\n",
      "value:\t12 ether\n",
      "nonce:\t0\n",
      "signed:\ttrue\n",
      "\n"
     ]
    }
   ],
   "source": [
    "tx.sig = rh()\n",
    "print(tx)"
   ]
  }
 ],
 "metadata": {
  "kernelspec": {
   "display_name": "Python 3",
   "language": "python",
   "name": "python3"
  },
  "language_info": {
   "codemirror_mode": {
    "name": "ipython",
    "version": 3
   },
   "file_extension": ".py",
   "mimetype": "text/x-python",
   "name": "python",
   "nbconvert_exporter": "python",
   "pygments_lexer": "ipython3",
   "version": "3.8.2"
  }
 },
 "nbformat": 4,
 "nbformat_minor": 5
}
