{
 "cells": [
  {
   "cell_type": "code",
   "execution_count": 12,
   "id": "future-decision",
   "metadata": {},
   "outputs": [],
   "source": [
    "import time\n",
    "from copy import deepcopy\n",
    "from hashlib import sha256"
   ]
  },
  {
   "cell_type": "markdown",
   "id": "greenhouse-worcester",
   "metadata": {},
   "source": [
    "## Hash"
   ]
  },
  {
   "cell_type": "markdown",
   "id": "conceptual-titanium",
   "metadata": {},
   "source": [
    "Create hash digest from string, int or float."
   ]
  },
  {
   "cell_type": "code",
   "execution_count": 13,
   "id": "local-determination",
   "metadata": {},
   "outputs": [
    {
     "data": {
      "text/plain": [
       "'da2876b3eb31edb4436fa4650673fc6f01f90de2f1793c4ec332b2387b09726f'"
      ]
     },
     "execution_count": 13,
     "metadata": {},
     "output_type": "execute_result"
    }
   ],
   "source": [
    "sha = lambda x: sha256(str(x).encode()).hexdigest(); sha('satoshi')"
   ]
  },
  {
   "cell_type": "markdown",
   "id": "liberal-immunology",
   "metadata": {},
   "source": [
    "Create random hash for testing."
   ]
  },
  {
   "cell_type": "code",
   "execution_count": 14,
   "id": "confidential-halloween",
   "metadata": {},
   "outputs": [
    {
     "data": {
      "text/plain": [
       "'4944978b1be90f80197ae690deeaba2ebc7d32f57b963a4c97289164b301a10f'"
      ]
     },
     "execution_count": 14,
     "metadata": {},
     "output_type": "execute_result"
    }
   ],
   "source": [
    "rh = lambda: sha(time.time())\n",
    "h  = rh(); h"
   ]
  },
  {
   "cell_type": "markdown",
   "id": "super-morris",
   "metadata": {},
   "source": [
    "Turn hash into one of 256 possible emojis. "
   ]
  },
  {
   "cell_type": "code",
   "execution_count": 15,
   "id": "strategic-meaning",
   "metadata": {},
   "outputs": [
    {
     "data": {
      "text/plain": [
       "'💯'"
      ]
     },
     "execution_count": 15,
     "metadata": {},
     "output_type": "execute_result"
    }
   ],
   "source": [
    "def hash2emoji(h):\n",
    "    if h[:2]!='0x': h='0x'+h\n",
    "    offset  = int(h[0:4], 0)\n",
    "    unicode = b'\\U' + b'000' + str(hex(0x1F466+offset))[2:].encode()\n",
    "    return unicode.decode('unicode_escape')\n",
    "\n",
    "hash2emoji(h)"
   ]
  },
  {
   "cell_type": "markdown",
   "id": "spare-correlation",
   "metadata": {},
   "source": [
    "Print hash in a nice way."
   ]
  },
  {
   "cell_type": "code",
   "execution_count": 16,
   "id": "special-convergence",
   "metadata": {},
   "outputs": [
    {
     "data": {
      "text/plain": [
       "'💯 4944978b1be90f80...10f'"
      ]
     },
     "execution_count": 16,
     "metadata": {},
     "output_type": "execute_result"
    }
   ],
   "source": [
    "def ph(h):\n",
    "    if len(h)<16: return h\n",
    "    else        : return hash2emoji(h)+' '+h[:16] + '...' + h[-3:]\n",
    "\n",
    "ph(h)"
   ]
  },
  {
   "cell_type": "markdown",
   "id": "operating-radio",
   "metadata": {},
   "source": [
    "## Transaction\n",
    "\n",
    "A transaction (abbr. tx) is used for transfering `value` from one address `fr` to another `to`.\n",
    "\n",
    "The `nonce` is the number of transactions sent from a given address. It's used to avoid replay attacks. For a more detailed explanation: https://kb.myetherwallet.com/en/transactions/what-is-nonce/"
   ]
  },
  {
   "cell_type": "code",
   "execution_count": 17,
   "id": "simple-government",
   "metadata": {},
   "outputs": [],
   "source": [
    "class TX: \n",
    "    def __init__(self, fr, to, value, nonce): \n",
    "        self.fr, self.to = fr, to\n",
    "        self.value       = value\n",
    "        self.nonce       = nonce\n",
    "        self.time        = time.time()\n",
    "        \n",
    "    def __setattr__(self, prop, val):\n",
    "        super().__setattr__(prop, val)\n",
    "        \n",
    "        # recalculate hash every time if it is not the signature itself\n",
    "        if prop!='sig': super().__setattr__('hash', sha(self.__dict__))\n",
    "        \n",
    "    def __str__ (self): \n",
    "        is_signed = '\\nsigned:\\ttrue' if hasattr(self, 'sig') else '\\nsigned:\\tfalse'\n",
    "        return ('time:\\t'   + time.ctime(self.time)+\n",
    "                                '\\nfrom:\\t' +ph(self.fr)+\n",
    "                                '\\nto:\\t'   +ph(self.to)+\n",
    "                                '\\nvalue:\\t'+ str(self.value)+' ether' \n",
    "                                '\\nnonce:\\t'+ str(self.nonce)+\n",
    "                                '\\nhash:\\t' + ph(self.hash)+\n",
    "                                 is_signed)\n",
    "    def __bytes__(self): return str(self.hash).encode()\n",
    "    def __eq__(self, other): return self.hash == other.hash"
   ]
  },
  {
   "cell_type": "code",
   "execution_count": 18,
   "id": "actual-gasoline",
   "metadata": {},
   "outputs": [],
   "source": [
    "tx1 = TX(rh(), rh(), 12, 0)\n",
    "tx2 = TX(rh(), rh(), 12, 0)"
   ]
  },
  {
   "cell_type": "code",
   "execution_count": 19,
   "id": "smooth-tumor",
   "metadata": {},
   "outputs": [
    {
     "name": "stdout",
     "output_type": "stream",
     "text": [
      "time:\tFri Mar 26 19:43:33 2021\n",
      "from:\t📮 886cc8133b71546f...460\n",
      "to:\t📸 9255401c7da6c138...8f6\n",
      "value:\t12 ether\n",
      "nonce:\t0\n",
      "hash:\t💣 3d02226b061e8acd...117\n",
      "signed:\tfalse\n",
      "\n",
      "time:\tFri Mar 26 19:43:33 2021\n",
      "from:\t🔮 c8b3628bd1835bf8...11e\n",
      "to:\t📼 968bab2e79a8abd4...50a\n",
      "value:\t12 ether\n",
      "nonce:\t0\n",
      "hash:\t💯 490890d4cf87806c...d0b\n",
      "signed:\tfalse\n",
      "\n"
     ]
    }
   ],
   "source": [
    "def txs2str(txs): return '\\n'.join([str(tx)+'\\n' for tx in txs])\n",
    "\n",
    "print(txs2str([tx1,tx2]))"
   ]
  },
  {
   "cell_type": "markdown",
   "id": "patent-church",
   "metadata": {},
   "source": [
    "#### Signing Tx\n",
    "An account (implemented in `02_account.ipynb`) has the ability to sign a tx. Here we simply mock a signature with a random hash."
   ]
  },
  {
   "cell_type": "code",
   "execution_count": 20,
   "id": "above-outline",
   "metadata": {},
   "outputs": [
    {
     "name": "stdout",
     "output_type": "stream",
     "text": [
      "time:\tFri Mar 26 19:43:33 2021\n",
      "from:\t📮 886cc8133b71546f...460\n",
      "to:\t📸 9255401c7da6c138...8f6\n",
      "value:\t12 ether\n",
      "nonce:\t0\n",
      "hash:\t💣 3d02226b061e8acd...117\n",
      "signed:\ttrue\n"
     ]
    }
   ],
   "source": [
    "tx1.sig = rh(); print(tx1)"
   ]
  },
  {
   "cell_type": "markdown",
   "id": "concrete-juice",
   "metadata": {},
   "source": [
    "#### Changing Tx\n",
    "Every change in the object is reflected by its hash. Compare the signed tx hash below with the hash of the unsigned tx above. The hash has changed and the signed flag is true. "
   ]
  },
  {
   "cell_type": "code",
   "execution_count": 21,
   "id": "eight-bridal",
   "metadata": {},
   "outputs": [
    {
     "name": "stdout",
     "output_type": "stream",
     "text": [
      "time:\tFri Mar 26 19:43:33 2021\n",
      "from:\t🔮 c8b3628bd1835bf8...11e\n",
      "to:\t📼 968bab2e79a8abd4...50a\n",
      "value:\t12 ether\n",
      "nonce:\t0\n",
      "hash:\t💯 490890d4cf87806c...d0b\n",
      "signed:\tfalse\n"
     ]
    }
   ],
   "source": [
    "tx2_false_value       = deepcopy(tx2)\n",
    "tx2_false_value.value = 120\n",
    "print(tx2)"
   ]
  },
  {
   "cell_type": "markdown",
   "id": "continued-survey",
   "metadata": {},
   "source": [
    "Transactions can be determined unequal by simply comparing the hashes as implemented in `__eq__`."
   ]
  },
  {
   "cell_type": "code",
   "execution_count": 22,
   "id": "authentic-noise",
   "metadata": {},
   "outputs": [],
   "source": [
    "assert not tx2 == tx2_false_value"
   ]
  }
 ],
 "metadata": {
  "kernelspec": {
   "display_name": "Python 3",
   "language": "python",
   "name": "python3"
  },
  "language_info": {
   "codemirror_mode": {
    "name": "ipython",
    "version": 3
   },
   "file_extension": ".py",
   "mimetype": "text/x-python",
   "name": "python",
   "nbconvert_exporter": "python",
   "pygments_lexer": "ipython3",
   "version": "3.8.2"
  }
 },
 "nbformat": 4,
 "nbformat_minor": 5
}
