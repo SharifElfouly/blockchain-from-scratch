{
 "cells": [
  {
   "cell_type": "code",
   "execution_count": 15,
   "id": "insured-schedule",
   "metadata": {},
   "outputs": [],
   "source": [
    "%run 01_hash.ipynb"
   ]
  },
  {
   "cell_type": "code",
   "execution_count": 46,
   "id": "uniform-tattoo",
   "metadata": {},
   "outputs": [],
   "source": [
    "import json\n",
    "from copy import deepcopy"
   ]
  },
  {
   "cell_type": "markdown",
   "id": "unusual-reflection",
   "metadata": {},
   "source": [
    "Print objects in a nice way."
   ]
  },
  {
   "cell_type": "code",
   "execution_count": 47,
   "id": "fundamental-belarus",
   "metadata": {},
   "outputs": [],
   "source": [
    "def stringfy(o):\n",
    "    s = []\n",
    "    for k,v in o.__dict__.items():\n",
    "        p = f'{k}:'.ljust(15)\n",
    "        if hasattr(v,'messageHash'): s.append(p+ph(v.messageHash.hex()))\n",
    "        elif k == 'time'           : s.append(p+time.ctime(v))\n",
    "        elif str(v)[:2]=='0x'      : s.append(p+ph(v))\n",
    "        elif type(v)   ==float     : s.append(p+str(round(v,8))+' eth')\n",
    "        else                       : s.append(p+str(v))\n",
    "    return '\\n'.join(s)"
   ]
  },
  {
   "cell_type": "markdown",
   "id": "resistant-dylan",
   "metadata": {},
   "source": [
    "## Transaction\n",
    "\n",
    "A transaction (abbr. tx) is used for transfering `value` from one address `fr` to another `to`.\n",
    "\n",
    "The `fee` goes to the miner who included the tx in a block. More on mining in [03_block.ipynb](https://github.com/SharifElfouly/blockchain-from-scratch/blob/main/04_mine.ipynb). The higher it is, the more likely it is included in a block.\n",
    "\n",
    "The `nonce` is the number of transactions sent from a given address. It's used to avoid replay attacks. For a more detailed explanation, see [here](https://kb.myetherwallet.com/en/transactions/what-is-nonce/). \n",
    "\n",
    "It's `hash` is a unique fingerprint. Every time something in the tx changes, it gets recalculated."
   ]
  },
  {
   "cell_type": "code",
   "execution_count": 48,
   "id": "identified-proposition",
   "metadata": {},
   "outputs": [],
   "source": [
    "class TX(Hashable): \n",
    "    def __init__(self, fr, to, value, fee, nonce): \n",
    "        self.fr, self.to = fr, to\n",
    "        self.value       = float(value)\n",
    "        self.fee         = fee\n",
    "        self.nonce       = nonce\n",
    "        self.time        = time.time()\n",
    "        self.signed      = False\n",
    "        \n",
    "    def __setattr__(self, prop, val):\n",
    "        super().__setattr__(prop, val)\n",
    "        if prop not in ['sig','signed','hash']: \n",
    "            super().__setattr__('hash', sha(self.__dict__))\n",
    "        if prop == 'sig': self.signed = True\n",
    "    \n",
    "    def json(self): return json.dumps({**self.__dict__}, indent=4)\n",
    "    def smry(self): return f'{pmh(self.fr)} -> {pmh(self.to)} {self.value} eth'\n",
    "    def __str__(self): return stringfy(self)"
   ]
  },
  {
   "cell_type": "markdown",
   "id": "cognitive-deputy",
   "metadata": {},
   "source": [
    "Create random txs."
   ]
  },
  {
   "cell_type": "code",
   "execution_count": 49,
   "id": "starting-horizon",
   "metadata": {},
   "outputs": [
    {
     "data": {
      "text/plain": [
       "'📷 0x916f -> 🕔 0xeecf 12.0 eth'"
      ]
     },
     "execution_count": 49,
     "metadata": {},
     "output_type": "execute_result"
    }
   ],
   "source": [
    "tx1 = TX(rh(), rh(), 12, 0.2,  0)\n",
    "tx2 = TX(rh(), rh(), 6,  0.15, 0); tx1.smry()"
   ]
  },
  {
   "cell_type": "markdown",
   "id": "failing-bradford",
   "metadata": {},
   "source": [
    "### TX JSON\n",
    "\n",
    "Every tx has a json representation that we will use for our API later."
   ]
  },
  {
   "cell_type": "code",
   "execution_count": 56,
   "id": "artistic-basic",
   "metadata": {},
   "outputs": [
    {
     "name": "stdout",
     "output_type": "stream",
     "text": [
      "{\n",
      "    \"fr\": \"0x916f7c0afbf1f232e92253e4e657e5926ae72b6e9b0f77cb4d794629d607c4a0\",\n",
      "    \"hash\": \"0x67be1bfb64f22bf4774866a1c201139aa2e90a7e97e72a954c0c09fefe0e7692\",\n",
      "    \"to\": \"0xeecf6255c7f40e98247a7322624fac6de2737fb15f0ed4bf8b6cce2aeb358ab2\",\n",
      "    \"value\": 12.0,\n",
      "    \"fee\": 0.2,\n",
      "    \"nonce\": 0,\n",
      "    \"time\": 1617465845.810473,\n",
      "    \"signed\": false\n",
      "}\n"
     ]
    }
   ],
   "source": [
    "tx1_json = tx1.json(); print(tx1_json)"
   ]
  },
  {
   "cell_type": "markdown",
   "id": "proved-thomas",
   "metadata": {},
   "source": [
    "We can load this JSON string `d` and create a tx object."
   ]
  },
  {
   "cell_type": "code",
   "execution_count": 57,
   "id": "temporal-funds",
   "metadata": {},
   "outputs": [],
   "source": [
    "def load_tx(d):\n",
    "    d = json.loads(d)\n",
    "    tx = TX(d['fr'],d['to'],d['value'],d['fee'],d['nonce'])\n",
    "    for k,v in d.items(): setattr(tx, k, v)\n",
    "    tx.hash = d['hash']\n",
    "    return tx"
   ]
  },
  {
   "cell_type": "code",
   "execution_count": 58,
   "id": "finite-platinum",
   "metadata": {},
   "outputs": [],
   "source": [
    "tx1_from_json = load_tx(tx1_json)\n",
    "assert tx1 == tx1_from_json"
   ]
  },
  {
   "cell_type": "markdown",
   "id": "governing-oliver",
   "metadata": {},
   "source": [
    "#### Print several txs in a nice way."
   ]
  },
  {
   "cell_type": "code",
   "execution_count": 59,
   "id": "close-turtle",
   "metadata": {},
   "outputs": [
    {
     "name": "stdout",
     "output_type": "stream",
     "text": [
      "fr:            📷 0x916f7c0afb...4a0\n",
      "hash:          📍 0x67be1bfb64...692\n",
      "to:            🕔 0xeecf6255c7...ab2\n",
      "value:         12.0 eth\n",
      "fee:           0.2 eth\n",
      "nonce:         0\n",
      "time:          Sat Apr  3 18:04:05 2021\n",
      "signed:        False\n",
      "\n",
      "fr:            💺 0x5413e8dca7...b4a\n",
      "hash:          📎 0x682a881478...bfb\n",
      "to:            💳 0x4d8cbce4de...7ff\n",
      "value:         6.0 eth\n",
      "fee:           0.15 eth\n",
      "nonce:         0\n",
      "time:          Sat Apr  3 18:04:05 2021\n",
      "signed:        False\n",
      "\n"
     ]
    }
   ],
   "source": [
    "def txs2str(txs): return '\\n'.join([str(tx)+'\\n' for tx in txs])\n",
    "print(txs2str([tx1,tx2]))"
   ]
  },
  {
   "cell_type": "markdown",
   "id": "amino-advocacy",
   "metadata": {},
   "source": [
    "#### Changing Tx\n",
    "Every change in the object is reflected by its hash. Compare the tx hash below with the hash of unchanged tx above. The tx hash has changed. This is how we can make sure that nobody changes the tx without us knowing."
   ]
  },
  {
   "cell_type": "code",
   "execution_count": 60,
   "id": "natural-straight",
   "metadata": {},
   "outputs": [
    {
     "name": "stdout",
     "output_type": "stream",
     "text": [
      "fr:            💺 0x5413e8dca7...b4a\n",
      "hash:          🔔 0xae9b084310...b3d\n",
      "to:            💳 0x4d8cbce4de...7ff\n",
      "value:         120\n",
      "fee:           0.15 eth\n",
      "nonce:         0\n",
      "time:          Sat Apr  3 18:04:05 2021\n",
      "signed:        False\n"
     ]
    }
   ],
   "source": [
    "tx2_false_value       = deepcopy(tx2)\n",
    "tx2_false_value.value = 120\n",
    "print(tx2_false_value)"
   ]
  },
  {
   "cell_type": "markdown",
   "id": "heated-hotel",
   "metadata": {},
   "source": [
    "Transactions can be determined unequal by simply comparing the hashes as implemented in `__eq__`."
   ]
  },
  {
   "cell_type": "code",
   "execution_count": 61,
   "id": "daily-premises",
   "metadata": {},
   "outputs": [],
   "source": [
    "assert tx2 != tx2_false_value"
   ]
  },
  {
   "cell_type": "markdown",
   "id": "chief-stage",
   "metadata": {},
   "source": [
    "#### Signing Tx\n",
    "An account (implemented in [02_account.ipynb](https://github.com/SharifElfouly/blockchain-from-scratch/blob/main/02_account.ipynb)) has the ability to sign a tx. Here we simply mock a signature with a random hash. The signature `sig` is saved as an attribute."
   ]
  },
  {
   "cell_type": "code",
   "execution_count": 63,
   "id": "danish-french",
   "metadata": {},
   "outputs": [
    {
     "name": "stdout",
     "output_type": "stream",
     "text": [
      "fr:            📷 0x916f7c0afb...4a0\n",
      "hash:          📍 0x67be1bfb64...692\n",
      "to:            🕔 0xeecf6255c7...ab2\n",
      "value:         12.0 eth\n",
      "fee:           0.2 eth\n",
      "nonce:         0\n",
      "time:          Sat Apr  3 18:04:05 2021\n",
      "signed:        True\n",
      "sig:           🔻 0xd54e776d71...d3b\n"
     ]
    }
   ],
   "source": [
    "tx1_signed = deepcopy(tx1)\n",
    "tx1.sig    = rh(); print(tx1)"
   ]
  },
  {
   "cell_type": "markdown",
   "id": "educated-entry",
   "metadata": {},
   "source": [
    "Signing the tx should not change its hash. Therefore it is equal to the unsigned tx."
   ]
  },
  {
   "cell_type": "code",
   "execution_count": 64,
   "id": "numerous-accessory",
   "metadata": {},
   "outputs": [],
   "source": [
    "assert tx1 == tx1_signed"
   ]
  }
 ],
 "metadata": {
  "kernelspec": {
   "display_name": "Python 3",
   "language": "python",
   "name": "python3"
  },
  "language_info": {
   "codemirror_mode": {
    "name": "ipython",
    "version": 3
   },
   "file_extension": ".py",
   "mimetype": "text/x-python",
   "name": "python",
   "nbconvert_exporter": "python",
   "pygments_lexer": "ipython3",
   "version": "3.8.2"
  }
 },
 "nbformat": 4,
 "nbformat_minor": 5
}
