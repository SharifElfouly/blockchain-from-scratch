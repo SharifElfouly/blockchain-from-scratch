{
 "cells": [
  {
   "cell_type": "code",
   "execution_count": 14,
   "id": "insured-schedule",
   "metadata": {},
   "outputs": [],
   "source": [
    "%run 01_hash.ipynb"
   ]
  },
  {
   "cell_type": "code",
   "execution_count": 15,
   "id": "uniform-tattoo",
   "metadata": {},
   "outputs": [],
   "source": [
    "import json\n",
    "from copy import deepcopy"
   ]
  },
  {
   "cell_type": "markdown",
   "id": "unusual-reflection",
   "metadata": {},
   "source": [
    "Print objects in a nice way."
   ]
  },
  {
   "cell_type": "code",
   "execution_count": 16,
   "id": "fundamental-belarus",
   "metadata": {},
   "outputs": [],
   "source": [
    "def stringfy(o):\n",
    "    s = []\n",
    "    for k,v in o.__dict__.items():\n",
    "        p = f'{k}:'.ljust(15)\n",
    "        if hasattr(v,'messageHash'): s.append(p+ph(v.messageHash.hex()))\n",
    "        elif str(v)[:2]=='0x'      : s.append(p+ph(v))\n",
    "        elif type(v)   ==float     : s.append(p+str(round(v,8))+' eth')\n",
    "        else                       : s.append(p+str(v))\n",
    "    return '\\n'.join(s)"
   ]
  },
  {
   "cell_type": "markdown",
   "id": "resistant-dylan",
   "metadata": {},
   "source": [
    "## Transaction\n",
    "\n",
    "A transaction (abbr. tx) is used for transfering `value` from one address `fr` to another `to`.\n",
    "\n",
    "The `fee` goes to the miner who included the tx in a block. More on mining in [03_block.ipynb](https://github.com/SharifElfouly/blockchain-from-scratch/blob/main/04_mine.ipynb). The higher it is, the more likely it is included in a block.\n",
    "\n",
    "The `nonce` is the number of transactions sent from a given address. It's used to avoid replay attacks. For a more detailed explanation, see [here](https://kb.myetherwallet.com/en/transactions/what-is-nonce/). \n",
    "\n",
    "It's `hash` is a unique fingerprint. Every time something in the tx changes, it gets recalculated."
   ]
  },
  {
   "cell_type": "code",
   "execution_count": 17,
   "id": "identified-proposition",
   "metadata": {},
   "outputs": [],
   "source": [
    "class TX(Hashable): \n",
    "    def __init__(self, fr, to, value, fee, nonce): \n",
    "        self.fr, self.to = fr, to\n",
    "        self.value       = float(value)\n",
    "        self.fee         = fee\n",
    "        self.nonce       = nonce\n",
    "        self.time        = time.ctime()\n",
    "        self.signed      = False\n",
    "        \n",
    "    def __setattr__(self, prop, val):\n",
    "        super().__setattr__(prop, val)\n",
    "        if prop not in ['sig','signed','hash']: \n",
    "            super().__setattr__('hash', sha(self.__dict__))\n",
    "        if prop == 'sig': self.signed = True\n",
    "    \n",
    "    def json(self): return json.dumps({**self.__dict__}, indent=4)\n",
    "    def smry(self): return f'{pmh(self.fr)} -> {pmh(self.to)} {self.value} eth'\n",
    "    def __str__(self): return stringfy(self)"
   ]
  },
  {
   "cell_type": "markdown",
   "id": "cognitive-deputy",
   "metadata": {},
   "source": [
    "Create random txs."
   ]
  },
  {
   "cell_type": "code",
   "execution_count": 18,
   "id": "starting-horizon",
   "metadata": {},
   "outputs": [
    {
     "name": "stdout",
     "output_type": "stream",
     "text": [
      "fr:            📴 0x8e41f366c8...043\n",
      "hash:          📃 0x5df4e68bc1...50d\n",
      "to:            📱 0x8b813cc5ae...b88\n",
      "value:         12.0 eth\n",
      "fee:           0.2 eth\n",
      "nonce:         0\n",
      "time:          Mon Apr  5 23:30:06 2021\n",
      "signed:        False\n"
     ]
    }
   ],
   "source": [
    "tx1 = TX(rh(), rh(), 12, 0.2,  0)\n",
    "tx2 = TX(rh(), rh(), 6,  0.15, 0); print(tx1)"
   ]
  },
  {
   "cell_type": "markdown",
   "id": "4cdc84a2",
   "metadata": {},
   "source": [
    "#### TX Summary"
   ]
  },
  {
   "cell_type": "code",
   "execution_count": 22,
   "id": "bfd6aa0c",
   "metadata": {},
   "outputs": [
    {
     "data": {
      "text/plain": [
       "'📴 0x8e41 -> 📱 0x8b81 12.0 eth'"
      ]
     },
     "execution_count": 22,
     "metadata": {},
     "output_type": "execute_result"
    }
   ],
   "source": [
    "tx1.smry()"
   ]
  },
  {
   "cell_type": "markdown",
   "id": "failing-bradford",
   "metadata": {},
   "source": [
    "### TX JSON\n",
    "\n",
    "Every tx has a json representation that we will use for our API later."
   ]
  },
  {
   "cell_type": "code",
   "execution_count": 23,
   "id": "artistic-basic",
   "metadata": {},
   "outputs": [
    {
     "name": "stdout",
     "output_type": "stream",
     "text": [
      "{\n",
      "    \"fr\": \"0x8e41f366c864d8c909839ab9b7c5f17e2c46ba280ae0538e9befd4b860797043\",\n",
      "    \"hash\": \"0x5df4e68bc118a2cb9866322ca588347e62f1f66652dc85793608d609673bd50d\",\n",
      "    \"to\": \"0x8b813cc5ae1093377a2f8d954df8d7e1989de0ba32ca4f6ce5ba583361017b88\",\n",
      "    \"value\": 12.0,\n",
      "    \"fee\": 0.2,\n",
      "    \"nonce\": 0,\n",
      "    \"time\": \"Mon Apr  5 23:30:06 2021\",\n",
      "    \"signed\": false\n",
      "}\n"
     ]
    }
   ],
   "source": [
    "tx1_json = tx1.json(); print(tx1_json)"
   ]
  },
  {
   "cell_type": "markdown",
   "id": "proved-thomas",
   "metadata": {},
   "source": [
    "We can load this JSON string `d` and create a tx object."
   ]
  },
  {
   "cell_type": "code",
   "execution_count": 24,
   "id": "temporal-funds",
   "metadata": {},
   "outputs": [],
   "source": [
    "def load_tx(d):\n",
    "    d = json.loads(d)\n",
    "    tx = TX(d['fr'],d['to'],d['value'],d['fee'],d['nonce'])\n",
    "    for k,v in d.items(): setattr(tx, k, v)\n",
    "    tx.hash = d['hash']\n",
    "    return tx"
   ]
  },
  {
   "cell_type": "code",
   "execution_count": 25,
   "id": "finite-platinum",
   "metadata": {},
   "outputs": [],
   "source": [
    "tx1_from_json = load_tx(tx1_json)\n",
    "assert tx1 == tx1_from_json"
   ]
  },
  {
   "cell_type": "markdown",
   "id": "governing-oliver",
   "metadata": {},
   "source": [
    "#### Print several txs in a nice way."
   ]
  },
  {
   "cell_type": "code",
   "execution_count": 26,
   "id": "close-turtle",
   "metadata": {},
   "outputs": [
    {
     "name": "stdout",
     "output_type": "stream",
     "text": [
      "fr:            📴 0x8e41f366c8...043\n",
      "hash:          📃 0x5df4e68bc1...50d\n",
      "to:            📱 0x8b813cc5ae...b88\n",
      "value:         12.0 eth\n",
      "fee:           0.2 eth\n",
      "nonce:         0\n",
      "time:          Mon Apr  5 23:30:06 2021\n",
      "signed:        False\n",
      "\n",
      "fr:            📁 0x5b543684db...c0b\n",
      "hash:          🔲 0xcca6d2c5f7...3ab\n",
      "to:            📎 0x6851299a4e...029\n",
      "value:         6.0 eth\n",
      "fee:           0.15 eth\n",
      "nonce:         0\n",
      "time:          Mon Apr  5 23:30:06 2021\n",
      "signed:        False\n",
      "\n"
     ]
    }
   ],
   "source": [
    "def txs2str(txs): return '\\n'.join([str(tx)+'\\n' for tx in txs])\n",
    "print(txs2str([tx1,tx2]))"
   ]
  },
  {
   "cell_type": "markdown",
   "id": "amino-advocacy",
   "metadata": {},
   "source": [
    "#### Changing Tx\n",
    "Every change in the object is reflected by its hash. Compare the tx hash below with the hash of unchanged tx above. The tx hash has changed. This is how we can make sure that nobody changes the tx without us knowing."
   ]
  },
  {
   "cell_type": "code",
   "execution_count": 27,
   "id": "natural-straight",
   "metadata": {},
   "outputs": [
    {
     "name": "stdout",
     "output_type": "stream",
     "text": [
      "fr:            📁 0x5b543684db...c0b\n",
      "hash:          🕎 0xe8424d270b...fce\n",
      "to:            📎 0x6851299a4e...029\n",
      "value:         120\n",
      "fee:           0.15 eth\n",
      "nonce:         0\n",
      "time:          Mon Apr  5 23:30:06 2021\n",
      "signed:        False\n"
     ]
    }
   ],
   "source": [
    "tx2_false_value       = deepcopy(tx2)\n",
    "tx2_false_value.value = 120\n",
    "print(tx2_false_value)"
   ]
  },
  {
   "cell_type": "markdown",
   "id": "heated-hotel",
   "metadata": {},
   "source": [
    "Transactions can be determined unequal by simply comparing the hashes as implemented in `__eq__`."
   ]
  },
  {
   "cell_type": "code",
   "execution_count": 28,
   "id": "daily-premises",
   "metadata": {},
   "outputs": [],
   "source": [
    "assert tx2 != tx2_false_value"
   ]
  },
  {
   "cell_type": "markdown",
   "id": "chief-stage",
   "metadata": {},
   "source": [
    "#### Signing Tx\n",
    "An account (implemented in [02_account.ipynb](https://github.com/SharifElfouly/blockchain-from-scratch/blob/main/02_account.ipynb)) has the ability to sign a tx. Here we simply mock a signature with a random hash. The signature `sig` is saved as an attribute."
   ]
  },
  {
   "cell_type": "code",
   "execution_count": 29,
   "id": "danish-french",
   "metadata": {},
   "outputs": [
    {
     "name": "stdout",
     "output_type": "stream",
     "text": [
      "fr:            📴 0x8e41f366c8...043\n",
      "hash:          📃 0x5df4e68bc1...50d\n",
      "to:            📱 0x8b813cc5ae...b88\n",
      "value:         12.0 eth\n",
      "fee:           0.2 eth\n",
      "nonce:         0\n",
      "time:          Mon Apr  5 23:30:06 2021\n",
      "signed:        True\n",
      "sig:           📥 0x7f1eb5b010...128\n"
     ]
    }
   ],
   "source": [
    "tx1_signed = deepcopy(tx1)\n",
    "tx1.sig    = rh(); print(tx1)"
   ]
  },
  {
   "cell_type": "markdown",
   "id": "educated-entry",
   "metadata": {},
   "source": [
    "Signing the tx should not change its hash. Therefore it is equal to the unsigned tx."
   ]
  },
  {
   "cell_type": "code",
   "execution_count": 30,
   "id": "numerous-accessory",
   "metadata": {},
   "outputs": [],
   "source": [
    "assert tx1 == tx1_signed"
   ]
  }
 ],
 "metadata": {
  "kernelspec": {
   "display_name": "Python 3",
   "language": "python",
   "name": "python3"
  },
  "language_info": {
   "codemirror_mode": {
    "name": "ipython",
    "version": 3
   },
   "file_extension": ".py",
   "mimetype": "text/x-python",
   "name": "python",
   "nbconvert_exporter": "python",
   "pygments_lexer": "ipython3",
   "version": "3.9.2"
  }
 },
 "nbformat": 4,
 "nbformat_minor": 5
}
