{
 "cells": [
  {
   "cell_type": "code",
   "execution_count": 3,
   "id": "joint-harvest",
   "metadata": {},
   "outputs": [],
   "source": [
    "%run 01_hash.ipynb"
   ]
  },
  {
   "cell_type": "code",
   "execution_count": 4,
   "id": "future-decision",
   "metadata": {},
   "outputs": [],
   "source": [
    "import json\n",
    "from copy import deepcopy"
   ]
  },
  {
   "cell_type": "markdown",
   "id": "oriented-shuttle",
   "metadata": {},
   "source": [
    "Print objects in a nice way."
   ]
  },
  {
   "cell_type": "code",
   "execution_count": 5,
   "id": "racial-survival",
   "metadata": {},
   "outputs": [],
   "source": [
    "def stringfy(o):\n",
    "    s = []\n",
    "    for k,v in o.__dict__.items():\n",
    "        p = f'{k}:'.ljust(15)\n",
    "        if hasattr(v,'messageHash'): s.append(p+ph(v.messageHash.hex()))\n",
    "        elif k == 'time'           : s.append(p+time.ctime(v))\n",
    "        elif str(v)[:2]=='0x'      : s.append(p+ph(v))\n",
    "        elif type(v)   ==float     : s.append(p+str(round(v,8))+' eth')\n",
    "        else                       : s.append(p+str(v))\n",
    "    return '\\n'.join(s)"
   ]
  },
  {
   "cell_type": "markdown",
   "id": "operating-radio",
   "metadata": {},
   "source": [
    "## Transaction\n",
    "\n",
    "A transaction (abbr. tx) is used for transfering `value` from one address `fr` to another `to`.\n",
    "\n",
    "The `fee` goes to the miner who included the tx in a block. More on mining in [03_block.ipynb](https://github.com/SharifElfouly/blockchain-from-scratch/blob/main/04_mine.ipynb). The higher it is, the more likely it is included in a block.\n",
    "\n",
    "The `nonce` is the number of transactions sent from a given address. It's used to avoid replay attacks. For a more detailed explanation, see [here](https://kb.myetherwallet.com/en/transactions/what-is-nonce/). \n",
    "\n",
    "It's `hash` is a unique fingerprint. Every time something in the tx changes, it gets recalculated."
   ]
  },
  {
   "cell_type": "code",
   "execution_count": 13,
   "id": "simple-government",
   "metadata": {},
   "outputs": [],
   "source": [
    "class TX(Hashable): \n",
    "    def __init__(self, fr, to, value, fee, nonce): \n",
    "        self.fr, self.to = fr, to\n",
    "        self.value       = float(value)\n",
    "        self.fee         = fee\n",
    "        self.nonce       = nonce\n",
    "        self.time        = time.time()\n",
    "        self.signed      = False\n",
    "        \n",
    "    def __setattr__(self, prop, val):\n",
    "        super().__setattr__(prop, val)\n",
    "        if prop not in ['sig','signed']: super().__setattr__('hash', sha(self.__dict__))\n",
    "        if prop == 'sig'               : self.signed = True\n",
    "    \n",
    "    def json(self): return json.dumps(self.__dict__, indent=4)\n",
    "    def smry(self): return f'{pmh(self.fr)} -> {pmh(self.to)} {self.value} eth'\n",
    "    def __str__(self): return stringfy(self)"
   ]
  },
  {
   "cell_type": "markdown",
   "id": "frozen-failure",
   "metadata": {},
   "source": [
    "Create random txs."
   ]
  },
  {
   "cell_type": "code",
   "execution_count": 14,
   "id": "actual-gasoline",
   "metadata": {},
   "outputs": [
    {
     "data": {
      "text/plain": [
       "'💁 0x1bbb -> 💒 0x2cd7 12.0 eth'"
      ]
     },
     "execution_count": 14,
     "metadata": {},
     "output_type": "execute_result"
    }
   ],
   "source": [
    "tx1 = TX(rh(), rh(), 12, 0.2,  0)\n",
    "tx2 = TX(rh(), rh(), 6,  0.15, 0); tx1.smry()"
   ]
  },
  {
   "cell_type": "code",
   "execution_count": 16,
   "id": "tough-fault",
   "metadata": {},
   "outputs": [
    {
     "name": "stdout",
     "output_type": "stream",
     "text": [
      "{\n",
      "    \"fr\": \"0x1bbbd57b8ebc326e9743dd93b8a4bc04ceea2ff984d48c6f6f66f7302e3dd950\",\n",
      "    \"hash\": \"0x771cd240ce86eeb4147ff4fb410a307a7a834e4adba92f5c04cdddd001585821\",\n",
      "    \"to\": \"0x2cd7e6ce5ec9687af4665c394547eb7857ec5891920a5545ab13d2ae2f8c4259\",\n",
      "    \"value\": 12.0,\n",
      "    \"fee\": 0.2,\n",
      "    \"nonce\": 0,\n",
      "    \"time\": 1617368854.1491158,\n",
      "    \"signed\": false\n",
      "}\n"
     ]
    }
   ],
   "source": [
    "print(tx1.json())"
   ]
  },
  {
   "cell_type": "code",
   "execution_count": 319,
   "id": "smooth-tumor",
   "metadata": {},
   "outputs": [
    {
     "name": "stdout",
     "output_type": "stream",
     "text": [
      "fr:            📜 0x7654aeb8c4...1c0\n",
      "hash:          🔴 0xce23d9df63...a10\n",
      "to:            💛 0x358a84a7ad...c30\n",
      "value:         12.0 eth\n",
      "fee:           0.2 eth\n",
      "nonce:         0\n",
      "time:          Wed Mar 31 10:11:00 2021\n",
      "signed:        False\n",
      "\n",
      "fr:            🔬 0xc6dfed7bbc...669\n",
      "hash:          👻 0x155fe23221...278\n",
      "to:            📾 0x9884fcdd1d...dea\n",
      "value:         6.0 eth\n",
      "fee:           0.15 eth\n",
      "nonce:         0\n",
      "time:          Wed Mar 31 10:11:00 2021\n",
      "signed:        False\n",
      "\n"
     ]
    }
   ],
   "source": [
    "def txs2str(txs): return '\\n'.join([str(tx)+'\\n' for tx in txs])\n",
    "print(txs2str([tx1,tx2]))"
   ]
  },
  {
   "cell_type": "markdown",
   "id": "concrete-juice",
   "metadata": {},
   "source": [
    "#### Changing Tx\n",
    "Every change in the object is reflected by its hash. Compare the tx hash below with the hash of unchanged tx above. The tx hash has changed. This is how we can make sure that nobody changes the tx without us knowing."
   ]
  },
  {
   "cell_type": "code",
   "execution_count": 320,
   "id": "eight-bridal",
   "metadata": {},
   "outputs": [
    {
     "name": "stdout",
     "output_type": "stream",
     "text": [
      "fr:            🔬 0xc6dfed7bbc...669\n",
      "hash:          📔 0x6e325ed6a2...ee6\n",
      "to:            📾 0x9884fcdd1d...dea\n",
      "value:         120\n",
      "fee:           0.15 eth\n",
      "nonce:         0\n",
      "time:          Wed Mar 31 10:11:00 2021\n",
      "signed:        False\n"
     ]
    }
   ],
   "source": [
    "tx2_false_value       = deepcopy(tx2)\n",
    "tx2_false_value.value = 120\n",
    "print(tx2_false_value)"
   ]
  },
  {
   "cell_type": "markdown",
   "id": "continued-survey",
   "metadata": {},
   "source": [
    "Transactions can be determined unequal by simply comparing the hashes as implemented in `__eq__`."
   ]
  },
  {
   "cell_type": "code",
   "execution_count": 321,
   "id": "authentic-noise",
   "metadata": {},
   "outputs": [],
   "source": [
    "assert tx2 != tx2_false_value"
   ]
  },
  {
   "cell_type": "markdown",
   "id": "accessory-failure",
   "metadata": {},
   "source": [
    "#### Signing Tx\n",
    "An account (implemented in [02_account.ipynb](https://github.com/SharifElfouly/blockchain-from-scratch/blob/main/02_account.ipynb)) has the ability to sign a tx. Here we simply mock a signature with a random hash. The signature `sig` is saved as an attribute."
   ]
  },
  {
   "cell_type": "code",
   "execution_count": 322,
   "id": "alike-stand",
   "metadata": {},
   "outputs": [
    {
     "name": "stdout",
     "output_type": "stream",
     "text": [
      "fr:            📜 0x7654aeb8c4...1c0\n",
      "hash:          🔴 0xce23d9df63...a10\n",
      "to:            💛 0x358a84a7ad...c30\n",
      "value:         12.0 eth\n",
      "fee:           0.2 eth\n",
      "nonce:         0\n",
      "time:          Wed Mar 31 10:11:00 2021\n",
      "signed:        True\n",
      "sig:           🔾 0xd85e32e03e...7e0\n"
     ]
    }
   ],
   "source": [
    "tx1_signed = deepcopy(tx1)\n",
    "tx1.sig    = rh(); print(tx1)"
   ]
  },
  {
   "cell_type": "markdown",
   "id": "offshore-withdrawal",
   "metadata": {},
   "source": [
    "Signing the tx should not change its hash. Therefore it is equal to the unsigned tx."
   ]
  },
  {
   "cell_type": "code",
   "execution_count": 323,
   "id": "australian-polls",
   "metadata": {},
   "outputs": [],
   "source": [
    "assert tx1 == tx1_signed"
   ]
  }
 ],
 "metadata": {
  "kernelspec": {
   "display_name": "Python 3",
   "language": "python",
   "name": "python3"
  },
  "language_info": {
   "codemirror_mode": {
    "name": "ipython",
    "version": 3
   },
   "file_extension": ".py",
   "mimetype": "text/x-python",
   "name": "python",
   "nbconvert_exporter": "python",
   "pygments_lexer": "ipython3",
   "version": "3.8.2"
  }
 },
 "nbformat": 4,
 "nbformat_minor": 5
}
