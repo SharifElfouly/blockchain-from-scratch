{
 "cells": [
  {
   "cell_type": "code",
   "execution_count": 1,
   "id": "insured-schedule",
   "metadata": {},
   "outputs": [],
   "source": [
    "%run 01_hash.ipynb"
   ]
  },
  {
   "cell_type": "code",
   "execution_count": 2,
   "id": "uniform-tattoo",
   "metadata": {},
   "outputs": [],
   "source": [
    "import json\n",
    "from copy import deepcopy"
   ]
  },
  {
   "cell_type": "markdown",
   "id": "unusual-reflection",
   "metadata": {},
   "source": [
    "Print objects in a nice way."
   ]
  },
  {
   "cell_type": "code",
   "execution_count": 11,
   "id": "fundamental-belarus",
   "metadata": {},
   "outputs": [],
   "source": [
    "def stringfy(o):\n",
    "    s = []\n",
    "    for k,v in o.__dict__.items():\n",
    "        p = f'{k}:'.ljust(15)\n",
    "        if hasattr(v,'messageHash'): s.append(p+ph(v.messageHash.hex()))\n",
    "        elif k == 'time'           : s.append(p+time.ctime(v))\n",
    "        elif str(v)[:2]=='0x'      : s.append(p+ph(v))\n",
    "        elif type(v)   ==float     : s.append(p+str(round(v,8))+' eth')\n",
    "        else                       : s.append(p+str(v))\n",
    "    return '\\n'.join(s)"
   ]
  },
  {
   "cell_type": "markdown",
   "id": "resistant-dylan",
   "metadata": {},
   "source": [
    "## Transaction\n",
    "\n",
    "A transaction (abbr. tx) is used for transfering `value` from one address `fr` to another `to`.\n",
    "\n",
    "The `fee` goes to the miner who included the tx in a block. More on mining in [03_block.ipynb](https://github.com/SharifElfouly/blockchain-from-scratch/blob/main/04_mine.ipynb). The higher it is, the more likely it is included in a block.\n",
    "\n",
    "The `nonce` is the number of transactions sent from a given address. It's used to avoid replay attacks. For a more detailed explanation, see [here](https://kb.myetherwallet.com/en/transactions/what-is-nonce/). \n",
    "\n",
    "It's `hash` is a unique fingerprint. Every time something in the tx changes, it gets recalculated."
   ]
  },
  {
   "cell_type": "code",
   "execution_count": 17,
   "id": "identified-proposition",
   "metadata": {},
   "outputs": [],
   "source": [
    "class TX(Hashable): \n",
    "    def __init__(self, fr, to, value, fee, nonce): \n",
    "        self.fr, self.to = fr, to\n",
    "        self.value       = float(value)\n",
    "        self.fee         = fee\n",
    "        self.nonce       = nonce\n",
    "        self.time        = time.time()\n",
    "        self.signed      = False\n",
    "        \n",
    "    def __setattr__(self, prop, val):\n",
    "        super().__setattr__(prop, val)\n",
    "        if prop not in ['sig','signed']: super().__setattr__('hash', sha(self.__dict__))\n",
    "        if prop == 'sig'               : self.signed = True\n",
    "    \n",
    "    def json(self):\n",
    "        d = {**self.__dict__}\n",
    "        d['time'] = time.ctime(d['time'])\n",
    "        return json.dumps(d, indent=4)\n",
    "    \n",
    "    def smry(self): return f'{pmh(self.fr)} -> {pmh(self.to)} {self.value} eth'\n",
    "    def __str__(self): return stringfy(self)"
   ]
  },
  {
   "cell_type": "markdown",
   "id": "cognitive-deputy",
   "metadata": {},
   "source": [
    "Create random txs."
   ]
  },
  {
   "cell_type": "code",
   "execution_count": 18,
   "id": "starting-horizon",
   "metadata": {},
   "outputs": [
    {
     "data": {
      "text/plain": [
       "'🕐 0xeaa5 -> 🕔 0xee96 12.0 eth'"
      ]
     },
     "execution_count": 18,
     "metadata": {},
     "output_type": "execute_result"
    }
   ],
   "source": [
    "tx1 = TX(rh(), rh(), 12, 0.2,  0)\n",
    "tx2 = TX(rh(), rh(), 6,  0.15, 0); tx1.smry()"
   ]
  },
  {
   "cell_type": "code",
   "execution_count": 20,
   "id": "artistic-basic",
   "metadata": {},
   "outputs": [
    {
     "name": "stdout",
     "output_type": "stream",
     "text": [
      "{\n",
      "    \"fr\": \"0xeaa547f3f2e6f3b65dec93fd657e7d034e7a64f75b1979173d0af42440df7afd\",\n",
      "    \"hash\": \"0xd1416ffe13e66350d10d50e9174ad580615ff033128a9623c8974e6798e03690\",\n",
      "    \"to\": \"0xee9678c5a074d265028972aa87655db62825972b0cf8a9ab3c13106466279773\",\n",
      "    \"value\": 12.0,\n",
      "    \"fee\": 0.2,\n",
      "    \"nonce\": 0,\n",
      "    \"time\": \"Fri Apr  2 22:15:32 2021\",\n",
      "    \"signed\": false\n",
      "}\n"
     ]
    }
   ],
   "source": [
    "print(tx1.json())"
   ]
  },
  {
   "cell_type": "code",
   "execution_count": 22,
   "id": "close-turtle",
   "metadata": {},
   "outputs": [
    {
     "name": "stdout",
     "output_type": "stream",
     "text": [
      "fr:            🕐 0xeaa547f3f2...afd\n",
      "hash:          🔷 0xd1416ffe13...690\n",
      "to:            🕔 0xee9678c5a0...773\n",
      "value:         12.0 eth\n",
      "fee:           0.2 eth\n",
      "nonce:         0\n",
      "time:          Fri Apr  2 22:15:32 2021\n",
      "signed:        False\n",
      "\n",
      "fr:            💵 0x4fc8057ab1...3ae\n",
      "hash:          📒 0x6c0bf30e4e...b2d\n",
      "to:            📖 0x70d0b2892d...a5a\n",
      "value:         6.0 eth\n",
      "fee:           0.15 eth\n",
      "nonce:         0\n",
      "time:          Fri Apr  2 22:15:32 2021\n",
      "signed:        False\n",
      "\n"
     ]
    }
   ],
   "source": [
    "def txs2str(txs): return '\\n'.join([str(tx)+'\\n' for tx in txs])\n",
    "print(txs2str([tx1,tx2]))"
   ]
  },
  {
   "cell_type": "markdown",
   "id": "amino-advocacy",
   "metadata": {},
   "source": [
    "#### Changing Tx\n",
    "Every change in the object is reflected by its hash. Compare the tx hash below with the hash of unchanged tx above. The tx hash has changed. This is how we can make sure that nobody changes the tx without us knowing."
   ]
  },
  {
   "cell_type": "code",
   "execution_count": 320,
   "id": "natural-straight",
   "metadata": {},
   "outputs": [
    {
     "name": "stdout",
     "output_type": "stream",
     "text": [
      "fr:            🔬 0xc6dfed7bbc...669\n",
      "hash:          📔 0x6e325ed6a2...ee6\n",
      "to:            📾 0x9884fcdd1d...dea\n",
      "value:         120\n",
      "fee:           0.15 eth\n",
      "nonce:         0\n",
      "time:          Wed Mar 31 10:11:00 2021\n",
      "signed:        False\n"
     ]
    }
   ],
   "source": [
    "tx2_false_value       = deepcopy(tx2)\n",
    "tx2_false_value.value = 120\n",
    "print(tx2_false_value)"
   ]
  },
  {
   "cell_type": "markdown",
   "id": "heated-hotel",
   "metadata": {},
   "source": [
    "Transactions can be determined unequal by simply comparing the hashes as implemented in `__eq__`."
   ]
  },
  {
   "cell_type": "code",
   "execution_count": 321,
   "id": "daily-premises",
   "metadata": {},
   "outputs": [],
   "source": [
    "assert tx2 != tx2_false_value"
   ]
  },
  {
   "cell_type": "markdown",
   "id": "chief-stage",
   "metadata": {},
   "source": [
    "#### Signing Tx\n",
    "An account (implemented in [02_account.ipynb](https://github.com/SharifElfouly/blockchain-from-scratch/blob/main/02_account.ipynb)) has the ability to sign a tx. Here we simply mock a signature with a random hash. The signature `sig` is saved as an attribute."
   ]
  },
  {
   "cell_type": "code",
   "execution_count": 322,
   "id": "danish-french",
   "metadata": {},
   "outputs": [
    {
     "name": "stdout",
     "output_type": "stream",
     "text": [
      "fr:            📜 0x7654aeb8c4...1c0\n",
      "hash:          🔴 0xce23d9df63...a10\n",
      "to:            💛 0x358a84a7ad...c30\n",
      "value:         12.0 eth\n",
      "fee:           0.2 eth\n",
      "nonce:         0\n",
      "time:          Wed Mar 31 10:11:00 2021\n",
      "signed:        True\n",
      "sig:           🔾 0xd85e32e03e...7e0\n"
     ]
    }
   ],
   "source": [
    "tx1_signed = deepcopy(tx1)\n",
    "tx1.sig    = rh(); print(tx1)"
   ]
  },
  {
   "cell_type": "markdown",
   "id": "educated-entry",
   "metadata": {},
   "source": [
    "Signing the tx should not change its hash. Therefore it is equal to the unsigned tx."
   ]
  },
  {
   "cell_type": "code",
   "execution_count": 323,
   "id": "numerous-accessory",
   "metadata": {},
   "outputs": [],
   "source": [
    "assert tx1 == tx1_signed"
   ]
  }
 ],
 "metadata": {
  "kernelspec": {
   "display_name": "Python 3",
   "language": "python",
   "name": "python3"
  },
  "language_info": {
   "codemirror_mode": {
    "name": "ipython",
    "version": 3
   },
   "file_extension": ".py",
   "mimetype": "text/x-python",
   "name": "python",
   "nbconvert_exporter": "python",
   "pygments_lexer": "ipython3",
   "version": "3.8.2"
  }
 },
 "nbformat": 4,
 "nbformat_minor": 5
}
