{
 "cells": [
  {
   "cell_type": "code",
   "execution_count": 293,
   "id": "quality-final",
   "metadata": {},
   "outputs": [],
   "source": [
    "%run 01_hash.ipynb"
   ]
  },
  {
   "cell_type": "code",
   "execution_count": 294,
   "id": "future-decision",
   "metadata": {},
   "outputs": [],
   "source": [
    "from copy import deepcopy"
   ]
  },
  {
   "cell_type": "markdown",
   "id": "shared-spread",
   "metadata": {},
   "source": [
    "Print objects in a nice way."
   ]
  },
  {
   "cell_type": "code",
   "execution_count": 295,
   "id": "intelligent-accreditation",
   "metadata": {},
   "outputs": [],
   "source": [
    "def stringfy(o):\n",
    "    s = []\n",
    "    for k,v in o.__dict__.items():\n",
    "        p = f'{k}:'.ljust(15)\n",
    "        if hasattr(v,'messageHash'): s.append(p+ph(v.messageHash.hex()))\n",
    "        elif k == 'time'           : s.append(p+time.ctime(v))\n",
    "        elif str(v)[:2]=='0x'      : s.append(p+ph(v))\n",
    "        elif type(v)   ==float     : s.append(p+str(round(v,8))+' ether')\n",
    "        else                       : s.append(p+str(v))\n",
    "    return '\\n'.join(s)"
   ]
  },
  {
   "cell_type": "markdown",
   "id": "operating-radio",
   "metadata": {},
   "source": [
    "## Transaction\n",
    "\n",
    "A transaction (abbr. tx) is used for transfering `value` from one address `fr` to another `to`.\n",
    "\n",
    "The `fee` goes to the miner who included the tx in a block. More on mining in [03_block.ipynb](https://github.com/SharifElfouly/blockchain-from-scratch/blob/main/04_mine.ipynb). The higher it is, the more likely it is included in a block.\n",
    "\n",
    "The `nonce` is the number of transactions sent from a given address. It's used to avoid replay attacks. For a more detailed explanation, see [here](https://kb.myetherwallet.com/en/transactions/what-is-nonce/). \n",
    "\n",
    "It's `hash` is a unique fingerprint. Every time something in the tx changes, it gets recalculated."
   ]
  },
  {
   "cell_type": "code",
   "execution_count": 297,
   "id": "simple-government",
   "metadata": {},
   "outputs": [],
   "source": [
    "class TX(Hashable): \n",
    "    def __init__(self, fr, to, value, fee, nonce): \n",
    "        self.fr, self.to = fr, to\n",
    "        self.value       = float(value)\n",
    "        self.fee         = fee\n",
    "        self.nonce       = nonce\n",
    "        self.time        = time.time()\n",
    "        self.signed      = False\n",
    "        \n",
    "    def __setattr__(self, prop, val):\n",
    "        super().__setattr__(prop, val)\n",
    "        if prop not in ['sig','signed']: super().__setattr__('hash', sha(self.__dict__))\n",
    "        if prop == 'sig'               : self.signed = True\n",
    "    \n",
    "    def __str__(self): return stringfy(self)"
   ]
  },
  {
   "cell_type": "markdown",
   "id": "frozen-failure",
   "metadata": {},
   "source": [
    "Create random txs."
   ]
  },
  {
   "cell_type": "code",
   "execution_count": 298,
   "id": "actual-gasoline",
   "metadata": {},
   "outputs": [],
   "source": [
    "tx1 = TX(rh(), rh(), 12, 0.2,  0)\n",
    "tx2 = TX(rh(), rh(), 6,  0.15, 0)"
   ]
  },
  {
   "cell_type": "code",
   "execution_count": 287,
   "id": "smooth-tumor",
   "metadata": {},
   "outputs": [
    {
     "name": "stdout",
     "output_type": "stream",
     "text": [
      "fr:            📔 0x6e3fee8cf0...626\n",
      "hash:          👹 0x13f5d352f2...7ac\n",
      "to:            📂 0x5c6b8b588a...702\n",
      "value:         12.0 ether\n",
      "fee:           0.2 ether\n",
      "nonce:         0\n",
      "time:          Tue Mar 30 21:03:52 2021\n",
      "signed:        False\n",
      "\n",
      "fr:            💒 0x2cba7c15b1...3f9\n",
      "hash:          👷 0x11e37030fe...7d9\n",
      "to:            🕓 0xedc3eb982a...82d\n",
      "value:         6.0 ether\n",
      "fee:           0.15 ether\n",
      "nonce:         0\n",
      "time:          Tue Mar 30 21:03:52 2021\n",
      "signed:        False\n",
      "\n"
     ]
    }
   ],
   "source": [
    "def txs2str(txs): return '\\n'.join([str(tx)+'\\n' for tx in txs])\n",
    "print(txs2str([tx1,tx2]))"
   ]
  },
  {
   "cell_type": "markdown",
   "id": "concrete-juice",
   "metadata": {},
   "source": [
    "#### Changing Tx\n",
    "Every change in the object is reflected by its hash. Compare the tx hash below with the hash of unchanged tx above. The tx hash has changed. This is how we can make sure that nobody changes the tx without us knowing."
   ]
  },
  {
   "cell_type": "code",
   "execution_count": 288,
   "id": "eight-bridal",
   "metadata": {},
   "outputs": [
    {
     "name": "stdout",
     "output_type": "stream",
     "text": [
      "fr:            💒 0x2cba7c15b1...3f9\n",
      "hash:          📳 0x8d06f1048d...51a\n",
      "to:            🕓 0xedc3eb982a...82d\n",
      "value:         120\n",
      "fee:           0.15 ether\n",
      "nonce:         0\n",
      "time:          Tue Mar 30 21:03:52 2021\n",
      "signed:        False\n"
     ]
    }
   ],
   "source": [
    "tx2_false_value       = deepcopy(tx2)\n",
    "tx2_false_value.value = 120\n",
    "print(tx2_false_value)"
   ]
  },
  {
   "cell_type": "markdown",
   "id": "continued-survey",
   "metadata": {},
   "source": [
    "Transactions can be determined unequal by simply comparing the hashes as implemented in `__eq__`."
   ]
  },
  {
   "cell_type": "code",
   "execution_count": 289,
   "id": "authentic-noise",
   "metadata": {},
   "outputs": [],
   "source": [
    "assert tx2 != tx2_false_value"
   ]
  },
  {
   "cell_type": "markdown",
   "id": "accessory-failure",
   "metadata": {},
   "source": [
    "#### Signing Tx\n",
    "An account (implemented in [02_account.ipynb](https://github.com/SharifElfouly/blockchain-from-scratch/blob/main/02_account.ipynb)) has the ability to sign a tx. Here we simply mock a signature with a random hash. The signature `sig` is saved as an attribute."
   ]
  },
  {
   "cell_type": "code",
   "execution_count": 290,
   "id": "alike-stand",
   "metadata": {},
   "outputs": [
    {
     "name": "stdout",
     "output_type": "stream",
     "text": [
      "fr:            📔 0x6e3fee8cf0...626\n",
      "hash:          👹 0x13f5d352f2...7ac\n",
      "to:            📂 0x5c6b8b588a...702\n",
      "value:         12.0 ether\n",
      "fee:           0.2 ether\n",
      "nonce:         0\n",
      "time:          Tue Mar 30 21:03:52 2021\n",
      "signed:        True\n",
      "sig:           📾 0x9849997682...1a7\n"
     ]
    }
   ],
   "source": [
    "tx1_signed = deepcopy(tx1)\n",
    "tx1.sig    = rh(); print(tx1)"
   ]
  },
  {
   "cell_type": "markdown",
   "id": "offshore-withdrawal",
   "metadata": {},
   "source": [
    "Signing the tx should not change its hash. Therefore it is equal to the unsigned tx."
   ]
  },
  {
   "cell_type": "code",
   "execution_count": 291,
   "id": "australian-polls",
   "metadata": {},
   "outputs": [],
   "source": [
    "assert tx1 == tx1_signed"
   ]
  }
 ],
 "metadata": {
  "kernelspec": {
   "display_name": "Python 3",
   "language": "python",
   "name": "python3"
  },
  "language_info": {
   "codemirror_mode": {
    "name": "ipython",
    "version": 3
   },
   "file_extension": ".py",
   "mimetype": "text/x-python",
   "name": "python",
   "nbconvert_exporter": "python",
   "pygments_lexer": "ipython3",
   "version": "3.8.2"
  }
 },
 "nbformat": 4,
 "nbformat_minor": 5
}
