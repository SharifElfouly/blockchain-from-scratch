{
 "cells": [
  {
   "cell_type": "code",
   "execution_count": 53,
   "id": "insured-schedule",
   "metadata": {},
   "outputs": [],
   "source": [
    "%run 01_hash.ipynb"
   ]
  },
  {
   "cell_type": "code",
   "execution_count": 54,
   "id": "uniform-tattoo",
   "metadata": {},
   "outputs": [],
   "source": [
    "import json\n",
    "from copy import deepcopy"
   ]
  },
  {
   "cell_type": "markdown",
   "id": "resistant-dylan",
   "metadata": {},
   "source": [
    "## Transaction\n",
    "\n",
    "A transaction (abbr. tx) is used for transfering `value` from one address `fr` to another `to`.\n",
    "\n",
    "The `fee` goes to the miner who included the tx in a block. More on mining in [03_block.ipynb](https://github.com/SharifElfouly/blockchain-from-scratch/blob/main/04_mine.ipynb). The higher it is, the more likely it is included in a block.\n",
    "\n",
    "The `nonce` is the number of transactions sent from a given address. It's used to avoid replay attacks. For a more detailed explanation, see [here](https://kb.myetherwallet.com/en/transactions/what-is-nonce/). \n",
    "\n",
    "It's `hash` is a unique fingerprint. Every time something in the tx changes, it gets recalculated."
   ]
  },
  {
   "cell_type": "code",
   "execution_count": 55,
   "id": "identified-proposition",
   "metadata": {},
   "outputs": [],
   "source": [
    "class TX(Hashable): \n",
    "    def __init__(self, fr, to, value, fee, nonce): \n",
    "        self.fr, self.to = fr, to\n",
    "        self.value       = float(value)\n",
    "        self.fee         = fee\n",
    "        self.nonce       = nonce\n",
    "        self.time        = time.ctime()\n",
    "        self.signed      = False\n",
    "        \n",
    "    def __setattr__(self, prop, val):\n",
    "        super().__setattr__(prop, val)\n",
    "        if prop == 'sig': self.signed = True\n",
    "    \n",
    "    def smry(self): return f'{pmh(self.fr)} -> {pmh(self.to)} {self.value} eth'"
   ]
  },
  {
   "cell_type": "markdown",
   "id": "cognitive-deputy",
   "metadata": {},
   "source": [
    "Create random txs."
   ]
  },
  {
   "cell_type": "code",
   "execution_count": 56,
   "id": "starting-horizon",
   "metadata": {},
   "outputs": [
    {
     "name": "stdout",
     "output_type": "stream",
     "text": [
      "fr:            🕋 0xe50f1781ab...032\n",
      "hash:          📨 0x828a0f3aa7...646\n",
      "to:            📥 0x7fbe0521d3...7a4\n",
      "value:         12.0 eth\n",
      "fee:           0.2 eth\n",
      "nonce:         0\n",
      "time:          Tue Apr  6 00:00:43 2021\n",
      "signed:        False\n"
     ]
    }
   ],
   "source": [
    "tx1 = TX(rh(), rh(), 12, 0.2,  0)\n",
    "tx2 = TX(rh(), rh(), 6,  0.15, 0); print(tx1)"
   ]
  },
  {
   "cell_type": "markdown",
   "id": "06f223d1",
   "metadata": {},
   "source": [
    "#### TX Summary"
   ]
  },
  {
   "cell_type": "code",
   "execution_count": 57,
   "id": "4a785a39",
   "metadata": {},
   "outputs": [
    {
     "data": {
      "text/plain": [
       "'🕋 0xe50f -> 📥 0x7fbe 12.0 eth'"
      ]
     },
     "execution_count": 57,
     "metadata": {},
     "output_type": "execute_result"
    }
   ],
   "source": [
    "tx1.smry()"
   ]
  },
  {
   "cell_type": "markdown",
   "id": "failing-bradford",
   "metadata": {},
   "source": [
    "### TX JSON\n",
    "\n",
    "Every tx has a json representation that we will use for our API later."
   ]
  },
  {
   "cell_type": "code",
   "execution_count": 58,
   "id": "artistic-basic",
   "metadata": {},
   "outputs": [
    {
     "name": "stdout",
     "output_type": "stream",
     "text": [
      "{\n",
      "    \"fr\": \"0xe50f1781abbfc3fc2e02d354132bb9047374efffdb601065d8e92f51c1f06032\",\n",
      "    \"hash\": \"0x828a0f3aa76f2d9f260d3fac77d480d65195695dc9485cd5843ea13125023646\",\n",
      "    \"to\": \"0x7fbe0521d304e411a62477ad432963990c161405fd09e858c3549787580817a4\",\n",
      "    \"value\": 12.0,\n",
      "    \"fee\": 0.2,\n",
      "    \"nonce\": 0,\n",
      "    \"time\": \"Tue Apr  6 00:00:43 2021\",\n",
      "    \"signed\": false\n",
      "}\n"
     ]
    }
   ],
   "source": [
    "tx1_json = tx1.json(); print(tx1_json)"
   ]
  },
  {
   "cell_type": "markdown",
   "id": "proved-thomas",
   "metadata": {},
   "source": [
    "We can load this JSON string `d` and create a tx object."
   ]
  },
  {
   "cell_type": "code",
   "execution_count": 59,
   "id": "temporal-funds",
   "metadata": {},
   "outputs": [],
   "source": [
    "def load_tx(d):\n",
    "    d = json.loads(d)\n",
    "    tx = TX(d['fr'],d['to'],d['value'],d['fee'],d['nonce'])\n",
    "    for k,v in d.items(): setattr(tx, k, v)\n",
    "    tx.hash = d['hash']\n",
    "    return tx"
   ]
  },
  {
   "cell_type": "code",
   "execution_count": 60,
   "id": "finite-platinum",
   "metadata": {},
   "outputs": [],
   "source": [
    "tx1_from_json = load_tx(tx1_json)\n",
    "assert tx1 == tx1_from_json"
   ]
  },
  {
   "cell_type": "markdown",
   "id": "governing-oliver",
   "metadata": {},
   "source": [
    "#### Print several txs in a nice way."
   ]
  },
  {
   "cell_type": "code",
   "execution_count": 61,
   "id": "close-turtle",
   "metadata": {},
   "outputs": [
    {
     "name": "stdout",
     "output_type": "stream",
     "text": [
      "fr:            🕋 0xe50f1781ab...032\n",
      "hash:          📨 0x828a0f3aa7...646\n",
      "to:            📥 0x7fbe0521d3...7a4\n",
      "value:         12.0 eth\n",
      "fee:           0.2 eth\n",
      "nonce:         0\n",
      "time:          Tue Apr  6 00:00:43 2021\n",
      "signed:        False\n",
      "\n",
      "fr:            🔭 0xc7dffefac5...c03\n",
      "hash:          🕢 0xfc5ae59f52...82f\n",
      "to:            📷 0x917456e97d...a44\n",
      "value:         6.0 eth\n",
      "fee:           0.15 eth\n",
      "nonce:         0\n",
      "time:          Tue Apr  6 00:00:43 2021\n",
      "signed:        False\n",
      "\n"
     ]
    }
   ],
   "source": [
    "def txs2str(txs): return '\\n'.join([str(tx)+'\\n' for tx in txs])\n",
    "print(txs2str([tx1,tx2]))"
   ]
  },
  {
   "cell_type": "markdown",
   "id": "amino-advocacy",
   "metadata": {},
   "source": [
    "#### Changing Tx\n",
    "Every change in the object is reflected by its hash. Compare the tx hash below with the hash of unchanged tx above. The tx hash has changed. This is how we can make sure that nobody changes the tx without us knowing."
   ]
  },
  {
   "cell_type": "code",
   "execution_count": 62,
   "id": "natural-straight",
   "metadata": {},
   "outputs": [
    {
     "name": "stdout",
     "output_type": "stream",
     "text": [
      "fr:            🔭 0xc7dffefac5...c03\n",
      "hash:          📥 0x7fc7ba206c...06a\n",
      "to:            📷 0x917456e97d...a44\n",
      "value:         120\n",
      "fee:           0.15 eth\n",
      "nonce:         0\n",
      "time:          Tue Apr  6 00:00:43 2021\n",
      "signed:        False\n"
     ]
    }
   ],
   "source": [
    "tx2_false_value       = deepcopy(tx2)\n",
    "tx2_false_value.value = 120\n",
    "print(tx2_false_value)"
   ]
  },
  {
   "cell_type": "markdown",
   "id": "heated-hotel",
   "metadata": {},
   "source": [
    "Transactions can be determined unequal by simply comparing the hashes as implemented in `__eq__`."
   ]
  },
  {
   "cell_type": "code",
   "execution_count": 63,
   "id": "daily-premises",
   "metadata": {},
   "outputs": [],
   "source": [
    "assert tx2 != tx2_false_value"
   ]
  },
  {
   "cell_type": "markdown",
   "id": "chief-stage",
   "metadata": {},
   "source": [
    "#### Signing Tx\n",
    "An account (implemented in [02_account.ipynb](https://github.com/SharifElfouly/blockchain-from-scratch/blob/main/02_account.ipynb)) has the ability to sign a tx. Here we simply mock a signature with a random hash. The signature `sig` is saved as an attribute."
   ]
  },
  {
   "cell_type": "code",
   "execution_count": 64,
   "id": "danish-french",
   "metadata": {},
   "outputs": [
    {
     "name": "stdout",
     "output_type": "stream",
     "text": [
      "fr:            🕋 0xe50f1781ab...032\n",
      "hash:          📨 0x828a0f3aa7...646\n",
      "to:            📥 0x7fbe0521d3...7a4\n",
      "value:         12.0 eth\n",
      "fee:           0.2 eth\n",
      "nonce:         0\n",
      "time:          Tue Apr  6 00:00:43 2021\n",
      "signed:        True\n",
      "sig:           🔿 0xd947a5af0c...173\n"
     ]
    }
   ],
   "source": [
    "tx1_signed = deepcopy(tx1)\n",
    "tx1.sig    = rh(); print(tx1)"
   ]
  },
  {
   "cell_type": "markdown",
   "id": "educated-entry",
   "metadata": {},
   "source": [
    "Signing the tx should not change its hash. Therefore it is equal to the unsigned tx."
   ]
  },
  {
   "cell_type": "code",
   "execution_count": 65,
   "id": "numerous-accessory",
   "metadata": {},
   "outputs": [],
   "source": [
    "assert tx1 == tx1_signed"
   ]
  }
 ],
 "metadata": {
  "kernelspec": {
   "display_name": "Python 3",
   "language": "python",
   "name": "python3"
  },
  "language_info": {
   "codemirror_mode": {
    "name": "ipython",
    "version": 3
   },
   "file_extension": ".py",
   "mimetype": "text/x-python",
   "name": "python",
   "nbconvert_exporter": "python",
   "pygments_lexer": "ipython3",
   "version": "3.9.2"
  }
 },
 "nbformat": 4,
 "nbformat_minor": 5
}
