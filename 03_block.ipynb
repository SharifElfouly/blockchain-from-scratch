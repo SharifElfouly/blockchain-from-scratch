{
 "cells": [
  {
   "cell_type": "code",
   "execution_count": 337,
   "id": "cubic-marker",
   "metadata": {},
   "outputs": [],
   "source": [
    "%%capture\n",
    "%run 02_account.ipynb"
   ]
  },
  {
   "cell_type": "code",
   "execution_count": 338,
   "id": "incorrect-connecticut",
   "metadata": {},
   "outputs": [],
   "source": [
    "from objsize import get_deep_size as get_size"
   ]
  },
  {
   "cell_type": "markdown",
   "id": "mighty-techno",
   "metadata": {},
   "source": [
    "## Block"
   ]
  },
  {
   "cell_type": "code",
   "execution_count": 339,
   "id": "opened-house",
   "metadata": {},
   "outputs": [],
   "source": [
    "class Block: \n",
    "    def __init__(self, txs, prev_hash, number):\n",
    "        self.txs       = self.val_txs(txs)\n",
    "        self.prev_hash = prev_hash\n",
    "        self.number    = number\n",
    "        self.time      = time.time()\n",
    "        self.mined     = False\n",
    "            \n",
    "    def add(self, tx, is_coinbase=False):\n",
    "        assert          val_sig(tx), 'tx validation failed'\n",
    "        assert not self.is_dup(tx), 'tx is duplicated'\n",
    "        if is_coinbase: self.txs.insert(0, tx)\n",
    "        else          : self.txs.append(tx)\n",
    "            \n",
    "    def is_dup(self, tx):\n",
    "        tx_hashes = [tx.hash for tx in self.txs]\n",
    "        return tx.hash in tx_hashes\n",
    "    \n",
    "    def val_txs(self, txs):\n",
    "        if False not in [val_sig(tx) for tx in txs]: return txs\n",
    "        else: raise Exception('TXs validation failed')\n",
    "        \n",
    "    def __str__(self): \n",
    "        block_str = ('time:\\t\\t'        + time.ctime(self.time)+\n",
    "                     '\\nnumber:\\t\\t'    + str(self.number)+\n",
    "                     '\\nprev_hash:\\t'   + ph(self.prev_hash)+\n",
    "                     '\\n\\ntxs:\\t\\t\\n\\n' + txs2str(self.txs))\n",
    "        if self.mined: \n",
    "            block_str += ('\\ndiff:\\t\\t'  +str(self.diff)+\n",
    "                          '\\nreward:\\t\\t'+str(self.reward)+\n",
    "                          '\\nnonce:\\t\\t' +str(self.nonce)) \n",
    "        return block_str\n",
    "    def __bytes__(self): return (txs2str(self.txs)+\n",
    "                                 self.prev_hash+\n",
    "                                 str(self.number)+\n",
    "                                 str(self.time)).encode()"
   ]
  },
  {
   "cell_type": "code",
   "execution_count": 340,
   "id": "improving-stanford",
   "metadata": {},
   "outputs": [],
   "source": [
    "acc1,acc2 = Account(),Account()"
   ]
  },
  {
   "cell_type": "code",
   "execution_count": 341,
   "id": "constant-integration",
   "metadata": {},
   "outputs": [
    {
     "name": "stdout",
     "output_type": "stream",
     "text": [
      "time:\t\tSat Mar 27 00:52:11 2021\n",
      "number:\t\t2\n",
      "prev_hash:\t🔻 d522fbf814c43b22...b33\n",
      "\n",
      "txs:\t\t\n",
      "\n",
      "time:\tSat Mar 27 00:52:11 2021\n",
      "from:\t👽 0x17826Bb7Ad971a...b34\n",
      "to:\t💹 0x5372EAD1812b76...A2e\n",
      "value:\t24 ether\n",
      "fee:\t0.1 ether\n",
      "nonce:\t0\n",
      "hash:\t📻 9566cdcd23bea413...f57\n",
      "signed:\ttrue\n",
      "\n",
      "time:\tSat Mar 27 00:52:11 2021\n",
      "from:\t💹 0x5372EAD1812b76...A2e\n",
      "to:\t👽 0x17826Bb7Ad971a...b34\n",
      "value:\t18 ether\n",
      "fee:\t0.12 ether\n",
      "nonce:\t0\n",
      "hash:\t👷 11ac05f57a6a6889...c16\n",
      "signed:\ttrue\n",
      "\n"
     ]
    }
   ],
   "source": [
    "tx1 = acc1.signed_tx(acc2, 24, 0.1)\n",
    "tx2 = acc2.signed_tx(acc1, 18, 0.12)\n",
    "\n",
    "block = Block([tx1,tx2], rh(), 2); print(block)"
   ]
  },
  {
   "cell_type": "markdown",
   "id": "current-simulation",
   "metadata": {},
   "source": [
    "If anything in the tx is changed, like increasing the value to send, the signature should become invalid and the block creation throws an exception."
   ]
  },
  {
   "cell_type": "code",
   "execution_count": 342,
   "id": "transparent-administrator",
   "metadata": {},
   "outputs": [],
   "source": [
    "tx2.value = 1800\n",
    "\n",
    "val_failed = False\n",
    "try:    Block([tx1,tx2], rh(), 2, time.time())\n",
    "except: val_failed = True\n",
    "assert  val_failed"
   ]
  },
  {
   "cell_type": "markdown",
   "id": "specified-singer",
   "metadata": {},
   "source": [
    "## Mining\n",
    "\n",
    "Mining is a crucial component on any blockchain relying on proof of work (abbr. pow). It is used to reach consensus in a network of anonymous decentralized nodes.\n",
    "\n",
    "Pow uses computational ressources to calculate a specific hash. This can only be done by brute force. "
   ]
  },
  {
   "cell_type": "code",
   "execution_count": 343,
   "id": "given-pharmacology",
   "metadata": {},
   "outputs": [],
   "source": [
    "class Miner:\n",
    "    def __init__(self, acc): \n",
    "        self.acc = acc\n",
    "        self.pub = acc.pub\n",
    "        \n",
    "    def coinbase(self, reward): \n",
    "        return self.acc.sign(TX(self.pub, self.pub, reward, 0, self.acc.nonce))\n",
    "    \n",
    "    def mine(self, block, diff, reward, attempts=1000):\n",
    "        mb = deepcopy(block)\n",
    "        mb.add(self.acc.sign(self.coinbase(reward)), is_coinbase=True)\n",
    "        mb_b = bytes(mb)\n",
    "        nonce = 0\n",
    "        for i in range(attempts):\n",
    "            candidate   = mb_b + str(nonce).encode()\n",
    "            candidate_h = sha(candidate)\n",
    "            if candidate_h[:diff] == '0'*diff: break\n",
    "            nonce += 1\n",
    "        mb.diff   = diff\n",
    "        mb.reward = reward\n",
    "        mb.nonce  = nonce\n",
    "        mb.mined  = True\n",
    "        return mb\n",
    "    \n",
    "    def mine_genesis(self, txs):\n",
    "        block = Block(txs, '0x0', 0)\n",
    "        return self.mine(block, 1, 100)"
   ]
  },
  {
   "cell_type": "code",
   "execution_count": 344,
   "id": "female-works",
   "metadata": {},
   "outputs": [
    {
     "name": "stdout",
     "output_type": "stream",
     "text": [
      "time:\t\tSat Mar 27 00:52:11 2021\n",
      "number:\t\t2\n",
      "prev_hash:\t🔻 d522fbf814c43b22...b33\n",
      "\n",
      "txs:\t\t\n",
      "\n",
      "time:\tSat Mar 27 00:52:18 2021\n",
      "from:\t👽 0x17826Bb7Ad971a...b34\n",
      "to:\t👽 0x17826Bb7Ad971a...b34\n",
      "value:\t100 ether\n",
      "fee:\t0 ether\n",
      "nonce:\t1\n",
      "hash:\t👯 09920d491c170316...9a0\n",
      "signed:\ttrue\n",
      "\n",
      "time:\tSat Mar 27 00:52:11 2021\n",
      "from:\t👽 0x17826Bb7Ad971a...b34\n",
      "to:\t💹 0x5372EAD1812b76...A2e\n",
      "value:\t24 ether\n",
      "fee:\t0.1 ether\n",
      "nonce:\t0\n",
      "hash:\t📻 9566cdcd23bea413...f57\n",
      "signed:\ttrue\n",
      "\n",
      "time:\tSat Mar 27 00:52:11 2021\n",
      "from:\t💹 0x5372EAD1812b76...A2e\n",
      "to:\t👽 0x17826Bb7Ad971a...b34\n",
      "value:\t1800 ether\n",
      "fee:\t0.12 ether\n",
      "nonce:\t0\n",
      "hash:\t🔶 d0c14aecb11b2f92...d4f\n",
      "signed:\ttrue\n",
      "\n",
      "diff:\t\t2\n",
      "reward:\t\t100\n",
      "nonce:\t\t967\n"
     ]
    }
   ],
   "source": [
    "miner = Miner(acc1)\n",
    "mb = miner.mine(block, 2, 100); print(mb)"
   ]
  },
  {
   "cell_type": "code",
   "execution_count": 345,
   "id": "upset-portsmouth",
   "metadata": {},
   "outputs": [],
   "source": [
    "assert len(mb.txs) == 3"
   ]
  },
  {
   "cell_type": "markdown",
   "id": "raising-liverpool",
   "metadata": {},
   "source": [
    "### Genesis Block\n",
    "\n",
    "Is the first block in the blockchain. This is how it all begins."
   ]
  },
  {
   "cell_type": "code",
   "execution_count": 346,
   "id": "usual-prompt",
   "metadata": {},
   "outputs": [
    {
     "name": "stdout",
     "output_type": "stream",
     "text": [
      "time:\t\tSat Mar 27 00:52:21 2021\n",
      "number:\t\t0\n",
      "prev_hash:\t0x0\n",
      "\n",
      "txs:\t\t\n",
      "\n",
      "time:\tSat Mar 27 00:52:21 2021\n",
      "from:\t👽 0x17826Bb7Ad971a...b34\n",
      "to:\t👽 0x17826Bb7Ad971a...b34\n",
      "value:\t100 ether\n",
      "fee:\t0 ether\n",
      "nonce:\t3\n",
      "hash:\t📁 5bd9e0b7d6f19e85...0b4\n",
      "signed:\ttrue\n",
      "\n",
      "time:\tSat Mar 27 00:52:11 2021\n",
      "from:\t👽 0x17826Bb7Ad971a...b34\n",
      "to:\t💹 0x5372EAD1812b76...A2e\n",
      "value:\t24 ether\n",
      "fee:\t0.1 ether\n",
      "nonce:\t0\n",
      "hash:\t📻 9566cdcd23bea413...f57\n",
      "signed:\ttrue\n",
      "\n",
      "diff:\t\t1\n",
      "reward:\t\t100\n",
      "nonce:\t\t22\n"
     ]
    }
   ],
   "source": [
    "gb = miner.mine_genesis([tx1])\n",
    "print(gb)"
   ]
  }
 ],
 "metadata": {
  "kernelspec": {
   "display_name": "Python 3",
   "language": "python",
   "name": "python3"
  },
  "language_info": {
   "codemirror_mode": {
    "name": "ipython",
    "version": 3
   },
   "file_extension": ".py",
   "mimetype": "text/x-python",
   "name": "python",
   "nbconvert_exporter": "python",
   "pygments_lexer": "ipython3",
   "version": "3.8.2"
  }
 },
 "nbformat": 4,
 "nbformat_minor": 5
}
