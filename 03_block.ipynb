{
 "cells": [
  {
   "cell_type": "code",
   "execution_count": 472,
   "id": "cubic-marker",
   "metadata": {},
   "outputs": [],
   "source": [
    "%%capture\n",
    "%run 02_account.ipynb"
   ]
  },
  {
   "cell_type": "code",
   "execution_count": 473,
   "id": "incorrect-connecticut",
   "metadata": {},
   "outputs": [],
   "source": [
    "from objsize import get_deep_size as get_size"
   ]
  },
  {
   "cell_type": "markdown",
   "id": "mighty-techno",
   "metadata": {},
   "source": [
    "## Block"
   ]
  },
  {
   "cell_type": "code",
   "execution_count": 499,
   "id": "opened-house",
   "metadata": {},
   "outputs": [],
   "source": [
    "class Block: \n",
    "    def __init__(self, txs, prev_hash, number):\n",
    "        self.txs       = []\n",
    "        self.txs       = self.val_txs(txs)\n",
    "        self.prev_hash = prev_hash\n",
    "        self.number    = number\n",
    "        self.time      = time.time()\n",
    "        self.mined     = False\n",
    "        \n",
    "    def __setattr__(self, prop, val):\n",
    "        super().__setattr__(prop, val)\n",
    "        super().__setattr__('hash', sha(self.__dict__))\n",
    "        \n",
    "    def add(self, tx, is_coinbase=False):\n",
    "        if not self.val_tx(tx): return False\n",
    "        if is_coinbase: self.txs.insert(0, tx)\n",
    "        else          : self.txs.append(tx)\n",
    "        return True\n",
    "            \n",
    "    def is_dup(self, tx):\n",
    "        tx_hashes = [tx.hash for tx in self.txs]\n",
    "        return tx.hash in tx_hashes\n",
    "    \n",
    "    def val_tx(self, tx):\n",
    "        assert val_sig(tx),         'tx signature invalid'\n",
    "        assert not self.is_dup(tx), 'tx already in block'\n",
    "        return True\n",
    "    \n",
    "    def val_txs(self, txs):\n",
    "        for i,tx in enumerate(txs): \n",
    "            if not self.add(tx): txs.pop(i)\n",
    "        return txs\n",
    "        \n",
    "    def __str__(self): \n",
    "        block_str = ('time:\\t\\t'        + time.ctime(self.time)+\n",
    "                     '\\nnumber:\\t\\t'    + str(self.number)+\n",
    "                     '\\nprev_hash:\\t'   + ph(self.prev_hash)+\n",
    "                     '\\n\\ntxs:\\t\\t\\n\\n' + txs2str(self.txs))\n",
    "        if self.mined: \n",
    "            block_str += ('\\nminer:\\t\\t' +ph(self.miner)+\n",
    "                          '\\nhash:\\t\\t'  +ph(self.hash)+\n",
    "                          '\\ndiff:\\t\\t'  +str(self.diff)+\n",
    "                          '\\nreward:\\t\\t'+str(self.reward)+\n",
    "                          '\\nnonce:\\t\\t' +str(self.nonce)) \n",
    "        return block_str\n",
    "    def __bytes__(self): return (txs2str(self.txs)+\n",
    "                                 self.prev_hash+\n",
    "                                 str(self.number)+\n",
    "                                 str(self.time)).encode()\n",
    "    def __eq__(self, other): return self.hash == other.hash"
   ]
  },
  {
   "cell_type": "code",
   "execution_count": 500,
   "id": "improving-stanford",
   "metadata": {},
   "outputs": [],
   "source": [
    "acc1,acc2 = Account(),Account()"
   ]
  },
  {
   "cell_type": "code",
   "execution_count": 501,
   "id": "constant-integration",
   "metadata": {},
   "outputs": [
    {
     "name": "stdout",
     "output_type": "stream",
     "text": [
      "time:\t\tSat Mar 27 12:39:29 2021\n",
      "number:\t\t2\n",
      "prev_hash:\t👹 131cabaf1a254f68...15f\n",
      "\n",
      "txs:\t\t\n",
      "\n",
      "time:\tSat Mar 27 12:39:29 2021\n",
      "from:\t📝 0x7714D5E1Be38aA...9Fc\n",
      "to:\t📃 0x5d956f6611F823...6F9\n",
      "value:\t24 ether\n",
      "fee:\t0.1 ether\n",
      "nonce:\t0\n",
      "hash:\t📸 923d8aa1e636f7a0...5f5\n",
      "signed:\ttrue\n",
      "\n",
      "time:\tSat Mar 27 12:39:29 2021\n",
      "from:\t📃 0x5d956f6611F823...6F9\n",
      "to:\t📝 0x7714D5E1Be38aA...9Fc\n",
      "value:\t18 ether\n",
      "fee:\t0.12 ether\n",
      "nonce:\t0\n",
      "hash:\t💳 4dc1db2053c57b09...fdb\n",
      "signed:\ttrue\n",
      "\n"
     ]
    }
   ],
   "source": [
    "tx1 = acc1.signed_tx(acc2, 24, 0.1)\n",
    "tx2 = acc2.signed_tx(acc1, 18, 0.12)\n",
    "\n",
    "block = Block([tx1,tx2], rh(), 2); print(block)"
   ]
  },
  {
   "cell_type": "markdown",
   "id": "blond-decision",
   "metadata": {},
   "source": [
    "Blocks can only contain unique txs. If you try to add a tx to a block that is already inclued it should fail."
   ]
  },
  {
   "cell_type": "code",
   "execution_count": 502,
   "id": "apart-force",
   "metadata": {},
   "outputs": [],
   "source": [
    "dup_detected = False\n",
    "try:    block.add(tx1)\n",
    "except: dup_detected = True\n",
    "assert  dup_detected"
   ]
  },
  {
   "cell_type": "markdown",
   "id": "current-simulation",
   "metadata": {},
   "source": [
    "If anything in the tx is changed, like increasing the value to send, the signature should become invalid and the block creation should fail."
   ]
  },
  {
   "cell_type": "code",
   "execution_count": 503,
   "id": "transparent-administrator",
   "metadata": {},
   "outputs": [],
   "source": [
    "tx2.value = 1800\n",
    "\n",
    "val_failed = False\n",
    "try:    Block([tx1,tx2], rh(), 2)\n",
    "except: val_failed = True\n",
    "assert  val_failed"
   ]
  },
  {
   "cell_type": "markdown",
   "id": "specified-singer",
   "metadata": {},
   "source": [
    "## Mining\n",
    "\n",
    "Mining is a crucial component on any blockchain relying on proof of work (abbr. pow). It is used to reach consensus in a network of anonymous decentralized nodes.\n",
    "\n",
    "Pow uses computational ressources to calculate a specific hash. This can only be done by brute force. "
   ]
  },
  {
   "cell_type": "code",
   "execution_count": 516,
   "id": "given-pharmacology",
   "metadata": {},
   "outputs": [],
   "source": [
    "class Miner:\n",
    "    def __init__(self, acc): \n",
    "        self.acc = acc\n",
    "        self.pub = acc.pub\n",
    "        \n",
    "    def coinbase(self, reward): \n",
    "        return self.acc.sign(TX(self.pub, self.pub, reward, 0, self.acc.nonce))\n",
    "    \n",
    "    def mine(self, block, diff, reward, attempts=1000):\n",
    "        mb = deepcopy(block)\n",
    "        mb.add(self.coinbase(reward), is_coinbase=True)\n",
    "        mb_b = bytes(mb)\n",
    "        nonce = 0\n",
    "        for i in range(attempts):\n",
    "            candidate   = mb_b + str(nonce).encode()\n",
    "            candidate_h = sha(candidate)\n",
    "            if candidate_h[:diff] == '0'*diff: break\n",
    "            nonce += 1\n",
    "        mb.diff   = diff\n",
    "        mb.reward = reward\n",
    "        mb.nonce  = nonce\n",
    "        mb.miner  = self.pub\n",
    "        mb.mined  = True\n",
    "        return mb\n",
    "    \n",
    "    def mine_genesis(self, txs, reward=100):\n",
    "        block = Block(txs, '0x0', 0)\n",
    "        return self.mine(block, 0, reward)"
   ]
  },
  {
   "cell_type": "code",
   "execution_count": 505,
   "id": "female-works",
   "metadata": {},
   "outputs": [
    {
     "name": "stdout",
     "output_type": "stream",
     "text": [
      "time:\t\tSat Mar 27 12:39:29 2021\n",
      "number:\t\t2\n",
      "prev_hash:\t👹 131cabaf1a254f68...15f\n",
      "\n",
      "txs:\t\t\n",
      "\n",
      "time:\tSat Mar 27 12:39:33 2021\n",
      "from:\t📝 0x7714D5E1Be38aA...9Fc\n",
      "to:\t📝 0x7714D5E1Be38aA...9Fc\n",
      "value:\t100 ether\n",
      "fee:\t0 ether\n",
      "nonce:\t1\n",
      "hash:\t💠 3a64ab7e56dce932...e18\n",
      "signed:\ttrue\n",
      "\n",
      "time:\tSat Mar 27 12:39:29 2021\n",
      "from:\t📝 0x7714D5E1Be38aA...9Fc\n",
      "to:\t📃 0x5d956f6611F823...6F9\n",
      "value:\t24 ether\n",
      "fee:\t0.1 ether\n",
      "nonce:\t0\n",
      "hash:\t📸 923d8aa1e636f7a0...5f5\n",
      "signed:\ttrue\n",
      "\n",
      "time:\tSat Mar 27 12:39:29 2021\n",
      "from:\t📃 0x5d956f6611F823...6F9\n",
      "to:\t📝 0x7714D5E1Be38aA...9Fc\n",
      "value:\t1800 ether\n",
      "fee:\t0.12 ether\n",
      "nonce:\t0\n",
      "hash:\t📨 820b252912b9ab29...3df\n",
      "signed:\ttrue\n",
      "\n",
      "miner:\t\t📝 0x7714D5E1Be38aA...9Fc\n",
      "hash:\t\t🕅 dfb68b5eb94980f5...ec3\n",
      "diff:\t\t2\n",
      "reward:\t\t100\n",
      "nonce:\t\t140\n"
     ]
    }
   ],
   "source": [
    "miner = Miner(acc1)\n",
    "mb = miner.mine(block, 2, 100); print(mb)"
   ]
  },
  {
   "cell_type": "code",
   "execution_count": 506,
   "id": "upset-portsmouth",
   "metadata": {},
   "outputs": [],
   "source": [
    "assert len(mb.txs) == 3"
   ]
  },
  {
   "cell_type": "markdown",
   "id": "traditional-tsunami",
   "metadata": {},
   "source": [
    "Like a tx, if anything in the mined block changes the hash changes as well. This way we can make sure that the mined block is immutable."
   ]
  },
  {
   "cell_type": "code",
   "execution_count": 507,
   "id": "reduced-swift",
   "metadata": {},
   "outputs": [],
   "source": [
    "mb_changed_reward        = deepcopy(mb)\n",
    "mb_changed_reward.reward = 500\n",
    "\n",
    "assert not mb == mb_changed_reward"
   ]
  },
  {
   "cell_type": "markdown",
   "id": "raising-liverpool",
   "metadata": {},
   "source": [
    "### Genesis Block\n",
    "\n",
    "Is the first block in the blockchain. This is how it all begins."
   ]
  },
  {
   "cell_type": "code",
   "execution_count": 510,
   "id": "usual-prompt",
   "metadata": {},
   "outputs": [
    {
     "name": "stdout",
     "output_type": "stream",
     "text": [
      "time:\t\tSat Mar 27 12:40:00 2021\n",
      "number:\t\t0\n",
      "prev_hash:\t0x0\n",
      "\n",
      "txs:\t\t\n",
      "\n",
      "time:\tSat Mar 27 12:40:00 2021\n",
      "from:\t📝 0x7714D5E1Be38aA...9Fc\n",
      "to:\t📝 0x7714D5E1Be38aA...9Fc\n",
      "value:\t100 ether\n",
      "fee:\t0 ether\n",
      "nonce:\t5\n",
      "hash:\t🔙 b3697c0928f9a719...561\n",
      "signed:\ttrue\n",
      "\n",
      "time:\tSat Mar 27 12:39:29 2021\n",
      "from:\t📝 0x7714D5E1Be38aA...9Fc\n",
      "to:\t📃 0x5d956f6611F823...6F9\n",
      "value:\t24 ether\n",
      "fee:\t0.1 ether\n",
      "nonce:\t0\n",
      "hash:\t📸 923d8aa1e636f7a0...5f5\n",
      "signed:\ttrue\n",
      "\n",
      "miner:\t\t📝 0x7714D5E1Be38aA...9Fc\n",
      "hash:\t\t🕓 ed710ce9930f450e...55e\n",
      "diff:\t\t1\n",
      "reward:\t\t100\n",
      "nonce:\t\t23\n"
     ]
    }
   ],
   "source": [
    "gb = miner.mine_genesis([tx1]); print(gb)"
   ]
  }
 ],
 "metadata": {
  "kernelspec": {
   "display_name": "Python 3",
   "language": "python",
   "name": "python3"
  },
  "language_info": {
   "codemirror_mode": {
    "name": "ipython",
    "version": 3
   },
   "file_extension": ".py",
   "mimetype": "text/x-python",
   "name": "python",
   "nbconvert_exporter": "python",
   "pygments_lexer": "ipython3",
   "version": "3.8.2"
  }
 },
 "nbformat": 4,
 "nbformat_minor": 5
}
