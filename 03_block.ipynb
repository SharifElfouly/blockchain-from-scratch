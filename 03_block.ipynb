{
 "cells": [
  {
   "cell_type": "code",
   "execution_count": 169,
   "id": "cubic-marker",
   "metadata": {},
   "outputs": [],
   "source": [
    "%%capture\n",
    "%run 02_account.ipynb"
   ]
  },
  {
   "cell_type": "code",
   "execution_count": 170,
   "id": "incorrect-connecticut",
   "metadata": {},
   "outputs": [],
   "source": [
    "from objsize import get_deep_size as get_size"
   ]
  },
  {
   "cell_type": "markdown",
   "id": "mighty-techno",
   "metadata": {},
   "source": [
    "## Block"
   ]
  },
  {
   "cell_type": "code",
   "execution_count": 238,
   "id": "opened-house",
   "metadata": {},
   "outputs": [],
   "source": [
    "class Block: \n",
    "    def __init__(self, txs, prev_hash, number, time):\n",
    "        self.txs       = self.val_txs(txs)\n",
    "        self.prev_hash = prev_hash\n",
    "        self.number    = number\n",
    "        self.time      = time\n",
    "        self.mined     = False\n",
    "            \n",
    "    def add(self, tx):\n",
    "        assert          val_tx(tx), 'tx validation failed'\n",
    "        assert not self.is_dup(tx), 'tx is duplicated'\n",
    "        return tx\n",
    "            \n",
    "    def is_dup(self, tx):\n",
    "        tx_hashes = [tx.hash for tx in self.txs]\n",
    "        return tx.hash in tx_hashes\n",
    "    \n",
    "    def val_txs(self, txs):\n",
    "        if False not in [val_tx(tx) for tx in txs]: return txs\n",
    "        else: raise Exception('TXs validation failed')\n",
    "        \n",
    "    def __str__(self): \n",
    "        block_str = ('time:\\t\\t'        + time.ctime(self.time)+\n",
    "                     '\\nnumber:\\t\\t'    + str(self.number)+\n",
    "                     '\\nprev_hash:\\t'   + ph(self.prev_hash)+\n",
    "                     '\\n\\ntxs:\\t\\t\\n\\n' + txs2str(self.txs))\n",
    "        if self.mined: \n",
    "            block_str += ('\\ndiff:\\t\\t'  +str(self.diff)+\n",
    "                          '\\nreward:\\t\\t'+str(self.reward)+\n",
    "                          '\\nnonce:\\t\\t' +str(self.nonce)) \n",
    "        return block_str\n",
    "    def __bytes__(self): return (txs2str(self.txs)+\n",
    "                                 self.prev_hash+\n",
    "                                 str(self.number)+\n",
    "                                 str(self.time)).encode()"
   ]
  },
  {
   "cell_type": "code",
   "execution_count": 239,
   "id": "improving-stanford",
   "metadata": {},
   "outputs": [],
   "source": [
    "acc1,acc2 = Account(),Account()"
   ]
  },
  {
   "cell_type": "code",
   "execution_count": 240,
   "id": "wanted-store",
   "metadata": {},
   "outputs": [
    {
     "data": {
      "text/plain": [
       "True"
      ]
     },
     "execution_count": 240,
     "metadata": {},
     "output_type": "execute_result"
    }
   ],
   "source": [
    "val_tx(tx1)"
   ]
  },
  {
   "cell_type": "code",
   "execution_count": 241,
   "id": "constant-integration",
   "metadata": {},
   "outputs": [
    {
     "name": "stdout",
     "output_type": "stream",
     "text": [
      "time:\t\tFri Mar 26 20:12:55 2021\n",
      "number:\t\t2\n",
      "prev_hash:\t💪 442daa2782a836be...c2d\n",
      "\n",
      "txs:\t\t\n",
      "\n",
      "time:\tFri Mar 26 20:12:55 2021\n",
      "from:\t🔕 0xaF22DC9de8D225...4BD\n",
      "to:\t📥 0x7Fe8F6cf70Ea90...FB2\n",
      "value:\t24 ether\n",
      "nonce:\t0\n",
      "hash:\t📖 706d5adeab17556b...fd8\n",
      "signed:\ttrue\n",
      "\n",
      "time:\tFri Mar 26 20:12:55 2021\n",
      "from:\t📥 0x7Fe8F6cf70Ea90...FB2\n",
      "to:\t🔕 0xaF22DC9de8D225...4BD\n",
      "value:\t18 ether\n",
      "nonce:\t0\n",
      "hash:\t📼 96a4424c063f7607...c8d\n",
      "signed:\ttrue\n",
      "\n"
     ]
    }
   ],
   "source": [
    "tx1 = acc1.signed_tx(acc2, 24)\n",
    "tx2 = acc2.signed_tx(acc1, 18)\n",
    "\n",
    "block = Block([tx1,tx2], rh(), 2, time.time()); print(block)"
   ]
  },
  {
   "cell_type": "markdown",
   "id": "current-simulation",
   "metadata": {},
   "source": [
    "If anything in the tx is changed, like increasing the value to send, the signature should become invalid and the block creation throws an exception."
   ]
  },
  {
   "cell_type": "code",
   "execution_count": 242,
   "id": "transparent-administrator",
   "metadata": {},
   "outputs": [],
   "source": [
    "tx2.value = 1800\n",
    "\n",
    "val_failed = False\n",
    "try:    Block([tx1,tx2], rh(), 2, time.time())\n",
    "except: val_failed = True\n",
    "assert  val_failed"
   ]
  },
  {
   "cell_type": "markdown",
   "id": "specified-singer",
   "metadata": {},
   "source": [
    "## Mining"
   ]
  },
  {
   "cell_type": "code",
   "execution_count": 243,
   "id": "given-pharmacology",
   "metadata": {},
   "outputs": [
    {
     "name": "stdout",
     "output_type": "stream",
     "text": [
      "time:\t\tFri Mar 26 20:12:55 2021\n",
      "number:\t\t2\n",
      "prev_hash:\t💪 442daa2782a836be...c2d\n",
      "\n",
      "txs:\t\t\n",
      "\n",
      "time:\tFri Mar 26 20:12:55 2021\n",
      "from:\t🔕 0xaF22DC9de8D225...4BD\n",
      "to:\t📥 0x7Fe8F6cf70Ea90...FB2\n",
      "value:\t24 ether\n",
      "nonce:\t0\n",
      "hash:\t📖 706d5adeab17556b...fd8\n",
      "signed:\ttrue\n",
      "\n",
      "time:\tFri Mar 26 20:12:55 2021\n",
      "from:\t📥 0x7Fe8F6cf70Ea90...FB2\n",
      "to:\t🔕 0xaF22DC9de8D225...4BD\n",
      "value:\t1800 ether\n",
      "nonce:\t0\n",
      "hash:\t🕊 e43571999aa87b94...cf6\n",
      "signed:\ttrue\n",
      "\n",
      "diff:\t\t2\n",
      "reward:\t\t100\n",
      "nonce:\t\t171\n"
     ]
    }
   ],
   "source": [
    "class Miner:\n",
    "    def __init__(self, acc): \n",
    "        self.acc = acc\n",
    "        self.pub = acc.pub\n",
    "        \n",
    "    def coinbase(self, reward): \n",
    "        return self.acc.sign(TX(self.pub, self.pub, reward, self.acc.nonce))\n",
    "    \n",
    "    def mine(self, block, diff, reward, attempts=1000):\n",
    "        mb = deepcopy(block)\n",
    "        mb.add(self.acc.sign(self.coinbase(reward)))\n",
    "        mb_b = bytes(mb)\n",
    "        nonce = 0\n",
    "        for i in range(attempts):\n",
    "            candidate   = mb_b + str(nonce).encode()\n",
    "            candidate_h = sha256(candidate).hexdigest()\n",
    "            if candidate_h[:diff] == '0'*diff: break\n",
    "            nonce += 1\n",
    "        mb.diff   = diff\n",
    "        mb.reward = reward\n",
    "        mb.nonce  = nonce\n",
    "        mb.mined  = True\n",
    "        return mb\n",
    "    \n",
    "miner = Miner(acc1)\n",
    "mb = miner.mine(block, 2, 100); print(mb)"
   ]
  }
 ],
 "metadata": {
  "kernelspec": {
   "display_name": "Python 3",
   "language": "python",
   "name": "python3"
  },
  "language_info": {
   "codemirror_mode": {
    "name": "ipython",
    "version": 3
   },
   "file_extension": ".py",
   "mimetype": "text/x-python",
   "name": "python",
   "nbconvert_exporter": "python",
   "pygments_lexer": "ipython3",
   "version": "3.8.2"
  }
 },
 "nbformat": 4,
 "nbformat_minor": 5
}
