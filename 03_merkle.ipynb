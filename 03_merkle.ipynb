{
 "cells": [
  {
   "cell_type": "code",
   "execution_count": 2,
   "id": "oriented-weather",
   "metadata": {},
   "outputs": [],
   "source": [
    "%%capture\n",
    "%run 01_transaction.ipynb"
   ]
  },
  {
   "cell_type": "code",
   "execution_count": 3,
   "id": "complicated-nickname",
   "metadata": {},
   "outputs": [],
   "source": [
    "from IPython.display import Image\n",
    "from random import randint as ri"
   ]
  },
  {
   "cell_type": "markdown",
   "id": "moral-integer",
   "metadata": {},
   "source": [
    "Create random txs."
   ]
  },
  {
   "cell_type": "code",
   "execution_count": 17,
   "id": "postal-french",
   "metadata": {},
   "outputs": [
    {
     "name": "stdout",
     "output_type": "stream",
     "text": [
      "time:\tTue Mar 30 16:01:31 2021\n",
      "from:\t🔩 0xc3165bcdd3...a69\n",
      "to:\t💹 0x53b985d9cf...319\n",
      "value:\t1 ether\n",
      "fee:\t0.9 ether\n",
      "nonce:\t0\n",
      "hash:\t🔰 0xca77cc3bf9...021\n",
      "signed:\tfalse\n",
      "\n",
      "time:\tTue Mar 30 16:01:31 2021\n",
      "from:\t🕍 0xe73a0d829d...bb9\n",
      "to:\t📳 0x8d81df1b52...638\n",
      "value:\t9 ether\n",
      "fee:\t0.2 ether\n",
      "nonce:\t0\n",
      "hash:\t🔅 0x9f3e90118f...25a\n",
      "signed:\tfalse\n",
      "\n"
     ]
    }
   ],
   "source": [
    "def rtxs(n): return [TX(rh(),rh(),ri(1,9),ri(1,9)/10,0) for _ in range(n)] \n",
    "print(txs2str(rtxs(2)))"
   ]
  },
  {
   "cell_type": "markdown",
   "id": "departmental-combat",
   "metadata": {},
   "source": [
    "## Merkle Tree\n",
    "\n",
    "A binary tree in which every leaf node is a hash of a specific piece of data, in our case a tx. \n",
    "\n",
    "In a system like Bitcoin or Ethereum the merkle root is included in the block header, not the list of txs itself. This makes it very efficient to test if a specific tx is inclued in the tree.\n",
    "\n",
    "For more in depth [here](https://www.youtube.com/watch?v=3giNelTfeAk).\n",
    "\n",
    "<div>\n",
    "<img src=\"https://changelly.com/blog/wp-content/uploads/2020/01/Merkle-Tree-1.png\" width=\"500\"/>\n",
    "</div>\n",
    "\n",
    "\n",
    "`MerkleTree` is a wrapper around the `mt` dictionary which stores the hashes for each height in the tree."
   ]
  },
  {
   "cell_type": "code",
   "execution_count": 18,
   "id": "transsexual-inquiry",
   "metadata": {},
   "outputs": [],
   "source": [
    "class MerkleTree:\n",
    "    def __init__(self, txs):\n",
    "        self.mt = {}\n",
    "        leafs = [tx.hash for tx in txs]\n",
    "        if len(leafs)%2!=0: leafs.append(sha('0x0'))\n",
    "        self.mt['1'] = leafs\n",
    "        self.merkle(leafs)\n",
    "        \n",
    "    def merkle(self, leafs):\n",
    "        parents  = []\n",
    "        while len(leafs) > 1:\n",
    "            for i in range(0, len(leafs), 2):\n",
    "                l = leafs[i]\n",
    "                if i+1>=len(leafs): r = '0x0'\n",
    "                else              : r = leafs[i+1]\n",
    "                parents.append(sha(l+r))\n",
    "            leafs = parents\n",
    "            self.mt[f'{len(self)+1}'] = parents\n",
    "            parents = []\n",
    "    \n",
    "    @property\n",
    "    def root(self)      : return self.mt[str(len(self))][0]\n",
    "    def __eq__ (self, o): return self.root == o.root\n",
    "    def __len__(self)   : return len(self.mt)\n",
    "    def __getitem__(self, k): return self.mt[str(k)]\n",
    "    def __str__(self):\n",
    "        s = ''\n",
    "        for k,v in self.mt.items(): \n",
    "            s += f'height {k}'\n",
    "            for h in v: s += f'\\n {ph(h)}'\n",
    "            s += '\\n'\n",
    "        return s"
   ]
  },
  {
   "cell_type": "markdown",
   "id": "parliamentary-resistance",
   "metadata": {},
   "source": [
    "Create Merkle Tree from `N` random txs."
   ]
  },
  {
   "cell_type": "code",
   "execution_count": 19,
   "id": "lined-spending",
   "metadata": {},
   "outputs": [
    {
     "name": "stdout",
     "output_type": "stream",
     "text": [
      "height 1\n",
      " 🔍 0xa7ad42f76e...283\n",
      " 💽 0x574305c1ba...290\n",
      " 📯 0x89f05c7d0c...90b\n",
      " 💚 0x3486bbbf5f...6c6\n",
      " 📫 0x85dbc46ef2...101\n",
      " 💐 0x2a07fba863...370\n",
      " 🔬 0xc6b5ea3bf7...913\n",
      " 📃 0x5d6ddecbc7...8c2\n",
      "height 2\n",
      " 💡 0x3ba952f9cb...fc6\n",
      " 📭 0x87dd9cf375...dc8\n",
      " 🕅 0xdfd65392dc...476\n",
      " 👬 0x0665c208ad...2f2\n",
      "height 3\n",
      " 🔮 0xc8e1bc105e...b36\n",
      " 📽 0x97f6d6884e...ea7\n",
      "height 4\n",
      " 💕 0x2fa7341cff...18e\n",
      "\n"
     ]
    }
   ],
   "source": [
    "N   = 8\n",
    "txs = rtxs(N)\n",
    "\n",
    "mt = MerkleTree(txs); print(mt)"
   ]
  },
  {
   "cell_type": "code",
   "execution_count": 20,
   "id": "direct-prefix",
   "metadata": {},
   "outputs": [],
   "source": [
    "assert len(mt) == 4"
   ]
  },
  {
   "cell_type": "markdown",
   "id": "passive-attempt",
   "metadata": {},
   "source": [
    "The merkle tree root hash is the top most node. If anything in the tree changes the root changes as well."
   ]
  },
  {
   "cell_type": "code",
   "execution_count": 21,
   "id": "organic-lease",
   "metadata": {},
   "outputs": [
    {
     "data": {
      "text/plain": [
       "'💕 0x2fa7341cff...18e'"
      ]
     },
     "execution_count": 21,
     "metadata": {},
     "output_type": "execute_result"
    }
   ],
   "source": [
    "ph(mt.root)"
   ]
  },
  {
   "cell_type": "markdown",
   "id": "secure-magic",
   "metadata": {},
   "source": [
    "If we change something in any tx the whole Merkle Tree changes. Here we change the `value` of the third tx. Compare the hashes below with the ones above."
   ]
  },
  {
   "cell_type": "code",
   "execution_count": 24,
   "id": "fourth-rebate",
   "metadata": {},
   "outputs": [
    {
     "name": "stdout",
     "output_type": "stream",
     "text": [
      "height 1\n",
      " 🔍 0xa7ad42f76e...283\n",
      " 💽 0x574305c1ba...290\n",
      " 📧 0x81028b118a...ee8\n",
      " 💚 0x3486bbbf5f...6c6\n",
      " 📫 0x85dbc46ef2...101\n",
      " 💐 0x2a07fba863...370\n",
      " 🔬 0xc6b5ea3bf7...913\n",
      " 📃 0x5d6ddecbc7...8c2\n",
      "height 2\n",
      " 💡 0x3ba952f9cb...fc6\n",
      " 💴 0x4e11233cf1...f7d\n",
      " 🕅 0xdfd65392dc...476\n",
      " 👬 0x0665c208ad...2f2\n",
      "height 3\n",
      " 🔥 0xbf5301066d...1b2\n",
      " 📽 0x97f6d6884e...ea7\n",
      "height 4\n",
      " 👦 0x00d521e81f...ae5\n",
      "\n"
     ]
    }
   ],
   "source": [
    "txs[2].value = 500\n",
    "\n",
    "changed_mt = MerkleTree(txs); print(changed_mt)"
   ]
  },
  {
   "cell_type": "code",
   "execution_count": 25,
   "id": "civilian-compound",
   "metadata": {},
   "outputs": [],
   "source": [
    "assert mt != changed_mt"
   ]
  },
  {
   "cell_type": "markdown",
   "id": "continental-carolina",
   "metadata": {},
   "source": [
    "## Merkle Proof"
   ]
  },
  {
   "cell_type": "markdown",
   "id": "electoral-controversy",
   "metadata": {},
   "source": [
    "Proof that `tx` at position `pos` in the merkle tree `mt` is part of it by using a corresponding merkle branch `mb`.\n",
    "\n",
    "A merkle branch consists of those nodes that are needed to build up the root hash of the merkle tree. For example:\n",
    "\n",
    "Merkle branch `[5,3,0, ..., x]` stands for the following: \n",
    "- node *5* from height *0*\n",
    "- node *3* from height *1*\n",
    "- node *0* from height *2*\n",
    "- ...\n",
    "- node *x* from height `len(mt)-1`"
   ]
  },
  {
   "cell_type": "code",
   "execution_count": 26,
   "id": "raised-france",
   "metadata": {},
   "outputs": [],
   "source": [
    "def proof(mt, mb, tx):\n",
    "    if mb[0]%2 != 0: cn = sha(tx.hash     +mt[1][mb[0]])\n",
    "    else           : cn = sha(mt[1][mb[0]]+tx.hash)\n",
    "    for i in range(2, len(mt)):\n",
    "        if mb[i-1]%2 != 0: cn = sha(cn            +mt[i][mb[i-1]])\n",
    "        else             : cn = sha(mt[i][mb[i-1]]+cn)\n",
    "    return cn == mt.root"
   ]
  },
  {
   "cell_type": "markdown",
   "id": "soviet-underground",
   "metadata": {},
   "source": [
    "Examples of some txs with their corresponding merkle branch."
   ]
  },
  {
   "cell_type": "code",
   "execution_count": 30,
   "id": "pursuant-architect",
   "metadata": {},
   "outputs": [],
   "source": [
    "tx = txs[0]\n",
    "mb = [1,1,1]\n",
    "\n",
    "assert proof(mt, mb, tx)"
   ]
  },
  {
   "cell_type": "code",
   "execution_count": 37,
   "id": "covered-longer",
   "metadata": {},
   "outputs": [],
   "source": [
    "tx = txs[1]\n",
    "mb = [0,1,1]\n",
    "\n",
    "assert proof(mt, mb, tx)"
   ]
  },
  {
   "cell_type": "code",
   "execution_count": 36,
   "id": "impaired-banks",
   "metadata": {},
   "outputs": [],
   "source": [
    "tx = txs[4]\n",
    "mb = [5,3,0]\n",
    "\n",
    "assert proof(mt, mb, tx)"
   ]
  }
 ],
 "metadata": {
  "kernelspec": {
   "display_name": "Python 3",
   "language": "python",
   "name": "python3"
  },
  "language_info": {
   "codemirror_mode": {
    "name": "ipython",
    "version": 3
   },
   "file_extension": ".py",
   "mimetype": "text/x-python",
   "name": "python",
   "nbconvert_exporter": "python",
   "pygments_lexer": "ipython3",
   "version": "3.8.2"
  }
 },
 "nbformat": 4,
 "nbformat_minor": 5
}
