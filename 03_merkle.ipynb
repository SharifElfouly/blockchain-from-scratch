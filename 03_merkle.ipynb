{
 "cells": [
  {
   "cell_type": "code",
   "execution_count": 1,
   "id": "oriented-weather",
   "metadata": {},
   "outputs": [],
   "source": [
    "%%capture\n",
    "%run 02_transaction.ipynb"
   ]
  },
  {
   "cell_type": "code",
   "execution_count": 2,
   "id": "complicated-nickname",
   "metadata": {},
   "outputs": [],
   "source": [
    "from IPython.display import Image\n",
    "from random import randint as ri"
   ]
  },
  {
   "cell_type": "markdown",
   "id": "moral-integer",
   "metadata": {},
   "source": [
    "Create random txs."
   ]
  },
  {
   "cell_type": "code",
   "execution_count": 3,
   "id": "postal-french",
   "metadata": {},
   "outputs": [
    {
     "name": "stdout",
     "output_type": "stream",
     "text": [
      "fr:            📗 0x713df0f942...508\n",
      "hash:          📑 0x6b42b9970c...f18\n",
      "to:            💟 0x398140370a...ea6\n",
      "value:         8.0 eth\n",
      "fee:           0.4 eth\n",
      "nonce:         0\n",
      "time:          Sat Apr  3 18:08:46 2021\n",
      "signed:        False\n",
      "\n",
      "fr:            🕈 0xe23cff01e1...0c5\n",
      "hash:          📄 0x5e4813241b...4e6\n",
      "to:            🔵 0xcf7939c7c3...fb3\n",
      "value:         2.0 eth\n",
      "fee:           0.9 eth\n",
      "nonce:         0\n",
      "time:          Sat Apr  3 18:08:46 2021\n",
      "signed:        False\n",
      "\n"
     ]
    }
   ],
   "source": [
    "def rtxs(n): return [TX(rh(),rh(),ri(1,9),ri(1,9)/10,0) for _ in range(n)] \n",
    "print(txs2str(rtxs(2)))"
   ]
  },
  {
   "cell_type": "markdown",
   "id": "departmental-combat",
   "metadata": {},
   "source": [
    "## Merkle Tree\n",
    "\n",
    "A binary tree in which every leaf node is a hash of a specific piece of data, in our case a tx. \n",
    "\n",
    "In a system like Bitcoin or Ethereum the merkle root is included in the block header, not the list of txs itself. This makes it very efficient to test if a specific tx is inclued in the tree.\n",
    "\n",
    "For more in depth [here](https://www.youtube.com/watch?v=3giNelTfeAk).\n",
    "\n",
    "<div>\n",
    "<img src=\"https://changelly.com/blog/wp-content/uploads/2020/01/Merkle-Tree-1.png\" width=\"500\"/>\n",
    "</div>\n",
    "\n",
    "\n",
    "`MerkleTree` is a wrapper around the `mt` dictionary which stores the hashes for each height in the tree."
   ]
  },
  {
   "cell_type": "code",
   "execution_count": 4,
   "id": "transsexual-inquiry",
   "metadata": {},
   "outputs": [],
   "source": [
    "class MerkleTree:\n",
    "    def __init__(self, txs):\n",
    "        self.mt = {}\n",
    "        leafs = [tx.hash for tx in txs]\n",
    "        if len(leafs)%2!=0: leafs.append(sha('0x0'))\n",
    "        self.mt['1'] = leafs\n",
    "        self.merkle(leafs)\n",
    "        \n",
    "    def merkle(self, leafs):\n",
    "        parents  = []\n",
    "        while len(leafs) > 1:\n",
    "            for i in range(0, len(leafs), 2):\n",
    "                l = leafs[i]\n",
    "                if i+1>=len(leafs): r = '0x0'\n",
    "                else              : r = leafs[i+1]\n",
    "                parents.append(sha(l+r))\n",
    "            leafs = parents\n",
    "            self.mt[f'{len(self)+1}'] = parents\n",
    "            parents = []\n",
    "    \n",
    "    @property\n",
    "    def root(self)      : return self.mt[str(len(self))][0]\n",
    "    def __eq__ (self, o): return self.root == o.root\n",
    "    def __len__(self)   : return len(self.mt)\n",
    "    def __getitem__(self, k): return self.mt[str(k)]\n",
    "    def __str__(self):\n",
    "        s = ''\n",
    "        for k,v in self.mt.items(): \n",
    "            s += f'height {k}'\n",
    "            for h in v: s += f'\\n {ph(h)}'\n",
    "            s += '\\n'\n",
    "        return s"
   ]
  },
  {
   "cell_type": "markdown",
   "id": "parliamentary-resistance",
   "metadata": {},
   "source": [
    "Create Merkle Tree from `N` random txs."
   ]
  },
  {
   "cell_type": "code",
   "execution_count": 5,
   "id": "lined-spending",
   "metadata": {},
   "outputs": [
    {
     "name": "stdout",
     "output_type": "stream",
     "text": [
      "height 1\n",
      " 💩 0x4396e89fb2...c55\n",
      " 📌 0x66ff039daf...b97\n",
      " 💍 0x279efbfe85...818\n",
      " 🔪 0xc483749b21...163\n",
      " 🕎 0xe85a8febae...d20\n",
      " 💢 0x3c081c2e2b...523\n",
      " 📳 0x8dd0ff431f...3a4\n",
      " 💩 0x43e73a1f62...4d2\n",
      "height 2\n",
      " 📈 0x62dfc45282...3ef\n",
      " 🕏 0xe9b65e0b40...6ec\n",
      " 👸 0x12feff919f...6d1\n",
      " 📅 0x5ff42917f4...ec7\n",
      "height 3\n",
      " 🔛 0xb5bbdce4ee...ba7\n",
      " 🔄 0x9e078582f1...d7c\n",
      "height 4\n",
      " 💰 0x4ad4619814...69e\n",
      "\n"
     ]
    }
   ],
   "source": [
    "N   = 8\n",
    "txs = rtxs(N)\n",
    "\n",
    "mt = MerkleTree(txs); print(mt)"
   ]
  },
  {
   "cell_type": "code",
   "execution_count": 6,
   "id": "direct-prefix",
   "metadata": {},
   "outputs": [],
   "source": [
    "assert len(mt) == 4"
   ]
  },
  {
   "cell_type": "markdown",
   "id": "passive-attempt",
   "metadata": {},
   "source": [
    "The merkle tree root hash is the top most node. If anything in the tree changes the root changes as well."
   ]
  },
  {
   "cell_type": "code",
   "execution_count": 7,
   "id": "organic-lease",
   "metadata": {},
   "outputs": [
    {
     "data": {
      "text/plain": [
       "'💰 0x4ad4619814...69e'"
      ]
     },
     "execution_count": 7,
     "metadata": {},
     "output_type": "execute_result"
    }
   ],
   "source": [
    "ph(mt.root)"
   ]
  },
  {
   "cell_type": "markdown",
   "id": "secure-magic",
   "metadata": {},
   "source": [
    "If we change something in any tx the whole Merkle Tree changes. Here we change the `value` of the third tx. Compare the hashes below with the ones above."
   ]
  },
  {
   "cell_type": "code",
   "execution_count": 8,
   "id": "fourth-rebate",
   "metadata": {},
   "outputs": [
    {
     "name": "stdout",
     "output_type": "stream",
     "text": [
      "height 1\n",
      " 💩 0x4396e89fb2...c55\n",
      " 📌 0x66ff039daf...b97\n",
      " 🕟 0xf9d575acd1...86a\n",
      " 🔪 0xc483749b21...163\n",
      " 🕎 0xe85a8febae...d20\n",
      " 💢 0x3c081c2e2b...523\n",
      " 📳 0x8dd0ff431f...3a4\n",
      " 💩 0x43e73a1f62...4d2\n",
      "height 2\n",
      " 📈 0x62dfc45282...3ef\n",
      " 🕋 0xe5550fd67e...e35\n",
      " 👸 0x12feff919f...6d1\n",
      " 📅 0x5ff42917f4...ec7\n",
      "height 3\n",
      " 💮 0x487d9b2721...89a\n",
      " 🔄 0x9e078582f1...d7c\n",
      "height 4\n",
      " 💳 0x4dfde676ee...f07\n",
      "\n"
     ]
    }
   ],
   "source": [
    "txs[2].value = 500\n",
    "\n",
    "changed_mt = MerkleTree(txs); print(changed_mt)"
   ]
  },
  {
   "cell_type": "code",
   "execution_count": 9,
   "id": "civilian-compound",
   "metadata": {},
   "outputs": [],
   "source": [
    "assert mt != changed_mt"
   ]
  },
  {
   "cell_type": "markdown",
   "id": "continental-carolina",
   "metadata": {},
   "source": [
    "## Merkle Proof"
   ]
  },
  {
   "cell_type": "markdown",
   "id": "electoral-controversy",
   "metadata": {},
   "source": [
    "Proof that `tx` at position `pos` in the merkle tree `mt` is part of it by using a corresponding merkle branch `mb`.\n",
    "\n",
    "A merkle branch consists of those nodes that are needed to build up the root hash of the merkle tree. For example:\n",
    "\n",
    "Merkle branch `[5,3,0, ..., x]` stands for the following: \n",
    "- node *5* from height *0*\n",
    "- node *3* from height *1*\n",
    "- node *0* from height *2*\n",
    "- ...\n",
    "- node *x* from height `len(mt)-1`"
   ]
  },
  {
   "cell_type": "code",
   "execution_count": 10,
   "id": "raised-france",
   "metadata": {},
   "outputs": [],
   "source": [
    "def proof(mt, mb, tx):\n",
    "    if mb[0]%2 != 0: cn = sha(tx.hash     +mt[1][mb[0]])\n",
    "    else           : cn = sha(mt[1][mb[0]]+tx.hash)\n",
    "    for i in range(2, len(mt)):\n",
    "        if mb[i-1]%2 != 0: cn = sha(cn            +mt[i][mb[i-1]])\n",
    "        else             : cn = sha(mt[i][mb[i-1]]+cn)\n",
    "    return cn == mt.root"
   ]
  },
  {
   "cell_type": "markdown",
   "id": "soviet-underground",
   "metadata": {},
   "source": [
    "Examples of some txs with their corresponding merkle branch."
   ]
  },
  {
   "cell_type": "code",
   "execution_count": 11,
   "id": "pursuant-architect",
   "metadata": {},
   "outputs": [],
   "source": [
    "tx = txs[0]\n",
    "mb = [1,1,1]\n",
    "\n",
    "assert proof(mt, mb, tx)"
   ]
  },
  {
   "cell_type": "code",
   "execution_count": 12,
   "id": "covered-longer",
   "metadata": {},
   "outputs": [],
   "source": [
    "tx = txs[1]\n",
    "mb = [0,1,1]\n",
    "\n",
    "assert proof(mt, mb, tx)"
   ]
  },
  {
   "cell_type": "code",
   "execution_count": 13,
   "id": "impaired-banks",
   "metadata": {},
   "outputs": [],
   "source": [
    "tx = txs[4]\n",
    "mb = [5,3,0]\n",
    "\n",
    "assert proof(mt, mb, tx)"
   ]
  }
 ],
 "metadata": {
  "kernelspec": {
   "display_name": "Python 3",
   "language": "python",
   "name": "python3"
  },
  "language_info": {
   "codemirror_mode": {
    "name": "ipython",
    "version": 3
   },
   "file_extension": ".py",
   "mimetype": "text/x-python",
   "name": "python",
   "nbconvert_exporter": "python",
   "pygments_lexer": "ipython3",
   "version": "3.8.2"
  }
 },
 "nbformat": 4,
 "nbformat_minor": 5
}
