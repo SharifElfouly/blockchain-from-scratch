{
 "cells": [
  {
   "cell_type": "code",
   "execution_count": 1,
   "metadata": {},
   "outputs": [],
   "source": [
    "%%capture\n",
    "%run 01_hash.ipynb\n",
    "%run 02_transaction.ipynb"
   ]
  },
  {
   "cell_type": "code",
   "execution_count": 2,
   "metadata": {},
   "outputs": [],
   "source": [
    "import subprocess as sub"
   ]
  },
  {
   "cell_type": "markdown",
   "metadata": {},
   "source": [
    "## 99_contract\n",
    "\n",
    "Our goal is to be able to run a small piece of code in a tx, just like Ethereum. This piece of code is also called a smart contract (sc). The sc is like another user, but in addition to the balance it also has storage for variables and the sc itself. \n",
    "\n",
    "The smart contract should be able to access the current tx and block information."
   ]
  },
  {
   "cell_type": "markdown",
   "metadata": {},
   "source": [
    "## TODO:\n",
    "\n",
    "- Add some sort of typing system. r:int = 10\n",
    "- Inject block info"
   ]
  },
  {
   "cell_type": "code",
   "execution_count": 3,
   "metadata": {},
   "outputs": [],
   "source": [
    "code = \"\"\"\n",
    "def init():\n",
    "    r = 0\n",
    "    s = 2\n",
    "\n",
    "r += 5\n",
    "time = _tx[\"time\"] \n",
    "\"\"\""
   ]
  },
  {
   "cell_type": "code",
   "execution_count": 4,
   "metadata": {},
   "outputs": [],
   "source": [
    "SC = 'sc.py'\n",
    "\n",
    "PRINT_VARS = ['for n,v in globals().copy().items():',\n",
    "              '    if n[0] not in [\\'_\\', \\'[\\']:',\n",
    "              '        print(n,v)']\n",
    "\n",
    "PRINT_VARS = ['local = set(locals())',\n",
    "              'for n in local:',\n",
    "              '    if not n.startswith(\\'_\\'):',\n",
    "              '        print(n + \\'__\\', eval(n))']"
   ]
  },
  {
   "cell_type": "code",
   "execution_count": 5,
   "metadata": {},
   "outputs": [],
   "source": [
    "MEMORY = {}"
   ]
  },
  {
   "cell_type": "code",
   "execution_count": 6,
   "metadata": {},
   "outputs": [],
   "source": [
    "def inject(tx, code): \n",
    "    tx = tx.json().replace('true', 'True')\n",
    "    return '_tx = '+tx+'\\n'+code"
   ]
  },
  {
   "cell_type": "code",
   "execution_count": 7,
   "metadata": {},
   "outputs": [],
   "source": [
    "def deployment(code):\n",
    "    init = []\n",
    "    lines = code.split('\\n')\n",
    "    for i,l in enumerate(lines):\n",
    "        if 'init' in l: \n",
    "            for j in range(i+1, len(lines)):\n",
    "                if lines[j][:1] == ' ': init.append(lines[j].replace(' ', ''))\n",
    "                else                  : break\n",
    "    init.extend(PRINT_VARS)\n",
    "    return '\\n'.join(l for l in init)"
   ]
  },
  {
   "cell_type": "code",
   "execution_count": 8,
   "metadata": {},
   "outputs": [],
   "source": [
    "def save(code):\n",
    "    with open(SC, 'w+') as f: f.write(code)"
   ]
  },
  {
   "cell_type": "code",
   "execution_count": 9,
   "metadata": {},
   "outputs": [],
   "source": [
    "def run():\n",
    "    r = sub.check_output(f'python3 {SC}', shell=True)\n",
    "    return r.decode().split('\\n')[:-1]"
   ]
  },
  {
   "cell_type": "code",
   "execution_count": 10,
   "metadata": {},
   "outputs": [],
   "source": [
    "def store(r):\n",
    "    for var in r: MEMORY[var.split('__')[0]]= var.split('__')[1][1:]"
   ]
  },
  {
   "cell_type": "code",
   "execution_count": 11,
   "metadata": {},
   "outputs": [
    {
     "data": {
      "text/plain": [
       "{'s': '2', 'r': '0'}"
      ]
     },
     "execution_count": 11,
     "metadata": {},
     "output_type": "execute_result"
    }
   ],
   "source": [
    "def deploy(code, tx):\n",
    "    dc = deployment(code)\n",
    "    ic = inject(tx, dc)\n",
    "    save(ic)\n",
    "    r  = run()\n",
    "    store(r)\n",
    "\n",
    "deploy(code, tx1); MEMORY"
   ]
  },
  {
   "cell_type": "code",
   "execution_count": 12,
   "metadata": {},
   "outputs": [],
   "source": [
    "def execution(code):\n",
    "    c = []\n",
    "    for k,v in MEMORY.items(): c.append(f'{k} = {v}')\n",
    "    lines = code.split('\\n')\n",
    "    in_init = False\n",
    "    for l in lines:\n",
    "        if 'init' in l: in_init = True; continue\n",
    "        if in_init:\n",
    "            if l[:1] == ' ': continue\n",
    "            else           : in_init = False\n",
    "        else: c.append(l)\n",
    "    c.extend(PRINT_VARS)\n",
    "    return '\\n'.join(l for l in c)"
   ]
  },
  {
   "cell_type": "code",
   "execution_count": 13,
   "metadata": {},
   "outputs": [],
   "source": [
    "def exe(code, tx):\n",
    "    ic = inject(tx, code)\n",
    "    ec = execution(ic)\n",
    "    save(ec)\n",
    "    r  = run()\n",
    "    store(r)\n",
    "    \n",
    "exe(code, tx1)"
   ]
  },
  {
   "cell_type": "code",
   "execution_count": 14,
   "metadata": {},
   "outputs": [
    {
     "data": {
      "text/plain": [
       "{'s': '2', 'r': '5', 'time': 'Mon Apr 12 00:03:38 2021'}"
      ]
     },
     "execution_count": 14,
     "metadata": {},
     "output_type": "execute_result"
    }
   ],
   "source": [
    "MEMORY"
   ]
  }
 ],
 "metadata": {
  "kernelspec": {
   "display_name": "Python 3",
   "language": "python",
   "name": "python3"
  },
  "language_info": {
   "codemirror_mode": {
    "name": "ipython",
    "version": 3
   },
   "file_extension": ".py",
   "mimetype": "text/x-python",
   "name": "python",
   "nbconvert_exporter": "python",
   "pygments_lexer": "ipython3",
   "version": "3.8.3"
  }
 },
 "nbformat": 4,
 "nbformat_minor": 4
}
