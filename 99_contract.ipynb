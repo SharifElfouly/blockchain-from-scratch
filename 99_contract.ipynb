{
 "cells": [
  {
   "cell_type": "code",
   "execution_count": 5,
   "metadata": {},
   "outputs": [],
   "source": [
    "%%capture\n",
    "%run 01_hash.ipynb\n",
    "%run 02_transaction.ipynb"
   ]
  },
  {
   "cell_type": "code",
   "execution_count": 6,
   "metadata": {},
   "outputs": [],
   "source": [
    "import subprocess as sub"
   ]
  },
  {
   "cell_type": "markdown",
   "metadata": {},
   "source": [
    "## 99_contract\n",
    "\n",
    "Our goal is to be able to run a small piece of code in a tx, just like Ethereum. This piece of code is also called a smart contract (sc). The sc is like another user, but in addition to the balance it also has storage for variables and the sc itself. \n",
    "\n",
    "The smart contract should be able to access the current tx and block information."
   ]
  },
  {
   "cell_type": "markdown",
   "metadata": {},
   "source": [
    "## TODO:\n",
    "\n",
    "- Inject block info"
   ]
  },
  {
   "cell_type": "markdown",
   "metadata": {},
   "source": [
    "The smart contract that we are going to run contains the following code:"
   ]
  },
  {
   "cell_type": "code",
   "execution_count": 76,
   "metadata": {},
   "outputs": [],
   "source": [
    "code = \"\"\"\n",
    "def init():\n",
    "    r = 0\n",
    "    s = 2\n",
    "    h = 'hello how are you?'\n",
    "    l = ['this', 'is', 'a', 'list']\n",
    "\n",
    "r += 5\n",
    "time = _tx['time'] + 'XXXXX'\n",
    "l.append('XXXXX')\n",
    "\"\"\""
   ]
  },
  {
   "cell_type": "markdown",
   "metadata": {},
   "source": [
    "Temporary file name before execution starts."
   ]
  },
  {
   "cell_type": "code",
   "execution_count": 77,
   "metadata": {},
   "outputs": [],
   "source": [
    "F = 'temp.py'"
   ]
  },
  {
   "cell_type": "markdown",
   "metadata": {},
   "source": [
    "This is injected into every execution to get all the variables used in the contract."
   ]
  },
  {
   "cell_type": "code",
   "execution_count": 78,
   "metadata": {},
   "outputs": [],
   "source": [
    "PRINT_VARS = ['local = set(locals())',\n",
    "              'local_vars = {}',\n",
    "              'for n in local:',\n",
    "              '    if not n.startswith(\\'_\\'):',\n",
    "              '         if \\'str\\' in str(type(eval(n))): print(n, f\\'\\\"{eval(n)}\\\"\\', \\'str\\')',\n",
    "              '         else: print(n, eval(n), \\'int\\')']"
   ]
  },
  {
   "cell_type": "code",
   "execution_count": 79,
   "metadata": {},
   "outputs": [],
   "source": [
    "PRINT_VARS = \"\"\"\n",
    "\\n\n",
    "import json\n",
    "_types = [str, float, int, list]                                                                         \n",
    "out = {}                                                                                                 \n",
    "keys = list(locals().keys())                                                                             \n",
    "for k in keys:                                                                                           \n",
    "    if not k.startswith('_'):                                                                            \n",
    "        v = locals()[k]                                                                                  \n",
    "        for t in _types:                                                                                 \n",
    "            if isinstance(v, t): out[k] = [v, str(t)]                                                    \n",
    "print(json.dumps(out)) \n",
    "\"\"\"\n",
    "PRINT_VARS = PRINT_VARS.rstrip()"
   ]
  },
  {
   "cell_type": "markdown",
   "metadata": {},
   "source": [
    "All vars used will be stored in the `STORAGE` dict."
   ]
  },
  {
   "cell_type": "code",
   "execution_count": 80,
   "metadata": {},
   "outputs": [],
   "source": [
    "STORAGE = {}"
   ]
  },
  {
   "cell_type": "markdown",
   "metadata": {},
   "source": [
    "Inject transaction `tx` and `block` into the execution. These can be accessed in the sc."
   ]
  },
  {
   "cell_type": "code",
   "execution_count": 81,
   "metadata": {},
   "outputs": [],
   "source": [
    "def inject(tx, code, block=None): \n",
    "    tx = tx.json().replace('true', 'True')\n",
    "    return '_tx = '+tx+'\\n'+code"
   ]
  },
  {
   "cell_type": "code",
   "execution_count": 82,
   "metadata": {},
   "outputs": [],
   "source": [
    "def save(code):\n",
    "    with open(F, 'w+') as f: f.write(code)"
   ]
  },
  {
   "cell_type": "code",
   "execution_count": 83,
   "metadata": {},
   "outputs": [],
   "source": [
    "def run():\n",
    "    r = sub.check_output(f'python3 {F}', shell=True)\n",
    "    return json.loads(r)"
   ]
  },
  {
   "cell_type": "markdown",
   "metadata": {},
   "source": [
    "Stores all variables in `STORAGE`."
   ]
  },
  {
   "cell_type": "code",
   "execution_count": 84,
   "metadata": {},
   "outputs": [],
   "source": [
    "def store(r):\n",
    "    for k,v in r.items(): STORAGE[k] = [v[0],v[1]]"
   ]
  },
  {
   "cell_type": "markdown",
   "metadata": {},
   "source": [
    "The deployment will run all the code in `init()`. The rest will run in `execution`."
   ]
  },
  {
   "cell_type": "code",
   "execution_count": 85,
   "metadata": {},
   "outputs": [],
   "source": [
    "def deployable(code):\n",
    "    init = []\n",
    "    lines = code.split('\\n')\n",
    "    for i,l in enumerate(lines):\n",
    "        if 'init' in l: \n",
    "            for j in range(i+1, len(lines)):\n",
    "                if lines[j][:1] == ' ': init.append(lines[j].strip())\n",
    "                else                  : break\n",
    "    init.append(PRINT_VARS)\n",
    "    return '\\n'.join(l for l in init)"
   ]
  },
  {
   "cell_type": "code",
   "execution_count": 86,
   "metadata": {},
   "outputs": [
    {
     "data": {
      "text/plain": [
       "{'r': [0, \"<class 'int'>\"],\n",
       " 's': [2, \"<class 'int'>\"],\n",
       " 'h': ['hello how are you?', \"<class 'str'>\"],\n",
       " 'l': [['this', 'is', 'a', 'list'], \"<class 'list'>\"]}"
      ]
     },
     "execution_count": 86,
     "metadata": {},
     "output_type": "execute_result"
    }
   ],
   "source": [
    "def deploy(code, tx):\n",
    "    dc = deployable(code)\n",
    "    ic = inject(tx, dc)\n",
    "    save(ic)\n",
    "    r  = run()\n",
    "    store(r)\n",
    "\n",
    "deploy(code, tx1); STORAGE"
   ]
  },
  {
   "cell_type": "markdown",
   "metadata": {},
   "source": [
    "Execution will run everything in the sc except what is inside `init()`."
   ]
  },
  {
   "cell_type": "code",
   "execution_count": 87,
   "metadata": {},
   "outputs": [],
   "source": [
    "def executable(code):\n",
    "    exe = []\n",
    "    for k,v in STORAGE.items():\n",
    "        if 'str' in v[1]: exe.append(f'{k} = \"{v[0]}\"')\n",
    "        else            : exe.append(f'{k} = {v[0]}')\n",
    "    lines = code.split('\\n')\n",
    "    in_init = False\n",
    "    for l in lines:\n",
    "        if 'init' in l: in_init = True; continue\n",
    "        if in_init:\n",
    "            if l[:1] == ' ': continue\n",
    "            else           : in_init = False\n",
    "        else: exe.append(l)\n",
    "    exe.append(PRINT_VARS)\n",
    "    return '\\n'.join(l for l in exe)"
   ]
  },
  {
   "cell_type": "code",
   "execution_count": 88,
   "metadata": {},
   "outputs": [
    {
     "data": {
      "text/plain": [
       "{'r': [5, \"<class 'int'>\"],\n",
       " 's': [2, \"<class 'int'>\"],\n",
       " 'h': ['hello how are you?', \"<class 'str'>\"],\n",
       " 'l': [['this', 'is', 'a', 'list', 'XXXXX'], \"<class 'list'>\"],\n",
       " 'time': ['Mon Apr 12 11:41:43 2021XXXXX', \"<class 'str'>\"]}"
      ]
     },
     "execution_count": 88,
     "metadata": {},
     "output_type": "execute_result"
    }
   ],
   "source": [
    "def exe(code, tx):\n",
    "    ic  = inject(tx, code)\n",
    "    exe = executable(ic)\n",
    "    save(exe)\n",
    "    r  = run()\n",
    "    store(r)\n",
    "    \n",
    "exe(code, tx1); STORAGE"
   ]
  }
 ],
 "metadata": {
  "kernelspec": {
   "display_name": "Python 3",
   "language": "python",
   "name": "python3"
  },
  "language_info": {
   "codemirror_mode": {
    "name": "ipython",
    "version": 3
   },
   "file_extension": ".py",
   "mimetype": "text/x-python",
   "name": "python",
   "nbconvert_exporter": "python",
   "pygments_lexer": "ipython3",
   "version": "3.8.3"
  }
 },
 "nbformat": 4,
 "nbformat_minor": 4
}
