{
 "cells": [
  {
   "cell_type": "code",
   "execution_count": 33,
   "metadata": {},
   "outputs": [],
   "source": [
    "%%capture\n",
    "%run 01_hash.ipynb\n",
    "%run 02_transaction.ipynb\n",
    "%run 05_block.ipynb"
   ]
  },
  {
   "cell_type": "code",
   "execution_count": 34,
   "metadata": {},
   "outputs": [],
   "source": [
    "import subprocess as sub"
   ]
  },
  {
   "cell_type": "markdown",
   "metadata": {},
   "source": [
    "## TODO:\n",
    "\n",
    "- differentiate between storage/local variables"
   ]
  },
  {
   "cell_type": "markdown",
   "metadata": {},
   "source": [
    "Only store storage variables in the global storage."
   ]
  },
  {
   "cell_type": "code",
   "execution_count": 23,
   "metadata": {},
   "outputs": [],
   "source": [
    "c = \"\"\"\n",
    "storage a = 12\n",
    "storage abc = 12\n",
    "\"\"\""
   ]
  },
  {
   "cell_type": "code",
   "execution_count": 24,
   "metadata": {},
   "outputs": [
    {
     "data": {
      "text/plain": [
       "['a', 'abc']"
      ]
     },
     "execution_count": 24,
     "metadata": {},
     "output_type": "execute_result"
    }
   ],
   "source": [
    "def storage_vars(code):\n",
    "    matches = re.findall(r'storage [a-z]*', e)\n",
    "    return [m.replace('storage', '').strip() for m in matches]\n",
    "    \n",
    "storage_vars(c)"
   ]
  },
  {
   "cell_type": "markdown",
   "metadata": {},
   "source": [
    "## 99_contract\n",
    "\n",
    "Our goal is to be able to run a small piece of code in a tx, just like Ethereum. This piece of code is also called a smart contract (sc). The sc is like another user, but in addition to the balance it also has storage for variables and the sc itself. \n",
    "\n",
    "The smart contract should be able to access the current tx and block information. These will get injected as `_tx` and `_b`."
   ]
  },
  {
   "cell_type": "markdown",
   "metadata": {},
   "source": [
    "The smart contract that we are going to run contains the following code:"
   ]
  },
  {
   "cell_type": "code",
   "execution_count": 35,
   "metadata": {},
   "outputs": [],
   "source": [
    "code = \"\"\"\n",
    "def init():\n",
    "    r = 0\n",
    "    s = 2\n",
    "    h = 'hello how are you?'\n",
    "    l = ['this', 'is', 'a', 'list']\n",
    "    b = _b['number'] + 100\n",
    "\n",
    "r += 5\n",
    "time = _tx['time'] + 'XXXXX'\n",
    "l.append('XXXXX')\n",
    "\"\"\""
   ]
  },
  {
   "cell_type": "markdown",
   "metadata": {},
   "source": [
    "Temporary file name where code for execution will be stored."
   ]
  },
  {
   "cell_type": "code",
   "execution_count": 36,
   "metadata": {},
   "outputs": [],
   "source": [
    "F = 'temp.py'"
   ]
  },
  {
   "cell_type": "markdown",
   "metadata": {},
   "source": [
    "This is injected into every execution to get all the variables used in the contract."
   ]
  },
  {
   "cell_type": "code",
   "execution_count": 37,
   "metadata": {},
   "outputs": [],
   "source": [
    "PRINT_VARS = ['local = set(locals())',\n",
    "              'local_vars = {}',\n",
    "              'for n in local:',\n",
    "              '    if not n.startswith(\\'_\\'):',\n",
    "              '         if \\'str\\' in str(type(eval(n))): print(n, f\\'\\\"{eval(n)}\\\"\\', \\'str\\')',\n",
    "              '         else: print(n, eval(n), \\'int\\')']"
   ]
  },
  {
   "cell_type": "code",
   "execution_count": 51,
   "metadata": {},
   "outputs": [],
   "source": [
    "PRINT_VARS = \"\"\"\n",
    "\\n\n",
    "import json\n",
    "_types = [str, float, int, list]                                                                         \n",
    "out = {}                                                                                                 \n",
    "keys = list(locals().keys())                                                                             \n",
    "for k in keys:                                                                                           \n",
    "    if not k.startswith('_'):                                                                            \n",
    "        v = locals()[k]                                                                                  \n",
    "        for t in _types:                                                                                 \n",
    "            if isinstance(v, t): out[k] = [v, str(t)]                                                    \n",
    "print(json.dumps(out)) \n",
    "\"\"\"\n",
    "PRINT_VARS = PRINT_VARS.rstrip()"
   ]
  },
  {
   "cell_type": "markdown",
   "metadata": {},
   "source": [
    "All vars used will be stored in the `STORAGE` dict."
   ]
  },
  {
   "cell_type": "code",
   "execution_count": 39,
   "metadata": {},
   "outputs": [],
   "source": [
    "STORAGE = {}"
   ]
  },
  {
   "cell_type": "markdown",
   "metadata": {},
   "source": [
    "Inject transaction `tx` and `block` into the execution. These can be accessed in the sc."
   ]
  },
  {
   "cell_type": "code",
   "execution_count": 40,
   "metadata": {},
   "outputs": [],
   "source": [
    "def inject(tx, code, block=None): \n",
    "    tx = tx.json().replace('true', 'True').replace('false', 'False')\n",
    "    b = block.json().replace('true', 'True').replace('false', 'False')\n",
    "    return '_tx = '+tx+'\\n'+'_b = '+b+'\\n'+code"
   ]
  },
  {
   "cell_type": "code",
   "execution_count": 41,
   "metadata": {},
   "outputs": [],
   "source": [
    "def save(code):\n",
    "    with open(F, 'w+') as f: f.write(code)"
   ]
  },
  {
   "cell_type": "code",
   "execution_count": 42,
   "metadata": {},
   "outputs": [],
   "source": [
    "def run():\n",
    "    r = sub.check_output(f'python3 {F}', shell=True)\n",
    "    return json.loads(r)"
   ]
  },
  {
   "cell_type": "markdown",
   "metadata": {},
   "source": [
    "Stores all variables in `STORAGE`."
   ]
  },
  {
   "cell_type": "code",
   "execution_count": 43,
   "metadata": {},
   "outputs": [],
   "source": [
    "def store(r):\n",
    "    for k,v in r.items(): STORAGE[k] = [v[0],v[1]]"
   ]
  },
  {
   "cell_type": "markdown",
   "metadata": {},
   "source": [
    "The deployment will run all the code in `init()`. The rest will run in `execution`."
   ]
  },
  {
   "cell_type": "code",
   "execution_count": 44,
   "metadata": {},
   "outputs": [],
   "source": [
    "def deployable(code):\n",
    "    init = []\n",
    "    lines = code.split('\\n')\n",
    "    for i,l in enumerate(lines):\n",
    "        if 'init' in l: \n",
    "            for j in range(i+1, len(lines)):\n",
    "                if lines[j][:1] == ' ': init.append(lines[j].strip())\n",
    "                else                  : break\n",
    "    init.append(PRINT_VARS)\n",
    "    return '\\n'.join(l for l in init)"
   ]
  },
  {
   "cell_type": "code",
   "execution_count": 45,
   "metadata": {},
   "outputs": [],
   "source": [
    "def deploy(code, tx):\n",
    "    dc = deployable(code)\n",
    "    ic = inject(tx, dc, b)\n",
    "    save(ic)\n",
    "    r  = run()\n",
    "    store(r)"
   ]
  },
  {
   "cell_type": "markdown",
   "metadata": {},
   "source": [
    "Execution will run everything in the sc except what is inside `init()`."
   ]
  },
  {
   "cell_type": "code",
   "execution_count": 46,
   "metadata": {},
   "outputs": [],
   "source": [
    "def executable(code):\n",
    "    exe = []\n",
    "    for k,v in STORAGE.items():\n",
    "        if 'str' in v[1]: exe.append(f'{k} = \"{v[0]}\"')\n",
    "        else            : exe.append(f'{k} = {v[0]}')\n",
    "    lines = code.split('\\n')\n",
    "    in_init = False\n",
    "    for l in lines:\n",
    "        if 'init' in l: in_init = True; continue\n",
    "        if in_init:\n",
    "            if l[:1] == ' ': continue\n",
    "            else           : in_init = False\n",
    "        else: exe.append(l)\n",
    "    exe.append(PRINT_VARS)\n",
    "    return '\\n'.join(l for l in exe)"
   ]
  },
  {
   "cell_type": "code",
   "execution_count": 47,
   "metadata": {},
   "outputs": [],
   "source": [
    "def exe(code, tx):\n",
    "    ic  = inject(tx, code, b)\n",
    "    exe = executable(ic)\n",
    "    save(exe)\n",
    "    r  = run()\n",
    "    store(r)"
   ]
  },
  {
   "cell_type": "markdown",
   "metadata": {},
   "source": [
    "## Smart Contract\n",
    "\n",
    "Stores all the necesary information for deploying and running smart contract `code`. \n",
    "\n",
    "The `tx` and `b` should be injected when the contract is run on the blockchain. This way the contract has always access to its tx and current block."
   ]
  },
  {
   "cell_type": "code",
   "execution_count": 53,
   "metadata": {},
   "outputs": [
    {
     "data": {
      "text/plain": [
       "{'r': [0, \"<class 'int'>\"],\n",
       " 's': [2, \"<class 'int'>\"],\n",
       " 'h': ['hello how are you?', \"<class 'str'>\"],\n",
       " 'l': [['this', 'is', 'a', 'list'], \"<class 'list'>\"],\n",
       " 'b': [102, \"<class 'int'>\"],\n",
       " 'time': ['Mon Apr 12 20:21:52 2021XXXXX', \"<class 'str'>\"]}"
      ]
     },
     "execution_count": 53,
     "metadata": {},
     "output_type": "execute_result"
    }
   ],
   "source": [
    "class SmartContract(Hashable):\n",
    "    def __init__(self, code):\n",
    "        self.code     = code\n",
    "        self.deployed = False\n",
    "        self.time     = time.ctime()\n",
    "        self.runs     = 0\n",
    "        \n",
    "    def run(self, code, tx, b):\n",
    "        ic = inject(tx, code, b)\n",
    "        save(ic)\n",
    "        r  = run()\n",
    "        store(r)\n",
    "        \n",
    "    def deploy(self, tx, b): \n",
    "        dc = deployable(self.code)\n",
    "        self.run(dc, tx, b)\n",
    "        self.deployed = True\n",
    "        \n",
    "    def exe(self, tx, b): \n",
    "        assert self.deployed, 'Deploy Contract first'\n",
    "        ic  = executable(self.code)\n",
    "        self.run(ic, tx, b)\n",
    "        self.runs += 1\n",
    "    \n",
    "sc = SmartContract(code)\n",
    "sc.deploy(tx1, b)\n",
    "STORAGE"
   ]
  },
  {
   "cell_type": "code",
   "execution_count": 54,
   "metadata": {},
   "outputs": [
    {
     "data": {
      "text/plain": [
       "{'r': [5, \"<class 'int'>\"],\n",
       " 's': [2, \"<class 'int'>\"],\n",
       " 'h': ['hello how are you?', \"<class 'str'>\"],\n",
       " 'l': [['this', 'is', 'a', 'list', 'XXXXX'], \"<class 'list'>\"],\n",
       " 'b': [102, \"<class 'int'>\"],\n",
       " 'time': ['Mon Apr 12 20:21:52 2021XXXXX', \"<class 'str'>\"]}"
      ]
     },
     "execution_count": 54,
     "metadata": {},
     "output_type": "execute_result"
    }
   ],
   "source": [
    "sc.exe(tx1, b)\n",
    "STORAGE"
   ]
  }
 ],
 "metadata": {
  "kernelspec": {
   "display_name": "Python 3",
   "language": "python",
   "name": "python3"
  },
  "language_info": {
   "codemirror_mode": {
    "name": "ipython",
    "version": 3
   },
   "file_extension": ".py",
   "mimetype": "text/x-python",
   "name": "python",
   "nbconvert_exporter": "python",
   "pygments_lexer": "ipython3",
   "version": "3.8.3"
  }
 },
 "nbformat": 4,
 "nbformat_minor": 4
}
