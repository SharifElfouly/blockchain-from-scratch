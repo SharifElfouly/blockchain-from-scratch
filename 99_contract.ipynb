{
 "cells": [
  {
   "cell_type": "code",
   "execution_count": 224,
   "metadata": {},
   "outputs": [],
   "source": [
    "%%capture\n",
    "%run 01_hash.ipynb\n",
    "%run 02_transaction.ipynb\n",
    "%run 05_block.ipynb"
   ]
  },
  {
   "cell_type": "code",
   "execution_count": 225,
   "metadata": {},
   "outputs": [],
   "source": [
    "import subprocess as sub"
   ]
  },
  {
   "cell_type": "markdown",
   "metadata": {},
   "source": [
    "## 99_contract\n",
    "\n",
    "Our goal is to be able to run a small piece of code in a tx, just like Ethereum. This piece of code is also called a smart contract (sc). The sc is like another user, but in addition to the balance it also has storage for variables and the sc itself. \n",
    "\n",
    "The smart contract should be able to access the current tx and block information. These will get injected as `_tx` and `_b`."
   ]
  },
  {
   "cell_type": "markdown",
   "metadata": {},
   "source": [
    "The smart contract that we are going to run will contain the following logic:"
   ]
  },
  {
   "cell_type": "code",
   "execution_count": 226,
   "metadata": {},
   "outputs": [],
   "source": [
    "cc = \"\"\"\n",
    "def init():\n",
    "    storage r = 0\n",
    "    s = 2\n",
    "    h = 'hello how are you?'\n",
    "    storage l = ['this', 'is', 'a', 'list']\n",
    "    b = _b['number'] + 100\n",
    "\n",
    "r += 5\n",
    "storage time = _tx['time'] + 'XXXXX'\n",
    "l.append('XXXXX')\n",
    "\"\"\""
   ]
  },
  {
   "cell_type": "markdown",
   "metadata": {},
   "source": [
    "Temporary file name where code for execution will be stored."
   ]
  },
  {
   "cell_type": "code",
   "execution_count": 227,
   "metadata": {},
   "outputs": [],
   "source": [
    "F = 'temp.py'"
   ]
  },
  {
   "cell_type": "markdown",
   "metadata": {},
   "source": [
    "This is injected into every execution to get all the variables used in the contract."
   ]
  },
  {
   "cell_type": "code",
   "execution_count": 228,
   "metadata": {},
   "outputs": [],
   "source": [
    "PRINT_VARS = \"\"\"\n",
    "\\n\n",
    "import json\n",
    "_types = [str, float, int, list]                                                                         \n",
    "out = {}                                                                                                 \n",
    "keys = list(locals().keys())                                                                             \n",
    "for k in keys:                                                                                           \n",
    "    if not k.startswith('_'):                                                                            \n",
    "        v = locals()[k]                                                                                  \n",
    "        for t in _types:                                                                                 \n",
    "            if isinstance(v, t): out[k] = [v, str(t)]                                                    \n",
    "print(json.dumps(out)) \n",
    "\"\"\"\n",
    "PRINT_VARS = PRINT_VARS.rstrip()"
   ]
  },
  {
   "cell_type": "markdown",
   "metadata": {},
   "source": [
    "All `storage` vars used will be stored in the `STORAGE` dict."
   ]
  },
  {
   "cell_type": "code",
   "execution_count": 229,
   "metadata": {},
   "outputs": [],
   "source": [
    "STORAGE = {}"
   ]
  },
  {
   "cell_type": "markdown",
   "metadata": {},
   "source": [
    "Inject transaction `tx` and `block` into the execution. These can be accessed in the sc."
   ]
  },
  {
   "cell_type": "code",
   "execution_count": 230,
   "metadata": {},
   "outputs": [],
   "source": [
    "def inject(tx, code, block=None): \n",
    "    tx = tx.json().replace('true', 'True').replace('false', 'False')\n",
    "    b = block.json().replace('true', 'True').replace('false', 'False')\n",
    "    return '_tx = '+tx+'\\n'+'_b = '+b+'\\n'+code"
   ]
  },
  {
   "cell_type": "code",
   "execution_count": 231,
   "metadata": {},
   "outputs": [],
   "source": [
    "def save(code):\n",
    "    with open(F, 'w+') as f: f.write(code)"
   ]
  },
  {
   "cell_type": "code",
   "execution_count": 232,
   "metadata": {},
   "outputs": [],
   "source": [
    "def run():\n",
    "    r = sub.check_output(f'python3 {F}', shell=True)\n",
    "    return json.loads(r)"
   ]
  },
  {
   "cell_type": "markdown",
   "metadata": {},
   "source": [
    "The deployment will run all the code in `init()`. The rest will run in `execution`."
   ]
  },
  {
   "cell_type": "code",
   "execution_count": 233,
   "metadata": {},
   "outputs": [],
   "source": [
    "def deployable(code):\n",
    "    init = []\n",
    "    lines = code.split('\\n')\n",
    "    for i,l in enumerate(lines):\n",
    "        if 'init' in l: \n",
    "            for j in range(i+1, len(lines)):\n",
    "                if lines[j][:1] == ' ': init.append(lines[j].strip())\n",
    "                else                  : break\n",
    "    init.append(PRINT_VARS)\n",
    "    return '\\n'.join(l for l in init)"
   ]
  },
  {
   "cell_type": "markdown",
   "metadata": {},
   "source": [
    "Execution will run everything in the sc except what is inside `init()`."
   ]
  },
  {
   "cell_type": "code",
   "execution_count": 234,
   "metadata": {},
   "outputs": [],
   "source": [
    "def executable(code):\n",
    "    exe = []\n",
    "    for k,v in STORAGE.items():\n",
    "        if 'str' in v[1]: exe.append(f'{k} = \"{v[0]}\"')\n",
    "        else            : exe.append(f'{k} = {v[0]}')\n",
    "    lines = code.split('\\n')\n",
    "    in_init = False\n",
    "    for l in lines:\n",
    "        if 'init' in l: in_init = True; continue\n",
    "        if in_init:\n",
    "            if l[:1] == ' ': continue\n",
    "            else           : in_init = False\n",
    "        else: exe.append(l)\n",
    "    exe.append(PRINT_VARS)\n",
    "    return '\\n'.join(l for l in exe)"
   ]
  },
  {
   "cell_type": "markdown",
   "metadata": {},
   "source": [
    "## Smart Contract\n",
    "\n",
    "Stores all the necesary information for deploying and running smart contract `code`. \n",
    "\n",
    "The `tx` and `b` should be injected when the contract is run on the blockchain. This way the contract has always access to its tx and current block."
   ]
  },
  {
   "cell_type": "markdown",
   "metadata": {},
   "source": [
    "Stores all variables in `STORAGE`."
   ]
  },
  {
   "cell_type": "code",
   "execution_count": 235,
   "metadata": {},
   "outputs": [],
   "source": [
    "def parse(c): return code.replace('storage ', '')"
   ]
  },
  {
   "cell_type": "code",
   "execution_count": 236,
   "metadata": {},
   "outputs": [],
   "source": [
    "class SmartContract(Hashable):\n",
    "    def __init__(self, code):\n",
    "        self.st_vars  = storage_vars(code)\n",
    "        self.code     = parse(code)\n",
    "        self.deployed = False\n",
    "        self.time     = time.ctime()\n",
    "        self.runs     = 0\n",
    "        self.address  = sha(self.__dict__)\n",
    "        \n",
    "    def store(self, r):\n",
    "        for k,v in r.items():\n",
    "            if k in self.st_vars: STORAGE[k] = [v[0],v[1]]\n",
    "\n",
    "    def exe(self, code, tx, b):\n",
    "        ic = inject(tx, code, b)\n",
    "        save(ic)\n",
    "        r  = run()\n",
    "        self.store(r)\n",
    "        \n",
    "    def deploy(self, tx, b): \n",
    "        dc = deployable(self.code)\n",
    "        self.exe(dc, tx, b)\n",
    "        self.deployed = True\n",
    "        \n",
    "    def run(self, tx, b): \n",
    "        assert self.deployed, 'deploy contract first'\n",
    "        ic  = executable(self.code)\n",
    "        self.exe(ic, tx, b)\n",
    "        self.runs += 1"
   ]
  },
  {
   "cell_type": "markdown",
   "metadata": {},
   "source": [
    "Notice that only the storage vars will be stored in `STORAGE`"
   ]
  },
  {
   "cell_type": "markdown",
   "metadata": {},
   "source": [
    "Each smart contract has a unique address."
   ]
  },
  {
   "cell_type": "code",
   "execution_count": 237,
   "metadata": {},
   "outputs": [
    {
     "data": {
      "text/plain": [
       "'0xfe9aaf47a2dea123f920743e24f103c26e6e4cbcc2a3ff6be84ed42f55aa6bfc'"
      ]
     },
     "execution_count": 237,
     "metadata": {},
     "output_type": "execute_result"
    }
   ],
   "source": [
    "sc = SmartContract(code)\n",
    "sc.address"
   ]
  },
  {
   "cell_type": "code",
   "execution_count": 238,
   "metadata": {},
   "outputs": [
    {
     "data": {
      "text/plain": [
       "{'r': [0, \"<class 'int'>\"],\n",
       " 'l': [['this', 'is', 'a', 'list'], \"<class 'list'>\"]}"
      ]
     },
     "execution_count": 238,
     "metadata": {},
     "output_type": "execute_result"
    }
   ],
   "source": [
    "sc.deploy(tx1, b)\n",
    "STORAGE"
   ]
  },
  {
   "cell_type": "code",
   "execution_count": 239,
   "metadata": {},
   "outputs": [
    {
     "data": {
      "text/plain": [
       "{'r': [5, \"<class 'int'>\"],\n",
       " 'l': [['this', 'is', 'a', 'list', 'XXXXX'], \"<class 'list'>\"],\n",
       " 'time': ['Mon Apr 12 22:12:23 2021XXXXX', \"<class 'str'>\"]}"
      ]
     },
     "execution_count": 239,
     "metadata": {},
     "output_type": "execute_result"
    }
   ],
   "source": [
    "sc.run(tx1, b)\n",
    "STORAGE"
   ]
  }
 ],
 "metadata": {
  "kernelspec": {
   "display_name": "Python 3",
   "language": "python",
   "name": "python3"
  },
  "language_info": {
   "codemirror_mode": {
    "name": "ipython",
    "version": 3
   },
   "file_extension": ".py",
   "mimetype": "text/x-python",
   "name": "python",
   "nbconvert_exporter": "python",
   "pygments_lexer": "ipython3",
   "version": "3.8.3"
  }
 },
 "nbformat": 4,
 "nbformat_minor": 4
}
