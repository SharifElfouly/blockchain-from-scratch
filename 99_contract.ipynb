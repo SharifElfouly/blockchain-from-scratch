{
 "cells": [
  {
   "cell_type": "code",
   "execution_count": 120,
   "metadata": {},
   "outputs": [],
   "source": [
    "%%capture\n",
    "%run 01_hash.ipynb\n",
    "%run 02_transaction.ipynb"
   ]
  },
  {
   "cell_type": "code",
   "execution_count": 121,
   "metadata": {},
   "outputs": [],
   "source": [
    "import subprocess as sub"
   ]
  },
  {
   "cell_type": "markdown",
   "metadata": {},
   "source": [
    "## 99_contract\n",
    "\n",
    "Our goal is to be able to run a small piece of code in a tx, just like Ethereum. This piece of code is also called a smart contract (sc). The sc is like another user, but in addition to the balance it also has storage for variables and the sc itself. \n",
    "\n",
    "The smart contract should be able to access the current tx and block information."
   ]
  },
  {
   "cell_type": "markdown",
   "metadata": {},
   "source": [
    "## TODO:\n",
    "\n",
    "- Inject block info"
   ]
  },
  {
   "cell_type": "markdown",
   "metadata": {},
   "source": [
    "The smart contract that we are going to run contains the following code:"
   ]
  },
  {
   "cell_type": "code",
   "execution_count": 319,
   "metadata": {},
   "outputs": [],
   "source": [
    "code = \"\"\"\n",
    "def init():\n",
    "    r = 0\n",
    "    s = 2\n",
    "    h = 'hello how are you?'\n",
    "\n",
    "r += 5\n",
    "time = _tx['time'] + 'XXXXX'\n",
    "\"\"\""
   ]
  },
  {
   "cell_type": "markdown",
   "metadata": {},
   "source": [
    "Temporary file name before execution starts."
   ]
  },
  {
   "cell_type": "code",
   "execution_count": 320,
   "metadata": {},
   "outputs": [],
   "source": [
    "F = 'temp.py'"
   ]
  },
  {
   "cell_type": "markdown",
   "metadata": {},
   "source": [
    "This is injected into every execution to get all the variables used in the contract."
   ]
  },
  {
   "cell_type": "code",
   "execution_count": 321,
   "metadata": {},
   "outputs": [],
   "source": [
    "PRINT_VARS = ['local = set(locals())',\n",
    "              'local_vars = {}',\n",
    "              'for n in local:',\n",
    "              '    if not n.startswith(\\'_\\'):',\n",
    "              '         if \\'str\\' in str(type(eval(n))): print(n, f\\'\\\"{eval(n)}\\\"\\', \\'str\\')',\n",
    "              '         else: print(n, eval(n), \\'int\\')']"
   ]
  },
  {
   "cell_type": "markdown",
   "metadata": {},
   "source": [
    "All vars used will be stored in the `STORAGE` dict."
   ]
  },
  {
   "cell_type": "code",
   "execution_count": 322,
   "metadata": {},
   "outputs": [],
   "source": [
    "STORAGE = {}"
   ]
  },
  {
   "cell_type": "markdown",
   "metadata": {},
   "source": [
    "Inject transaction `tx` and `block` into the execution. These can be accessed in the sc."
   ]
  },
  {
   "cell_type": "code",
   "execution_count": 323,
   "metadata": {},
   "outputs": [],
   "source": [
    "def inject(tx, code, block=None): \n",
    "    tx = tx.json().replace('true', 'True')\n",
    "    return '_tx = '+tx+'\\n'+code"
   ]
  },
  {
   "cell_type": "code",
   "execution_count": 324,
   "metadata": {},
   "outputs": [],
   "source": [
    "def save(code):\n",
    "    with open(F, 'w+') as f: f.write(code)"
   ]
  },
  {
   "cell_type": "code",
   "execution_count": 325,
   "metadata": {},
   "outputs": [],
   "source": [
    "def run():\n",
    "    r = sub.check_output(f'python3 {F}', shell=True)\n",
    "    return r.decode().split('\\n')[:-1]"
   ]
  },
  {
   "cell_type": "markdown",
   "metadata": {},
   "source": [
    "Stores all variables in `STORAGE`."
   ]
  },
  {
   "cell_type": "code",
   "execution_count": 326,
   "metadata": {},
   "outputs": [],
   "source": [
    "def store(r):\n",
    "    for a in r:\n",
    "        if 'str' in a: b = a.split('\"')\n",
    "        else         : b = a.split(' ')\n",
    "        STORAGE[b[0].strip()] = [b[1], b[2].strip()]"
   ]
  },
  {
   "cell_type": "markdown",
   "metadata": {},
   "source": [
    "The deployment will run all the code in `init()`. The rest will run in `execution`."
   ]
  },
  {
   "cell_type": "code",
   "execution_count": 327,
   "metadata": {},
   "outputs": [],
   "source": [
    "def deployable(code):\n",
    "    init = []\n",
    "    lines = code.split('\\n')\n",
    "    for i,l in enumerate(lines):\n",
    "        if 'init' in l: \n",
    "            for j in range(i+1, len(lines)):\n",
    "                if lines[j][:1] == ' ': init.append(lines[j].strip())\n",
    "                else                  : break\n",
    "    init.extend(PRINT_VARS)\n",
    "    return '\\n'.join(l for l in init)"
   ]
  },
  {
   "cell_type": "code",
   "execution_count": 328,
   "metadata": {},
   "outputs": [
    {
     "data": {
      "text/plain": [
       "{'r': ['0', 'int'], 's': ['2', 'int'], 'h': ['hello how are you?', 'str']}"
      ]
     },
     "execution_count": 328,
     "metadata": {},
     "output_type": "execute_result"
    }
   ],
   "source": [
    "def deploy(code, tx):\n",
    "    dc = deployable(code)\n",
    "    ic = inject(tx, dc)\n",
    "    save(ic)\n",
    "    r  = run()\n",
    "    store(r)\n",
    "\n",
    "deploy(code, tx1); STORAGE"
   ]
  },
  {
   "cell_type": "markdown",
   "metadata": {},
   "source": [
    "Execution will run everything in the sc except what is inside `init()`."
   ]
  },
  {
   "cell_type": "code",
   "execution_count": 329,
   "metadata": {},
   "outputs": [],
   "source": [
    "def executable(code):\n",
    "    c = []\n",
    "    for k,v in STORAGE.items():\n",
    "        if v[1] == 'str': c.append(f'{k} = \"{v[0]}\"')\n",
    "        else            : c.append(f'{k} = {v[0]}')\n",
    "    lines = code.split('\\n')\n",
    "    in_init = False\n",
    "    for l in lines:\n",
    "        if 'init' in l: in_init = True; continue\n",
    "        if in_init:\n",
    "            if l[:1] == ' ': continue\n",
    "            else           : in_init = False\n",
    "        else: c.append(l)\n",
    "    c.extend(PRINT_VARS)\n",
    "    return '\\n'.join(l for l in c)"
   ]
  },
  {
   "cell_type": "code",
   "execution_count": 330,
   "metadata": {},
   "outputs": [
    {
     "data": {
      "text/plain": [
       "{'r': ['5', 'int'],\n",
       " 's': ['2', 'int'],\n",
       " 'h': ['hello how are you?', 'str'],\n",
       " 'time': ['Mon Apr 12 02:23:37 2021XXXXX', 'str']}"
      ]
     },
     "execution_count": 330,
     "metadata": {},
     "output_type": "execute_result"
    }
   ],
   "source": [
    "def exe(code, tx):\n",
    "    ic  = inject(tx, code)\n",
    "    exe = executable(ic)\n",
    "    save(exe)\n",
    "    r  = run()\n",
    "    store(r)\n",
    "    \n",
    "exe(code, tx1); STORAGE"
   ]
  }
 ],
 "metadata": {
  "kernelspec": {
   "display_name": "Python 3",
   "language": "python",
   "name": "python3"
  },
  "language_info": {
   "codemirror_mode": {
    "name": "ipython",
    "version": 3
   },
   "file_extension": ".py",
   "mimetype": "text/x-python",
   "name": "python",
   "nbconvert_exporter": "python",
   "pygments_lexer": "ipython3",
   "version": "3.8.3"
  }
 },
 "nbformat": 4,
 "nbformat_minor": 4
}
