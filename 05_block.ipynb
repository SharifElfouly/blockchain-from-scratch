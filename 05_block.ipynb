{
 "cells": [
  {
   "cell_type": "code",
   "execution_count": 167,
   "id": "cubic-marker",
   "metadata": {},
   "outputs": [],
   "source": [
    "%%capture\n",
    "%run 02_transaction.ipynb\n",
    "%run 03_merkle.ipynb\n",
    "%run 04_account.ipynb "
   ]
  },
  {
   "cell_type": "code",
   "execution_count": 168,
   "id": "incorrect-connecticut",
   "metadata": {},
   "outputs": [],
   "source": [
    "from objsize import get_deep_size as get_size"
   ]
  },
  {
   "cell_type": "markdown",
   "id": "running-obligation",
   "metadata": {},
   "source": [
    "## Block Header\n",
    "\n",
    "The `Header` is a blocks summary. It only stores the `root` node of the txs merkle tree, which makes it small and constant in size. The actual mining happens on the block header."
   ]
  },
  {
   "cell_type": "code",
   "execution_count": 169,
   "id": "consecutive-royalty",
   "metadata": {},
   "outputs": [],
   "source": [
    "class Header:\n",
    "    def __init__(self, root, prev_hash, number, n_txs):\n",
    "        self.root      = root\n",
    "        self.prev_hash = prev_hash\n",
    "        self.number    = number\n",
    "        self.n_txs     = n_txs\n",
    "        self.mined     = False\n",
    "        self.time      = time.time()\n",
    "        \n",
    "    def __setattr__(self, prop, val):\n",
    "        super().__setattr__(prop, val)\n",
    "        super().__setattr__('hash', sha(self.__dict__))\n",
    "    \n",
    "    def __str__(self):       return stringfy(self)\n",
    "    def __eq__(self, other): return self.hash == other.hash"
   ]
  },
  {
   "cell_type": "code",
   "execution_count": 170,
   "id": "completed-membrane",
   "metadata": {},
   "outputs": [
    {
     "name": "stdout",
     "output_type": "stream",
     "text": [
      "root:          📗 0x710ce47086...9b8\n",
      "hash:          👽 0x174ba26c87...2da\n",
      "prev_hash:     💿 0x594d25d702...8ef\n",
      "number:        2\n",
      "n_txs:         10\n",
      "mined:         False\n",
      "time:          Tue Mar 30 20:36:05 2021\n"
     ]
    }
   ],
   "source": [
    "bh = Header(rh(),rh(),2,10); print(bh)"
   ]
  },
  {
   "cell_type": "markdown",
   "id": "functioning-black",
   "metadata": {},
   "source": [
    "If anything in the block header changes its `hash` changes automatically as well."
   ]
  },
  {
   "cell_type": "code",
   "execution_count": 171,
   "id": "pretty-finger",
   "metadata": {},
   "outputs": [],
   "source": [
    "bh_changed        = deepcopy(tx2)\n",
    "bh_changed.number = 120\n",
    "assert bh != bh_changed"
   ]
  },
  {
   "cell_type": "markdown",
   "id": "cultural-cycling",
   "metadata": {},
   "source": [
    "Calculate the total volume and fees included in a block."
   ]
  },
  {
   "cell_type": "code",
   "execution_count": 172,
   "id": "spiritual-collar",
   "metadata": {},
   "outputs": [],
   "source": [
    "def stats(txs):\n",
    "    volume = sum([tx.value for tx in txs])\n",
    "    fees   = sum([tx.fee   for tx in txs])\n",
    "    return volume, fees"
   ]
  },
  {
   "cell_type": "markdown",
   "id": "mighty-techno",
   "metadata": {},
   "source": [
    "## Block\n",
    "\n",
    "Consists of the block header `bh` and a list of txs. To validate that the txs are correct, the merkle tree can be rebuild and checked against the root hash stored in the `bh`."
   ]
  },
  {
   "cell_type": "code",
   "execution_count": 221,
   "id": "opened-house",
   "metadata": {},
   "outputs": [],
   "source": [
    "class Block: \n",
    "    def __init__(self, bh, txs):\n",
    "        bh.volume,bh.fees = stats(txs)\n",
    "        self.bh  = bh\n",
    "        self.mt  = MerkleTree(txs)\n",
    "        self.txs = self.val_txs(txs)\n",
    "        \n",
    "    def val_txs(self, txs):\n",
    "        for tx in txs: assert val_sig(tx),   'tx signature invalid'\n",
    "        assert self.are_unique(txs),         'txs include duplicates'\n",
    "        assert self.mt.root == self.bh.root, 'txs root hash do not match'\n",
    "        return {tx.hash: tx for tx in txs}\n",
    "    \n",
    "    def __getitem__(self, key):return self.txs[key]\n",
    "    def are_unique(self, txs): return len(set([tx.hash for tx in txs])) == len(txs)\n",
    "    def __eq__(self, other):   return super().__eq__()\n",
    "    def __str__(self):         return (str(self.bh) \n",
    "                                       +'\\n\\ntxs:\\n' \n",
    "                                       +'\\n'.join(ph(tx) for tx in self.txs.keys()))"
   ]
  },
  {
   "cell_type": "markdown",
   "id": "fewer-copying",
   "metadata": {},
   "source": [
    "Create random list of signed txs."
   ]
  },
  {
   "cell_type": "code",
   "execution_count": 222,
   "id": "informational-shuttle",
   "metadata": {},
   "outputs": [],
   "source": [
    "acc1,acc2 = Account(),Account()\n",
    "def r_stxs(n): return [acc1.signed_tx(acc2,ri(1,9),ri(1,9)/100) for _ in range(n)]"
   ]
  },
  {
   "cell_type": "markdown",
   "id": "finnish-kernel",
   "metadata": {},
   "source": [
    "Create block from a block header containing its txs merkle tree."
   ]
  },
  {
   "cell_type": "code",
   "execution_count": 223,
   "id": "front-apparatus",
   "metadata": {},
   "outputs": [
    {
     "name": "stdout",
     "output_type": "stream",
     "text": [
      "root:          📌 0x667bfcd0b0...3fa\n",
      "hash:          💫 0x452cc08b0e...b09\n",
      "prev_hash:     🕁 0xdbe55ad234...651\n",
      "number:        2\n",
      "n_txs:         2\n",
      "mined:         False\n",
      "time:          Tue Mar 30 20:48:31 2021\n",
      "volume:        7.0 ether\n",
      "fees:          0.05 ether\n",
      "\n",
      "txs:\n",
      "📷 0x91ec35021f...86d\n",
      "📊 0x64f0e397a5...566\n"
     ]
    }
   ],
   "source": [
    "txs = r_stxs(2)\n",
    "mt  = MerkleTree(txs)\n",
    "bh  = Header(mt.root, rh(), 2, len(txs))\n",
    "b   = Block(bh, txs); print(b)"
   ]
  },
  {
   "cell_type": "markdown",
   "id": "united-corporation",
   "metadata": {},
   "source": [
    "Access specific tx from block with its hash."
   ]
  },
  {
   "cell_type": "code",
   "execution_count": 227,
   "id": "thirty-indicator",
   "metadata": {},
   "outputs": [
    {
     "data": {
      "text/plain": [
       "'0x91ec35021f53ccef54e11c8357461e961bc9713f8d2bcbaa4ff6e7e1d7e9786d'"
      ]
     },
     "execution_count": 227,
     "metadata": {},
     "output_type": "execute_result"
    }
   ],
   "source": [
    "tx_hash = next(iter(b.txs.keys())); tx_hash"
   ]
  },
  {
   "cell_type": "code",
   "execution_count": 228,
   "id": "noted-florida",
   "metadata": {},
   "outputs": [
    {
     "name": "stdout",
     "output_type": "stream",
     "text": [
      "fr:            🔚 0xB46725bb73...911\n",
      "hash:          📷 0x91ec35021f...86d\n",
      "to:            👶 0x10fbD4FfBa...f25\n",
      "value:         5.0 ether\n",
      "fee:           0.04 ether\n",
      "nonce:         0\n",
      "time:          Tue Mar 30 20:48:31 2021\n",
      "signed:        True\n",
      "sig:           📱 0x8b6bcf1187...2a7\n"
     ]
    }
   ],
   "source": [
    "tx = b[tx_hash]; print(tx)"
   ]
  },
  {
   "cell_type": "markdown",
   "id": "above-token",
   "metadata": {},
   "source": [
    "Blocks can only contain unique txs. "
   ]
  },
  {
   "cell_type": "code",
   "execution_count": 229,
   "id": "common-amber",
   "metadata": {},
   "outputs": [],
   "source": [
    "txs[0] = txs[1]\n",
    "\n",
    "mt  = MerkleTree(txs)\n",
    "bh  = Header(mt.root, rh(), 2, len(txs))"
   ]
  },
  {
   "cell_type": "code",
   "execution_count": 230,
   "id": "secure-necklace",
   "metadata": {},
   "outputs": [],
   "source": [
    "dup_detected = False\n",
    "try:    Block(bh, txs)\n",
    "except: dup_detected = True\n",
    "assert  dup_detected"
   ]
  }
 ],
 "metadata": {
  "kernelspec": {
   "display_name": "Python 3",
   "language": "python",
   "name": "python3"
  },
  "language_info": {
   "codemirror_mode": {
    "name": "ipython",
    "version": 3
   },
   "file_extension": ".py",
   "mimetype": "text/x-python",
   "name": "python",
   "nbconvert_exporter": "python",
   "pygments_lexer": "ipython3",
   "version": "3.8.2"
  }
 },
 "nbformat": 4,
 "nbformat_minor": 5
}
