{
 "cells": [
  {
   "cell_type": "code",
   "execution_count": 357,
   "id": "cubic-marker",
   "metadata": {},
   "outputs": [],
   "source": [
    "%%capture\n",
    "%run 02_transaction.ipynb\n",
    "%run 03_merkle.ipynb\n",
    "%run 04_account.ipynb "
   ]
  },
  {
   "cell_type": "code",
   "execution_count": 358,
   "id": "incorrect-connecticut",
   "metadata": {},
   "outputs": [],
   "source": [
    "from objsize import get_deep_size as get_size"
   ]
  },
  {
   "cell_type": "markdown",
   "id": "running-obligation",
   "metadata": {},
   "source": [
    "## Block Header\n",
    "\n",
    "The `Header` is a blocks summary. It only stores the `root` node of the txs merkle tree, which makes it small and constant in size. The actual mining happens on the block header."
   ]
  },
  {
   "cell_type": "code",
   "execution_count": 359,
   "id": "consecutive-royalty",
   "metadata": {},
   "outputs": [],
   "source": [
    "class Header(Hashable):\n",
    "    def __init__(self, root, prev_hash, number, n_txs):\n",
    "        self.root      = root\n",
    "        self.prev_hash = prev_hash\n",
    "        self.number    = number\n",
    "        self.n_txs     = n_txs\n",
    "        self.mined     = False\n",
    "        self.time      = time.time()\n",
    "        \n",
    "    def __setattr__(self, prop, val):\n",
    "        super().__setattr__(prop, val) \n",
    "        if prop != 'nonce': super().__setattr__('hash', sha(self.__dict__))\n",
    "            \n",
    "    def __str__(self):  return stringfy(self)"
   ]
  },
  {
   "cell_type": "code",
   "execution_count": 360,
   "id": "completed-membrane",
   "metadata": {},
   "outputs": [
    {
     "name": "stdout",
     "output_type": "stream",
     "text": [
      "root:          📒 0x6cad62a4c0...9de\n",
      "hash:          🔛 0xb5ccbe209e...c3f\n",
      "prev_hash:     📾 0x98a9db0dc0...b27\n",
      "number:        2\n",
      "n_txs:         10\n",
      "mined:         False\n",
      "time:          Wed Mar 31 10:12:08 2021\n"
     ]
    }
   ],
   "source": [
    "bh = Header(rh(),rh(),2,10); print(bh)"
   ]
  },
  {
   "cell_type": "markdown",
   "id": "functioning-black",
   "metadata": {},
   "source": [
    "If anything in the block header changes its `hash` changes automatically as well."
   ]
  },
  {
   "cell_type": "code",
   "execution_count": 361,
   "id": "pretty-finger",
   "metadata": {},
   "outputs": [],
   "source": [
    "bh_changed        = deepcopy(tx2)\n",
    "bh_changed.number = 120\n",
    "assert bh != bh_changed"
   ]
  },
  {
   "cell_type": "markdown",
   "id": "dirty-speed",
   "metadata": {},
   "source": [
    "### Info\n",
    "\n",
    "Includes all extra informations that are irrelevant for mining and therefore are not in the block header.\n",
    "\n",
    "Calculate the total txs `volume` and `fees` included in a block."
   ]
  },
  {
   "cell_type": "code",
   "execution_count": 362,
   "id": "emerging-driving",
   "metadata": {},
   "outputs": [],
   "source": [
    "def stats(txs):\n",
    "    volume = sum([tx.value for tx in txs])\n",
    "    fees   = sum([tx.fee   for tx in txs])\n",
    "    return volume, fees"
   ]
  },
  {
   "cell_type": "markdown",
   "id": "chinese-relations",
   "metadata": {},
   "source": [
    "`Info` calculates some interesting facts about the `txs` that will be included in the block."
   ]
  },
  {
   "cell_type": "code",
   "execution_count": 363,
   "id": "retained-spanking",
   "metadata": {},
   "outputs": [],
   "source": [
    "class Info:\n",
    "    def __init__(self, txs):\n",
    "        self.volume,self.fees = stats(txs)\n",
    "        self.sz = get_size(txs)\n",
    "    def __str__(self): return stringfy(self)"
   ]
  },
  {
   "cell_type": "markdown",
   "id": "mighty-techno",
   "metadata": {},
   "source": [
    "## Block\n",
    "\n",
    "Consists of the block header `bh` and a list of txs. To validate that the txs are correct, the merkle tree can be rebuild and checked against the root hash stored in the `bh`."
   ]
  },
  {
   "cell_type": "code",
   "execution_count": 369,
   "id": "opened-house",
   "metadata": {},
   "outputs": [],
   "source": [
    "class Block(Hashable): \n",
    "    def __init__(self, bh, txs):\n",
    "        self.info   = Info(txs)\n",
    "        self.header = bh\n",
    "        self.hash   = bh.hash\n",
    "        self.mt     = MerkleTree(txs)\n",
    "        self.txs    = self.val_txs(txs)\n",
    "        \n",
    "    def val_txs(self, txs):\n",
    "        for tx in txs: assert val_sig(tx),       'tx signature invalid'\n",
    "        assert self.are_unique(txs),             'txs include duplicates'\n",
    "        assert self.mt.root == self.header.root, 'txs root hash do not match'\n",
    "        return {tx.hash: tx for tx in txs}\n",
    "    \n",
    "    def are_unique(self, txs): return len(set([tx.hash for tx in txs])) == len(txs)\n",
    "    def __getitem__(self, key):return self.txs[key] \n",
    "    def __str__(self):         return (str(self.header)\n",
    "                                       +'\\n'+str(self.info)\n",
    "                                       +'\\n\\ntxs:\\n' \n",
    "                                       +'\\n'.join(tx.smry() for tx in self.txs.values()))"
   ]
  },
  {
   "cell_type": "markdown",
   "id": "fewer-copying",
   "metadata": {},
   "source": [
    "Create random list of signed txs."
   ]
  },
  {
   "cell_type": "code",
   "execution_count": 380,
   "id": "informational-shuttle",
   "metadata": {},
   "outputs": [],
   "source": [
    "acc1,acc2 = Account(),Account()\n",
    "def r_stxs(n): return [acc1.signed_tx(acc2,ri(1,9),ri(1,9)/100) for _ in range(n)]"
   ]
  },
  {
   "cell_type": "markdown",
   "id": "finnish-kernel",
   "metadata": {},
   "source": [
    "Create block from a block header containing its txs merkle tree."
   ]
  },
  {
   "cell_type": "code",
   "execution_count": 381,
   "id": "front-apparatus",
   "metadata": {},
   "outputs": [
    {
     "name": "stdout",
     "output_type": "stream",
     "text": [
      "root:          📇 0x61810bbd17...d8b\n",
      "hash:          👫 0x0532e990b6...f3c\n",
      "prev_hash:     💓 0x2da53839a5...f11\n",
      "number:        2\n",
      "n_txs:         4\n",
      "mined:         False\n",
      "time:          Wed Mar 31 10:16:01 2021\n",
      "volume:        28.0 eth\n",
      "fees:          0.27 eth\n",
      "sz:            4458\n",
      "\n",
      "txs:\n",
      "👶 0x1076 -> 📘 0x72f9 6.0 eth\n",
      "👶 0x1076 -> 📘 0x72f9 7.0 eth\n",
      "👶 0x1076 -> 📘 0x72f9 9.0 eth\n",
      "👶 0x1076 -> 📘 0x72f9 6.0 eth\n"
     ]
    }
   ],
   "source": [
    "txs = r_stxs(4)\n",
    "mt  = MerkleTree(txs)\n",
    "bh  = Header(mt.root, rh(), 2, len(txs))\n",
    "b   = Block(bh, txs); print(b)"
   ]
  },
  {
   "cell_type": "markdown",
   "id": "blond-china",
   "metadata": {},
   "source": [
    "Access specific tx from block with its hash."
   ]
  },
  {
   "cell_type": "code",
   "execution_count": 382,
   "id": "flexible-accident",
   "metadata": {},
   "outputs": [
    {
     "data": {
      "text/plain": [
       "'0x7a5b7ca3fe2ac38248965974550607b96670f61ad9c27de1ecb14e32dd5a3d4f'"
      ]
     },
     "execution_count": 382,
     "metadata": {},
     "output_type": "execute_result"
    }
   ],
   "source": [
    "tx_hash = next(iter(b.txs.keys())); tx_hash"
   ]
  },
  {
   "cell_type": "code",
   "execution_count": 383,
   "id": "junior-ceremony",
   "metadata": {},
   "outputs": [
    {
     "name": "stdout",
     "output_type": "stream",
     "text": [
      "fr:            👶 0x107679890F...50F\n",
      "hash:          📠 0x7a5b7ca3fe...d4f\n",
      "to:            📘 0x72f925dbe8...e4c\n",
      "value:         6.0 eth\n",
      "fee:           0.05 eth\n",
      "nonce:         0\n",
      "time:          Wed Mar 31 10:16:01 2021\n",
      "signed:        True\n",
      "sig:           🕢 0xfc8230c3db...453\n"
     ]
    }
   ],
   "source": [
    "tx = b[tx_hash]; print(tx)"
   ]
  },
  {
   "cell_type": "markdown",
   "id": "above-token",
   "metadata": {},
   "source": [
    "Blocks can only contain unique txs. "
   ]
  },
  {
   "cell_type": "code",
   "execution_count": 384,
   "id": "common-amber",
   "metadata": {},
   "outputs": [],
   "source": [
    "txs[0] = txs[1]\n",
    "\n",
    "mt  = MerkleTree(txs)\n",
    "bh  = Header(mt.root, rh(), 2, len(txs))"
   ]
  },
  {
   "cell_type": "code",
   "execution_count": 385,
   "id": "secure-necklace",
   "metadata": {},
   "outputs": [],
   "source": [
    "dup_detected = False\n",
    "try:    Block(bh, txs)\n",
    "except: dup_detected = True\n",
    "assert  dup_detected"
   ]
  }
 ],
 "metadata": {
  "kernelspec": {
   "display_name": "Python 3",
   "language": "python",
   "name": "python3"
  },
  "language_info": {
   "codemirror_mode": {
    "name": "ipython",
    "version": 3
   },
   "file_extension": ".py",
   "mimetype": "text/x-python",
   "name": "python",
   "nbconvert_exporter": "python",
   "pygments_lexer": "ipython3",
   "version": "3.8.2"
  }
 },
 "nbformat": 4,
 "nbformat_minor": 5
}
