{
 "cells": [
  {
   "cell_type": "code",
   "execution_count": 4,
   "metadata": {},
   "outputs": [],
   "source": [
    "%%capture\n",
    "%run 02_transaction.ipynb\n",
    "%run 03_merkle.ipynb\n",
    "%run 04_wallet.ipynb"
   ]
  },
  {
   "cell_type": "markdown",
   "metadata": {},
   "source": [
    "## Block Header\n",
    "\n",
    "The `Header` is a summary of the most important facts about a block. It contains the following:\n",
    "- `root`: Root of the Merkle Tree of TXs\n",
    "- `prev_hash`: Hash of the previous block\n",
    "- `number`: Block number\n",
    "- `n_txs`: Number of txs included in the block\n",
    "- `mined`: Does the header belong to a block that is mined\n",
    "- `time`: Time of creation\n",
    "\n",
    "The actual mining happens on the block header."
   ]
  },
  {
   "cell_type": "code",
   "execution_count": 5,
   "metadata": {},
   "outputs": [],
   "source": [
    "class Header(Hashable):\n",
    "    def __init__(self, root, prev_hash, number, n_txs):\n",
    "        self.root      = root\n",
    "        self.prev_hash = prev_hash\n",
    "        self.number    = number\n",
    "        self.n_txs     = n_txs\n",
    "        self.mined     = False\n",
    "        self.time      = time.ctime()"
   ]
  },
  {
   "cell_type": "code",
   "execution_count": 6,
   "metadata": {},
   "outputs": [
    {
     "name": "stdout",
     "output_type": "stream",
     "text": [
      "root:          💳 0x4d94eb5b9b...3d3\n",
      "hash:          🔞 0xb8b11b9251...5c4\n",
      "prev_hash:     🔸 0xd2663b66a8...f00\n",
      "number:        2\n",
      "n_txs:         10\n",
      "mined:         False\n",
      "time:          Sun Apr 11 20:51:50 2021\n"
     ]
    }
   ],
   "source": [
    "bh = Header(rh(),rh(),2,10); print(bh)"
   ]
  },
  {
   "cell_type": "markdown",
   "metadata": {},
   "source": [
    "If anything in the block header changes its `hash` changes automatically as well."
   ]
  },
  {
   "cell_type": "code",
   "execution_count": 8,
   "metadata": {},
   "outputs": [],
   "source": [
    "bh_changed        = deepcopy(bh)\n",
    "bh_changed.number = 120\n",
    "assert bh != bh_changed"
   ]
  },
  {
   "cell_type": "markdown",
   "metadata": {},
   "source": [
    "### Info\n",
    "\n",
    "Includes all extra informations that are irrelevant for mining and therefore are not in the block header. These are the total txs `volume` and `fees` included in a block."
   ]
  },
  {
   "cell_type": "code",
   "execution_count": 9,
   "metadata": {},
   "outputs": [],
   "source": [
    "class Info(Hashable):\n",
    "    def __init__(self, txs): \n",
    "        self.volume = sum([tx.value for tx in txs])\n",
    "        self.fees   = sum([tx.fee   for tx in txs])"
   ]
  },
  {
   "cell_type": "markdown",
   "metadata": {},
   "source": [
    "## Block\n",
    "\n",
    "Consists of the block header `bh` and a list of txs. To validate that the txs are correct, the merkle tree can be rebuild and checked against the root hash stored in the `bh`."
   ]
  },
  {
   "cell_type": "code",
   "execution_count": 10,
   "metadata": {},
   "outputs": [],
   "source": [
    "class Block(Hashable): \n",
    "    def __init__(self, bh, txs):\n",
    "        self.info   = Info(txs)\n",
    "        self.header = bh\n",
    "        self.mt     = MerkleTree(txs)\n",
    "        self.txs    = self.val_txs(txs)\n",
    "        self.hash   = bh.hash\n",
    "        \n",
    "    def val_txs(self, txs):\n",
    "        for tx in txs: assert val_sig(tx),       'tx signature invalid'\n",
    "        assert self.are_unique(txs),             'txs include duplicates'\n",
    "        assert self.mt.root == self.header.root, 'txs root hash do not match'\n",
    "        return {tx.hash: tx for tx in txs}\n",
    "    \n",
    "    def json(self): \n",
    "        info = self.info.__dict__\n",
    "        h    = self.header.__dict__\n",
    "        txs  = [tx.json() for tx in self.txs.values()]\n",
    "        d    = {**info, **h, 'txs': txs}\n",
    "        return json.dumps(d, indent=4)\n",
    "    \n",
    "    def are_unique(self, txs): return len(set([tx.hash for tx in txs])) == len(txs)\n",
    "    def __getitem__(self, key):return self.txs[key] \n",
    "    def __str__(self):         return (str(self.header)\n",
    "                                       +'\\n'+str(self.info)\n",
    "                                       +'\\n\\ntxs:\\n' \n",
    "                                       +'\\n'.join(tx.smry() for tx in self.txs.values()))"
   ]
  },
  {
   "cell_type": "markdown",
   "metadata": {},
   "source": [
    "Create random list of signed txs."
   ]
  },
  {
   "cell_type": "code",
   "execution_count": 14,
   "metadata": {},
   "outputs": [],
   "source": [
    "w1,w2 = Wallet(),Wallet()\n",
    "def r_stxs(n): return [w1.signed_tx(w2,ri(1,9),ri(1,9)/100) for _ in range(n)]"
   ]
  },
  {
   "cell_type": "markdown",
   "metadata": {},
   "source": [
    "Create block from a block header containing its txs merkle tree."
   ]
  },
  {
   "cell_type": "code",
   "execution_count": 15,
   "metadata": {},
   "outputs": [
    {
     "name": "stdout",
     "output_type": "stream",
     "text": [
      "root:          🔶 0xd0d28a0c53...53f\n",
      "hash:          👻 0x1520fd5335...2fb\n",
      "prev_hash:     🔌 0xa622851359...2d2\n",
      "number:        2\n",
      "n_txs:         4\n",
      "mined:         False\n",
      "time:          Sun Apr 11 20:53:49 2021\n",
      "volume:        28.0 eth\n",
      "hash:          📤 0x7e39fb4082...477\n",
      "fees:          0.21 eth\n",
      "\n",
      "txs:\n",
      "📮 0x88a6 -> 📽 0x97a7 7.0 eth\n",
      "📮 0x88a6 -> 📽 0x97a7 9.0 eth\n",
      "📮 0x88a6 -> 📽 0x97a7 8.0 eth\n",
      "📮 0x88a6 -> 📽 0x97a7 4.0 eth\n"
     ]
    }
   ],
   "source": [
    "txs = r_stxs(4)\n",
    "mt  = MerkleTree(txs)\n",
    "bh  = Header(mt.root, rh(), 2, len(txs))\n",
    "b   = Block(bh, txs); print(b)"
   ]
  },
  {
   "cell_type": "markdown",
   "metadata": {},
   "source": [
    "### Block JSON\n",
    "\n",
    "Every block has a json representation that we will use for our API later."
   ]
  },
  {
   "cell_type": "code",
   "execution_count": 16,
   "metadata": {},
   "outputs": [],
   "source": [
    "block_json = b.json()"
   ]
  },
  {
   "cell_type": "markdown",
   "metadata": {},
   "source": [
    "We can load this JSON string `d` and create a block object again."
   ]
  },
  {
   "cell_type": "code",
   "execution_count": 17,
   "metadata": {},
   "outputs": [],
   "source": [
    "def load_block(d):\n",
    "    d  = json.loads(d)\n",
    "    txs = []\n",
    "    for tx in d['txs']: txs.append(load_tx(tx))\n",
    "    bh = Header(d['root'],d['prev_hash'],d['number'],d['n_txs']) \n",
    "    for k,v in d.items(): setattr(bh, k, v)\n",
    "    bh.hash = d['hash']\n",
    "    b = Block(bh, txs)\n",
    "    return b\n",
    "    \n",
    "b_from_json = load_block(b.json())"
   ]
  },
  {
   "cell_type": "code",
   "execution_count": 18,
   "metadata": {},
   "outputs": [],
   "source": [
    "assert b == b_from_json"
   ]
  },
  {
   "cell_type": "markdown",
   "metadata": {},
   "source": [
    "#### Access specific tx from block with its hash."
   ]
  },
  {
   "cell_type": "code",
   "execution_count": 19,
   "metadata": {},
   "outputs": [
    {
     "data": {
      "text/plain": [
       "'0x28de3ee962255c13968ef8497966194f272085d4ea2c91a35239c13115608f92'"
      ]
     },
     "execution_count": 19,
     "metadata": {},
     "output_type": "execute_result"
    }
   ],
   "source": [
    "tx_hash = next(iter(b.txs.keys())); tx_hash"
   ]
  },
  {
   "cell_type": "code",
   "execution_count": 20,
   "metadata": {},
   "outputs": [
    {
     "name": "stdout",
     "output_type": "stream",
     "text": [
      "fr:            📮 0x88a629B7F4...b55\n",
      "hash:          💎 0x28de3ee962...f92\n",
      "to:            📽 0x97a78D775b...4a1\n",
      "value:         7.0 eth\n",
      "fee:           0.08 eth\n",
      "nonce:         0\n",
      "time:          Sun Apr 11 20:53:49 2021\n",
      "signed:        True\n",
      "sig:           🕒 0xeca9040241...f1c\n"
     ]
    }
   ],
   "source": [
    "tx = b[tx_hash]; print(tx)"
   ]
  },
  {
   "cell_type": "markdown",
   "metadata": {},
   "source": [
    "Blocks can only contain unique txs. "
   ]
  },
  {
   "cell_type": "code",
   "execution_count": 21,
   "metadata": {},
   "outputs": [],
   "source": [
    "txs[0] = txs[1]\n",
    "\n",
    "mt  = MerkleTree(txs)\n",
    "bh  = Header(mt.root, rh(), 2, len(txs))"
   ]
  },
  {
   "cell_type": "code",
   "execution_count": 22,
   "metadata": {},
   "outputs": [],
   "source": [
    "dup_detected = False\n",
    "try:    Block(bh, txs)\n",
    "except: dup_detected = True\n",
    "assert  dup_detected"
   ]
  }
 ],
 "metadata": {
  "kernelspec": {
   "display_name": "Python 3",
   "language": "python",
   "name": "python3"
  },
  "language_info": {
   "codemirror_mode": {
    "name": "ipython",
    "version": 3
   },
   "file_extension": ".py",
   "mimetype": "text/x-python",
   "name": "python",
   "nbconvert_exporter": "python",
   "pygments_lexer": "ipython3",
   "version": "3.8.3"
  }
 },
 "nbformat": 4,
 "nbformat_minor": 5
}
