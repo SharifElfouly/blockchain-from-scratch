{
 "cells": [
  {
   "cell_type": "code",
   "execution_count": 1,
   "id": "analyzed-latitude",
   "metadata": {},
   "outputs": [],
   "source": [
    "%%capture\n",
    "%run 02_transaction.ipynb\n",
    "%run 03_merkle.ipynb\n",
    "%run 04_account.ipynb "
   ]
  },
  {
   "cell_type": "code",
   "execution_count": 2,
   "id": "executed-calculator",
   "metadata": {},
   "outputs": [],
   "source": [
    "from objsize import get_deep_size as get_size"
   ]
  },
  {
   "cell_type": "markdown",
   "id": "solar-bacteria",
   "metadata": {},
   "source": [
    "## Block Header\n",
    "\n",
    "The `Header` is a blocks summary. It only stores the `root` node of the txs merkle tree, which makes it small and constant in size. The actual mining happens on the block header."
   ]
  },
  {
   "cell_type": "code",
   "execution_count": 3,
   "id": "statutory-directory",
   "metadata": {},
   "outputs": [],
   "source": [
    "class Header(Hashable):\n",
    "    def __init__(self, root, prev_hash, number, n_txs):\n",
    "        self.root      = root\n",
    "        self.prev_hash = prev_hash\n",
    "        self.number    = number\n",
    "        self.n_txs     = n_txs\n",
    "        self.mined     = False\n",
    "        self.time      = time.time()\n",
    "        \n",
    "    def __setattr__(self, prop, val):\n",
    "        super().__setattr__(prop, val) \n",
    "        if prop not in ['nonce', 'hash']:\n",
    "            super().__setattr__('hash', sha(self.__dict__))\n",
    "            \n",
    "    def __str__(self):  return stringfy(self)"
   ]
  },
  {
   "cell_type": "code",
   "execution_count": 4,
   "id": "aboriginal-elements",
   "metadata": {},
   "outputs": [
    {
     "name": "stdout",
     "output_type": "stream",
     "text": [
      "root:          📀 0x5a270ae7cc...de1\n",
      "hash:          🔎 0xa882c73a2b...4cb\n",
      "prev_hash:     📅 0x5fd4340c76...b49\n",
      "number:        2\n",
      "n_txs:         10\n",
      "mined:         False\n",
      "time:          1617485003.102099 eth\n"
     ]
    }
   ],
   "source": [
    "bh = Header(rh(),rh(),2,10); print(bh)"
   ]
  },
  {
   "cell_type": "markdown",
   "id": "handy-chick",
   "metadata": {},
   "source": [
    "If anything in the block header changes its `hash` changes automatically as well."
   ]
  },
  {
   "cell_type": "code",
   "execution_count": 5,
   "id": "center-checkout",
   "metadata": {},
   "outputs": [],
   "source": [
    "bh_changed        = deepcopy(tx2)\n",
    "bh_changed.number = 120\n",
    "assert bh != bh_changed"
   ]
  },
  {
   "cell_type": "markdown",
   "id": "czech-neutral",
   "metadata": {},
   "source": [
    "### Info\n",
    "\n",
    "Includes all extra informations that are irrelevant for mining and therefore are not in the block header.\n",
    "\n",
    "Calculate the total txs `volume` and `fees` included in a block."
   ]
  },
  {
   "cell_type": "code",
   "execution_count": 6,
   "id": "private-litigation",
   "metadata": {},
   "outputs": [],
   "source": [
    "def stats(txs):\n",
    "    volume = sum([tx.value for tx in txs])\n",
    "    fees   = sum([tx.fee   for tx in txs])\n",
    "    return volume, fees"
   ]
  },
  {
   "cell_type": "markdown",
   "id": "alike-injury",
   "metadata": {},
   "source": [
    "`Info` calculates some interesting facts about the `txs` that will be included in the block."
   ]
  },
  {
   "cell_type": "code",
   "execution_count": 7,
   "id": "oriented-christmas",
   "metadata": {},
   "outputs": [],
   "source": [
    "class Info:\n",
    "    def __init__(self, txs): self.volume,self.fees = stats(txs)\n",
    "    def __str__(self): return stringfy(self)"
   ]
  },
  {
   "cell_type": "markdown",
   "id": "absolute-boulder",
   "metadata": {},
   "source": [
    "## Block\n",
    "\n",
    "Consists of the block header `bh` and a list of txs. To validate that the txs are correct, the merkle tree can be rebuild and checked against the root hash stored in the `bh`."
   ]
  },
  {
   "cell_type": "code",
   "execution_count": 8,
   "id": "animated-vulnerability",
   "metadata": {},
   "outputs": [],
   "source": [
    "class Block(Hashable): \n",
    "    def __init__(self, bh, txs):\n",
    "        self.info   = Info(txs)\n",
    "        self.header = bh\n",
    "        self.hash   = bh.hash\n",
    "        self.mt     = MerkleTree(txs)\n",
    "        self.txs    = self.val_txs(txs)\n",
    "        \n",
    "    def val_txs(self, txs):\n",
    "        for tx in txs: assert val_sig(tx),       'tx signature invalid'\n",
    "        assert self.are_unique(txs),             'txs include duplicates'\n",
    "        assert self.mt.root == self.header.root, 'txs root hash do not match'\n",
    "        return {tx.hash: tx for tx in txs}\n",
    "    \n",
    "    def json(self): \n",
    "        info = self.info.__dict__\n",
    "        h    = self.header.__dict__\n",
    "        txs  = [tx.json() for tx in self.txs.values()]\n",
    "        d    = {**info, **h, 'txs': txs}\n",
    "        #d['time'] = time.ctime(d['time'])\n",
    "        return json.dumps(d, indent=4)\n",
    "    \n",
    "    def are_unique(self, txs): return len(set([tx.hash for tx in txs])) == len(txs)\n",
    "    def __getitem__(self, key):return self.txs[key] \n",
    "    def __str__(self):         return (str(self.header)\n",
    "                                       +'\\n'+str(self.info)\n",
    "                                       +'\\n\\ntxs:\\n' \n",
    "                                       +'\\n'.join(tx.smry() for tx in self.txs.values()))"
   ]
  },
  {
   "cell_type": "markdown",
   "id": "direct-israel",
   "metadata": {},
   "source": [
    "Create random list of signed txs."
   ]
  },
  {
   "cell_type": "code",
   "execution_count": 9,
   "id": "removed-marks",
   "metadata": {},
   "outputs": [],
   "source": [
    "acc1,acc2 = Account(),Account()\n",
    "def r_stxs(n): return [acc1.signed_tx(acc2,ri(1,9),ri(1,9)/100) for _ in range(n)]"
   ]
  },
  {
   "cell_type": "markdown",
   "id": "split-president",
   "metadata": {},
   "source": [
    "Create block from a block header containing its txs merkle tree."
   ]
  },
  {
   "cell_type": "code",
   "execution_count": 10,
   "id": "documentary-fancy",
   "metadata": {},
   "outputs": [
    {
     "name": "stdout",
     "output_type": "stream",
     "text": [
      "root:          🕁 0xdbbfe5f838...d07\n",
      "hash:          💖 0x304e59744b...7cc\n",
      "prev_hash:     💝 0x37057276e8...2fc\n",
      "number:        2\n",
      "n_txs:         4\n",
      "mined:         False\n",
      "time:          1617485003.144881 eth\n",
      "volume:        16.0 eth\n",
      "fees:          0.31 eth\n",
      "\n",
      "txs:\n",
      "🔜 0xB65F -> 📂 0x5cAe 6.0 eth\n",
      "🔜 0xB65F -> 📂 0x5cAe 1.0 eth\n",
      "🔜 0xB65F -> 📂 0x5cAe 2.0 eth\n",
      "🔜 0xB65F -> 📂 0x5cAe 7.0 eth\n"
     ]
    }
   ],
   "source": [
    "txs = r_stxs(4)\n",
    "mt  = MerkleTree(txs)\n",
    "bh  = Header(mt.root, rh(), 2, len(txs))\n",
    "b   = Block(bh, txs); print(b)"
   ]
  },
  {
   "cell_type": "markdown",
   "id": "olive-petersburg",
   "metadata": {},
   "source": [
    "### Block JSON\n",
    "\n",
    "Every block has a json representation that we will use for our API later."
   ]
  },
  {
   "cell_type": "code",
   "execution_count": 11,
   "id": "unauthorized-favor",
   "metadata": {},
   "outputs": [],
   "source": [
    "block_json = b.json()"
   ]
  },
  {
   "cell_type": "markdown",
   "id": "residential-treat",
   "metadata": {},
   "source": [
    "We can load this JSON string `d` and create a block object again."
   ]
  },
  {
   "cell_type": "code",
   "execution_count": 12,
   "id": "atomic-badge",
   "metadata": {},
   "outputs": [],
   "source": [
    "def load_block(d):\n",
    "    d  = json.loads(d)\n",
    "    txs = []\n",
    "    for tx in d['txs']: txs.append(load_tx(tx))\n",
    "    bh = Header(d['root'],d['prev_hash'],d['number'],d['n_txs']) \n",
    "    for k,v in d.items(): setattr(bh, k, v)\n",
    "    bh.hash = d['hash']\n",
    "    b = Block(bh, txs)\n",
    "    return b\n",
    "    \n",
    "b_from_json = load_block(b.json())"
   ]
  },
  {
   "cell_type": "code",
   "execution_count": 13,
   "id": "understood-swedish",
   "metadata": {},
   "outputs": [],
   "source": [
    "assert b == b_from_json"
   ]
  },
  {
   "cell_type": "markdown",
   "id": "gothic-operations",
   "metadata": {},
   "source": [
    "#### Access specific tx from block with its hash."
   ]
  },
  {
   "cell_type": "code",
   "execution_count": 15,
   "id": "subsequent-credits",
   "metadata": {},
   "outputs": [
    {
     "data": {
      "text/plain": [
       "'0x2779ea26e3ae8d58b5ef792d2e8d200dfee12e44e3d8fecc0419738b7cb0bc95'"
      ]
     },
     "execution_count": 15,
     "metadata": {},
     "output_type": "execute_result"
    }
   ],
   "source": [
    "tx_hash = next(iter(b.txs.keys())); tx_hash"
   ]
  },
  {
   "cell_type": "code",
   "execution_count": 16,
   "id": "communist-groove",
   "metadata": {},
   "outputs": [
    {
     "name": "stdout",
     "output_type": "stream",
     "text": [
      "fr:            🔜 0xB65F8c217c...dc6\n",
      "hash:          💍 0x2779ea26e3...c95\n",
      "to:            📂 0x5cAe54987C...6Dd\n",
      "value:         6.0 eth\n",
      "fee:           0.09 eth\n",
      "nonce:         0\n",
      "time:          1617485003.12468 eth\n",
      "signed:        True\n",
      "sig:           💲 0x4c36a6eb87...61c\n"
     ]
    }
   ],
   "source": [
    "tx = b[tx_hash]; print(tx)"
   ]
  },
  {
   "cell_type": "markdown",
   "id": "egyptian-taylor",
   "metadata": {},
   "source": [
    "Blocks can only contain unique txs. "
   ]
  },
  {
   "cell_type": "code",
   "execution_count": 17,
   "id": "indie-banks",
   "metadata": {},
   "outputs": [],
   "source": [
    "txs[0] = txs[1]\n",
    "\n",
    "mt  = MerkleTree(txs)\n",
    "bh  = Header(mt.root, rh(), 2, len(txs))"
   ]
  },
  {
   "cell_type": "code",
   "execution_count": 18,
   "id": "deadly-stadium",
   "metadata": {},
   "outputs": [],
   "source": [
    "dup_detected = False\n",
    "try:    Block(bh, txs)\n",
    "except: dup_detected = True\n",
    "assert  dup_detected"
   ]
  }
 ],
 "metadata": {
  "kernelspec": {
   "display_name": "Python 3",
   "language": "python",
   "name": "python3"
  },
  "language_info": {
   "codemirror_mode": {
    "name": "ipython",
    "version": 3
   },
   "file_extension": ".py",
   "mimetype": "text/x-python",
   "name": "python",
   "nbconvert_exporter": "python",
   "pygments_lexer": "ipython3",
   "version": "3.8.2"
  }
 },
 "nbformat": 4,
 "nbformat_minor": 5
}
