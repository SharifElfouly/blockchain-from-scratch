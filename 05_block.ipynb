{
 "cells": [
  {
   "cell_type": "code",
   "execution_count": 35,
   "id": "analyzed-latitude",
   "metadata": {},
   "outputs": [],
   "source": [
    "%%capture\n",
    "%run 02_transaction.ipynb\n",
    "%run 03_merkle.ipynb\n",
    "%run 04_account.ipynb "
   ]
  },
  {
   "cell_type": "code",
   "execution_count": 36,
   "id": "executed-calculator",
   "metadata": {},
   "outputs": [],
   "source": [
    "from objsize import get_deep_size as get_size"
   ]
  },
  {
   "cell_type": "markdown",
   "id": "solar-bacteria",
   "metadata": {},
   "source": [
    "## Block Header\n",
    "\n",
    "The `Header` is a summary of the most important facts about a block. It contains the following:\n",
    "- `root`: Root of the Merkle Tree of TXs\n",
    "- `prev_hash`: Hash of the previous block\n",
    "- `number`: Block number\n",
    "- `n_txs`: Number of txs included in the block\n",
    "- `mined`: Does the header belong to a block that is mined\n",
    "- `time`: Time of creation\n",
    "\n",
    "The actual mining happens on the block header."
   ]
  },
  {
   "cell_type": "code",
   "execution_count": 75,
   "id": "statutory-directory",
   "metadata": {},
   "outputs": [],
   "source": [
    "class Header(Hashable):\n",
    "    def __init__(self, root, prev_hash, number, n_txs):\n",
    "        self.root      = root\n",
    "        self.prev_hash = prev_hash\n",
    "        self.number    = number\n",
    "        self.n_txs     = n_txs\n",
    "        self.mined     = False\n",
    "        self.time      = time.time()"
   ]
  },
  {
   "cell_type": "code",
   "execution_count": 76,
   "id": "aboriginal-elements",
   "metadata": {},
   "outputs": [
    {
     "name": "stdout",
     "output_type": "stream",
     "text": [
      "root:          📣 0x7d42f75e2f...451\n",
      "hash:          🔝 0xb7228036dc...4bd\n",
      "prev_hash:     💒 0x2cd8a449da...9c2\n",
      "number:        2\n",
      "n_txs:         10\n",
      "mined:         False\n",
      "time:          1617662024.736254 eth\n"
     ]
    }
   ],
   "source": [
    "bh = Header(rh(),rh(),2,10); print(bh)"
   ]
  },
  {
   "cell_type": "markdown",
   "id": "handy-chick",
   "metadata": {},
   "source": [
    "If anything in the block header changes its `hash` changes automatically as well."
   ]
  },
  {
   "cell_type": "code",
   "execution_count": 77,
   "id": "center-checkout",
   "metadata": {},
   "outputs": [],
   "source": [
    "bh_changed        = deepcopy(tx2)\n",
    "bh_changed.number = 120\n",
    "assert bh != bh_changed"
   ]
  },
  {
   "cell_type": "markdown",
   "id": "czech-neutral",
   "metadata": {},
   "source": [
    "### Info\n",
    "\n",
    "Includes all extra informations that are irrelevant for mining and therefore are not in the block header. These are the total txs `volume` and `fees` included in a block."
   ]
  },
  {
   "cell_type": "code",
   "execution_count": 78,
   "id": "oriented-christmas",
   "metadata": {},
   "outputs": [],
   "source": [
    "class Info(Hashable):\n",
    "    def __init__(self, txs): \n",
    "        self.volume = sum([tx.value for tx in txs])\n",
    "        self.fees   = sum([tx.fee   for tx in txs])"
   ]
  },
  {
   "cell_type": "markdown",
   "id": "absolute-boulder",
   "metadata": {},
   "source": [
    "## Block\n",
    "\n",
    "Consists of the block header `bh` and a list of txs. To validate that the txs are correct, the merkle tree can be rebuild and checked against the root hash stored in the `bh`."
   ]
  },
  {
   "cell_type": "code",
   "execution_count": 79,
   "id": "animated-vulnerability",
   "metadata": {},
   "outputs": [],
   "source": [
    "class Block(Hashable): \n",
    "    def __init__(self, bh, txs):\n",
    "        self.info   = Info(txs)\n",
    "        self.header = bh\n",
    "        self.mt     = MerkleTree(txs)\n",
    "        self.txs    = self.val_txs(txs)\n",
    "        self.hash   = bh.hash\n",
    "        \n",
    "    def val_txs(self, txs):\n",
    "        for tx in txs: assert val_sig(tx),       'tx signature invalid'\n",
    "        assert self.are_unique(txs),             'txs include duplicates'\n",
    "        assert self.mt.root == self.header.root, 'txs root hash do not match'\n",
    "        return {tx.hash: tx for tx in txs}\n",
    "    \n",
    "    def json(self): \n",
    "        info = self.info.__dict__\n",
    "        h    = self.header.__dict__\n",
    "        txs  = [tx.json() for tx in self.txs.values()]\n",
    "        d    = {**info, **h, 'txs': txs}\n",
    "        return json.dumps(d, indent=4)\n",
    "    \n",
    "    def are_unique(self, txs): return len(set([tx.hash for tx in txs])) == len(txs)\n",
    "    def __getitem__(self, key):return self.txs[key] \n",
    "    def __str__(self):         return (str(self.header)\n",
    "                                       +'\\n'+str(self.info)\n",
    "                                       +'\\n\\ntxs:\\n' \n",
    "                                       +'\\n'.join(tx.smry() for tx in self.txs.values()))"
   ]
  },
  {
   "cell_type": "markdown",
   "id": "direct-israel",
   "metadata": {},
   "source": [
    "Create random list of signed txs."
   ]
  },
  {
   "cell_type": "code",
   "execution_count": 80,
   "id": "removed-marks",
   "metadata": {},
   "outputs": [],
   "source": [
    "acc1,acc2 = Account(),Account()\n",
    "def r_stxs(n): return [acc1.signed_tx(acc2,ri(1,9),ri(1,9)/100) for _ in range(n)]"
   ]
  },
  {
   "cell_type": "markdown",
   "id": "split-president",
   "metadata": {},
   "source": [
    "Create block from a block header containing its txs merkle tree."
   ]
  },
  {
   "cell_type": "code",
   "execution_count": 81,
   "id": "documentary-fancy",
   "metadata": {},
   "outputs": [
    {
     "name": "stdout",
     "output_type": "stream",
     "text": [
      "root:          🔺 0xd4350a8787...53d\n",
      "hash:          👰 0x0ab88de43f...d56\n",
      "prev_hash:     🔓 0xad50d9b8d9...a4f\n",
      "number:        2\n",
      "n_txs:         4\n",
      "mined:         False\n",
      "time:          1617662040.733291 eth\n",
      "volume:        30.0 eth\n",
      "hash:          🔧 0xc13a01ba3d...405\n",
      "fees:          0.11 eth\n",
      "\n",
      "txs:\n",
      "💽 0x57C7 -> 💠 0x3aB4 9.0 eth\n",
      "💽 0x57C7 -> 💠 0x3aB4 9.0 eth\n",
      "💽 0x57C7 -> 💠 0x3aB4 7.0 eth\n",
      "💽 0x57C7 -> 💠 0x3aB4 5.0 eth\n"
     ]
    }
   ],
   "source": [
    "txs = r_stxs(4)\n",
    "mt  = MerkleTree(txs)\n",
    "bh  = Header(mt.root, rh(), 2, len(txs))\n",
    "b   = Block(bh, txs); print(b)"
   ]
  },
  {
   "cell_type": "markdown",
   "id": "olive-petersburg",
   "metadata": {},
   "source": [
    "### Block JSON\n",
    "\n",
    "Every block has a json representation that we will use for our API later."
   ]
  },
  {
   "cell_type": "code",
   "execution_count": 82,
   "id": "unauthorized-favor",
   "metadata": {},
   "outputs": [],
   "source": [
    "block_json = b.json()"
   ]
  },
  {
   "cell_type": "markdown",
   "id": "residential-treat",
   "metadata": {},
   "source": [
    "We can load this JSON string `d` and create a block object again."
   ]
  },
  {
   "cell_type": "code",
   "execution_count": 83,
   "id": "atomic-badge",
   "metadata": {},
   "outputs": [],
   "source": [
    "def load_block(d):\n",
    "    d  = json.loads(d)\n",
    "    txs = []\n",
    "    for tx in d['txs']: txs.append(load_tx(tx))\n",
    "    bh = Header(d['root'],d['prev_hash'],d['number'],d['n_txs']) \n",
    "    for k,v in d.items(): setattr(bh, k, v)\n",
    "    bh.hash = d['hash']\n",
    "    b = Block(bh, txs)\n",
    "    return b\n",
    "    \n",
    "b_from_json = load_block(b.json())"
   ]
  },
  {
   "cell_type": "code",
   "execution_count": 84,
   "id": "understood-swedish",
   "metadata": {},
   "outputs": [],
   "source": [
    "assert b == b_from_json"
   ]
  },
  {
   "cell_type": "markdown",
   "id": "gothic-operations",
   "metadata": {},
   "source": [
    "#### Access specific tx from block with its hash."
   ]
  },
  {
   "cell_type": "code",
   "execution_count": 85,
   "id": "subsequent-credits",
   "metadata": {},
   "outputs": [
    {
     "data": {
      "text/plain": [
       "'0x61d9fa5548e041a4383541e53f26d3ef285cc1aa5a3f4e0042cde530f0aa226d'"
      ]
     },
     "execution_count": 85,
     "metadata": {},
     "output_type": "execute_result"
    }
   ],
   "source": [
    "tx_hash = next(iter(b.txs.keys())); tx_hash"
   ]
  },
  {
   "cell_type": "code",
   "execution_count": 86,
   "id": "communist-groove",
   "metadata": {},
   "outputs": [
    {
     "name": "stdout",
     "output_type": "stream",
     "text": [
      "fr:            💽 0x57C7c3dDf3...97c\n",
      "hash:          📇 0x61d9fa5548...26d\n",
      "to:            💠 0x3aB48f57D1...Cda\n",
      "value:         9.0 eth\n",
      "fee:           0.01 eth\n",
      "nonce:         0\n",
      "time:          Tue Apr  6 00:34:00 2021\n",
      "signed:        True\n",
      "sig:           🔎 0xa853175c0a...71b\n"
     ]
    }
   ],
   "source": [
    "tx = b[tx_hash]; print(tx)"
   ]
  },
  {
   "cell_type": "markdown",
   "id": "egyptian-taylor",
   "metadata": {},
   "source": [
    "Blocks can only contain unique txs. "
   ]
  },
  {
   "cell_type": "code",
   "execution_count": 87,
   "id": "indie-banks",
   "metadata": {},
   "outputs": [],
   "source": [
    "txs[0] = txs[1]\n",
    "\n",
    "mt  = MerkleTree(txs)\n",
    "bh  = Header(mt.root, rh(), 2, len(txs))"
   ]
  },
  {
   "cell_type": "code",
   "execution_count": 88,
   "id": "deadly-stadium",
   "metadata": {},
   "outputs": [],
   "source": [
    "dup_detected = False\n",
    "try:    Block(bh, txs)\n",
    "except: dup_detected = True\n",
    "assert  dup_detected"
   ]
  }
 ],
 "metadata": {
  "kernelspec": {
   "display_name": "Python 3",
   "language": "python",
   "name": "python3"
  },
  "language_info": {
   "codemirror_mode": {
    "name": "ipython",
    "version": 3
   },
   "file_extension": ".py",
   "mimetype": "text/x-python",
   "name": "python",
   "nbconvert_exporter": "python",
   "pygments_lexer": "ipython3",
   "version": "3.9.2"
  }
 },
 "nbformat": 4,
 "nbformat_minor": 5
}
