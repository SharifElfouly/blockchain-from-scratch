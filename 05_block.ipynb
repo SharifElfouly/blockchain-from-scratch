{
 "cells": [
  {
   "cell_type": "code",
   "execution_count": 6,
   "id": "analyzed-latitude",
   "metadata": {},
   "outputs": [],
   "source": [
    "%%capture\n",
    "%run 02_transaction.ipynb\n",
    "%run 03_merkle.ipynb\n",
    "%run 04_account.ipynb "
   ]
  },
  {
   "cell_type": "code",
   "execution_count": 2,
   "id": "executed-calculator",
   "metadata": {},
   "outputs": [],
   "source": [
    "from objsize import get_deep_size as get_size"
   ]
  },
  {
   "cell_type": "markdown",
   "id": "solar-bacteria",
   "metadata": {},
   "source": [
    "## Block Header\n",
    "\n",
    "The `Header` is a blocks summary. It only stores the `root` node of the txs merkle tree, which makes it small and constant in size. The actual mining happens on the block header."
   ]
  },
  {
   "cell_type": "code",
   "execution_count": 3,
   "id": "statutory-directory",
   "metadata": {},
   "outputs": [],
   "source": [
    "class Header(Hashable):\n",
    "    def __init__(self, root, prev_hash, number, n_txs):\n",
    "        self.root      = root\n",
    "        self.prev_hash = prev_hash\n",
    "        self.number    = number\n",
    "        self.n_txs     = n_txs\n",
    "        self.mined     = False\n",
    "        self.time      = time.time()\n",
    "        \n",
    "    def __setattr__(self, prop, val):\n",
    "        super().__setattr__(prop, val) \n",
    "        if prop != 'nonce': super().__setattr__('hash', sha(self.__dict__))\n",
    "            \n",
    "    def __str__(self):  return stringfy(self)"
   ]
  },
  {
   "cell_type": "code",
   "execution_count": 4,
   "id": "aboriginal-elements",
   "metadata": {},
   "outputs": [
    {
     "name": "stdout",
     "output_type": "stream",
     "text": [
      "root:          💤 0x3ed2f00a4b...69d\n",
      "hash:          📘 0x725d1ddfe5...3c8\n",
      "prev_hash:     💫 0x45f3ba3942...30e\n",
      "number:        2\n",
      "n_txs:         10\n",
      "mined:         False\n",
      "time:          Fri Apr  2 21:27:57 2021\n"
     ]
    }
   ],
   "source": [
    "bh = Header(rh(),rh(),2,10); print(bh)"
   ]
  },
  {
   "cell_type": "markdown",
   "id": "handy-chick",
   "metadata": {},
   "source": [
    "If anything in the block header changes its `hash` changes automatically as well."
   ]
  },
  {
   "cell_type": "code",
   "execution_count": 5,
   "id": "center-checkout",
   "metadata": {},
   "outputs": [],
   "source": [
    "bh_changed        = deepcopy(tx2)\n",
    "bh_changed.number = 120\n",
    "assert bh != bh_changed"
   ]
  },
  {
   "cell_type": "markdown",
   "id": "czech-neutral",
   "metadata": {},
   "source": [
    "### Info\n",
    "\n",
    "Includes all extra informations that are irrelevant for mining and therefore are not in the block header.\n",
    "\n",
    "Calculate the total txs `volume` and `fees` included in a block."
   ]
  },
  {
   "cell_type": "code",
   "execution_count": 6,
   "id": "private-litigation",
   "metadata": {},
   "outputs": [],
   "source": [
    "def stats(txs):\n",
    "    volume = sum([tx.value for tx in txs])\n",
    "    fees   = sum([tx.fee   for tx in txs])\n",
    "    return volume, fees"
   ]
  },
  {
   "cell_type": "markdown",
   "id": "alike-injury",
   "metadata": {},
   "source": [
    "`Info` calculates some interesting facts about the `txs` that will be included in the block."
   ]
  },
  {
   "cell_type": "code",
   "execution_count": 7,
   "id": "oriented-christmas",
   "metadata": {},
   "outputs": [],
   "source": [
    "class Info:\n",
    "    def __init__(self, txs):\n",
    "        self.volume,self.fees = stats(txs)\n",
    "        self.sz = get_size(txs)\n",
    "    def __str__(self): return stringfy(self)"
   ]
  },
  {
   "cell_type": "markdown",
   "id": "absolute-boulder",
   "metadata": {},
   "source": [
    "## Block\n",
    "\n",
    "Consists of the block header `bh` and a list of txs. To validate that the txs are correct, the merkle tree can be rebuild and checked against the root hash stored in the `bh`."
   ]
  },
  {
   "cell_type": "code",
   "execution_count": 10,
   "id": "animated-vulnerability",
   "metadata": {},
   "outputs": [],
   "source": [
    "class Block(Hashable): \n",
    "    def __init__(self, bh, txs):\n",
    "        self.info   = Info(txs)\n",
    "        self.header = bh\n",
    "        self.hash   = bh.hash\n",
    "        self.mt     = MerkleTree(txs)\n",
    "        self.txs    = self.val_txs(txs)\n",
    "        \n",
    "    def val_txs(self, txs):\n",
    "        for tx in txs: assert val_sig(tx),       'tx signature invalid'\n",
    "        assert self.are_unique(txs),             'txs include duplicates'\n",
    "        assert self.mt.root == self.header.root, 'txs root hash do not match'\n",
    "        return {tx.hash: tx for tx in txs}\n",
    "    \n",
    "    def json(self): \n",
    "        info = self.info.__dict__\n",
    "        h    = self.header.__dict__\n",
    "        d    = {**info, **h, 'txs': list(self.txs.keys())}\n",
    "        d['time'] = time.ctime(d['time'])\n",
    "        return json.dumps(d, indent=4)\n",
    "    \n",
    "    def are_unique(self, txs): return len(set([tx.hash for tx in txs])) == len(txs)\n",
    "    def __getitem__(self, key):return self.txs[key] \n",
    "    def __str__(self):         return (str(self.header)\n",
    "                                       +'\\n'+str(self.info)\n",
    "                                       +'\\n\\ntxs:\\n' \n",
    "                                       +'\\n'.join(tx.smry() for tx in self.txs.values()))"
   ]
  },
  {
   "cell_type": "markdown",
   "id": "direct-israel",
   "metadata": {},
   "source": [
    "Create random list of signed txs."
   ]
  },
  {
   "cell_type": "code",
   "execution_count": 429,
   "id": "removed-marks",
   "metadata": {},
   "outputs": [],
   "source": [
    "acc1,acc2 = Account(),Account()\n",
    "def r_stxs(n): return [acc1.signed_tx(acc2,ri(1,9),ri(1,9)/100) for _ in range(n)]"
   ]
  },
  {
   "cell_type": "markdown",
   "id": "split-president",
   "metadata": {},
   "source": [
    "Create block from a block header containing its txs merkle tree."
   ]
  },
  {
   "cell_type": "code",
   "execution_count": 430,
   "id": "documentary-fancy",
   "metadata": {},
   "outputs": [
    {
     "name": "stdout",
     "output_type": "stream",
     "text": [
      "root:          🔓 0xad95cf8d71...cd5\n",
      "hash:          💬 0x46283ad39b...5a4\n",
      "prev_hash:     💩 0x437cc1ac6d...e9f\n",
      "number:        2\n",
      "n_txs:         4\n",
      "mined:         False\n",
      "time:          Wed Mar 31 17:01:19 2021\n",
      "volume:        10.0 eth\n",
      "fees:          0.19 eth\n",
      "sz:            4486\n",
      "\n",
      "txs:\n",
      "🔈 0xa2Ad -> 💅 0x1F5E 1.0 eth\n",
      "🔈 0xa2Ad -> 💅 0x1F5E 2.0 eth\n",
      "🔈 0xa2Ad -> 💅 0x1F5E 4.0 eth\n",
      "🔈 0xa2Ad -> 💅 0x1F5E 3.0 eth\n"
     ]
    }
   ],
   "source": [
    "txs = r_stxs(4)\n",
    "mt  = MerkleTree(txs)\n",
    "bh  = Header(mt.root, rh(), 2, len(txs))\n",
    "b   = Block(bh, txs); print(b)"
   ]
  },
  {
   "cell_type": "markdown",
   "id": "olive-petersburg",
   "metadata": {},
   "source": [
    "As json."
   ]
  },
  {
   "cell_type": "code",
   "execution_count": 432,
   "id": "unauthorized-favor",
   "metadata": {},
   "outputs": [
    {
     "name": "stdout",
     "output_type": "stream",
     "text": [
      "{\n",
      "    \"volume\": 10.0,\n",
      "    \"fees\": 0.19,\n",
      "    \"sz\": 4486,\n",
      "    \"root\": \"0xad95cf8d71a66d372dc5521c5464931021cca8581d334455fea17260dc6e7cd5\",\n",
      "    \"hash\": \"0x46283ad39b1462361afab2620500961f0345cc4aec901b54025000995ec945a4\",\n",
      "    \"prev_hash\": \"0x437cc1ac6da6f1cc24ff8ff0ff6a90c098d87854a3feb45f4dadb9416b6f5e9f\",\n",
      "    \"number\": 2,\n",
      "    \"n_txs\": 4,\n",
      "    \"mined\": false,\n",
      "    \"time\": 1617202879.796135,\n",
      "    \"txs\": [\n",
      "        \"0x62eb4385598dd21e451c1acf53d27937ea566fc0cf7ef04630be2176264a9c8f\",\n",
      "        \"0xa07e5974255cdf0fa608b5ffc5b5a89d048407351a97af7ec8b4c78ed1755227\",\n",
      "        \"0x8e1b03f81df3502e395537d26684b125b097ac6fb79378ccd8c47af785119723\",\n",
      "        \"0xbbc021a56fcff766f6e4543c0beb09fb734d18a7618b69252170920d094fefb8\"\n",
      "    ]\n",
      "}\n"
     ]
    }
   ],
   "source": [
    "print(b.json())"
   ]
  },
  {
   "cell_type": "markdown",
   "id": "gothic-operations",
   "metadata": {},
   "source": [
    "Access specific tx from block with its hash."
   ]
  },
  {
   "cell_type": "code",
   "execution_count": 382,
   "id": "subsequent-credits",
   "metadata": {},
   "outputs": [
    {
     "data": {
      "text/plain": [
       "'0x7a5b7ca3fe2ac38248965974550607b96670f61ad9c27de1ecb14e32dd5a3d4f'"
      ]
     },
     "execution_count": 382,
     "metadata": {},
     "output_type": "execute_result"
    }
   ],
   "source": [
    "tx_hash = next(iter(b.txs.keys())); tx_hash"
   ]
  },
  {
   "cell_type": "code",
   "execution_count": 383,
   "id": "communist-groove",
   "metadata": {},
   "outputs": [
    {
     "name": "stdout",
     "output_type": "stream",
     "text": [
      "fr:            👶 0x107679890F...50F\n",
      "hash:          📠 0x7a5b7ca3fe...d4f\n",
      "to:            📘 0x72f925dbe8...e4c\n",
      "value:         6.0 eth\n",
      "fee:           0.05 eth\n",
      "nonce:         0\n",
      "time:          Wed Mar 31 10:16:01 2021\n",
      "signed:        True\n",
      "sig:           🕢 0xfc8230c3db...453\n"
     ]
    }
   ],
   "source": [
    "tx = b[tx_hash]; print(tx)"
   ]
  },
  {
   "cell_type": "markdown",
   "id": "egyptian-taylor",
   "metadata": {},
   "source": [
    "Blocks can only contain unique txs. "
   ]
  },
  {
   "cell_type": "code",
   "execution_count": 384,
   "id": "indie-banks",
   "metadata": {},
   "outputs": [],
   "source": [
    "txs[0] = txs[1]\n",
    "\n",
    "mt  = MerkleTree(txs)\n",
    "bh  = Header(mt.root, rh(), 2, len(txs))"
   ]
  },
  {
   "cell_type": "code",
   "execution_count": 385,
   "id": "deadly-stadium",
   "metadata": {},
   "outputs": [],
   "source": [
    "dup_detected = False\n",
    "try:    Block(bh, txs)\n",
    "except: dup_detected = True\n",
    "assert  dup_detected"
   ]
  }
 ],
 "metadata": {
  "kernelspec": {
   "display_name": "Python 3",
   "language": "python",
   "name": "python3"
  },
  "language_info": {
   "codemirror_mode": {
    "name": "ipython",
    "version": 3
   },
   "file_extension": ".py",
   "mimetype": "text/x-python",
   "name": "python",
   "nbconvert_exporter": "python",
   "pygments_lexer": "ipython3",
   "version": "3.8.2"
  }
 },
 "nbformat": 4,
 "nbformat_minor": 5
}
