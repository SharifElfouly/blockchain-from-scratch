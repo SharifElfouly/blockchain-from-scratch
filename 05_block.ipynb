{
 "cells": [
  {
   "cell_type": "code",
   "execution_count": 292,
   "id": "cubic-marker",
   "metadata": {},
   "outputs": [],
   "source": [
    "%%capture\n",
    "%run 02_transaction.ipynb\n",
    "%run 03_merkle.ipynb\n",
    "%run 04_account.ipynb "
   ]
  },
  {
   "cell_type": "code",
   "execution_count": 293,
   "id": "incorrect-connecticut",
   "metadata": {},
   "outputs": [],
   "source": [
    "from objsize import get_deep_size as get_size"
   ]
  },
  {
   "cell_type": "markdown",
   "id": "running-obligation",
   "metadata": {},
   "source": [
    "## Block Header\n",
    "\n",
    "The `Header` is a blocks summary. It only stores the `root` node of the txs merkle tree, which makes it small and constant in size. The actual mining happens on the block header."
   ]
  },
  {
   "cell_type": "code",
   "execution_count": 294,
   "id": "consecutive-royalty",
   "metadata": {},
   "outputs": [],
   "source": [
    "class Header(Hashable):\n",
    "    def __init__(self, root, prev_hash, number, n_txs):\n",
    "        self.root      = root\n",
    "        self.prev_hash = prev_hash\n",
    "        self.number    = number\n",
    "        self.n_txs     = n_txs\n",
    "        self.mined     = False\n",
    "        self.time      = time.time()\n",
    "        \n",
    "    def __setattr__(self, prop, val):\n",
    "        super().__setattr__(prop, val): if != 'nonce': super().__setattr__('hash', sha(self.__dict__))\n",
    "    def __str__(self):  return stringfy(self)"
   ]
  },
  {
   "cell_type": "code",
   "execution_count": 295,
   "id": "completed-membrane",
   "metadata": {},
   "outputs": [
    {
     "name": "stdout",
     "output_type": "stream",
     "text": [
      "root:          📉 0x63407ecf7b...623\n",
      "hash:          🕊 0xe481e5a400...7ef\n",
      "prev_hash:     🕌 0xe6e6ea9be7...471\n",
      "number:        2\n",
      "n_txs:         10\n",
      "mined:         False\n",
      "time:          Tue Mar 30 22:09:13 2021\n"
     ]
    }
   ],
   "source": [
    "bh = Header(rh(),rh(),2,10); print(bh)"
   ]
  },
  {
   "cell_type": "markdown",
   "id": "functioning-black",
   "metadata": {},
   "source": [
    "If anything in the block header changes its `hash` changes automatically as well."
   ]
  },
  {
   "cell_type": "code",
   "execution_count": 296,
   "id": "pretty-finger",
   "metadata": {},
   "outputs": [],
   "source": [
    "bh_changed        = deepcopy(tx2)\n",
    "bh_changed.number = 120\n",
    "assert bh != bh_changed"
   ]
  },
  {
   "cell_type": "markdown",
   "id": "peaceful-romania",
   "metadata": {},
   "source": [
    "### Info\n",
    "\n",
    "Includes all extra informations that are irrelevant for mining and therefore are not in the block header.\n",
    "\n",
    "Calculate the total txs `volume` and `fees` included in a block."
   ]
  },
  {
   "cell_type": "code",
   "execution_count": 315,
   "id": "outstanding-source",
   "metadata": {},
   "outputs": [],
   "source": [
    "def stats(txs):\n",
    "    volume = sum([tx.value for tx in txs])\n",
    "    fees   = sum([tx.fee   for tx in txs])\n",
    "    return volume, fees"
   ]
  },
  {
   "cell_type": "markdown",
   "id": "adjustable-japan",
   "metadata": {},
   "source": [
    "`Info` calculates some interesting facts about the `txs` that will be included in the block."
   ]
  },
  {
   "cell_type": "code",
   "execution_count": 319,
   "id": "million-freight",
   "metadata": {},
   "outputs": [],
   "source": [
    "class Info:\n",
    "    def __init__(self, txs):\n",
    "        self.volume,self.fees = stats(txs)\n",
    "        self.sz = get_size(txs)\n",
    "    def __str__(self): return stringfy(self)"
   ]
  },
  {
   "cell_type": "markdown",
   "id": "mighty-techno",
   "metadata": {},
   "source": [
    "## Block\n",
    "\n",
    "Consists of the block header `bh` and a list of txs. To validate that the txs are correct, the merkle tree can be rebuild and checked against the root hash stored in the `bh`."
   ]
  },
  {
   "cell_type": "code",
   "execution_count": 326,
   "id": "opened-house",
   "metadata": {},
   "outputs": [],
   "source": [
    "class Block(Hashable): \n",
    "    def __init__(self, bh, txs):\n",
    "        self.info = Info(txs)\n",
    "        self.bh   = bh\n",
    "        self.hash = bh.hash\n",
    "        self.mt   = MerkleTree(txs)\n",
    "        self.txs  = self.val_txs(txs)\n",
    "        \n",
    "    def val_txs(self, txs):\n",
    "        for tx in txs: assert val_sig(tx),   'tx signature invalid'\n",
    "        assert self.are_unique(txs),         'txs include duplicates'\n",
    "        assert self.mt.root == self.bh.root, 'txs root hash do not match'\n",
    "        return {tx.hash: tx for tx in txs}\n",
    "    \n",
    "    def are_unique(self, txs): return len(set([tx.hash for tx in txs])) == len(txs)\n",
    "    def __getitem__(self, key):return self.txs[key] \n",
    "    def __str__(self):         return (str(self.bh)\n",
    "                                       +'\\n'+str(self.info)\n",
    "                                       +'\\n\\ntxs:\\n' \n",
    "                                       +'\\n'.join(ph(tx) for tx in self.txs.keys()))"
   ]
  },
  {
   "cell_type": "markdown",
   "id": "fewer-copying",
   "metadata": {},
   "source": [
    "Create random list of signed txs."
   ]
  },
  {
   "cell_type": "code",
   "execution_count": 327,
   "id": "informational-shuttle",
   "metadata": {},
   "outputs": [],
   "source": [
    "acc1,acc2 = Account(),Account()\n",
    "def r_stxs(n): return [acc1.signed_tx(acc2,ri(1,9),ri(1,9)/100) for _ in range(n)]"
   ]
  },
  {
   "cell_type": "markdown",
   "id": "finnish-kernel",
   "metadata": {},
   "source": [
    "Create block from a block header containing its txs merkle tree."
   ]
  },
  {
   "cell_type": "code",
   "execution_count": 331,
   "id": "front-apparatus",
   "metadata": {},
   "outputs": [
    {
     "name": "stdout",
     "output_type": "stream",
     "text": [
      "root:          📖 0x70a470d949...60e\n",
      "hash:          🔆 0xa00a321aee...41e\n",
      "prev_hash:     📏 0x692cc64135...890\n",
      "number:        2\n",
      "n_txs:         8\n",
      "mined:         False\n",
      "time:          Tue Mar 30 22:21:11 2021\n",
      "volume:        45.0 ether\n",
      "fees:          0.34 ether\n",
      "sz:            8658\n",
      "\n",
      "txs:\n",
      "🔵 0xcfb74df7fc...77c\n",
      "🕈 0xe2d472813a...be8\n",
      "💺 0x54cec9963c...1b7\n",
      "🔥 0xbf67576bec...5a6\n",
      "📂 0x5c616417c4...ed9\n",
      "📤 0x7e3122c31f...2f9\n",
      "🕗 0xf1d508e13a...d4c\n",
      "💧 0x41d1af32dc...54d\n"
     ]
    }
   ],
   "source": [
    "txs = r_stxs(8)\n",
    "mt  = MerkleTree(txs)\n",
    "bh  = Header(mt.root, rh(), 2, len(txs))\n",
    "b   = Block(bh, txs); print(b)"
   ]
  },
  {
   "cell_type": "markdown",
   "id": "blond-china",
   "metadata": {},
   "source": [
    "Access specific tx from block with its hash."
   ]
  },
  {
   "cell_type": "code",
   "execution_count": 332,
   "id": "flexible-accident",
   "metadata": {},
   "outputs": [
    {
     "data": {
      "text/plain": [
       "'0xcfb74df7fc2776d75c253365ccda50aac32cf38b1c10ea3ba8e228791f79e77c'"
      ]
     },
     "execution_count": 332,
     "metadata": {},
     "output_type": "execute_result"
    }
   ],
   "source": [
    "tx_hash = next(iter(b.txs.keys())); tx_hash"
   ]
  },
  {
   "cell_type": "code",
   "execution_count": 333,
   "id": "junior-ceremony",
   "metadata": {},
   "outputs": [
    {
     "name": "stdout",
     "output_type": "stream",
     "text": [
      "fr:            💺 0x542CFAaaE5...F16\n",
      "hash:          🔵 0xcfb74df7fc...77c\n",
      "to:            📢 0x7c30d8A4a0...c63\n",
      "value:         5.0 ether\n",
      "fee:           0.01 ether\n",
      "nonce:         6\n",
      "time:          Tue Mar 30 22:21:11 2021\n",
      "signed:        True\n",
      "sig:           🕅 0xdf143c5ce9...4e8\n"
     ]
    }
   ],
   "source": [
    "tx = b[tx_hash]; print(tx)"
   ]
  },
  {
   "cell_type": "markdown",
   "id": "above-token",
   "metadata": {},
   "source": [
    "Blocks can only contain unique txs. "
   ]
  },
  {
   "cell_type": "code",
   "execution_count": 334,
   "id": "common-amber",
   "metadata": {},
   "outputs": [],
   "source": [
    "txs[0] = txs[1]\n",
    "\n",
    "mt  = MerkleTree(txs)\n",
    "bh  = Header(mt.root, rh(), 2, len(txs))"
   ]
  },
  {
   "cell_type": "code",
   "execution_count": 335,
   "id": "secure-necklace",
   "metadata": {},
   "outputs": [],
   "source": [
    "dup_detected = False\n",
    "try:    Block(bh, txs)\n",
    "except: dup_detected = True\n",
    "assert  dup_detected"
   ]
  }
 ],
 "metadata": {
  "kernelspec": {
   "display_name": "Python 3",
   "language": "python",
   "name": "python3"
  },
  "language_info": {
   "codemirror_mode": {
    "name": "ipython",
    "version": 3
   },
   "file_extension": ".py",
   "mimetype": "text/x-python",
   "name": "python",
   "nbconvert_exporter": "python",
   "pygments_lexer": "ipython3",
   "version": "3.8.2"
  }
 },
 "nbformat": 4,
 "nbformat_minor": 5
}
