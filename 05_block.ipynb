{
 "cells": [
  {
   "cell_type": "code",
   "execution_count": 30,
   "id": "cubic-marker",
   "metadata": {},
   "outputs": [],
   "source": [
    "%%capture\n",
    "%run 01_transaction.ipynb\n",
    "%run 02_merkle.ipynb\n",
    "%run 03_account.ipynb "
   ]
  },
  {
   "cell_type": "code",
   "execution_count": 31,
   "id": "incorrect-connecticut",
   "metadata": {},
   "outputs": [],
   "source": [
    "from objsize import get_deep_size as get_size"
   ]
  },
  {
   "cell_type": "markdown",
   "id": "running-obligation",
   "metadata": {},
   "source": [
    "## Block Header\n",
    "\n",
    "The `Header` is a blocks summary. It only stores the `root` node of the txs merkle tree, which makes it small and constant in size. The actual mining happens on the block header."
   ]
  },
  {
   "cell_type": "code",
   "execution_count": 32,
   "id": "consecutive-royalty",
   "metadata": {},
   "outputs": [],
   "source": [
    "class Header:\n",
    "    def __init__(self, root, prev_hash, number, n_txs):\n",
    "        self.root      = root\n",
    "        self.prev_hash = prev_hash\n",
    "        self.number    = number\n",
    "        self.n_txs     = n_txs\n",
    "        self.mined     = False\n",
    "        self.time      = time.time()\n",
    "        \n",
    "    def __setattr__(self, prop, val):\n",
    "        super().__setattr__(prop, val)\n",
    "        super().__setattr__('hash', sha(self.__dict__))\n",
    "        \n",
    "    def __str__(self): \n",
    "        header_str = ('hash:\\t\\t'     +ph(self.hash)+\n",
    "                      '\\ntime:\\t\\t'   +time.ctime(self.time)+\n",
    "                      '\\nnumber:\\t\\t' +str(self.number)+\n",
    "                      '\\nprev_hash:\\t'+ph(self.prev_hash)+\n",
    "                      '\\ntxs_count:\\t'+str(self.n_txs)+\n",
    "                      '\\ntxs_root:\\t' +ph(self.root))\n",
    "        if self.mined: \n",
    "            header_str += ('\\nminer:\\t\\t' +ph(self.miner)+\n",
    "                           '\\ndiff:\\t\\t'  +str(self.diff)+\n",
    "                           '\\nreward:\\t\\t'+str(self.reward)+\n",
    "                           '\\nnonce:\\t\\t' +str(self.nonce)) \n",
    "        return header_str\n",
    "    def __bytes__(self): return (self.root+\n",
    "                                 self.prev_hash+\n",
    "                                 str(self.number)+\n",
    "                                 str(self.time)).encode()\n",
    "    def __eq__(self, other): return self.hash == other.hash"
   ]
  },
  {
   "cell_type": "code",
   "execution_count": 33,
   "id": "completed-membrane",
   "metadata": {},
   "outputs": [
    {
     "name": "stdout",
     "output_type": "stream",
     "text": [
      "hash:\t\t💵 0x4f6cad7418...c87\n",
      "time:\t\tTue Mar 30 16:58:12 2021\n",
      "number:\t\t2\n",
      "prev_hash:\t📴 0x8e816722d1...086\n",
      "txs_count:\t10\n",
      "txs_root:\t📪 0x84160be9c5...600\n"
     ]
    }
   ],
   "source": [
    "bh = Header(rh(),rh(),2,10); print(bh)"
   ]
  },
  {
   "cell_type": "code",
   "execution_count": 34,
   "id": "transsexual-wright",
   "metadata": {},
   "outputs": [
    {
     "name": "stdout",
     "output_type": "stream",
     "text": [
      "root:          📪 0x84160be9c5...600\n",
      "hash:          💵 0x4f6cad7418...c87\n",
      "prev_hash:     📴 0x8e816722d1...086\n",
      "number:        2 ether\n",
      "n_txs:         10 ether\n",
      "mined:         False\n",
      "time:          Tue Mar 30 16:58:12 2021\n"
     ]
    }
   ],
   "source": [
    "print(stringfy(bh))"
   ]
  },
  {
   "cell_type": "markdown",
   "id": "functioning-black",
   "metadata": {},
   "source": [
    "If anything in the block header changes its `hash` changes automatically as well."
   ]
  },
  {
   "cell_type": "code",
   "execution_count": 79,
   "id": "pretty-finger",
   "metadata": {},
   "outputs": [],
   "source": [
    "bh_changed        = deepcopy(tx2)\n",
    "bh_changed.number = 120\n",
    "assert bh != bh_changed"
   ]
  },
  {
   "cell_type": "markdown",
   "id": "mighty-techno",
   "metadata": {},
   "source": [
    "## Block\n",
    "\n",
    "Consists of the block header `bh` and a list of txs. To validate that the txs are correct, the merkle tree can be rebuild and checked against the root hash stored in the `bh`."
   ]
  },
  {
   "cell_type": "code",
   "execution_count": 80,
   "id": "opened-house",
   "metadata": {},
   "outputs": [],
   "source": [
    "class Block: \n",
    "    def __init__(self, bh, txs): \n",
    "        self.bh = bh\n",
    "        self.mt = MerkleTree(txs)\n",
    "        self.val_txs(txs)\n",
    "        self.txs_value, self.fees = \n",
    "        \n",
    "    def val_txs(self, txs):\n",
    "        for tx in txs: assert val_sig(tx),   'tx signature invalid'\n",
    "        assert self.are_unique(txs),         'txs include duplicates'\n",
    "        assert self.mt.root == self.bh.root, 'txs root hash do not match'\n",
    "    \n",
    "    def are_unique(self, txs): return len(set([tx.hash for tx in txs])) == len(txs)\n",
    "    def __eq__(self, other):   return super().__eq__()\n",
    "    def __str__(self):         return str(self.bh) "
   ]
  },
  {
   "cell_type": "markdown",
   "id": "fewer-copying",
   "metadata": {},
   "source": [
    "Create random list of signed txs."
   ]
  },
  {
   "cell_type": "code",
   "execution_count": 81,
   "id": "informational-shuttle",
   "metadata": {},
   "outputs": [],
   "source": [
    "acc1,acc2 = Account(),Account()\n",
    "def r_stxs(n): return [acc1.signed_tx(acc2,ri(1,9),ri(1,9)/100) for _ in range(n)]"
   ]
  },
  {
   "cell_type": "markdown",
   "id": "finnish-kernel",
   "metadata": {},
   "source": [
    "Create block from a block header containing its txs merkle tree."
   ]
  },
  {
   "cell_type": "code",
   "execution_count": 90,
   "id": "front-apparatus",
   "metadata": {},
   "outputs": [
    {
     "name": "stdout",
     "output_type": "stream",
     "text": [
      "hash:\t\t🔣 bd708ec7999534fa...228\n",
      "time:\t\tMon Mar 29 21:08:16 2021\n",
      "number:\t\t2\n",
      "prev_hash:\t📉 63fc3336ed110470...cf8\n",
      "txs_count:\t10\n",
      "txs_root:\t🕞 f8d2194b1239240f...c87\n"
     ]
    }
   ],
   "source": [
    "txs = r_stxs(10)\n",
    "mt  = MerkleTree(txs)\n",
    "bh  = Header(mt.root, rh(), 2, len(txs))\n",
    "b   = Block(bh, txs); print(b)"
   ]
  },
  {
   "cell_type": "markdown",
   "id": "above-token",
   "metadata": {},
   "source": [
    "Blocks can only contain unique txs. "
   ]
  },
  {
   "cell_type": "code",
   "execution_count": 88,
   "id": "common-amber",
   "metadata": {},
   "outputs": [],
   "source": [
    "txs[0] = txs[1]\n",
    "\n",
    "mt  = MerkleTree(txs)\n",
    "bh  = Header(mt.root, rh(), 2, len(txs))"
   ]
  },
  {
   "cell_type": "code",
   "execution_count": 89,
   "id": "secure-necklace",
   "metadata": {},
   "outputs": [],
   "source": [
    "dup_detected = False\n",
    "try:    Block(bh, txs)\n",
    "except: dup_detected = True\n",
    "assert  dup_detected"
   ]
  }
 ],
 "metadata": {
  "kernelspec": {
   "display_name": "Python 3",
   "language": "python",
   "name": "python3"
  },
  "language_info": {
   "codemirror_mode": {
    "name": "ipython",
    "version": 3
   },
   "file_extension": ".py",
   "mimetype": "text/x-python",
   "name": "python",
   "nbconvert_exporter": "python",
   "pygments_lexer": "ipython3",
   "version": "3.8.2"
  }
 },
 "nbformat": 4,
 "nbformat_minor": 5
}
