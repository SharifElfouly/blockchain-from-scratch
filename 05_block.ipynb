{
 "cells": [
  {
   "cell_type": "code",
   "execution_count": 66,
   "id": "analyzed-latitude",
   "metadata": {},
   "outputs": [],
   "source": [
    "%%capture\n",
    "%run 02_transaction.ipynb\n",
    "%run 03_merkle.ipynb\n",
    "%run 04_account.ipynb "
   ]
  },
  {
   "cell_type": "code",
   "execution_count": 67,
   "id": "executed-calculator",
   "metadata": {},
   "outputs": [],
   "source": [
    "from objsize import get_deep_size as get_size"
   ]
  },
  {
   "cell_type": "markdown",
   "id": "solar-bacteria",
   "metadata": {},
   "source": [
    "## Block Header\n",
    "\n",
    "The `Header` is a blocks summary. It only stores the `root` node of the txs merkle tree, which makes it small and constant in size. The actual mining happens on the block header."
   ]
  },
  {
   "cell_type": "code",
   "execution_count": 68,
   "id": "statutory-directory",
   "metadata": {},
   "outputs": [],
   "source": [
    "class Header(Hashable):\n",
    "    def __init__(self, root, prev_hash, number, n_txs):\n",
    "        self.root      = root\n",
    "        self.prev_hash = prev_hash\n",
    "        self.number    = number\n",
    "        self.n_txs     = n_txs\n",
    "        self.mined     = False\n",
    "        self.time      = time.time()\n",
    "        \n",
    "    def __setattr__(self, prop, val):\n",
    "        super().__setattr__(prop, val) \n",
    "        if prop not in ['nonce', 'hash']:\n",
    "            super().__setattr__('hash', sha(self.__dict__))\n",
    "            \n",
    "    def __str__(self):  return stringfy(self)"
   ]
  },
  {
   "cell_type": "code",
   "execution_count": 69,
   "id": "aboriginal-elements",
   "metadata": {},
   "outputs": [
    {
     "name": "stdout",
     "output_type": "stream",
     "text": [
      "root:          📌 0x662243de86...9f7\n",
      "hash:          💼 0x56e94e2f77...b56\n",
      "prev_hash:     🔷 0xd1db74d0c0...f1a\n",
      "number:        2\n",
      "n_txs:         10\n",
      "mined:         False\n",
      "time:          Sat Apr  3 20:19:02 2021\n"
     ]
    }
   ],
   "source": [
    "bh = Header(rh(),rh(),2,10); print(bh)"
   ]
  },
  {
   "cell_type": "markdown",
   "id": "handy-chick",
   "metadata": {},
   "source": [
    "If anything in the block header changes its `hash` changes automatically as well."
   ]
  },
  {
   "cell_type": "code",
   "execution_count": 70,
   "id": "center-checkout",
   "metadata": {},
   "outputs": [],
   "source": [
    "bh_changed        = deepcopy(tx2)\n",
    "bh_changed.number = 120\n",
    "assert bh != bh_changed"
   ]
  },
  {
   "cell_type": "markdown",
   "id": "czech-neutral",
   "metadata": {},
   "source": [
    "### Info\n",
    "\n",
    "Includes all extra informations that are irrelevant for mining and therefore are not in the block header.\n",
    "\n",
    "Calculate the total txs `volume` and `fees` included in a block."
   ]
  },
  {
   "cell_type": "code",
   "execution_count": 125,
   "id": "private-litigation",
   "metadata": {},
   "outputs": [],
   "source": [
    "def stats(txs):\n",
    "    volume = sum([tx.value for tx in txs])\n",
    "    fees   = sum([tx.fee   for tx in txs])\n",
    "    return volume, fees"
   ]
  },
  {
   "cell_type": "markdown",
   "id": "alike-injury",
   "metadata": {},
   "source": [
    "`Info` calculates some interesting facts about the `txs` that will be included in the block."
   ]
  },
  {
   "cell_type": "code",
   "execution_count": 126,
   "id": "oriented-christmas",
   "metadata": {},
   "outputs": [],
   "source": [
    "class Info:\n",
    "    def __init__(self, txs): self.volume,self.fees = stats(txs)\n",
    "    def __str__(self): return stringfy(self)"
   ]
  },
  {
   "cell_type": "markdown",
   "id": "absolute-boulder",
   "metadata": {},
   "source": [
    "## Block\n",
    "\n",
    "Consists of the block header `bh` and a list of txs. To validate that the txs are correct, the merkle tree can be rebuild and checked against the root hash stored in the `bh`."
   ]
  },
  {
   "cell_type": "code",
   "execution_count": 127,
   "id": "animated-vulnerability",
   "metadata": {},
   "outputs": [],
   "source": [
    "class Block(Hashable): \n",
    "    def __init__(self, bh, txs):\n",
    "        self.info   = Info(txs)\n",
    "        self.header = bh\n",
    "        self.hash   = bh.hash\n",
    "        self.mt     = MerkleTree(txs)\n",
    "        self.txs    = self.val_txs(txs)\n",
    "        \n",
    "    def val_txs(self, txs):\n",
    "        for tx in txs: assert val_sig(tx),       'tx signature invalid'\n",
    "        assert self.are_unique(txs),             'txs include duplicates'\n",
    "        assert self.mt.root == self.header.root, 'txs root hash do not match'\n",
    "        return {tx.hash: tx for tx in txs}\n",
    "    \n",
    "    def json(self): \n",
    "        info = self.info.__dict__\n",
    "        h    = self.header.__dict__\n",
    "        txs  = [tx.json() for tx in self.txs.values()]\n",
    "        d    = {**info, **h, 'txs': txs}\n",
    "        d['time'] = time.ctime(d['time'])\n",
    "        return json.dumps(d, indent=4)\n",
    "    \n",
    "    def are_unique(self, txs): return len(set([tx.hash for tx in txs])) == len(txs)\n",
    "    def __getitem__(self, key):return self.txs[key] \n",
    "    def __str__(self):         return (str(self.header)\n",
    "                                       +'\\n'+str(self.info)\n",
    "                                       +'\\n\\ntxs:\\n' \n",
    "                                       +'\\n'.join(tx.smry() for tx in self.txs.values()))"
   ]
  },
  {
   "cell_type": "markdown",
   "id": "direct-israel",
   "metadata": {},
   "source": [
    "Create random list of signed txs."
   ]
  },
  {
   "cell_type": "code",
   "execution_count": 128,
   "id": "removed-marks",
   "metadata": {},
   "outputs": [],
   "source": [
    "acc1,acc2 = Account(),Account()\n",
    "def r_stxs(n): return [acc1.signed_tx(acc2,ri(1,9),ri(1,9)/100) for _ in range(n)]"
   ]
  },
  {
   "cell_type": "markdown",
   "id": "split-president",
   "metadata": {},
   "source": [
    "Create block from a block header containing its txs merkle tree."
   ]
  },
  {
   "cell_type": "code",
   "execution_count": 129,
   "id": "documentary-fancy",
   "metadata": {},
   "outputs": [
    {
     "name": "stdout",
     "output_type": "stream",
     "text": [
      "root:          🔁 0x9b36a077bf...fdd\n",
      "hash:          🔗 0xb1f50170ab...a48\n",
      "prev_hash:     📁 0x5b7f7c1f31...728\n",
      "number:        2\n",
      "n_txs:         4\n",
      "mined:         False\n",
      "time:          Sat Apr  3 20:28:20 2021\n",
      "volume:        15.0 eth\n",
      "fees:          0.22 eth\n",
      "\n",
      "txs:\n",
      "🔁 0x9b49 -> 📃 0x5d62 2.0 eth\n",
      "🔁 0x9b49 -> 📃 0x5d62 8.0 eth\n",
      "🔁 0x9b49 -> 📃 0x5d62 3.0 eth\n",
      "🔁 0x9b49 -> 📃 0x5d62 2.0 eth\n"
     ]
    }
   ],
   "source": [
    "txs = r_stxs(4)\n",
    "mt  = MerkleTree(txs)\n",
    "bh  = Header(mt.root, rh(), 2, len(txs))\n",
    "b   = Block(bh, txs); print(b)"
   ]
  },
  {
   "cell_type": "markdown",
   "id": "olive-petersburg",
   "metadata": {},
   "source": [
    "### Block JSON\n",
    "\n",
    "Every block has a json representation that we will use for our API later."
   ]
  },
  {
   "cell_type": "code",
   "execution_count": 130,
   "id": "unauthorized-favor",
   "metadata": {},
   "outputs": [],
   "source": [
    "block_json = b.json()"
   ]
  },
  {
   "cell_type": "markdown",
   "id": "discrete-queens",
   "metadata": {},
   "source": [
    "We can load this JSON string `d` and create a block object again."
   ]
  },
  {
   "cell_type": "code",
   "execution_count": 155,
   "id": "perfect-visit",
   "metadata": {},
   "outputs": [],
   "source": [
    "def load_block(d):\n",
    "    d  = json.loads(d)\n",
    "    txs = []\n",
    "    for tx in d['txs']: txs.append(load_tx(tx))\n",
    "    bh = Header(d['root'],d['prev_hash'],d['number'],d['n_txs']) \n",
    "    bh.hash = d['hash']\n",
    "    b = Block(bh, txs)\n",
    "    return b\n",
    "    \n",
    "b_from_json = load_block(b.json())"
   ]
  },
  {
   "cell_type": "code",
   "execution_count": 156,
   "id": "intense-kernel",
   "metadata": {},
   "outputs": [],
   "source": [
    "assert b == b_from_json"
   ]
  },
  {
   "cell_type": "markdown",
   "id": "gothic-operations",
   "metadata": {},
   "source": [
    "Access specific tx from block with its hash."
   ]
  },
  {
   "cell_type": "code",
   "execution_count": 157,
   "id": "subsequent-credits",
   "metadata": {},
   "outputs": [
    {
     "data": {
      "text/plain": [
       "'0xe45847f3196fdd3fa29d5eb5cdba23305442438c407220953435d35b6f6048f4'"
      ]
     },
     "execution_count": 157,
     "metadata": {},
     "output_type": "execute_result"
    }
   ],
   "source": [
    "tx_hash = next(iter(b.txs.keys())); tx_hash"
   ]
  },
  {
   "cell_type": "code",
   "execution_count": 158,
   "id": "communist-groove",
   "metadata": {},
   "outputs": [
    {
     "name": "stdout",
     "output_type": "stream",
     "text": [
      "fr:            🔁 0x9b4990Fd60...652\n",
      "hash:          🕊 0xe45847f319...8f4\n",
      "to:            📃 0x5d6258b033...c6C\n",
      "value:         2.0 eth\n",
      "fee:           0.04 eth\n",
      "nonce:         0\n",
      "time:          Sat Apr  3 20:28:20 2021\n",
      "signed:        True\n",
      "sig:           📀 0x5a893cfe52...41c\n"
     ]
    }
   ],
   "source": [
    "tx = b[tx_hash]; print(tx)"
   ]
  },
  {
   "cell_type": "markdown",
   "id": "egyptian-taylor",
   "metadata": {},
   "source": [
    "Blocks can only contain unique txs. "
   ]
  },
  {
   "cell_type": "code",
   "execution_count": 159,
   "id": "indie-banks",
   "metadata": {},
   "outputs": [],
   "source": [
    "txs[0] = txs[1]\n",
    "\n",
    "mt  = MerkleTree(txs)\n",
    "bh  = Header(mt.root, rh(), 2, len(txs))"
   ]
  },
  {
   "cell_type": "code",
   "execution_count": 160,
   "id": "deadly-stadium",
   "metadata": {},
   "outputs": [],
   "source": [
    "dup_detected = False\n",
    "try:    Block(bh, txs)\n",
    "except: dup_detected = True\n",
    "assert  dup_detected"
   ]
  }
 ],
 "metadata": {
  "kernelspec": {
   "display_name": "Python 3",
   "language": "python",
   "name": "python3"
  },
  "language_info": {
   "codemirror_mode": {
    "name": "ipython",
    "version": 3
   },
   "file_extension": ".py",
   "mimetype": "text/x-python",
   "name": "python",
   "nbconvert_exporter": "python",
   "pygments_lexer": "ipython3",
   "version": "3.8.2"
  }
 },
 "nbformat": 4,
 "nbformat_minor": 5
}
