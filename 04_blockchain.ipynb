{
 "cells": [
  {
   "cell_type": "code",
   "execution_count": 199,
   "id": "special-somewhere",
   "metadata": {},
   "outputs": [],
   "source": [
    "%%capture\n",
    "%run 03_block.ipynb"
   ]
  },
  {
   "cell_type": "markdown",
   "id": "provincial-triumph",
   "metadata": {},
   "source": [
    "We can validate a mined block pow very easily. "
   ]
  },
  {
   "cell_type": "code",
   "execution_count": 200,
   "id": "equal-device",
   "metadata": {},
   "outputs": [],
   "source": [
    "def val_pow(mb):\n",
    "    mb_b        = bytes(mb)\n",
    "    candidate   = mb_b + str(mb.nonce).encode()\n",
    "    candidate_h = sha(candidate)\n",
    "    if candidate_h[:mb.diff] == '0'*mb.diff: return True\n",
    "    else                                   : return False\n",
    "    \n",
    "assert val_pow(mb)"
   ]
  },
  {
   "cell_type": "markdown",
   "id": "certified-smart",
   "metadata": {},
   "source": [
    "If we change something in the block the pow should break."
   ]
  },
  {
   "cell_type": "code",
   "execution_count": 201,
   "id": "earlier-vulnerability",
   "metadata": {},
   "outputs": [],
   "source": [
    "mb.prev_hash = rh()\n",
    "assert not val_pow(mb)"
   ]
  },
  {
   "cell_type": "markdown",
   "id": "precious-parts",
   "metadata": {},
   "source": [
    "## Blockchain\n",
    "\n",
    "Consists of a number of blocks. Each block points to the block that came before it. Imagine a linked list of blocks linked by `prev_hash`."
   ]
  },
  {
   "cell_type": "code",
   "execution_count": 202,
   "id": "stylish-sleeping",
   "metadata": {},
   "outputs": [],
   "source": [
    "class Blockchain:\n",
    "    def __init__(self, genesis):\n",
    "        self.balances,self.nonces = {},{}\n",
    "        self.blocks   = []\n",
    "        self.init(genesis)\n",
    "        \n",
    "    def init(self, genesis):\n",
    "        for tx in genesis.txs: \n",
    "            self.balances[tx.to] = tx.value\n",
    "            self.nonces  [tx.fr] = 1\n",
    "        self.blocks.append(genesis)\n",
    "\n",
    "    def candidate(self, txs):\n",
    "        return Block(txs, self.blocks[-1].hash, len(self.blocks)+1)\n",
    "        \n",
    "    def add(self, mb):\n",
    "        assert self.val(mb)\n",
    "        for tx in mb.txs: assert self.apply(tx)\n",
    "        self.apply_fees(mb)\n",
    "        self.blocks.append(mb)\n",
    "        return True\n",
    "        \n",
    "    def apply(self, tx):\n",
    "        assert val_sig(tx)\n",
    "        assert self.val_nonce(tx) \n",
    "        assert self.balances[tx.fr] - tx.value > 0\n",
    "        self.apply_balance(tx)\n",
    "        self.apply_nonce(tx)\n",
    "        return True\n",
    "    \n",
    "    def apply_balance(self, tx):\n",
    "        self.balances[tx.fr] -= tx.value\n",
    "        if tx.to in self.balances: self.balances[tx.to] += tx.value\n",
    "        else:                      self.balances[tx.to]  = tx.value\n",
    "            \n",
    "    def apply_nonce(self, tx):\n",
    "        if tx.to not in self.nonces: self.nonces[tx.to] = 0\n",
    "    \n",
    "    def apply_fees(self, mb):\n",
    "        for tx in mb.txs: self.balances[mb.miner] += tx.fee\n",
    "    \n",
    "    def val_nonce(self, tx):\n",
    "        if tx.fr in self.nonces:\n",
    "            assert self.nonces[tx.fr] == tx.nonce\n",
    "            self.nonces[tx.fr] += 1\n",
    "        else: \n",
    "            assert tx.nonce == 0\n",
    "            self.nonces[tx.fr] = 0\n",
    "        return True\n",
    "    \n",
    "    def val(self, mb): \n",
    "        assert val_pow(mb)\n",
    "        assert mb.number == len(self.blocks)+1\n",
    "        if len(self.blocks) > 0: assert self.blocks[-1].hash == mb.prev_hash\n",
    "        return True\n",
    "    \n",
    "    def __str__(self):\n",
    "        return '\\n'.join(f'{ph(k)}\\nbalance: {v} \\nnonce: {self.nonces[k]}\\n' for k,v in self.balances.items())"
   ]
  },
  {
   "cell_type": "code",
   "execution_count": 203,
   "id": "western-definition",
   "metadata": {},
   "outputs": [],
   "source": [
    "acc1,acc2,acc3 = Account(),Account(),Account()\n",
    "miner = Miner(acc3)"
   ]
  },
  {
   "cell_type": "code",
   "execution_count": 204,
   "id": "potential-pound",
   "metadata": {},
   "outputs": [],
   "source": [
    "tx1 = acc1.signed_tx(acc2, 24, 0.1)\n",
    "tx2 = acc2.signed_tx(acc1, 18, 0.12)\n",
    "\n",
    "gb = miner.mine_genesis([tx1, tx2], reward=200)"
   ]
  },
  {
   "cell_type": "code",
   "execution_count": 205,
   "id": "worst-county",
   "metadata": {},
   "outputs": [
    {
     "name": "stdout",
     "output_type": "stream",
     "text": [
      "🔘 0xB211D4eb93d484...8DB\n",
      "balance: 200 \n",
      "nonce: 1\n",
      "\n",
      "🕝 0xF7a3AdE815b1ff...88F\n",
      "balance: 24 \n",
      "nonce: 1\n",
      "\n",
      "💎 0x2843561fA7FCDa...eD2\n",
      "balance: 18 \n",
      "nonce: 1\n",
      "\n"
     ]
    }
   ],
   "source": [
    "bc = Blockchain(gb); print(bc)"
   ]
  },
  {
   "cell_type": "code",
   "execution_count": 206,
   "id": "blessed-behavior",
   "metadata": {},
   "outputs": [
    {
     "name": "stdout",
     "output_type": "stream",
     "text": [
      "🔘 0xB211D4eb93d484...8DB\n",
      "balance: 200.21 \n",
      "nonce: 2\n",
      "\n",
      "🕝 0xF7a3AdE815b1ff...88F\n",
      "balance: 18 \n",
      "nonce: 2\n",
      "\n",
      "💎 0x2843561fA7FCDa...eD2\n",
      "balance: 24 \n",
      "nonce: 2\n",
      "\n"
     ]
    }
   ],
   "source": [
    "tx1 = acc1.signed_tx(acc2, 3, 0.05)\n",
    "tx2 = acc2.signed_tx(acc1, 9, 0.16)\n",
    "\n",
    "block = bc.candidate([tx1,tx2])\n",
    "mb    = miner.mine(block, 2, 100)\n",
    "bc.add(mb); print(bc)"
   ]
  },
  {
   "cell_type": "code",
   "execution_count": 207,
   "id": "placed-situation",
   "metadata": {},
   "outputs": [
    {
     "name": "stdout",
     "output_type": "stream",
     "text": [
      "🔘 0xB211D4eb93d484...8DB\n",
      "balance: 201.71 \n",
      "nonce: 3\n",
      "\n",
      "🕝 0xF7a3AdE815b1ff...88F\n",
      "balance: 6 \n",
      "nonce: 3\n",
      "\n",
      "💎 0x2843561fA7FCDa...eD2\n",
      "balance: 24 \n",
      "nonce: 2\n",
      "\n",
      "💾 0x58c83B7Bb27cd7...A79\n",
      "balance: 12 \n",
      "nonce: 0\n",
      "\n"
     ]
    }
   ],
   "source": [
    "acc4 = Account()\n",
    "tx1 = acc2.signed_tx(acc4, 12, 1.5)\n",
    "\n",
    "block = bc.candidate([tx1])\n",
    "mb    = miner.mine(block, 2, 100)\n",
    "bc.add(mb); print(bc)"
   ]
  }
 ],
 "metadata": {
  "kernelspec": {
   "display_name": "Python 3",
   "language": "python",
   "name": "python3"
  },
  "language_info": {
   "codemirror_mode": {
    "name": "ipython",
    "version": 3
   },
   "file_extension": ".py",
   "mimetype": "text/x-python",
   "name": "python",
   "nbconvert_exporter": "python",
   "pygments_lexer": "ipython3",
   "version": "3.8.2"
  }
 },
 "nbformat": 4,
 "nbformat_minor": 5
}
