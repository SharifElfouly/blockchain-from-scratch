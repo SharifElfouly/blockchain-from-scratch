{
 "cells": [
  {
   "cell_type": "code",
   "execution_count": 1,
   "id": "sufficient-celebrity",
   "metadata": {},
   "outputs": [],
   "source": [
    "%%capture\n",
    "%run 03_block.ipynb"
   ]
  },
  {
   "cell_type": "markdown",
   "id": "regulation-found",
   "metadata": {},
   "source": [
    "We can validate a mined block pow very easily. "
   ]
  },
  {
   "cell_type": "code",
   "execution_count": 2,
   "id": "tender-listing",
   "metadata": {},
   "outputs": [],
   "source": [
    "def val_pow(mb):\n",
    "    mb_b        = bytes(mb)\n",
    "    candidate   = mb_b + str(mb.nonce).encode()\n",
    "    candidate_h = sha(candidate)\n",
    "    if candidate_h[:mb.diff] == '0'*mb.diff: return True\n",
    "    else                                   : return False\n",
    "    \n",
    "assert val_pow(mb)"
   ]
  },
  {
   "cell_type": "markdown",
   "id": "aboriginal-planning",
   "metadata": {},
   "source": [
    "If we change something in the block the pow should break."
   ]
  },
  {
   "cell_type": "code",
   "execution_count": 3,
   "id": "natural-poker",
   "metadata": {},
   "outputs": [],
   "source": [
    "mb.prev_hash = rh()\n",
    "assert not val_pow(mb)"
   ]
  },
  {
   "cell_type": "markdown",
   "id": "faced-arkansas",
   "metadata": {},
   "source": [
    "## Blockchain\n",
    "\n",
    "Consists of a number of blocks. Each block points to the block that came before it. Imagine a linked list of blocks linked by `prev_hash`."
   ]
  },
  {
   "cell_type": "code",
   "execution_count": 4,
   "id": "metropolitan-cleaner",
   "metadata": {},
   "outputs": [],
   "source": [
    "class Blockchain:\n",
    "    def __init__(self, genesis):\n",
    "        self.balances,self.nonces = {},{}\n",
    "        self.blocks   = []\n",
    "        self.init(genesis)\n",
    "        \n",
    "    def init(self, genesis):\n",
    "        for tx in genesis.txs: \n",
    "            self.balances[tx.to] = tx.value\n",
    "            self.nonces  [tx.to] = 0\n",
    "        self.blocks.append(genesis)\n",
    "\n",
    "    def candidate(self, txs):\n",
    "        return Block(txs, self.blocks[-1].hash, len(self.blocks)+1)\n",
    "        \n",
    "    def add(self, mb):\n",
    "        assert mb.verify_pow()\n",
    "        for tx in mb.txs:   assert self.apply(tx)\n",
    "        assert self.verify(mb)\n",
    "        self.balances[mb.miner] += mb.reward\n",
    "        self.blocks.append(mb)\n",
    "        return True\n",
    "        \n",
    "    def apply(self, tx):\n",
    "        if tx.fr in self.nonces:\n",
    "            assert self.nonces[tx.fr] == tx.nonce\n",
    "            self.nonces[tx.fr] += 1\n",
    "        else: \n",
    "            assert tx.nonce == 0\n",
    "            self.nonces[tx.fr] = 0\n",
    "        assert self.balances[tx.fr] - tx.value > 0\n",
    "        self.balances[tx.fr] -= tx.value\n",
    "        if tx.to in self.balances:   self.balances[tx.to] += tx.value\n",
    "        else:                        self.balances[tx.to]  = tx.value\n",
    "        if tx.to not in self.nonces: self.nonces[tx.to]    = 0\n",
    "        return True\n",
    "    \n",
    "    def val(self, mb): \n",
    "        assert mb.val_pow()\n",
    "        if len(self.blocks) > 0: assert self.blocks[-1].hash == mb.prev_hash\n",
    "        for tx in mb.txs:        assert TX.verify(tx)\n",
    "        return True\n",
    "    \n",
    "    def __str__(self):\n",
    "        return '\\n'.join(f'{addr2emoji(k)} {ph(k)}\\nbalance: {v} \\nnonce: {self.nonces[k]}\\n' for k,v in self.balances.items())"
   ]
  }
 ],
 "metadata": {
  "kernelspec": {
   "display_name": "Python 3",
   "language": "python",
   "name": "python3"
  },
  "language_info": {
   "codemirror_mode": {
    "name": "ipython",
    "version": 3
   },
   "file_extension": ".py",
   "mimetype": "text/x-python",
   "name": "python",
   "nbconvert_exporter": "python",
   "pygments_lexer": "ipython3",
   "version": "3.8.2"
  }
 },
 "nbformat": 4,
 "nbformat_minor": 5
}
