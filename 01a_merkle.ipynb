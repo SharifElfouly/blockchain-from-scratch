{
 "cells": [
  {
   "cell_type": "code",
   "execution_count": 326,
   "id": "oriented-weather",
   "metadata": {},
   "outputs": [],
   "source": [
    "%%capture\n",
    "%run 01_transaction.ipynb\n",
    "from IPython.display import Image"
   ]
  },
  {
   "cell_type": "code",
   "execution_count": 186,
   "id": "complicated-nickname",
   "metadata": {},
   "outputs": [],
   "source": [
    "from random import randint as ri"
   ]
  },
  {
   "cell_type": "markdown",
   "id": "moral-integer",
   "metadata": {},
   "source": [
    "Create a random tx."
   ]
  },
  {
   "cell_type": "code",
   "execution_count": 406,
   "id": "postal-french",
   "metadata": {},
   "outputs": [
    {
     "name": "stdout",
     "output_type": "stream",
     "text": [
      "time:\tSun Mar 28 20:37:09 2021\n",
      "from:\t🕣 fd040d031967c6d7...ec1\n",
      "to:\t🔙 b3d207ef83823e89...23f\n",
      "value:\t69 ether\n",
      "fee:\t0.79 ether\n",
      "nonce:\t0\n",
      "hash:\t👼 16f2f5d7cf8325fa...469\n",
      "signed:\tfalse\n"
     ]
    }
   ],
   "source": [
    "def rt(): return TX(rh(),rh(),ri(1,99),ri(1,99)/100,0); \n",
    "print(rt())"
   ]
  },
  {
   "cell_type": "markdown",
   "id": "departmental-combat",
   "metadata": {},
   "source": [
    "## Merkle Tree\n",
    "\n",
    "A binary tree in which every leaf node is a hash of a specific piece of data, in our case a tx. \n",
    "\n",
    "In a system like Bitcoin or Ethereum the merkle root is included in the block header, not the list of txs itself. This makes it very efficient to test if a specific tx is inclued in the tree.\n",
    "\n",
    "For more in depth [here](https://www.youtube.com/watch?v=3giNelTfeAk).\n",
    "\n",
    "![title](https://changelly.com/blog/wp-content/uploads/2020/01/Merkle-Tree-1.png)\n",
    "\n",
    "`MerkleTree` is a wrapper around the `mt` dictionary which stores the hashes for each height in the tree."
   ]
  },
  {
   "cell_type": "code",
   "execution_count": 417,
   "id": "transsexual-inquiry",
   "metadata": {},
   "outputs": [],
   "source": [
    "class MerkleTree:\n",
    "    def __init__(self, txs):\n",
    "        self.mt = {}\n",
    "        leafs = [tx.hash for tx in txs]\n",
    "        if len(leafs)%2!=0: leafs.append(sha('0x0'))\n",
    "        self.mt['1'] = leafs\n",
    "        self.merkle(leafs)\n",
    "        \n",
    "    def merkle(self, leafs):\n",
    "        parents  = []\n",
    "        while len(leafs) > 1:\n",
    "            for i in range(0, len(leafs), 2):\n",
    "                l = leafs[i]\n",
    "                if i+1>=len(leafs): r = '0x0'\n",
    "                else              : r = leafs[i+1]\n",
    "                parents.append(sha(l+r))\n",
    "            leafs = parents\n",
    "            self.mt[f'{len(self)+1}'] = parents\n",
    "            parents = []\n",
    "    \n",
    "    @property\n",
    "    def root(self):       return self.mt[str(len(self))][0]\n",
    "    def __eq__ (self, o): return self.root == o.root\n",
    "    def __len__(self):    return len(self.mt)\n",
    "    def __str__(self):\n",
    "        s = ''\n",
    "        for k,v in self.mt.items(): \n",
    "            s += f'height {k}'\n",
    "            for h in v: s += f'\\n {ph(h)}'\n",
    "            s += '\\n'\n",
    "        return s"
   ]
  },
  {
   "cell_type": "markdown",
   "id": "greatest-circus",
   "metadata": {},
   "source": [
    "Create Merkle Tree from a list of `N` random txs."
   ]
  },
  {
   "cell_type": "code",
   "execution_count": 418,
   "id": "lined-spending",
   "metadata": {},
   "outputs": [
    {
     "name": "stdout",
     "output_type": "stream",
     "text": [
      "height 1\n",
      " 🔪 c4db6a2933e13df2...557\n",
      " 📢 7cd42a324c605612...4d5\n",
      " 💏 2994369a4a890fe8...ea1\n",
      " 📩 8313cd5f0a0751c5...a5a\n",
      " 🕂 dc25b91a818e5ca2...898\n",
      " 🔌 a6d5911ce220e56b...1d5\n",
      " 💮 483b42344ad94fe7...408\n",
      " 🕚 f47619ab99e6dfbc...fa7\n",
      "height 2\n",
      " 👾 1846fb9ba6de6190...09d\n",
      " 🔧 c13d8d14b2193ae6...746\n",
      " 🕅 dfeba2983e2ed82a...eba\n",
      " 👶 10f4cc53c2ce97ba...c85\n",
      "height 3\n",
      " 📃 5dd36feb09440e78...bd9\n",
      " 🔩 c3e82fbfd7226e3f...b01\n",
      "height 4\n",
      " 💰 4aad1b295bcad668...05f\n",
      "\n"
     ]
    }
   ],
   "source": [
    "N = 8\n",
    "r_txs = [rt() for _ in range(N)]\n",
    "\n",
    "mt = MerkleTree(r_txs); print(mt)"
   ]
  },
  {
   "cell_type": "code",
   "execution_count": 368,
   "id": "planned-ukraine",
   "metadata": {},
   "outputs": [],
   "source": [
    "assert len(mt) == 4"
   ]
  },
  {
   "cell_type": "markdown",
   "id": "specific-asbestos",
   "metadata": {},
   "source": [
    "The merkle tree root hash is the top most node. If anything in the tree changes the root changes as well."
   ]
  },
  {
   "cell_type": "code",
   "execution_count": 370,
   "id": "organic-lease",
   "metadata": {},
   "outputs": [
    {
     "data": {
      "text/plain": [
       "'💽 57976e7c3ba94537...8e3'"
      ]
     },
     "execution_count": 370,
     "metadata": {},
     "output_type": "execute_result"
    }
   ],
   "source": [
    "ph(mt.root)"
   ]
  },
  {
   "cell_type": "markdown",
   "id": "crazy-flooring",
   "metadata": {},
   "source": [
    "If we change something in any tx like the `value` the whole Merkle Tree changes. Compare the hashes below with the ones above."
   ]
  },
  {
   "cell_type": "code",
   "execution_count": 371,
   "id": "sitting-guidance",
   "metadata": {},
   "outputs": [
    {
     "name": "stdout",
     "output_type": "stream",
     "text": [
      "height 1\n",
      " 🔑 ab8be8aa0ecd93ab...dad\n",
      " 💡 3bf573f4f04cc8d6...0b8\n",
      " 📼 9688b8838cc9bd60...fa6\n",
      " 📝 77f4691febe70b83...ea4\n",
      " 💸 5271bbd33e9af25b...f8c\n",
      " 📎 683a3751d9f8f3bf...e97\n",
      " 💛 35cc2a1a87eedd53...12b\n",
      " 💳 4d5af728ce35c10e...365\n",
      "height 2\n",
      " 📉 63ee2aeba7da11bc...056\n",
      " 💝 3782cc1b62592cf6...f70\n",
      " 💀 1a1c20815b208cf8...7dd\n",
      " 🕇 e10beddef83fd5f7...1fe\n",
      "height 3\n",
      " 👫 05dad561c5378a0f...22b\n",
      " 🔩 c39d7e1143ed5d6a...9ed\n",
      "height 4\n",
      " 💑 2bf8d09244a76afc...dfd\n",
      "\n"
     ]
    }
   ],
   "source": [
    "r_txs[0].value = 500\n",
    "\n",
    "changed_mt = MerkleTree(r_txs); print(changed_mt)"
   ]
  },
  {
   "cell_type": "code",
   "execution_count": 372,
   "id": "biblical-august",
   "metadata": {},
   "outputs": [],
   "source": [
    "assert mt != changed_mt"
   ]
  }
 ],
 "metadata": {
  "kernelspec": {
   "display_name": "Python 3",
   "language": "python",
   "name": "python3"
  },
  "language_info": {
   "codemirror_mode": {
    "name": "ipython",
    "version": 3
   },
   "file_extension": ".py",
   "mimetype": "text/x-python",
   "name": "python",
   "nbconvert_exporter": "python",
   "pygments_lexer": "ipython3",
   "version": "3.8.2"
  }
 },
 "nbformat": 4,
 "nbformat_minor": 5
}
