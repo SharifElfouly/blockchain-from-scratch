{
 "cells": [
  {
   "cell_type": "code",
   "execution_count": 741,
   "id": "oriented-weather",
   "metadata": {},
   "outputs": [],
   "source": [
    "%%capture\n",
    "%run 01_transaction.ipynb\n",
    "from IPython.display import Image"
   ]
  },
  {
   "cell_type": "code",
   "execution_count": 742,
   "id": "complicated-nickname",
   "metadata": {},
   "outputs": [],
   "source": [
    "from random import randint as ri"
   ]
  },
  {
   "cell_type": "markdown",
   "id": "moral-integer",
   "metadata": {},
   "source": [
    "Create a random tx."
   ]
  },
  {
   "cell_type": "code",
   "execution_count": 743,
   "id": "postal-french",
   "metadata": {},
   "outputs": [
    {
     "name": "stdout",
     "output_type": "stream",
     "text": [
      "time:\tMon Mar 29 00:58:55 2021\n",
      "from:\t👿 1927cbbc4013b9c4...a76\n",
      "to:\t📔 6e1e942171cc24fa...4c7\n",
      "value:\t90 ether\n",
      "fee:\t0.05 ether\n",
      "nonce:\t0\n",
      "hash:\t👱 0be7b9d9a6fe922b...f9e\n",
      "signed:\tfalse\n"
     ]
    }
   ],
   "source": [
    "def rt(): return TX(rh(),rh(),ri(1,99),ri(1,99)/100,0); \n",
    "print(rt())"
   ]
  },
  {
   "cell_type": "markdown",
   "id": "departmental-combat",
   "metadata": {},
   "source": [
    "## Merkle Tree\n",
    "\n",
    "A binary tree in which every leaf node is a hash of a specific piece of data, in our case a tx. \n",
    "\n",
    "In a system like Bitcoin or Ethereum the merkle root is included in the block header, not the list of txs itself. This makes it very efficient to test if a specific tx is inclued in the tree.\n",
    "\n",
    "For more in depth [here](https://www.youtube.com/watch?v=3giNelTfeAk).\n",
    "\n",
    "<div>\n",
    "<img src=\"https://changelly.com/blog/wp-content/uploads/2020/01/Merkle-Tree-1.png\" width=\"500\"/>\n",
    "</div>\n",
    "\n",
    "\n",
    "`MerkleTree` is a wrapper around the `mt` dictionary which stores the hashes for each height in the tree."
   ]
  },
  {
   "cell_type": "code",
   "execution_count": 744,
   "id": "transsexual-inquiry",
   "metadata": {},
   "outputs": [],
   "source": [
    "class MerkleTree:\n",
    "    def __init__(self, txs):\n",
    "        self.mt = {}\n",
    "        leafs = [tx.hash for tx in txs]\n",
    "        if len(leafs)%2!=0: leafs.append(sha('0x0'))\n",
    "        self.mt['1'] = leafs\n",
    "        self.merkle(leafs)\n",
    "        \n",
    "    def merkle(self, leafs):\n",
    "        parents  = []\n",
    "        while len(leafs) > 1:\n",
    "            for i in range(0, len(leafs), 2):\n",
    "                l = leafs[i]\n",
    "                if i+1>=len(leafs): r = '0x0'\n",
    "                else              : r = leafs[i+1]\n",
    "                parents.append(sha(l+r))\n",
    "            leafs = parents\n",
    "            self.mt[f'{len(self)+1}'] = parents\n",
    "            parents = []\n",
    "    \n",
    "    @property\n",
    "    def root(self)      : return self.mt[str(len(self))][0]\n",
    "    def __eq__ (self, o): return self.root == o.root\n",
    "    def __len__(self)   : return len(self.mt)\n",
    "    def __getitem__(self, k): return self.mt[str(k)]\n",
    "    def __str__(self):\n",
    "        s = ''\n",
    "        for k,v in self.mt.items(): \n",
    "            s += f'height {k}'\n",
    "            for h in v: s += f'\\n {ph(h)}'\n",
    "            s += '\\n'\n",
    "        return s"
   ]
  },
  {
   "cell_type": "markdown",
   "id": "parliamentary-resistance",
   "metadata": {},
   "source": [
    "Create Merkle Tree from a list of `N` random txs."
   ]
  },
  {
   "cell_type": "code",
   "execution_count": 745,
   "id": "lined-spending",
   "metadata": {},
   "outputs": [
    {
     "name": "stdout",
     "output_type": "stream",
     "text": [
      "height 1\n",
      " 💁 1bbb73466713e0ef...c10\n",
      " 💁 1b8e3221549c36d1...5fc\n",
      " 🕝 f7bf4a3df716acc5...556\n",
      " 💧 412e15d846edbe84...82b\n",
      " 🔔 ae2d7b9d75f7226f...4e2\n",
      " 💋 25d5e7f83788bff2...2d7\n",
      " 🕘 f2fc28ff8ff8fd08...039\n",
      " 📾 980f963d5d9b0574...b48\n",
      "height 2\n",
      " 🔉 a3a7aa5b095d17ed...fe1\n",
      " 🔒 ac82f385dd914a4e...afd\n",
      " 📒 6ca688c1018542e0...2d3\n",
      " 👴 0e562829ddfeb296...548\n",
      "height 3\n",
      " 📁 5b366155b12c41d0...23a\n",
      " 💃 1df40ece66f30da8...fa4\n",
      "height 4\n",
      " 🔜 b65f468e79a85c79...311\n",
      "\n"
     ]
    }
   ],
   "source": [
    "N = 8\n",
    "r_txs = [rt() for _ in range(N)]\n",
    "\n",
    "mt = MerkleTree(r_txs); print(mt)"
   ]
  },
  {
   "cell_type": "code",
   "execution_count": 746,
   "id": "direct-prefix",
   "metadata": {},
   "outputs": [],
   "source": [
    "assert len(mt) == 4"
   ]
  },
  {
   "cell_type": "markdown",
   "id": "passive-attempt",
   "metadata": {},
   "source": [
    "The merkle tree root hash is the top most node. If anything in the tree changes the root changes as well."
   ]
  },
  {
   "cell_type": "code",
   "execution_count": 747,
   "id": "organic-lease",
   "metadata": {},
   "outputs": [
    {
     "data": {
      "text/plain": [
       "'🔜 b65f468e79a85c79...311'"
      ]
     },
     "execution_count": 747,
     "metadata": {},
     "output_type": "execute_result"
    }
   ],
   "source": [
    "ph(mt.root)"
   ]
  },
  {
   "cell_type": "markdown",
   "id": "secure-magic",
   "metadata": {},
   "source": [
    "If we change something in any tx the whole Merkle Tree changes. Here we change the `value` of the third tx. Compare the hashes below with the ones above."
   ]
  },
  {
   "cell_type": "code",
   "execution_count": 748,
   "id": "fourth-rebate",
   "metadata": {},
   "outputs": [
    {
     "name": "stdout",
     "output_type": "stream",
     "text": [
      "height 1\n",
      " 💁 1bbb73466713e0ef...c10\n",
      " 💁 1b8e3221549c36d1...5fc\n",
      " 🔇 a1993d78b74e64e4...222\n",
      " 💧 412e15d846edbe84...82b\n",
      " 🔔 ae2d7b9d75f7226f...4e2\n",
      " 💋 25d5e7f83788bff2...2d7\n",
      " 🕘 f2fc28ff8ff8fd08...039\n",
      " 📾 980f963d5d9b0574...b48\n",
      "height 2\n",
      " 🔉 a3a7aa5b095d17ed...fe1\n",
      " 💺 54e09ae080e74319...cff\n",
      " 📒 6ca688c1018542e0...2d3\n",
      " 👴 0e562829ddfeb296...548\n",
      "height 3\n",
      " 📜 764b6d879560e58a...afc\n",
      " 💃 1df40ece66f30da8...fa4\n",
      "height 4\n",
      " 💅 1f82f626432c33ac...06c\n",
      "\n"
     ]
    }
   ],
   "source": [
    "r_txs[2].value = 500\n",
    "\n",
    "changed_mt = MerkleTree(r_txs); print(changed_mt)"
   ]
  },
  {
   "cell_type": "code",
   "execution_count": 749,
   "id": "civilian-compound",
   "metadata": {},
   "outputs": [],
   "source": [
    "assert mt != changed_mt"
   ]
  },
  {
   "cell_type": "markdown",
   "id": "continental-carolina",
   "metadata": {},
   "source": [
    "## Merkle Proof"
   ]
  },
  {
   "cell_type": "markdown",
   "id": "electoral-controversy",
   "metadata": {},
   "source": [
    "Proof that `tx` at position `pos` in the merkle tree `mt` is part of it by using a corresponding merkle branch `mb`.\n",
    "\n",
    "A merkle branch consists of those nodes that are needed to build up the root hash of the merkle tree. For example:\n",
    "\n",
    "Merkle branch `[5,3,0, ..., x]` stands for the following: \n",
    "- node *5* from height *0*\n",
    "- node *3* from height *1*\n",
    "- node *0* from height *2*\n",
    "- ...\n",
    "- node *x* from height `len(mt)-1`"
   ]
  },
  {
   "cell_type": "code",
   "execution_count": 750,
   "id": "raised-france",
   "metadata": {},
   "outputs": [],
   "source": [
    "def proof(mt, mb, tx):\n",
    "    if mb[0]%2 != 0: cn = sha(tx.hash     +mt[1][mb[0]])\n",
    "    else           : cn = sha(mt[1][mb[0]]+tx.hash)\n",
    "    for i in range(2, len(mt)):\n",
    "        if mb[i-1]%2 != 0: cn = sha(cn            +mt[i][mb[i-1]])\n",
    "        else             : cn = sha(mt[i][mb[i-1]]+cn)\n",
    "    return cn == mt.root"
   ]
  },
  {
   "cell_type": "markdown",
   "id": "soviet-underground",
   "metadata": {},
   "source": [
    "Examples of some txs with their corresponding merkle branch."
   ]
  },
  {
   "cell_type": "code",
   "execution_count": 751,
   "id": "pursuant-architect",
   "metadata": {},
   "outputs": [],
   "source": [
    "r_tx = r_txs[0]\n",
    "mb = [1,1,1]\n",
    "\n",
    "assert proof(mt, mb, r_tx)"
   ]
  },
  {
   "cell_type": "code",
   "execution_count": 752,
   "id": "covered-longer",
   "metadata": {},
   "outputs": [],
   "source": [
    "r_tx = r_txs[1]\n",
    "mb = [0,1,1]\n",
    "\n",
    "assert proof(mt, mb, r_tx)"
   ]
  },
  {
   "cell_type": "code",
   "execution_count": 753,
   "id": "impaired-banks",
   "metadata": {},
   "outputs": [],
   "source": [
    "r_tx = r_txs[4]\n",
    "mb = [5,3,0]\n",
    "\n",
    "assert proof(mt, mb, r_tx)"
   ]
  }
 ],
 "metadata": {
  "kernelspec": {
   "display_name": "Python 3",
   "language": "python",
   "name": "python3"
  },
  "language_info": {
   "codemirror_mode": {
    "name": "ipython",
    "version": 3
   },
   "file_extension": ".py",
   "mimetype": "text/x-python",
   "name": "python",
   "nbconvert_exporter": "python",
   "pygments_lexer": "ipython3",
   "version": "3.8.2"
  }
 },
 "nbformat": 4,
 "nbformat_minor": 5
}
