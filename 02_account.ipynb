{
 "cells": [
  {
   "cell_type": "code",
   "execution_count": 118,
   "id": "impossible-drive",
   "metadata": {},
   "outputs": [],
   "source": [
    "%%capture\n",
    "%run 01_transaction.ipynb"
   ]
  },
  {
   "cell_type": "code",
   "execution_count": 119,
   "id": "floating-friendly",
   "metadata": {},
   "outputs": [],
   "source": [
    "from eth_account.messages import encode_defunct as encode_msg\n",
    "import web3 as w3; w3 = w3.Account"
   ]
  },
  {
   "cell_type": "markdown",
   "id": "manufactured-champagne",
   "metadata": {},
   "source": [
    "Create a public key `pub_key`, private key `priv_key` pair. The public key is used as an address and the private key is used for signing txs."
   ]
  },
  {
   "cell_type": "code",
   "execution_count": 120,
   "id": "closing-quarterly",
   "metadata": {},
   "outputs": [
    {
     "data": {
      "text/plain": [
       "('💰 0x4a0fed97ddf022...516', '💎 0x28EC9Ff4bE9f8D...d69')"
      ]
     },
     "execution_count": 120,
     "metadata": {},
     "output_type": "execute_result"
    }
   ],
   "source": [
    "def keys():\n",
    "    acc = w3.create()\n",
    "    return acc.privateKey.hex(), acc.address\n",
    "\n",
    "priv_key,pub_key = keys()\n",
    "ph(priv_key), ph(pub_key)"
   ]
  },
  {
   "cell_type": "markdown",
   "id": "intensive-trinidad",
   "metadata": {},
   "source": [
    "## Account\n",
    "\n",
    "Holds a key pair and is used for signing txs."
   ]
  },
  {
   "cell_type": "code",
   "execution_count": 129,
   "id": "above-think",
   "metadata": {},
   "outputs": [],
   "source": [
    "class Account:\n",
    "    def __init__(self): \n",
    "        self.priv, self.pub = keys()\n",
    "        self.nonce = 0\n",
    "        \n",
    "    def sign(self, tx):\n",
    "        self.nonce += 1\n",
    "        m = encode_msg(bytes(tx))\n",
    "        sig = w3.sign_message(m, self.priv)\n",
    "        tx.sig = sig\n",
    "        return tx\n",
    "            \n",
    "    def signed_tx(self, to, value, fee):\n",
    "        tx = TX(self.pub, to.pub, value, fee, self.nonce)\n",
    "        return self.sign(tx)\n",
    "    \n",
    "    def __str__(self): return ph(self.pub)"
   ]
  },
  {
   "cell_type": "code",
   "execution_count": 130,
   "id": "sustainable-arbitration",
   "metadata": {},
   "outputs": [
    {
     "name": "stdout",
     "output_type": "stream",
     "text": [
      "📋 0x6528D5f12FBF61...6C4\n",
      "🔒 0xac8e135Df977d5...33F\n"
     ]
    }
   ],
   "source": [
    "acc1 = Account(); print(acc1)\n",
    "acc2 = Account(); print(acc2)"
   ]
  },
  {
   "cell_type": "markdown",
   "id": "rental-coaching",
   "metadata": {},
   "source": [
    "### Transaction Signing\n",
    "Signing a tx generates a signature that only the private key can produce. This can be later validated very efficiently."
   ]
  },
  {
   "cell_type": "code",
   "execution_count": 131,
   "id": "hollow-dover",
   "metadata": {},
   "outputs": [],
   "source": [
    "tx        = TX(acc1.pub, acc2.pub, 12, 0.2, acc1.nonce)\n",
    "tx_signed = acc1.sign(tx)"
   ]
  },
  {
   "cell_type": "markdown",
   "id": "loving-hopkins",
   "metadata": {},
   "source": [
    "The signature contains the tx hash `message_hash` and its `signature`. We don't need `r`, `v` and `s` as they are specific to Ethereum. For more infos: https://medium.com/@angellopozo/ethereum-signing-and-validating-13a2d7cb0ee3"
   ]
  },
  {
   "cell_type": "code",
   "execution_count": 125,
   "id": "acute-gibraltar",
   "metadata": {},
   "outputs": [
    {
     "data": {
      "text/plain": [
       "SignedMessage(messageHash=HexBytes('0x333acac4bdb7fbf0ec79630073812e24b2513098b196d6d953777a51bc4183f0'), r=77147671813718251827399664742605040910979735664656298927729104149673286232610, s=77992857626443730793204208542630956044901492588271060359587194886504294054, v=27, signature=HexBytes('0xaa9008ec06ce2db5d979b21fef558931df476ba4966518e0ea47afd832d6ea22002c2473df46fcd1e17ba15d108367dda19671a9df23421a387f6b8a99bfa6a61b'))"
      ]
     },
     "execution_count": 125,
     "metadata": {},
     "output_type": "execute_result"
    }
   ],
   "source": [
    "tx_signed.sig"
   ]
  },
  {
   "cell_type": "markdown",
   "id": "qualified-election",
   "metadata": {},
   "source": [
    "Accounts can generate a signed tx easily with `signed_tx`."
   ]
  },
  {
   "cell_type": "code",
   "execution_count": 133,
   "id": "violent-lucas",
   "metadata": {},
   "outputs": [
    {
     "name": "stdout",
     "output_type": "stream",
     "text": [
      "time:\tSat Mar 27 00:45:46 2021\n",
      "from:\t📋 0x6528D5f12FBF61...6C4\n",
      "to:\t🔒 0xac8e135Df977d5...33F\n",
      "value:\t7 ether\n",
      "fee:\t0.3 ether\n",
      "nonce:\t2\n",
      "hash:\t💁 1be38b283819df2e...610\n",
      "signed:\ttrue\n"
     ]
    }
   ],
   "source": [
    "tx = acc1.signed_tx(acc2, 7, 0.3); print(tx)"
   ]
  },
  {
   "cell_type": "markdown",
   "id": "recorded-links",
   "metadata": {},
   "source": [
    "### Transaction Validation"
   ]
  },
  {
   "cell_type": "markdown",
   "id": "serial-diana",
   "metadata": {},
   "source": [
    "Validates if the tx was signed by the sender."
   ]
  },
  {
   "cell_type": "code",
   "execution_count": 134,
   "id": "massive-robertson",
   "metadata": {},
   "outputs": [],
   "source": [
    "def val_tx(tx):\n",
    "    if not hasattr(tx, 'sig'): return False\n",
    "    m = encode_msg(bytes(tx))\n",
    "    return w3.recover_message(m, signature=tx.sig.signature) == tx.fr"
   ]
  },
  {
   "cell_type": "code",
   "execution_count": 135,
   "id": "improved-harrison",
   "metadata": {},
   "outputs": [],
   "source": [
    "assert val_tx(tx_signed)"
   ]
  },
  {
   "cell_type": "markdown",
   "id": "square-holiday",
   "metadata": {},
   "source": [
    "If anything in the tx is changed, like increasing the value to send, the signature should become invalid."
   ]
  },
  {
   "cell_type": "code",
   "execution_count": 136,
   "id": "plain-israeli",
   "metadata": {},
   "outputs": [],
   "source": [
    "tx_signed.value = 30\n",
    "assert not val_tx(tx_signed)"
   ]
  }
 ],
 "metadata": {
  "kernelspec": {
   "display_name": "Python 3",
   "language": "python",
   "name": "python3"
  },
  "language_info": {
   "codemirror_mode": {
    "name": "ipython",
    "version": 3
   },
   "file_extension": ".py",
   "mimetype": "text/x-python",
   "name": "python",
   "nbconvert_exporter": "python",
   "pygments_lexer": "ipython3",
   "version": "3.8.2"
  }
 },
 "nbformat": 4,
 "nbformat_minor": 5
}
