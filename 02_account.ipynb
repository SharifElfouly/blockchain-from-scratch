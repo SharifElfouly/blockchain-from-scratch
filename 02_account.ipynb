{
 "cells": [
  {
   "cell_type": "code",
   "execution_count": 44,
   "id": "everyday-aaron",
   "metadata": {},
   "outputs": [],
   "source": [
    "%%capture\n",
    "%run 01_transaction.ipynb"
   ]
  },
  {
   "cell_type": "code",
   "execution_count": 45,
   "id": "lined-startup",
   "metadata": {},
   "outputs": [],
   "source": [
    "from eth_account.messages import encode_defunct as encode_msg\n",
    "import web3 as w3; w3 = w3.Account"
   ]
  },
  {
   "cell_type": "markdown",
   "id": "revolutionary-egypt",
   "metadata": {},
   "source": [
    "Create a public key `pub_key`, private key `priv_key` pair. The public key is used as an address and the private key is used for signing txs."
   ]
  },
  {
   "cell_type": "code",
   "execution_count": 46,
   "id": "younger-challenge",
   "metadata": {},
   "outputs": [
    {
     "data": {
      "text/plain": [
       "('0xa3a8903f15a4c0...1a1', '0x67bf211542C802...c7e')"
      ]
     },
     "execution_count": 46,
     "metadata": {},
     "output_type": "execute_result"
    }
   ],
   "source": [
    "def keys():\n",
    "    acc = w3.create()\n",
    "    return acc.privateKey.hex(), acc.address\n",
    "\n",
    "pub_key, priv_key = keys()\n",
    "ph(pub_key), ph(priv_key)"
   ]
  },
  {
   "cell_type": "markdown",
   "id": "assigned-pastor",
   "metadata": {},
   "source": [
    "## Account\n",
    "\n",
    "Holds a key pair and is used for signing txs."
   ]
  },
  {
   "cell_type": "code",
   "execution_count": 47,
   "id": "identical-charleston",
   "metadata": {},
   "outputs": [],
   "source": [
    "class Account:\n",
    "    def __init__(self): \n",
    "        self.priv, self.pub = keys()\n",
    "        self.nonce = 0\n",
    "            \n",
    "    def sign(self, to, value):\n",
    "        tx = TX(self.pub, to.pub, value, self.nonce)\n",
    "        self.nonce += 1\n",
    "        m = encode_msg(bytes(tx))\n",
    "        sig = w3.sign_message(m, self.priv)\n",
    "        tx.sig = sig\n",
    "        return tx\n",
    "    \n",
    "    def __str__(self): return hash2emoji(self.pub)+' '+ph(self.pub)"
   ]
  },
  {
   "cell_type": "code",
   "execution_count": 48,
   "id": "steady-belgium",
   "metadata": {},
   "outputs": [
    {
     "name": "stdout",
     "output_type": "stream",
     "text": [
      "🕄 0xDEF9Dd2AA8fFbA...29b\n",
      "💰 0x4Aba7F3d9Eb856...Efa\n"
     ]
    }
   ],
   "source": [
    "acc1 = Account(); print(acc1)\n",
    "acc2 = Account(); print(acc2)"
   ]
  },
  {
   "cell_type": "markdown",
   "id": "previous-biography",
   "metadata": {},
   "source": [
    "### Transaction Signing\n",
    "Signing a tx generates a signature that only the private key can produce. This can be later validated very efficiently."
   ]
  },
  {
   "cell_type": "code",
   "execution_count": 61,
   "id": "suitable-monitor",
   "metadata": {},
   "outputs": [
    {
     "name": "stdout",
     "output_type": "stream",
     "text": [
      "time:\tFri Mar 26 00:53:40 2021\n",
      "from:\t🕄 0xDEF9Dd2AA8fFbA...29b\n",
      "to:\t💰 0x4Aba7F3d9Eb856...Efa\n",
      "value:\t12 ether\n",
      "nonce:\t2\n",
      "signed:\ttrue\n",
      "\n",
      "SignedMessage(messageHash=HexBytes('0x1f5ec8be6257dbe9949ec184008e5f50de1776e725f1edf28730ecad51b2b401'), r=22143422187490374837116784073248084064396470869059143199853201972073760713121, s=18817258494161734004261010152895941288140257758356398526420532459161506354634, v=27, signature=HexBytes('0x30f4bb99c046868754d4292be2ebe5c83d3dabe44c349ef78231aa0264a269a1299a30dd74c969364a9d3ce40f723ba7fc327c3b4417aac60478ff9dc5cd15ca1b'))\n"
     ]
    }
   ],
   "source": [
    "signed_tx = acc1.sign(acc2, 12)\n",
    "print(signed_tx)\n",
    "print(signed_tx.sig)"
   ]
  },
  {
   "cell_type": "markdown",
   "id": "bizarre-bahrain",
   "metadata": {},
   "source": [
    "### Transaction Validation"
   ]
  },
  {
   "cell_type": "markdown",
   "id": "bulgarian-athens",
   "metadata": {},
   "source": [
    "Validates if the tx was signed by the sender."
   ]
  },
  {
   "cell_type": "code",
   "execution_count": 62,
   "id": "hollywood-evans",
   "metadata": {},
   "outputs": [],
   "source": [
    "def validate_tx(tx):\n",
    "    m = encode_msg(bytes(tx))\n",
    "    return w3.recover_message(m, signature=tx.sig.signature) == tx.fr"
   ]
  },
  {
   "cell_type": "code",
   "execution_count": 63,
   "id": "massive-diana",
   "metadata": {},
   "outputs": [],
   "source": [
    "assert validate_tx(signed_tx)"
   ]
  },
  {
   "cell_type": "markdown",
   "id": "palestinian-preview",
   "metadata": {},
   "source": [
    "If anything in the tx is changed, like increasing the value to send, the tx signature should become invalid."
   ]
  },
  {
   "cell_type": "code",
   "execution_count": 67,
   "id": "gentle-penalty",
   "metadata": {},
   "outputs": [],
   "source": [
    "signed_tx.value = 30\n",
    "assert not validate_tx(signed_tx)"
   ]
  }
 ],
 "metadata": {
  "kernelspec": {
   "display_name": "Python 3",
   "language": "python",
   "name": "python3"
  },
  "language_info": {
   "codemirror_mode": {
    "name": "ipython",
    "version": 3
   },
   "file_extension": ".py",
   "mimetype": "text/x-python",
   "name": "python",
   "nbconvert_exporter": "python",
   "pygments_lexer": "ipython3",
   "version": "3.8.2"
  }
 },
 "nbformat": 4,
 "nbformat_minor": 5
}
