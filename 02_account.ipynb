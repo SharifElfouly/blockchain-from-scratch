{
 "cells": [
  {
   "cell_type": "code",
   "execution_count": 137,
   "id": "impossible-drive",
   "metadata": {},
   "outputs": [],
   "source": [
    "%%capture\n",
    "%run 01_transaction.ipynb"
   ]
  },
  {
   "cell_type": "code",
   "execution_count": 138,
   "id": "floating-friendly",
   "metadata": {},
   "outputs": [],
   "source": [
    "from eth_account.messages import encode_defunct as encode_msg\n",
    "import web3 as w3; w3 = w3.Account"
   ]
  },
  {
   "cell_type": "markdown",
   "id": "manufactured-champagne",
   "metadata": {},
   "source": [
    "Create a public key `pub_key`, private key `priv_key` pair. The public key is used as an address and the private key is used for signing txs."
   ]
  },
  {
   "cell_type": "code",
   "execution_count": 139,
   "id": "closing-quarterly",
   "metadata": {},
   "outputs": [
    {
     "data": {
      "text/plain": [
       "('💂 0x1ca9759df39045...6dc', '🔆 0xA06a941aE6d01b...96D')"
      ]
     },
     "execution_count": 139,
     "metadata": {},
     "output_type": "execute_result"
    }
   ],
   "source": [
    "def keys():\n",
    "    acc = w3.create()\n",
    "    return acc.privateKey.hex(), acc.address\n",
    "\n",
    "priv_key,pub_key = keys()\n",
    "ph(priv_key), ph(pub_key)"
   ]
  },
  {
   "cell_type": "markdown",
   "id": "intensive-trinidad",
   "metadata": {},
   "source": [
    "## Account\n",
    "\n",
    "Holds a key pair and is used for signing txs."
   ]
  },
  {
   "cell_type": "code",
   "execution_count": 140,
   "id": "above-think",
   "metadata": {},
   "outputs": [],
   "source": [
    "class Account:\n",
    "    def __init__(self): \n",
    "        self.priv, self.pub = keys()\n",
    "        self.nonce = 0\n",
    "        \n",
    "    def sign(self, tx):\n",
    "        self.nonce += 1\n",
    "        m = encode_msg(bytes(tx))\n",
    "        sig = w3.sign_message(m, self.priv)\n",
    "        tx.sig = sig\n",
    "        return tx\n",
    "            \n",
    "    def signed_tx(self, to, value, fee):\n",
    "        tx = TX(self.pub, to.pub, value, fee, self.nonce)\n",
    "        return self.sign(tx)\n",
    "    \n",
    "    def __str__(self): return ph(self.pub)"
   ]
  },
  {
   "cell_type": "code",
   "execution_count": 141,
   "id": "sustainable-arbitration",
   "metadata": {},
   "outputs": [
    {
     "name": "stdout",
     "output_type": "stream",
     "text": [
      "💑 0x2b8Af3C2689d87...A8F\n",
      "👫 0x058750B000A1E1...B9A\n"
     ]
    }
   ],
   "source": [
    "acc1 = Account(); print(acc1)\n",
    "acc2 = Account(); print(acc2)"
   ]
  },
  {
   "cell_type": "markdown",
   "id": "rental-coaching",
   "metadata": {},
   "source": [
    "### Transaction Signing\n",
    "Signing a tx generates a signature that only the private key can produce. This can be later validated very efficiently."
   ]
  },
  {
   "cell_type": "code",
   "execution_count": 142,
   "id": "hollow-dover",
   "metadata": {},
   "outputs": [],
   "source": [
    "tx        = TX(acc1.pub, acc2.pub, 12, 0.2, acc1.nonce)\n",
    "tx_signed = acc1.sign(tx)"
   ]
  },
  {
   "cell_type": "markdown",
   "id": "loving-hopkins",
   "metadata": {},
   "source": [
    "The signature contains the tx hash `message_hash` and its `signature`. We don't need `r`, `v` and `s` as they are specific to Ethereum. For more infos: https://medium.com/@angellopozo/ethereum-signing-and-validating-13a2d7cb0ee3"
   ]
  },
  {
   "cell_type": "code",
   "execution_count": 143,
   "id": "acute-gibraltar",
   "metadata": {},
   "outputs": [
    {
     "data": {
      "text/plain": [
       "SignedMessage(messageHash=HexBytes('0x786bc4602d7ea4f54a400e77bee15c3204673c3e7bd511e7e55184632f8411d9'), r=7888253195561789172533694723386857660524652883128153479884586759520820736586, s=45365672157752518013670617979998662761055315091307996543087316977417757110638, v=27, signature=HexBytes('0x117097d4b629c6a4e5f90b43ad1564906d794413fdc2512cbe85cff272c9324a644c0f7df9de3e985ebb47e6f8a9b051ba27471f344ba7dc1ace231ca797b16e1b'))"
      ]
     },
     "execution_count": 143,
     "metadata": {},
     "output_type": "execute_result"
    }
   ],
   "source": [
    "tx_signed.sig"
   ]
  },
  {
   "cell_type": "markdown",
   "id": "graduate-lafayette",
   "metadata": {},
   "source": [
    "Accounts can generate a signed tx easily with `signed_tx`."
   ]
  },
  {
   "cell_type": "code",
   "execution_count": 144,
   "id": "understanding-explorer",
   "metadata": {},
   "outputs": [
    {
     "name": "stdout",
     "output_type": "stream",
     "text": [
      "time:\tSat Mar 27 00:50:51 2021\n",
      "from:\t💑 0x2b8Af3C2689d87...A8F\n",
      "to:\t👫 0x058750B000A1E1...B9A\n",
      "value:\t7 ether\n",
      "fee:\t0.3 ether\n",
      "nonce:\t1\n",
      "hash:\t👷 11617be88b2dd4c5...cd5\n",
      "signed:\ttrue\n"
     ]
    }
   ],
   "source": [
    "tx = acc1.signed_tx(acc2, 7, 0.3); print(tx)"
   ]
  },
  {
   "cell_type": "markdown",
   "id": "recorded-links",
   "metadata": {},
   "source": [
    "### Transaction Validation"
   ]
  },
  {
   "cell_type": "markdown",
   "id": "serial-diana",
   "metadata": {},
   "source": [
    "Validates if the tx was signed by the sender."
   ]
  },
  {
   "cell_type": "code",
   "execution_count": 145,
   "id": "massive-robertson",
   "metadata": {},
   "outputs": [],
   "source": [
    "def val_sig(tx):\n",
    "    if not hasattr(tx, 'sig'): return False\n",
    "    m = encode_msg(bytes(tx))\n",
    "    return w3.recover_message(m, signature=tx.sig.signature) == tx.fr"
   ]
  },
  {
   "cell_type": "code",
   "execution_count": 146,
   "id": "improved-harrison",
   "metadata": {},
   "outputs": [],
   "source": [
    "assert val_sig(tx_signed)"
   ]
  },
  {
   "cell_type": "markdown",
   "id": "square-holiday",
   "metadata": {},
   "source": [
    "If anything in the tx is changed, like increasing the value to send, the signature should become invalid."
   ]
  },
  {
   "cell_type": "code",
   "execution_count": 147,
   "id": "plain-israeli",
   "metadata": {},
   "outputs": [],
   "source": [
    "tx_signed.value = 30\n",
    "assert not val_sig(tx_signed)"
   ]
  }
 ],
 "metadata": {
  "kernelspec": {
   "display_name": "Python 3",
   "language": "python",
   "name": "python3"
  },
  "language_info": {
   "codemirror_mode": {
    "name": "ipython",
    "version": 3
   },
   "file_extension": ".py",
   "mimetype": "text/x-python",
   "name": "python",
   "nbconvert_exporter": "python",
   "pygments_lexer": "ipython3",
   "version": "3.8.2"
  }
 },
 "nbformat": 4,
 "nbformat_minor": 5
}
