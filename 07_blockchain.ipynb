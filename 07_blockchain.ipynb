{
 "cells": [
  {
   "cell_type": "code",
   "execution_count": 1,
   "id": "special-somewhere",
   "metadata": {},
   "outputs": [],
   "source": [
    "%%capture\n",
    "%run 05_block.ipynb\n",
    "%run 06_mine.ipynb"
   ]
  },
  {
   "cell_type": "markdown",
   "id": "twenty-shore",
   "metadata": {},
   "source": [
    "Account state holds the current balance and nonce of an account."
   ]
  },
  {
   "cell_type": "code",
   "execution_count": 21,
   "id": "tribal-network",
   "metadata": {},
   "outputs": [],
   "source": [
    "class AccountState:\n",
    "    def __init__(self): self.balance,self.nonce = 0,0\n",
    "    def inc_nonce  (self):        self.nonce   += 1\n",
    "    def add_balance(self, value): self.balance += value\n",
    "    def sub_balance(self, value): self.balance -= value\n",
    "    def json(self): return json.dumps(self.__dict__)\n",
    "    def __str__(self): return f'balance: {self.balance}\\nnonce: {self.nonce}'"
   ]
  },
  {
   "cell_type": "markdown",
   "id": "derived-retro",
   "metadata": {},
   "source": [
    "The state stores the dictionary `state` which stores the `AccountState` for each address. A genesis block is used to initialize state the first time.\n",
    "\n",
    "The state is updated with txs. `apply` validates if the tx is correct and then updates each `AccountState` accordingly."
   ]
  },
  {
   "cell_type": "code",
   "execution_count": 22,
   "id": "stretch-latex",
   "metadata": {},
   "outputs": [],
   "source": [
    "class State:\n",
    "    def __init__(self): self.state={}\n",
    "    def new   (self, pub): self.state[pub] = AccountState()\n",
    "    def is_new(self, pub): return pub not in self.state\n",
    "    def add(self, pubs):\n",
    "        for pub in pubs:\n",
    "            if self.is_new(pub): self.new(pub)\n",
    "    \n",
    "    def init(self, gb):\n",
    "        gh = gb.header\n",
    "        assert gh.number    == 0\n",
    "        assert gh.prev_hash == '0x0'\n",
    "        for tx in gb.txs.values():\n",
    "            self.add([tx.fr, tx.to])\n",
    "            assert val_sig(tx)\n",
    "            self.state[tx.fr].inc_nonce()\n",
    "            self.state[tx.to].add_balance(tx.value)\n",
    "        \n",
    "    def apply(self, tx, miner):\n",
    "        self.add([tx.fr,tx.to,miner])\n",
    "        if tx.fr != tx.to: \n",
    "            assert val_sig(tx)\n",
    "            assert self.state[tx.fr].nonce  == tx.nonce\n",
    "            assert self.state[tx.fr].balance - tx.value > 0\n",
    "        else: \n",
    "            assert tx.fr == tx.to == miner\n",
    "        self.state[tx.fr].inc_nonce()\n",
    "        self.state[tx.fr].sub_balance(tx.value)\n",
    "        self.state[tx.to].add_balance(tx.value)\n",
    "        self.state[miner].add_balance(tx.fee)\n",
    "        return True\n",
    "    \n",
    "    def apply_reward(self, miner, reward):\n",
    "        self.state[miner].add_balance(reward)\n",
    "    \n",
    "    def __getitem__(self, key): return self.state[key] \n",
    "    def __str__(self):\n",
    "        return '\\n'.join(f'{ph(k)}\\n{v}\\n' for k,v in self.state.items())"
   ]
  },
  {
   "cell_type": "markdown",
   "id": "precious-parts",
   "metadata": {},
   "source": [
    "## Blockchain\n",
    "\n",
    "Consists of a number of blocks. Each block points to the block that came before it. Imagine a linked list of blocks linked by its `prev_hash`.\n",
    "\n",
    "A `candidate` block is one that could be used for mining."
   ]
  },
  {
   "cell_type": "code",
   "execution_count": 23,
   "id": "stylish-sleeping",
   "metadata": {},
   "outputs": [],
   "source": [
    "class Blockchain:\n",
    "    def __init__(self, gb):\n",
    "        self.state  = State()\n",
    "        self.blocks = []\n",
    "        self.state.init(gb)\n",
    "        self.blocks.append(gb)\n",
    "\n",
    "    def candidate(self, txs):\n",
    "        mt = MerkleTree(txs)\n",
    "        bh = Header(mt.root, self.blocks[-1].hash, len(self.blocks), len(txs))\n",
    "        return Block(bh, txs)\n",
    "        \n",
    "    def add(self, mb):\n",
    "        assert self.val(mb)\n",
    "        for tx in mb.txs.values(): assert self.state.apply(tx, mb.header.miner)\n",
    "        self.state.apply_reward(mb.header.miner, mb.header.reward)\n",
    "        self.blocks.append(mb)\n",
    "        return True\n",
    "    \n",
    "    def val(self, mb):\n",
    "        bh = mb.header\n",
    "        assert val_pow(mb)\n",
    "        assert bh.number == len(self.blocks)\n",
    "        if len(self.blocks) > 0: assert self.blocks[-1].hash == bh.prev_hash\n",
    "        return True\n",
    "    \n",
    "    def __getitem__(self, key): return self.state.__getitem__(key)\n",
    "    def __str__(self): \n",
    "        return (('\\n'*2+'--'*20+'\\n'*2).join(f'{str(block)}' for block in self.blocks)\n",
    "                +'\\n'*2+'-'*6+'\\nstate:\\n'+'-'*6\n",
    "                +'\\n'+str(self.state))"
   ]
  },
  {
   "cell_type": "code",
   "execution_count": 24,
   "id": "western-definition",
   "metadata": {},
   "outputs": [],
   "source": [
    "acc1,acc2,acc3 = Account(),Account(),Account()\n",
    "miner = Miner(acc3)"
   ]
  },
  {
   "cell_type": "code",
   "execution_count": 25,
   "id": "potential-pound",
   "metadata": {},
   "outputs": [],
   "source": [
    "tx1 = acc1.signed_tx(acc2, 24, 0.1)\n",
    "tx2 = acc2.signed_tx(acc1, 18, 0.12)\n",
    "\n",
    "gb = mine_genesis([tx1, tx2])"
   ]
  },
  {
   "cell_type": "code",
   "execution_count": 27,
   "id": "worst-county",
   "metadata": {},
   "outputs": [
    {
     "name": "stdout",
     "output_type": "stream",
     "text": [
      "root:          📤 0x7e04e96571...ee3\n",
      "hash:          🕟 0xf9a0ba7c86...223\n",
      "prev_hash:     0x0\n",
      "number:        0\n",
      "n_txs:         2\n",
      "mined:         False\n",
      "time:          1617571974.650272 eth\n",
      "volume:        42.0 eth\n",
      "fees:          0.22 eth\n",
      "\n",
      "txs:\n",
      "💳 0x4D4d -> 🕗 0xf19d 24.0 eth\n",
      "🕗 0xf19d -> 💳 0x4D4d 18.0 eth\n",
      "\n",
      "------\n",
      "state:\n",
      "------\n",
      "💳 0x4D4d017Ea9...444\n",
      "balance: 18.0\n",
      "nonce: 1\n",
      "\n",
      "🕗 0xf19dB46598...b3C\n",
      "balance: 24.0\n",
      "nonce: 1\n",
      "\n"
     ]
    }
   ],
   "source": [
    "bc = Blockchain(gb); print(bc)"
   ]
  },
  {
   "cell_type": "code",
   "execution_count": 28,
   "id": "blessed-behavior",
   "metadata": {},
   "outputs": [
    {
     "name": "stdout",
     "output_type": "stream",
     "text": [
      "root:          📤 0x7e04e96571...ee3\n",
      "hash:          🕟 0xf9a0ba7c86...223\n",
      "prev_hash:     0x0\n",
      "number:        0\n",
      "n_txs:         2\n",
      "mined:         False\n",
      "time:          1617571974.650272 eth\n",
      "volume:        42.0 eth\n",
      "fees:          0.22 eth\n",
      "\n",
      "txs:\n",
      "💳 0x4D4d -> 🕗 0xf19d 24.0 eth\n",
      "🕗 0xf19d -> 💳 0x4D4d 18.0 eth\n",
      "\n",
      "----------------------------------------\n",
      "\n",
      "root:          🔛 0xb50e329471...f16\n",
      "hash:          🔁 0x9b76e4fd28...650\n",
      "prev_hash:     🕟 0xf9a0ba7c86...223\n",
      "number:        1\n",
      "n_txs:         3\n",
      "mined:         True\n",
      "time:          1617571992.019669 eth\n",
      "diff:          2\n",
      "reward:        50\n",
      "miner:         👾 0x18a70Cd2EB...c68\n",
      "nonce:         12\n",
      "volume:        62.0 eth\n",
      "fees:          0.21 eth\n",
      "\n",
      "txs:\n",
      "👾 0x18a7 -> 👾 0x18a7 50.0 eth\n",
      "💳 0x4D4d -> 🕗 0xf19d 3.0 eth\n",
      "🕗 0xf19d -> 💳 0x4D4d 9.0 eth\n",
      "\n",
      "------\n",
      "state:\n",
      "------\n",
      "💳 0x4D4d017Ea9...444\n",
      "balance: 24.0\n",
      "nonce: 2\n",
      "\n",
      "🕗 0xf19dB46598...b3C\n",
      "balance: 18.0\n",
      "nonce: 2\n",
      "\n",
      "👾 0x18a70Cd2EB...c68\n",
      "balance: 50.21\n",
      "nonce: 1\n",
      "\n"
     ]
    }
   ],
   "source": [
    "tx1 = acc1.signed_tx(acc2, 3, 0.05)\n",
    "tx2 = acc2.signed_tx(acc1, 9, 0.16)\n",
    "\n",
    "block = bc.candidate([tx1,tx2])\n",
    "mb    = miner.mine([tx1,tx2], gb.header, 2, 50)\n",
    "bc.add(mb); print(bc)"
   ]
  },
  {
   "cell_type": "code",
   "execution_count": 9,
   "id": "placed-situation",
   "metadata": {
    "scrolled": false
   },
   "outputs": [
    {
     "name": "stdout",
     "output_type": "stream",
     "text": [
      "root:          🔅 0x9f49810139...5c3\n",
      "hash:          📹 0x93a42646e7...1da\n",
      "prev_hash:     0x0\n",
      "number:        0\n",
      "n_txs:         2\n",
      "mined:         False\n",
      "time:          Sat Apr  3 20:46:32 2021\n",
      "volume:        42.0 eth\n",
      "fees:          0.22 eth\n",
      "\n",
      "txs:\n",
      "📥 0x7f37 -> 🔎 0xa895 24.0 eth\n",
      "🔎 0xa895 -> 📥 0x7f37 18.0 eth\n",
      "\n",
      "----------------------------------------\n",
      "\n",
      "root:          📨 0x820597760a...24f\n",
      "hash:          💒 0x2c1c14f555...577\n",
      "prev_hash:     📹 0x93a42646e7...1da\n",
      "number:        1\n",
      "n_txs:         3\n",
      "mined:         True\n",
      "time:          Sat Apr  3 20:46:34 2021\n",
      "diff:          2\n",
      "reward:        50\n",
      "miner:         📽 0x979Ad81fa9...63D\n",
      "nonce:         237\n",
      "volume:        62.0 eth\n",
      "fees:          0.21 eth\n",
      "\n",
      "txs:\n",
      "📽 0x979A -> 📽 0x979A 50.0 eth\n",
      "📥 0x7f37 -> 🔎 0xa895 3.0 eth\n",
      "🔎 0xa895 -> 📥 0x7f37 9.0 eth\n",
      "\n",
      "----------------------------------------\n",
      "\n",
      "root:          💾 0x58760631ac...260\n",
      "hash:          🔿 0xd91c1d92d1...332\n",
      "prev_hash:     💒 0x2c1c14f555...577\n",
      "number:        2\n",
      "n_txs:         2\n",
      "mined:         True\n",
      "time:          Sat Apr  3 20:46:36 2021\n",
      "diff:          2\n",
      "reward:        50\n",
      "miner:         📽 0x979Ad81fa9...63D\n",
      "nonce:         426\n",
      "volume:        62.0 eth\n",
      "fees:          1.5 eth\n",
      "\n",
      "txs:\n",
      "📽 0x979A -> 📽 0x979A 50.0 eth\n",
      "🔎 0xa895 -> 🕛 0xf595 12.0 eth\n",
      "\n",
      "------\n",
      "state:\n",
      "------\n",
      "📥 0x7f3729B312...005\n",
      "balance: 24.0\n",
      "nonce: 2\n",
      "\n",
      "🔎 0xa89597dF3d...0e6\n",
      "balance: 6.0\n",
      "nonce: 3\n",
      "\n",
      "📽 0x979Ad81fa9...63D\n",
      "balance: 101.71000000000001\n",
      "nonce: 2\n",
      "\n",
      "🕛 0xf595222089...a3a\n",
      "balance: 12.0\n",
      "nonce: 0\n",
      "\n"
     ]
    }
   ],
   "source": [
    "acc4 = Account()\n",
    "tx1 = acc2.signed_tx(acc4, 12, 1.5)\n",
    "\n",
    "block = bc.candidate([tx1])\n",
    "mb    = miner.mine([tx1], mb.header, 2, 50)\n",
    "bc.add(mb); print(bc)"
   ]
  }
 ],
 "metadata": {
  "kernelspec": {
   "display_name": "Python 3",
   "language": "python",
   "name": "python3"
  },
  "language_info": {
   "codemirror_mode": {
    "name": "ipython",
    "version": 3
   },
   "file_extension": ".py",
   "mimetype": "text/x-python",
   "name": "python",
   "nbconvert_exporter": "python",
   "pygments_lexer": "ipython3",
   "version": "3.9.2"
  }
 },
 "nbformat": 4,
 "nbformat_minor": 5
}
