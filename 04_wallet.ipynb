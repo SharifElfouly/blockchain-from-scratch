{
 "cells": [
  {
   "cell_type": "code",
   "execution_count": null,
   "id": "impossible-drive",
   "metadata": {},
   "outputs": [],
   "source": [
    "%%capture\n",
    "%run 02_transaction.ipynb"
   ]
  },
  {
   "cell_type": "code",
   "execution_count": null,
   "id": "floating-friendly",
   "metadata": {},
   "outputs": [],
   "source": [
    "from eth_account.messages import encode_defunct as encode_msg\n",
    "import web3 as w3; w3 = w3.Account"
   ]
  },
  {
   "cell_type": "markdown",
   "id": "manufactured-champagne",
   "metadata": {},
   "source": [
    "Create a public key `pub_key`, private key `priv_key` pair. The public key is used as an address and the private key is used for signing txs. The `priv_key` is basically your password."
   ]
  },
  {
   "cell_type": "code",
   "execution_count": null,
   "id": "closing-quarterly",
   "metadata": {},
   "outputs": [],
   "source": [
    "def keys():\n",
    "    acc = w3.create()\n",
    "    return acc.privateKey.hex(), acc.address\n",
    "\n",
    "priv_key,pub_key = keys()\n",
    "ph(priv_key), ph(pub_key)"
   ]
  },
  {
   "cell_type": "code",
   "execution_count": null,
   "id": "1c493d87",
   "metadata": {},
   "outputs": [],
   "source": [
    "priv_key"
   ]
  },
  {
   "cell_type": "markdown",
   "id": "intensive-trinidad",
   "metadata": {},
   "source": [
    "## Wallet\n",
    "\n",
    "Holds a key pair and is used for signing txs. The `nonce` keeps track of the number of txs made with this account."
   ]
  },
  {
   "cell_type": "code",
   "execution_count": null,
   "id": "above-think",
   "metadata": {},
   "outputs": [],
   "source": [
    "class Wallet:\n",
    "    def __init__(self): \n",
    "        self.priv, self.pub = keys()\n",
    "        self.nonce = 0\n",
    "        \n",
    "    def sign(self, tx):\n",
    "        self.nonce += 1\n",
    "        m = encode_msg(bytes(tx))\n",
    "        sig = w3.sign_message(m, self.priv)\n",
    "        tx.sig = sig.signature.hex()\n",
    "        return tx\n",
    "            \n",
    "    def signed_tx(self, to, value, fee):\n",
    "        tx = TX(self.pub, to.pub, value, fee, self.nonce)\n",
    "        return self.sign(tx)\n",
    "    \n",
    "    def __str__(self): return ph(self.pub)"
   ]
  },
  {
   "cell_type": "code",
   "execution_count": null,
   "id": "sustainable-arbitration",
   "metadata": {},
   "outputs": [],
   "source": [
    "acc1 = Wallet(); print(acc1)\n",
    "acc2 = Wallet(); print(acc2)"
   ]
  },
  {
   "cell_type": "markdown",
   "id": "rental-coaching",
   "metadata": {},
   "source": [
    "### Transaction Signing\n",
    "Signing a tx generates a signature that only the private key can produce. This can be later validated very efficiently."
   ]
  },
  {
   "cell_type": "code",
   "execution_count": null,
   "id": "hollow-dover",
   "metadata": {},
   "outputs": [],
   "source": [
    "tx        = TX(acc1.pub, acc2.pub, 12, 0.2, acc1.nonce)\n",
    "tx_signed = acc1.sign(tx)"
   ]
  },
  {
   "cell_type": "markdown",
   "id": "organized-librarian",
   "metadata": {},
   "source": [
    "The signature is exactly what Ethereum uses as well. There are some extra informations that the signature creates that we don't need. For more infos: https://medium.com/@angellopozo/ethereum-signing-and-validating-13a2d7cb0ee3"
   ]
  },
  {
   "cell_type": "code",
   "execution_count": null,
   "id": "chicken-omega",
   "metadata": {},
   "outputs": [],
   "source": [
    "tx_signed.sig"
   ]
  },
  {
   "cell_type": "markdown",
   "id": "graduate-lafayette",
   "metadata": {},
   "source": [
    "Accounts can generate a signed tx quickly with `signed_tx`."
   ]
  },
  {
   "cell_type": "code",
   "execution_count": null,
   "id": "understanding-explorer",
   "metadata": {},
   "outputs": [],
   "source": [
    "tx = acc1.signed_tx(acc2, 7, 0.3); print(tx)"
   ]
  },
  {
   "cell_type": "markdown",
   "id": "recorded-links",
   "metadata": {},
   "source": [
    "### Transaction Validation"
   ]
  },
  {
   "cell_type": "markdown",
   "id": "serial-diana",
   "metadata": {},
   "source": [
    "Validates if the tx was signed by the sender."
   ]
  },
  {
   "cell_type": "code",
   "execution_count": null,
   "id": "massive-robertson",
   "metadata": {},
   "outputs": [],
   "source": [
    "def val_sig(tx):\n",
    "    if not hasattr(tx, 'sig'): return False\n",
    "    m = encode_msg(bytes(tx))\n",
    "    return w3.recover_message(m, signature=tx.sig) == tx.fr"
   ]
  },
  {
   "cell_type": "code",
   "execution_count": null,
   "id": "improved-harrison",
   "metadata": {},
   "outputs": [],
   "source": [
    "assert val_sig(tx_signed)"
   ]
  },
  {
   "cell_type": "markdown",
   "id": "square-holiday",
   "metadata": {},
   "source": [
    "If anything in the tx is changed, like increasing the value to send, the signature should become invalid."
   ]
  },
  {
   "cell_type": "code",
   "execution_count": null,
   "id": "plain-israeli",
   "metadata": {},
   "outputs": [],
   "source": [
    "tx_signed.value = 30\n",
    "assert not val_sig(tx_signed)"
   ]
  }
 ],
 "metadata": {
  "kernelspec": {
   "display_name": "Python 3",
   "language": "python",
   "name": "python3"
  },
  "language_info": {
   "codemirror_mode": {
    "name": "ipython",
    "version": 3
   },
   "file_extension": ".py",
   "mimetype": "text/x-python",
   "name": "python",
   "nbconvert_exporter": "python",
   "pygments_lexer": "ipython3",
   "version": "3.9.2"
  }
 },
 "nbformat": 4,
 "nbformat_minor": 5
}
