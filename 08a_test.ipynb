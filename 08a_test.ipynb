{
 "cells": [
  {
   "cell_type": "code",
   "execution_count": 1,
   "id": "violent-accent",
   "metadata": {},
   "outputs": [],
   "source": [
    "%%capture\n",
    "%run 02_transaction.ipynb\n",
    "%run 05_block.ipynb"
   ]
  },
  {
   "cell_type": "code",
   "execution_count": 2,
   "id": "radical-regard",
   "metadata": {},
   "outputs": [],
   "source": [
    "import requests "
   ]
  },
  {
   "cell_type": "markdown",
   "id": "protective-entrepreneur",
   "metadata": {},
   "source": [
    "# API Test\n",
    "\n",
    "Some sanity checks for testing the APIs in `08_api.ipynb`."
   ]
  },
  {
   "cell_type": "code",
   "execution_count": 3,
   "id": "intelligent-testimony",
   "metadata": {},
   "outputs": [],
   "source": [
    "PORT = 5000\n",
    "URL  = f'http://localhost:{PORT}/' "
   ]
  },
  {
   "cell_type": "markdown",
   "id": "improving-product",
   "metadata": {},
   "source": [
    "## Block"
   ]
  },
  {
   "cell_type": "markdown",
   "id": "serious-finance",
   "metadata": {},
   "source": [
    "#### Post Block"
   ]
  },
  {
   "cell_type": "code",
   "execution_count": 4,
   "id": "subtle-marriage",
   "metadata": {},
   "outputs": [
    {
     "name": "stdout",
     "output_type": "stream",
     "text": [
      "200 OK\n"
     ]
    }
   ],
   "source": [
    "r = requests.post(URL+'block', json={'block': b.json()})\n",
    "print(r.status_code, r.reason)"
   ]
  },
  {
   "cell_type": "markdown",
   "id": "extended-prefix",
   "metadata": {},
   "source": [
    "#### Get Block"
   ]
  },
  {
   "cell_type": "code",
   "execution_count": 5,
   "id": "fatal-server",
   "metadata": {},
   "outputs": [
    {
     "name": "stdout",
     "output_type": "stream",
     "text": [
      "200 OK\n"
     ]
    }
   ],
   "source": [
    "r = requests.get(URL+'block', json={'hash': b.hash})\n",
    "print(r.status_code, r.reason)"
   ]
  },
  {
   "cell_type": "code",
   "execution_count": 6,
   "id": "hidden-trinity",
   "metadata": {},
   "outputs": [
    {
     "data": {
      "text/plain": [
       "{'fees': 0.2,\n",
       " 'hash': '0x843287d06c56a421d8721b6e129fa376ad5b72d5366d3ea856a97711c99a2a24',\n",
       " 'mined': False,\n",
       " 'n_txs': 4,\n",
       " 'number': 2,\n",
       " 'prev_hash': '0xd1134eadbc17e8f733025157ff919411ee37b361e097de0f104017c1d17dc5ff',\n",
       " 'root': '0x01cd0bf2c53bee7c700d3690cd60b4be5e961a7e5bddc33b1a5edd294820dc2b',\n",
       " 'sz': 4486,\n",
       " 'time': 1617371444.086585,\n",
       " 'txs': ['0x61653fb03c3965e317da7f5a2d3ab5070ff0582969fffa1c2f58792b9c040f69',\n",
       "  '0x73d21f7bf69476e177b9a7efcbc23eadeb8ca03f8d5175d2c40021364c7d8a2f',\n",
       "  '0xecea43e3dc2f1532c05de7b2885a23449d617f2ca23ab0c1fdb4fb0bc42c4d8a',\n",
       "  '0x352ad970992d6a96dab638c1851294e13d6483fb5a0fa94c11adc5e8e8752877'],\n",
       " 'volume': 24.0}"
      ]
     },
     "execution_count": 6,
     "metadata": {},
     "output_type": "execute_result"
    }
   ],
   "source": [
    "r.json()"
   ]
  },
  {
   "cell_type": "markdown",
   "id": "given-briefing",
   "metadata": {},
   "source": [
    "#### Get all Blocks"
   ]
  },
  {
   "cell_type": "code",
   "execution_count": 7,
   "id": "normal-harrison",
   "metadata": {},
   "outputs": [
    {
     "name": "stdout",
     "output_type": "stream",
     "text": [
      "200 OK\n"
     ]
    }
   ],
   "source": [
    "r = requests.get(URL+'blocks')\n",
    "print(r.status_code, r.reason)"
   ]
  },
  {
   "cell_type": "code",
   "execution_count": 8,
   "id": "removed-virtue",
   "metadata": {},
   "outputs": [
    {
     "data": {
      "text/plain": [
       "{'0x843287d06c56a421d8721b6e129fa376ad5b72d5366d3ea856a97711c99a2a24': {'fees': 0.2,\n",
       "  'hash': '0x843287d06c56a421d8721b6e129fa376ad5b72d5366d3ea856a97711c99a2a24',\n",
       "  'mined': False,\n",
       "  'n_txs': 4,\n",
       "  'number': 2,\n",
       "  'prev_hash': '0xd1134eadbc17e8f733025157ff919411ee37b361e097de0f104017c1d17dc5ff',\n",
       "  'root': '0x01cd0bf2c53bee7c700d3690cd60b4be5e961a7e5bddc33b1a5edd294820dc2b',\n",
       "  'sz': 4486,\n",
       "  'time': 1617371444.086585,\n",
       "  'txs': ['0x61653fb03c3965e317da7f5a2d3ab5070ff0582969fffa1c2f58792b9c040f69',\n",
       "   '0x73d21f7bf69476e177b9a7efcbc23eadeb8ca03f8d5175d2c40021364c7d8a2f',\n",
       "   '0xecea43e3dc2f1532c05de7b2885a23449d617f2ca23ab0c1fdb4fb0bc42c4d8a',\n",
       "   '0x352ad970992d6a96dab638c1851294e13d6483fb5a0fa94c11adc5e8e8752877'],\n",
       "  'volume': 24.0}}"
      ]
     },
     "execution_count": 8,
     "metadata": {},
     "output_type": "execute_result"
    }
   ],
   "source": [
    "r.json()"
   ]
  },
  {
   "cell_type": "markdown",
   "id": "herbal-subsection",
   "metadata": {},
   "source": [
    "## TX"
   ]
  },
  {
   "cell_type": "markdown",
   "id": "english-rough",
   "metadata": {},
   "source": [
    "#### Post TX"
   ]
  },
  {
   "cell_type": "code",
   "execution_count": 9,
   "id": "desperate-withdrawal",
   "metadata": {},
   "outputs": [
    {
     "name": "stdout",
     "output_type": "stream",
     "text": [
      "200 OK\n",
      "200 OK\n"
     ]
    }
   ],
   "source": [
    "r = requests.post(URL+'tx', json={'tx': tx1.json()})\n",
    "print(r.status_code, r.reason)\n",
    "\n",
    "r = requests.post(URL+'tx', json={'tx': tx2.json()})\n",
    "print(r.status_code, r.reason)"
   ]
  },
  {
   "cell_type": "markdown",
   "id": "constitutional-macedonia",
   "metadata": {},
   "source": [
    "#### Get TX"
   ]
  },
  {
   "cell_type": "code",
   "execution_count": 10,
   "id": "double-banner",
   "metadata": {},
   "outputs": [
    {
     "name": "stdout",
     "output_type": "stream",
     "text": [
      "200 OK\n"
     ]
    }
   ],
   "source": [
    "r = requests.get(URL+'tx', json={'hash': tx1.hash})\n",
    "print(r.status_code, r.reason)"
   ]
  },
  {
   "cell_type": "markdown",
   "id": "dental-montana",
   "metadata": {},
   "source": [
    "#### Get all TXs"
   ]
  },
  {
   "cell_type": "code",
   "execution_count": 11,
   "id": "ultimate-desert",
   "metadata": {},
   "outputs": [
    {
     "name": "stdout",
     "output_type": "stream",
     "text": [
      "200 OK\n"
     ]
    }
   ],
   "source": [
    "r = requests.get(URL+'txs')\n",
    "print(r.status_code, r.reason)"
   ]
  },
  {
   "cell_type": "code",
   "execution_count": 12,
   "id": "major-coach",
   "metadata": {},
   "outputs": [
    {
     "data": {
      "text/plain": [
       "{'0x08c08feee86cbab060d4d1969fb3263d16270e90c93fe531ebb939fd21e5892d': {'fee': 0.15,\n",
       "  'fr': '0x03f0843310736898bb6208bb16e704e1b2ac7af3d4a219197007f9eb0b116631',\n",
       "  'hash': '0x08c08feee86cbab060d4d1969fb3263d16270e90c93fe531ebb939fd21e5892d',\n",
       "  'nonce': 0,\n",
       "  'signed': False,\n",
       "  'time': 1617371443.802495,\n",
       "  'to': '0xe9fbd56947724b7d9cf228a018ee6cd86d8b4a9fe92103a9d89320bbb7fe7aa1',\n",
       "  'value': 6.0},\n",
       " '0x963dcf2d9cbe4a62985baddf5419861c3af6955b4b0952fc6145238a41984ed3': {'fee': 0.2,\n",
       "  'fr': '0x83351883dfd201c541db293ef78e6817054bf7bf34b277e53099002159ebf065',\n",
       "  'hash': '0x963dcf2d9cbe4a62985baddf5419861c3af6955b4b0952fc6145238a41984ed3',\n",
       "  'nonce': 0,\n",
       "  'sig': '0xb29de62f050f0a768ead1461eb1485196d745f836af2f17a433b659447f92d33',\n",
       "  'signed': True,\n",
       "  'time': 1617371443.8024588,\n",
       "  'to': '0x4275b5c976e21863bc64abbb21758c308c92fd2c13d967b5206ac978f47c7518',\n",
       "  'value': 12.0}}"
      ]
     },
     "execution_count": 12,
     "metadata": {},
     "output_type": "execute_result"
    }
   ],
   "source": [
    "r.json()"
   ]
  }
 ],
 "metadata": {
  "kernelspec": {
   "display_name": "Python 3",
   "language": "python",
   "name": "python3"
  },
  "language_info": {
   "codemirror_mode": {
    "name": "ipython",
    "version": 3
   },
   "file_extension": ".py",
   "mimetype": "text/x-python",
   "name": "python",
   "nbconvert_exporter": "python",
   "pygments_lexer": "ipython3",
   "version": "3.8.2"
  }
 },
 "nbformat": 4,
 "nbformat_minor": 5
}
