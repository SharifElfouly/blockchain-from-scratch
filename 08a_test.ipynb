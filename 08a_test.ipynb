{
 "cells": [
  {
   "cell_type": "code",
   "execution_count": 199,
   "id": "affiliated-kingdom",
   "metadata": {},
   "outputs": [],
   "source": [
    "%%capture\n",
    "%run 02_transaction.ipynb\n",
    "%run 06_mine.ipynb\n",
    "%run 04_account.ipynb"
   ]
  },
  {
   "cell_type": "code",
   "execution_count": 200,
   "id": "verified-tourism",
   "metadata": {},
   "outputs": [],
   "source": [
    "import requests "
   ]
  },
  {
   "cell_type": "markdown",
   "id": "interesting-eugene",
   "metadata": {},
   "source": [
    "# API Test\n",
    "\n",
    "Some sanity checks for testing the APIs in `08_api.ipynb`."
   ]
  },
  {
   "cell_type": "code",
   "execution_count": 201,
   "id": "intense-entrepreneur",
   "metadata": {},
   "outputs": [],
   "source": [
    "PORT = 5000\n",
    "URL  = f'http://localhost:{PORT}/' "
   ]
  },
  {
   "cell_type": "markdown",
   "id": "limited-parallel",
   "metadata": {},
   "source": [
    "## Accounts"
   ]
  },
  {
   "cell_type": "code",
   "execution_count": 202,
   "id": "healthy-breath",
   "metadata": {},
   "outputs": [],
   "source": [
    "satochi,finney,szabo = Account(),Account(),Account()"
   ]
  },
  {
   "cell_type": "markdown",
   "id": "familiar-mortality",
   "metadata": {},
   "source": [
    "## Block"
   ]
  },
  {
   "cell_type": "markdown",
   "id": "written-event",
   "metadata": {},
   "source": [
    "#### Create Genesis Block"
   ]
  },
  {
   "cell_type": "code",
   "execution_count": 203,
   "id": "discrete-funeral",
   "metadata": {},
   "outputs": [],
   "source": [
    "tx1 = satochi.signed_tx(finney, 10, 0.0)\n",
    "tx2 = satochi.signed_tx(szabo,  10,  0.0)\n",
    "miner = Miner(satochi)\n",
    "\n",
    "gb = mine_genesis([tx1,tx2])"
   ]
  },
  {
   "cell_type": "markdown",
   "id": "smoking-clear",
   "metadata": {},
   "source": [
    "#### Post Genesis Block"
   ]
  },
  {
   "cell_type": "code",
   "execution_count": 204,
   "id": "sharp-assistant",
   "metadata": {},
   "outputs": [],
   "source": [
    "r = requests.post(URL+'gb', json={'gb': gb.json()})\n",
    "assert r.status_code == 200"
   ]
  },
  {
   "cell_type": "markdown",
   "id": "dynamic-sense",
   "metadata": {},
   "source": [
    "#### Get Genesis Block"
   ]
  },
  {
   "cell_type": "code",
   "execution_count": 205,
   "id": "elect-mexico",
   "metadata": {},
   "outputs": [],
   "source": [
    "r = requests.get(URL+'block/'+str(0))\n",
    "assert r.status_code == 200"
   ]
  },
  {
   "cell_type": "markdown",
   "id": "adult-instruction",
   "metadata": {},
   "source": [
    "#### Mine new Block"
   ]
  },
  {
   "cell_type": "code",
   "execution_count": 206,
   "id": "medieval-advantage",
   "metadata": {},
   "outputs": [],
   "source": [
    "tx3 = finney.signed_tx(szabo, 3, 0.2)\n",
    "#tx4 = satochi.signed_tx(szabo, 5, 0.1)\n",
    "\n",
    "mb = miner.mine([tx3], gb.header, 2, 10)"
   ]
  },
  {
   "cell_type": "code",
   "execution_count": 207,
   "id": "pregnant-importance",
   "metadata": {},
   "outputs": [],
   "source": [
    "r = requests.post(URL+'block', json={'block': mb.json()})\n",
    "assert r.status_code == 200"
   ]
  },
  {
   "cell_type": "markdown",
   "id": "constant-variance",
   "metadata": {},
   "source": [
    "#### Get all Blocks"
   ]
  },
  {
   "cell_type": "code",
   "execution_count": 37,
   "id": "coral-kernel",
   "metadata": {},
   "outputs": [],
   "source": [
    "r = requests.get(URL+'blocks')\n",
    "assert r.status_code == 200"
   ]
  },
  {
   "cell_type": "markdown",
   "id": "cooked-august",
   "metadata": {},
   "source": [
    "#### Post Block"
   ]
  },
  {
   "cell_type": "code",
   "execution_count": 34,
   "id": "regular-defense",
   "metadata": {},
   "outputs": [],
   "source": [
    "r = requests.post(URL+'block', json={'block': b.json()})\n",
    "assert r.status_code == 200"
   ]
  },
  {
   "cell_type": "markdown",
   "id": "hazardous-research",
   "metadata": {},
   "source": [
    "#### Post `N` blocks"
   ]
  },
  {
   "cell_type": "code",
   "execution_count": 35,
   "id": "mounted-container",
   "metadata": {},
   "outputs": [],
   "source": [
    "N = 15\n",
    "\n",
    "for i in range(N):\n",
    "    b.header.number = b.header.number+1 \n",
    "    b.header.hash = b.header.hash + str(i)\n",
    "    r = requests.post(URL+'block', json={'block': b.json()})\n",
    "    assert r.status_code == 200"
   ]
  },
  {
   "cell_type": "markdown",
   "id": "aware-certification",
   "metadata": {},
   "source": [
    "## TX"
   ]
  },
  {
   "cell_type": "markdown",
   "id": "italic-joshua",
   "metadata": {},
   "source": [
    "#### Post TX"
   ]
  },
  {
   "cell_type": "code",
   "execution_count": 17,
   "id": "northern-label",
   "metadata": {},
   "outputs": [
    {
     "name": "stdout",
     "output_type": "stream",
     "text": [
      "200 OK\n",
      "200 OK\n"
     ]
    }
   ],
   "source": [
    "r = requests.post(URL+'tx', json={'tx': tx1.json()})\n",
    "print(r.status_code, r.reason)\n",
    "\n",
    "r = requests.post(URL+'tx', json={'tx': tx2.json()})\n",
    "print(r.status_code, r.reason)"
   ]
  },
  {
   "cell_type": "code",
   "execution_count": 18,
   "id": "copyrighted-thriller",
   "metadata": {},
   "outputs": [
    {
     "name": "stdout",
     "output_type": "stream",
     "text": [
      "200 OK\n"
     ]
    }
   ],
   "source": [
    "tx1.value = 22\n",
    "r = requests.post(URL+'tx', json={'tx': tx1.json()})\n",
    "print(r.status_code, r.reason)"
   ]
  },
  {
   "cell_type": "markdown",
   "id": "arctic-angle",
   "metadata": {},
   "source": [
    "#### Get TX"
   ]
  },
  {
   "cell_type": "code",
   "execution_count": 19,
   "id": "normal-pound",
   "metadata": {},
   "outputs": [
    {
     "name": "stdout",
     "output_type": "stream",
     "text": [
      "200 OK\n"
     ]
    }
   ],
   "source": [
    "r = requests.get(URL+'tx/'+tx1.hash)\n",
    "print(r.status_code, r.reason)"
   ]
  },
  {
   "cell_type": "markdown",
   "id": "divided-empty",
   "metadata": {},
   "source": [
    "#### Get all TXs"
   ]
  },
  {
   "cell_type": "code",
   "execution_count": 20,
   "id": "speaking-province",
   "metadata": {},
   "outputs": [
    {
     "name": "stdout",
     "output_type": "stream",
     "text": [
      "200 OK\n"
     ]
    }
   ],
   "source": [
    "r = requests.get(URL+'txs')\n",
    "print(r.status_code, r.reason)"
   ]
  },
  {
   "cell_type": "code",
   "execution_count": 21,
   "id": "artificial-exercise",
   "metadata": {},
   "outputs": [
    {
     "data": {
      "text/plain": [
       "{'transactions': [{'fee': 0.2,\n",
       "   'fr': '0xeda3b0bbb30bca6ded5a889a7163ebc086819e501af74b06e78a5029afd8a229',\n",
       "   'hash': '0x1675d9e066e7bed2af450d57d47a90ca7edaaf7db194eea033c86ab807d46b3d',\n",
       "   'nonce': 0,\n",
       "   'sig': '0xba72580e30e32b1f154b755df73fc220fed0683e2fac61ae9e5aff1549c3024c',\n",
       "   'signed': True,\n",
       "   'time': 1617475887.7464252,\n",
       "   'to': '0xe241fcdc6a993ef59616e960620b282c8be9b4da6e5ee93d51a767e0a2817512',\n",
       "   'value': 12.0},\n",
       "  {'fee': 0.15,\n",
       "   'fr': '0x32f4c36f3db6fd7a8807a8bb272dfcb981c55c1a570265a8a89d81bc35784878',\n",
       "   'hash': '0xe447bc841613257694828a6ac31f5fb9a079f418305fc197446b3d24d443e630',\n",
       "   'nonce': 0,\n",
       "   'signed': False,\n",
       "   'time': 1617475887.74646,\n",
       "   'to': '0x76103c8453e713fe8c87208216ea6c25e8daaae869b26c1ac9e9a7e8ef46fa8f',\n",
       "   'value': 6.0},\n",
       "  {'fee': 0.2,\n",
       "   'fr': '0xeda3b0bbb30bca6ded5a889a7163ebc086819e501af74b06e78a5029afd8a229',\n",
       "   'hash': '0xf72920a8a739c5e104c828ecdebae6eb53239ba1939156b9bc45f3edec63a134',\n",
       "   'nonce': 0,\n",
       "   'sig': '0xba72580e30e32b1f154b755df73fc220fed0683e2fac61ae9e5aff1549c3024c',\n",
       "   'signed': True,\n",
       "   'time': 1617475887.7464252,\n",
       "   'to': '0xe241fcdc6a993ef59616e960620b282c8be9b4da6e5ee93d51a767e0a2817512',\n",
       "   'value': 22}]}"
      ]
     },
     "execution_count": 21,
     "metadata": {},
     "output_type": "execute_result"
    }
   ],
   "source": [
    "r.json()"
   ]
  },
  {
   "cell_type": "code",
   "execution_count": null,
   "id": "distinguished-lotus",
   "metadata": {},
   "outputs": [],
   "source": []
  }
 ],
 "metadata": {
  "kernelspec": {
   "display_name": "Python 3",
   "language": "python",
   "name": "python3"
  },
  "language_info": {
   "codemirror_mode": {
    "name": "ipython",
    "version": 3
   },
   "file_extension": ".py",
   "mimetype": "text/x-python",
   "name": "python",
   "nbconvert_exporter": "python",
   "pygments_lexer": "ipython3",
   "version": "3.8.2"
  }
 },
 "nbformat": 4,
 "nbformat_minor": 5
}
