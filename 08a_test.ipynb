{
 "cells": [
  {
   "cell_type": "code",
   "execution_count": 1,
   "id": "affiliated-kingdom",
   "metadata": {},
   "outputs": [],
   "source": [
    "%%capture\n",
    "%run 02_transaction.ipynb\n",
    "%run 06_mine.ipynb\n",
    "%run 04_account.ipynb"
   ]
  },
  {
   "cell_type": "code",
   "execution_count": 2,
   "id": "verified-tourism",
   "metadata": {},
   "outputs": [],
   "source": [
    "import requests "
   ]
  },
  {
   "cell_type": "markdown",
   "id": "interesting-eugene",
   "metadata": {},
   "source": [
    "# API Test\n",
    "\n",
    "Some sanity checks for testing the APIs in `08_api.ipynb`."
   ]
  },
  {
   "cell_type": "code",
   "execution_count": 3,
   "id": "intense-entrepreneur",
   "metadata": {},
   "outputs": [],
   "source": [
    "PORT = 5000\n",
    "URL  = f'http://localhost:{PORT}/' "
   ]
  },
  {
   "cell_type": "markdown",
   "id": "limited-parallel",
   "metadata": {},
   "source": [
    "### Accounts"
   ]
  },
  {
   "cell_type": "code",
   "execution_count": 4,
   "id": "healthy-breath",
   "metadata": {},
   "outputs": [],
   "source": [
    "satochi,finney,szabo = Account(),Account(),Account()"
   ]
  },
  {
   "cell_type": "markdown",
   "id": "familiar-mortality",
   "metadata": {},
   "source": [
    "# Block"
   ]
  },
  {
   "cell_type": "markdown",
   "id": "written-event",
   "metadata": {},
   "source": [
    "#### Create Genesis Block"
   ]
  },
  {
   "cell_type": "code",
   "execution_count": 5,
   "id": "discrete-funeral",
   "metadata": {},
   "outputs": [],
   "source": [
    "tx1 = satochi.signed_tx(finney, 10, 0.0)\n",
    "tx2 = satochi.signed_tx(szabo,  10,  0.0)\n",
    "miner = Miner(satochi)\n",
    "\n",
    "gb = mine_genesis([tx1,tx2])"
   ]
  },
  {
   "cell_type": "markdown",
   "id": "smoking-clear",
   "metadata": {},
   "source": [
    "#### Post Genesis Block"
   ]
  },
  {
   "cell_type": "code",
   "execution_count": 6,
   "id": "sharp-assistant",
   "metadata": {},
   "outputs": [],
   "source": [
    "r = requests.post(URL+'gb', json={'gb': gb.json()})\n",
    "assert r.status_code == 200"
   ]
  },
  {
   "cell_type": "markdown",
   "id": "dynamic-sense",
   "metadata": {},
   "source": [
    "#### Get Genesis Block"
   ]
  },
  {
   "cell_type": "code",
   "execution_count": 7,
   "id": "elect-mexico",
   "metadata": {},
   "outputs": [],
   "source": [
    "r = requests.get(URL+'block/'+str(0))\n",
    "assert r.status_code == 200"
   ]
  },
  {
   "cell_type": "markdown",
   "id": "adult-instruction",
   "metadata": {},
   "source": [
    "#### Mine new Block"
   ]
  },
  {
   "cell_type": "code",
   "execution_count": 8,
   "id": "medieval-advantage",
   "metadata": {},
   "outputs": [],
   "source": [
    "tx3 = finney.signed_tx(szabo, 3, 0.2)\n",
    "mb = miner.mine([tx3], gb.header, 2, 10)"
   ]
  },
  {
   "cell_type": "code",
   "execution_count": 9,
   "id": "pregnant-importance",
   "metadata": {},
   "outputs": [],
   "source": [
    "r = requests.post(URL+'block', json={'block': mb.json()})\n",
    "assert r.status_code == 200"
   ]
  },
  {
   "cell_type": "markdown",
   "id": "constant-variance",
   "metadata": {},
   "source": [
    "#### Get all Blocks"
   ]
  },
  {
   "cell_type": "code",
   "execution_count": 10,
   "id": "coral-kernel",
   "metadata": {},
   "outputs": [],
   "source": [
    "r = requests.get(URL+'blocks')\n",
    "#json.loads(json.loads(r.json()['blocks'])[0])\n",
    "assert r.status_code == 200"
   ]
  },
  {
   "cell_type": "markdown",
   "id": "aware-certification",
   "metadata": {},
   "source": [
    "# TX"
   ]
  },
  {
   "cell_type": "markdown",
   "id": "arctic-angle",
   "metadata": {},
   "source": [
    "#### Get TX"
   ]
  },
  {
   "cell_type": "code",
   "execution_count": 11,
   "id": "normal-pound",
   "metadata": {},
   "outputs": [],
   "source": [
    "tx_hash = list(mb.txs.keys())[0]\n",
    "\n",
    "r = requests.get(URL+'tx/'+str(mb.header.number)+'/'+tx_hash)\n",
    "assert r.status_code == 200"
   ]
  },
  {
   "cell_type": "code",
   "execution_count": 12,
   "id": "cb411c7b",
   "metadata": {},
   "outputs": [],
   "source": [
    "r = requests.get(URL+'tx/'+str(1)+'/'+tx_hash)\n",
    "assert r.status_code == 200"
   ]
  },
  {
   "cell_type": "markdown",
   "id": "divided-empty",
   "metadata": {},
   "source": [
    "#### Get all TXs"
   ]
  },
  {
   "cell_type": "code",
   "execution_count": 13,
   "id": "speaking-province",
   "metadata": {},
   "outputs": [],
   "source": [
    "r = requests.get(URL+'txs')\n",
    "assert r.status_code == 200"
   ]
  },
  {
   "cell_type": "markdown",
   "id": "f5f5ab32",
   "metadata": {},
   "source": [
    "## Get Account"
   ]
  },
  {
   "cell_type": "code",
   "execution_count": 14,
   "id": "968bf032",
   "metadata": {},
   "outputs": [],
   "source": [
    "r = requests.get(URL+'acc/'+szabo.pub)\n",
    "assert r.status_code == 200"
   ]
  }
 ],
 "metadata": {
  "kernelspec": {
   "display_name": "Python 3",
   "language": "python",
   "name": "python3"
  },
  "language_info": {
   "codemirror_mode": {
    "name": "ipython",
    "version": 3
   },
   "file_extension": ".py",
   "mimetype": "text/x-python",
   "name": "python",
   "nbconvert_exporter": "python",
   "pygments_lexer": "ipython3",
   "version": "3.9.2"
  }
 },
 "nbformat": 4,
 "nbformat_minor": 5
}
