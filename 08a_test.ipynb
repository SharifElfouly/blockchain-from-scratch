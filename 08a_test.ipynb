{
 "cells": [
  {
   "cell_type": "code",
   "execution_count": 1,
   "metadata": {},
   "outputs": [],
   "source": [
    "%%capture\n",
    "%run 02_transaction.ipynb\n",
    "%run 05_block.ipynb"
   ]
  },
  {
   "cell_type": "code",
   "execution_count": 2,
   "metadata": {},
   "outputs": [],
   "source": [
    "import requests "
   ]
  },
  {
   "cell_type": "markdown",
   "metadata": {},
   "source": [
    "# API Test\n",
    "\n",
    "Some sanity checks for testing the APIs in `08_api.ipynb`."
   ]
  },
  {
   "cell_type": "code",
   "execution_count": 3,
   "metadata": {},
   "outputs": [],
   "source": [
    "PORT = 5000\n",
    "URL  = f'http://localhost:{PORT}/' "
   ]
  },
  {
   "cell_type": "markdown",
   "metadata": {},
   "source": [
    "## Block"
   ]
  },
  {
   "cell_type": "markdown",
   "metadata": {},
   "source": [
    "#### Post Block"
   ]
  },
  {
   "cell_type": "code",
   "execution_count": 4,
   "metadata": {},
   "outputs": [
    {
     "name": "stdout",
     "output_type": "stream",
     "text": [
      "200 OK\n"
     ]
    }
   ],
   "source": [
    "r = requests.post(URL+'block', json={'block': b.json()})\n",
    "print(r.status_code, r.reason)"
   ]
  },
  {
   "cell_type": "code",
   "execution_count": 5,
   "metadata": {},
   "outputs": [
    {
     "name": "stdout",
     "output_type": "stream",
     "text": [
      "200 OK\n"
     ]
    }
   ],
   "source": [
    "b.header.hash = '0x0'\n",
    "r = requests.post(URL+'block', json={'block': b.json()})\n",
    "print(r.status_code, r.reason)"
   ]
  },
  {
   "cell_type": "markdown",
   "metadata": {},
   "source": [
    "#### Get Block"
   ]
  },
  {
   "cell_type": "code",
   "execution_count": 6,
   "metadata": {},
   "outputs": [
    {
     "name": "stdout",
     "output_type": "stream",
     "text": [
      "200 OK\n"
     ]
    }
   ],
   "source": [
    "r = requests.get(URL+'block/'+b.header.hash)\n",
    "print(r.status_code, r.reason)"
   ]
  },
  {
   "cell_type": "code",
   "execution_count": 7,
   "metadata": {},
   "outputs": [
    {
     "data": {
      "text/plain": [
       "{'fees': 0.2,\n",
       " 'hash': '0x613513a2f797d5a5aa1943ae3694315a859df55662436946964c0ec290f1d986',\n",
       " 'mined': False,\n",
       " 'n_txs': 4,\n",
       " 'number': 2,\n",
       " 'prev_hash': '0x6eb7d2ec66b4bae98c352983d9f7d1b920dc70eb8fb88c8b549f25a371374ca8',\n",
       " 'root': '0xda898923bde681da2028d5180360d72cdbd9e306863d796ac8fbb28a08c6b051',\n",
       " 'sz': 4654,\n",
       " 'time': 'Fri Apr  2 21:30:04 2021',\n",
       " 'txs': ['0x4eabe3c5f240569efdca1753116d8b275be2bee5730b8c9240cbea4a858527cc',\n",
       "  '0x7a00e9bbb2dafc9575455cfebd560212da90e1231a0c46eca298a5d027dd2819',\n",
       "  '0x95c0c32dc330911198b07453380818c4f80890732c2269493d0ee8ecb1979bfd',\n",
       "  '0x5a2ea2586b194bf8781d6968869e1f01e8961b7447d92455c268aac66935593f'],\n",
       " 'volume': 25.0}"
      ]
     },
     "execution_count": 7,
     "metadata": {},
     "output_type": "execute_result"
    }
   ],
   "source": [
    "r.json()"
   ]
  },
  {
   "cell_type": "markdown",
   "metadata": {},
   "source": [
    "#### Get all Blocks"
   ]
  },
  {
   "cell_type": "code",
   "execution_count": 8,
   "metadata": {},
   "outputs": [
    {
     "name": "stdout",
     "output_type": "stream",
     "text": [
      "200 OK\n"
     ]
    }
   ],
   "source": [
    "r = requests.get(URL+'blocks')\n",
    "print(r.status_code, r.reason)"
   ]
  },
  {
   "cell_type": "code",
   "execution_count": 9,
   "metadata": {},
   "outputs": [
    {
     "data": {
      "text/plain": [
       "{'blocks': [{'fees': 0.2,\n",
       "   'hash': '0x18f9a8c2b1182fd782ac8d670a8da2ee05621ed6a9b2d2d3cad86441a831e1cc',\n",
       "   'mined': False,\n",
       "   'n_txs': 4,\n",
       "   'number': 2,\n",
       "   'prev_hash': '0x6eb7d2ec66b4bae98c352983d9f7d1b920dc70eb8fb88c8b549f25a371374ca8',\n",
       "   'root': '0xda898923bde681da2028d5180360d72cdbd9e306863d796ac8fbb28a08c6b051',\n",
       "   'sz': 4654,\n",
       "   'time': 'Fri Apr  2 21:30:04 2021',\n",
       "   'txs': ['0x4eabe3c5f240569efdca1753116d8b275be2bee5730b8c9240cbea4a858527cc',\n",
       "    '0x7a00e9bbb2dafc9575455cfebd560212da90e1231a0c46eca298a5d027dd2819',\n",
       "    '0x95c0c32dc330911198b07453380818c4f80890732c2269493d0ee8ecb1979bfd',\n",
       "    '0x5a2ea2586b194bf8781d6968869e1f01e8961b7447d92455c268aac66935593f'],\n",
       "   'volume': 25.0},\n",
       "  {'fees': 0.2,\n",
       "   'hash': '0x613513a2f797d5a5aa1943ae3694315a859df55662436946964c0ec290f1d986',\n",
       "   'mined': False,\n",
       "   'n_txs': 4,\n",
       "   'number': 2,\n",
       "   'prev_hash': '0x6eb7d2ec66b4bae98c352983d9f7d1b920dc70eb8fb88c8b549f25a371374ca8',\n",
       "   'root': '0xda898923bde681da2028d5180360d72cdbd9e306863d796ac8fbb28a08c6b051',\n",
       "   'sz': 4654,\n",
       "   'time': 'Fri Apr  2 21:30:04 2021',\n",
       "   'txs': ['0x4eabe3c5f240569efdca1753116d8b275be2bee5730b8c9240cbea4a858527cc',\n",
       "    '0x7a00e9bbb2dafc9575455cfebd560212da90e1231a0c46eca298a5d027dd2819',\n",
       "    '0x95c0c32dc330911198b07453380818c4f80890732c2269493d0ee8ecb1979bfd',\n",
       "    '0x5a2ea2586b194bf8781d6968869e1f01e8961b7447d92455c268aac66935593f'],\n",
       "   'volume': 25.0}]}"
      ]
     },
     "execution_count": 9,
     "metadata": {},
     "output_type": "execute_result"
    }
   ],
   "source": [
    "r.json()"
   ]
  },
  {
   "cell_type": "markdown",
   "metadata": {},
   "source": [
    "## TX"
   ]
  },
  {
   "cell_type": "markdown",
   "metadata": {},
   "source": [
    "#### Post TX"
   ]
  },
  {
   "cell_type": "code",
   "execution_count": 10,
   "metadata": {},
   "outputs": [
    {
     "name": "stdout",
     "output_type": "stream",
     "text": [
      "200 OK\n",
      "200 OK\n"
     ]
    }
   ],
   "source": [
    "r = requests.post(URL+'tx', json={'tx': tx1.json()})\n",
    "print(r.status_code, r.reason)\n",
    "\n",
    "r = requests.post(URL+'tx', json={'tx': tx2.json()})\n",
    "print(r.status_code, r.reason)"
   ]
  },
  {
   "cell_type": "markdown",
   "metadata": {},
   "source": [
    "#### Get TX"
   ]
  },
  {
   "cell_type": "code",
   "execution_count": 11,
   "metadata": {},
   "outputs": [
    {
     "name": "stdout",
     "output_type": "stream",
     "text": [
      "200 OK\n"
     ]
    }
   ],
   "source": [
    "r = requests.get(URL+'tx/'+tx1.hash)\n",
    "print(r.status_code, r.reason)"
   ]
  },
  {
   "cell_type": "markdown",
   "metadata": {},
   "source": [
    "#### Get all TXs"
   ]
  },
  {
   "cell_type": "code",
   "execution_count": 12,
   "metadata": {},
   "outputs": [
    {
     "name": "stdout",
     "output_type": "stream",
     "text": [
      "200 OK\n"
     ]
    }
   ],
   "source": [
    "r = requests.get(URL+'txs')\n",
    "print(r.status_code, r.reason)"
   ]
  },
  {
   "cell_type": "code",
   "execution_count": 13,
   "metadata": {},
   "outputs": [
    {
     "data": {
      "text/plain": [
       "{'transactions': [{'fee': 0.2,\n",
       "   'fr': '0x9afff60b0b1d3a0853b700ada30df0d612e7423f124aed2e1ea3801defcfe680',\n",
       "   'hash': '0x20a8848bfd74542ab2caa67644ca5fa8b1cc2365098a61106d569a0c39df9d58',\n",
       "   'nonce': 0,\n",
       "   'sig': '0x4eb01dbd0309a1d423dd14b6a38cbcd72e3e40752c16e507ac1479b096d2be99',\n",
       "   'signed': True,\n",
       "   'time': 1617391803.4624956,\n",
       "   'to': '0x2769fb9df47ba2e7e4b23ef4f0c381a832eec3e56283c64b14fb692a05da2f7e',\n",
       "   'value': 12.0},\n",
       "  {'fee': 0.15,\n",
       "   'fr': '0x11c3665b3b1bc9bb2d0bd598301b0048768af17be3b4f203c41c0ab73f69985a',\n",
       "   'hash': '0x3233f6c9b7c4b1719f0a0d652aa3578a50d50a9aa359ab036308c31a555bdedf',\n",
       "   'nonce': 0,\n",
       "   'signed': False,\n",
       "   'time': 1617391803.4625466,\n",
       "   'to': '0x68ad4c76ce8b81676fd29579e3182334cdbc87e82999e12e5cbc2a238426870b',\n",
       "   'value': 6.0}]}"
      ]
     },
     "execution_count": 13,
     "metadata": {},
     "output_type": "execute_result"
    }
   ],
   "source": [
    "r.json()"
   ]
  }
 ],
 "metadata": {
  "kernelspec": {
   "display_name": "Python 3",
   "language": "python",
   "name": "python3"
  },
  "language_info": {
   "codemirror_mode": {
    "name": "ipython",
    "version": 3
   },
   "file_extension": ".py",
   "mimetype": "text/x-python",
   "name": "python",
   "nbconvert_exporter": "python",
   "pygments_lexer": "ipython3",
   "version": "3.6.9"
  }
 },
 "nbformat": 4,
 "nbformat_minor": 5
}
