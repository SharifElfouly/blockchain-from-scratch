{
 "cells": [
  {
   "cell_type": "code",
   "execution_count": 1,
   "id": "affiliated-kingdom",
   "metadata": {},
   "outputs": [],
   "source": [
    "%%capture\n",
    "%run 02_transaction.ipynb\n",
    "%run 06_mine.ipynb\n",
    "%run 04_account.ipynb"
   ]
  },
  {
   "cell_type": "code",
   "execution_count": 2,
   "id": "verified-tourism",
   "metadata": {},
   "outputs": [],
   "source": [
    "import requests "
   ]
  },
  {
   "cell_type": "markdown",
   "id": "interesting-eugene",
   "metadata": {},
   "source": [
    "# API Test\n",
    "\n",
    "Some sanity checks for testing the APIs in `08_api.ipynb`."
   ]
  },
  {
   "cell_type": "code",
   "execution_count": 3,
   "id": "intense-entrepreneur",
   "metadata": {},
   "outputs": [],
   "source": [
    "PORT = 5000\n",
    "URL  = f'http://localhost:{PORT}/' "
   ]
  },
  {
   "cell_type": "markdown",
   "id": "limited-parallel",
   "metadata": {},
   "source": [
    "### Accounts"
   ]
  },
  {
   "cell_type": "code",
   "execution_count": 4,
   "id": "healthy-breath",
   "metadata": {},
   "outputs": [],
   "source": [
    "satochi,finney,szabo = Account(),Account(),Account()"
   ]
  },
  {
   "cell_type": "markdown",
   "id": "familiar-mortality",
   "metadata": {},
   "source": [
    "# Block"
   ]
  },
  {
   "cell_type": "markdown",
   "id": "written-event",
   "metadata": {},
   "source": [
    "#### Create Genesis Block"
   ]
  },
  {
   "cell_type": "code",
   "execution_count": 5,
   "id": "discrete-funeral",
   "metadata": {},
   "outputs": [],
   "source": [
    "tx1 = satochi.signed_tx(finney, 10, 0.0)\n",
    "tx2 = satochi.signed_tx(szabo,  10,  0.0)\n",
    "miner = Miner(satochi)\n",
    "\n",
    "gb = mine_genesis([tx1,tx2])"
   ]
  },
  {
   "cell_type": "markdown",
   "id": "smoking-clear",
   "metadata": {},
   "source": [
    "#### Post Genesis Block"
   ]
  },
  {
   "cell_type": "code",
   "execution_count": 6,
   "id": "sharp-assistant",
   "metadata": {},
   "outputs": [],
   "source": [
    "r = requests.post(URL+'gb', json={'gb': gb.json()})\n",
    "assert r.status_code == 200"
   ]
  },
  {
   "cell_type": "markdown",
   "id": "dynamic-sense",
   "metadata": {},
   "source": [
    "#### Get Genesis Block"
   ]
  },
  {
   "cell_type": "code",
   "execution_count": 7,
   "id": "elect-mexico",
   "metadata": {},
   "outputs": [],
   "source": [
    "r = requests.get(URL+'block/'+str(0))\n",
    "assert r.status_code == 200"
   ]
  },
  {
   "cell_type": "markdown",
   "id": "adult-instruction",
   "metadata": {},
   "source": [
    "#### Mine new Block"
   ]
  },
  {
   "cell_type": "code",
   "execution_count": 8,
   "id": "medieval-advantage",
   "metadata": {},
   "outputs": [],
   "source": [
    "tx3 = finney.signed_tx(szabo, 3, 0.2)\n",
    "mb = miner.mine([tx3], gb.header, 2, 10)"
   ]
  },
  {
   "cell_type": "code",
   "execution_count": 9,
   "id": "pregnant-importance",
   "metadata": {},
   "outputs": [],
   "source": [
    "r = requests.post(URL+'block', json={'block': mb.json()})\n",
    "assert r.status_code == 200"
   ]
  },
  {
   "cell_type": "markdown",
   "id": "constant-variance",
   "metadata": {},
   "source": [
    "#### Get all Blocks"
   ]
  },
  {
   "cell_type": "code",
   "execution_count": 10,
   "id": "coral-kernel",
   "metadata": {},
   "outputs": [],
   "source": [
    "r = requests.get(URL+'blocks')\n",
    "#json.loads(json.loads(r.json()['blocks'])[0])\n",
    "assert r.status_code == 200"
   ]
  },
  {
   "cell_type": "markdown",
   "id": "aware-certification",
   "metadata": {},
   "source": [
    "# TX"
   ]
  },
  {
   "cell_type": "markdown",
   "id": "arctic-angle",
   "metadata": {},
   "source": [
    "#### Get TX"
   ]
  },
  {
   "cell_type": "code",
   "execution_count": 11,
   "id": "normal-pound",
   "metadata": {},
   "outputs": [],
   "source": [
    "tx_hash = list(mb.txs.keys())[0]\n",
    "\n",
    "r = requests.get(URL+'tx/'+str(mb.header.number)+'/'+tx_hash)\n",
    "assert r.status_code == 200"
   ]
  },
  {
   "cell_type": "code",
   "execution_count": 14,
   "id": "cb411c7b",
   "metadata": {},
   "outputs": [],
   "source": [
    "tx_hash = '0x8da6a5cf821772be51c478885fcbcd33d1dd53bbb53643d78dc228b9d75d9134'\n",
    "\n",
    "r = requests.get(URL+'tx/'+str(1)+'/'+tx_hash)\n",
    "assert r.status_code == 200"
   ]
  },
  {
   "cell_type": "code",
   "execution_count": 15,
   "id": "5e7e1372",
   "metadata": {},
   "outputs": [
    {
     "data": {
      "text/plain": [
       "{'tx': '{\\n    \"fr\": \"0x5bA8128935d88FD14be203B624613b1bB95a2E70\",\\n    \"hash\": \"0x8da6a5cf821772be51c478885fcbcd33d1dd53bbb53643d78dc228b9d75d9134\",\\n    \"to\": \"0x5bA8128935d88FD14be203B624613b1bB95a2E70\",\\n    \"value\": 10.0,\\n    \"fee\": 0,\\n    \"nonce\": 2,\\n    \"time\": 1617535409.902018,\\n    \"signed\": true,\\n    \"sig\": \"0x3d130613783a09d65e6dee2c7b43f86c78a532735e80174ba3d67d4027f16c637f4761406a503623ee9c3390db64151866221ab6119dfd22ff46a76a17d172241c\"\\n}'}"
      ]
     },
     "execution_count": 15,
     "metadata": {},
     "output_type": "execute_result"
    }
   ],
   "source": [
    "r.json()"
   ]
  },
  {
   "cell_type": "code",
   "execution_count": 17,
   "id": "953f7abd",
   "metadata": {},
   "outputs": [
    {
     "data": {
      "text/plain": [
       "'http://localhost:5000/tx/1/0x8da6a5cf821772be51c478885fcbcd33d1dd53bbb53643d78dc228b9d75d9134'"
      ]
     },
     "execution_count": 17,
     "metadata": {},
     "output_type": "execute_result"
    }
   ],
   "source": [
    "URL+'tx/'+str(1)+'/'+tx_hash"
   ]
  },
  {
   "cell_type": "code",
   "execution_count": 16,
   "id": "0e3739a8",
   "metadata": {},
   "outputs": [
    {
     "data": {
      "text/plain": [
       "'http://localhost:3000/tx/1/0x8da6a5cf821772be51c478885fcbcd33d1dd53bbb53643d78dc228b9d75d9134'"
      ]
     },
     "execution_count": 16,
     "metadata": {},
     "output_type": "execute_result"
    }
   ],
   "source": [
    "'http://localhost:3000/tx/1/0x8da6a5cf821772be51c478885fcbcd33d1dd53bbb53643d78dc228b9d75d9134'"
   ]
  },
  {
   "cell_type": "markdown",
   "id": "divided-empty",
   "metadata": {},
   "source": [
    "#### Get all TXs"
   ]
  },
  {
   "cell_type": "code",
   "execution_count": 12,
   "id": "speaking-province",
   "metadata": {},
   "outputs": [],
   "source": [
    "r = requests.get(URL+'txs')\n",
    "assert r.status_code == 200"
   ]
  }
 ],
 "metadata": {
  "kernelspec": {
   "display_name": "Python 3",
   "language": "python",
   "name": "python3"
  },
  "language_info": {
   "codemirror_mode": {
    "name": "ipython",
    "version": 3
   },
   "file_extension": ".py",
   "mimetype": "text/x-python",
   "name": "python",
   "nbconvert_exporter": "python",
   "pygments_lexer": "ipython3",
   "version": "3.9.2"
  }
 },
 "nbformat": 4,
 "nbformat_minor": 5
}
