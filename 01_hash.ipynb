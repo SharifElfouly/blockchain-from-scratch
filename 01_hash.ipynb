{
 "cells": [
  {
   "cell_type": "code",
   "execution_count": 5,
   "id": "revised-limit",
   "metadata": {},
   "outputs": [],
   "source": [
    "import time\n",
    "from hashlib import sha256"
   ]
  },
  {
   "cell_type": "markdown",
   "id": "southwest-saver",
   "metadata": {},
   "source": [
    "## Hash\n",
    "\n",
    "A hash function is one of the most important cryptographic primitives that we will use. It has the following characteristics:\n",
    "\n",
    "1. **fixed sized**: every input (also called message) creates a hash value of fixed size.\n",
    "2. **deterministic**: the same input will produce the same output every time.\n",
    "3. **one-way**: its practically infeasible to invert.\n",
    "4. **chaotic**: if only one bit changes the whole hash changes in a toatlly chaotic and random way.\n",
    "\n",
    "There are many differnt hash functions. Here we will use sha256. It returns 256 bits or 32 bytes. [This](https://emn178.github.io/online-tools/sha256.html) is a great site to look at other hash functions."
   ]
  },
  {
   "cell_type": "markdown",
   "id": "official-liquid",
   "metadata": {},
   "source": [
    "#### Create hash digest from string, int or float."
   ]
  },
  {
   "cell_type": "code",
   "execution_count": 12,
   "id": "thirty-medium",
   "metadata": {},
   "outputs": [],
   "source": [
    "sha = lambda x: '0x'+sha256(str(x).encode()).hexdigest()"
   ]
  },
  {
   "cell_type": "markdown",
   "id": "bright-respect",
   "metadata": {},
   "source": [
    "The same input will always produce the same output."
   ]
  },
  {
   "cell_type": "code",
   "execution_count": 14,
   "id": "grateful-analyst",
   "metadata": {},
   "outputs": [
    {
     "data": {
      "text/plain": [
       "'0xda2876b3eb31edb4436fa4650673fc6f01f90de2f1793c4ec332b2387b09726f'"
      ]
     },
     "execution_count": 14,
     "metadata": {},
     "output_type": "execute_result"
    }
   ],
   "source": [
    "sha('satoshi')"
   ]
  },
  {
   "cell_type": "markdown",
   "id": "geological-alaska",
   "metadata": {},
   "source": [
    "Changing the input just a little bit changes the whole hash chaotically."
   ]
  },
  {
   "cell_type": "code",
   "execution_count": 15,
   "id": "british-cleveland",
   "metadata": {},
   "outputs": [
    {
     "data": {
      "text/plain": [
       "'0x6e8ede54b52aa470457384685a073a6c7e60001ea3a1f4f2be8a6de8a65f5309'"
      ]
     },
     "execution_count": 15,
     "metadata": {},
     "output_type": "execute_result"
    }
   ],
   "source": [
    "sha('satochi2')"
   ]
  },
  {
   "cell_type": "markdown",
   "id": "infinite-appendix",
   "metadata": {},
   "source": [
    "#### Create random hash for testing."
   ]
  },
  {
   "cell_type": "code",
   "execution_count": 7,
   "id": "familiar-photograph",
   "metadata": {},
   "outputs": [
    {
     "data": {
      "text/plain": [
       "'0xad35fd6e63ef1bd5fd41ba857f6a7c0ff2100a33a68be65a9cc2bdb51f2f2e7a'"
      ]
     },
     "execution_count": 7,
     "metadata": {},
     "output_type": "execute_result"
    }
   ],
   "source": [
    "rh = lambda: sha(time.time())\n",
    "h  = rh(); h"
   ]
  },
  {
   "cell_type": "markdown",
   "id": "asian-bracket",
   "metadata": {},
   "source": [
    "#### Turn hash into one of 256 possible emojis. "
   ]
  },
  {
   "cell_type": "code",
   "execution_count": 8,
   "id": "several-bangladesh",
   "metadata": {},
   "outputs": [
    {
     "data": {
      "text/plain": [
       "'🔓'"
      ]
     },
     "execution_count": 8,
     "metadata": {},
     "output_type": "execute_result"
    }
   ],
   "source": [
    "def hash2emoji(h):\n",
    "    if h[:2]!='0x': h='0x'+h\n",
    "    offset  = int(h[0:4], 0)\n",
    "    unicode = b'\\U' + b'000' + str(hex(0x1F466+offset))[2:].encode()\n",
    "    return unicode.decode('unicode_escape')\n",
    "\n",
    "hash2emoji(h)"
   ]
  },
  {
   "cell_type": "markdown",
   "id": "analyzed-conditions",
   "metadata": {},
   "source": [
    "#### Print hash in a nice way."
   ]
  },
  {
   "cell_type": "code",
   "execution_count": 9,
   "id": "fewer-connectivity",
   "metadata": {},
   "outputs": [
    {
     "data": {
      "text/plain": [
       "'🔓 0xad35fd6e63...e7a'"
      ]
     },
     "execution_count": 9,
     "metadata": {},
     "output_type": "execute_result"
    }
   ],
   "source": [
    "def ph(h):\n",
    "    if len(h)<12: return h\n",
    "    else        : return hash2emoji(h)+' '+h[:12] + '...' + h[-3:]\n",
    "\n",
    "ph(h)"
   ]
  }
 ],
 "metadata": {
  "kernelspec": {
   "display_name": "Python 3",
   "language": "python",
   "name": "python3"
  },
  "language_info": {
   "codemirror_mode": {
    "name": "ipython",
    "version": 3
   },
   "file_extension": ".py",
   "mimetype": "text/x-python",
   "name": "python",
   "nbconvert_exporter": "python",
   "pygments_lexer": "ipython3",
   "version": "3.8.2"
  }
 },
 "nbformat": 4,
 "nbformat_minor": 5
}
