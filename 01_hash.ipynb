{
 "cells": [
  {
   "cell_type": "code",
   "execution_count": 119,
   "id": "several-segment",
   "metadata": {},
   "outputs": [],
   "source": [
    "import time\n",
    "from hashlib import sha256"
   ]
  },
  {
   "cell_type": "markdown",
   "id": "molecular-dragon",
   "metadata": {},
   "source": [
    "## Hash\n",
    "\n",
    "A hash function is one of the most important cryptographic primitives that we will use. It has the following characteristics:\n",
    "\n",
    "1. **fixed sized**: every input (also called message) creates a hash value of fixed size.\n",
    "2. **deterministic**: the same input will produce the same output every time.\n",
    "3. **one-way**: its practically infeasible to invert.\n",
    "4. **chaotic**: if only one bit changes the whole hash changes in a toatlly chaotic and random way.\n",
    "\n",
    "There are many differnt hash functions. Here we will use sha256 (used by Bitcoin). It returns 256 bits or 32 bytes. [This](https://emn178.github.io/online-tools/sha256.html) is a great site to look at other hash functions."
   ]
  },
  {
   "cell_type": "markdown",
   "id": "hindu-medicaid",
   "metadata": {},
   "source": [
    "#### Create hash digest from string, int or float."
   ]
  },
  {
   "cell_type": "code",
   "execution_count": null,
   "id": "innocent-india",
   "metadata": {},
   "outputs": [],
   "source": [
    "sha = lambda x: '0x'+sha256(str(x).encode()).hexdigest()"
   ]
  },
  {
   "cell_type": "markdown",
   "id": "special-moldova",
   "metadata": {},
   "source": [
    "The same input will always produce the same output."
   ]
  },
  {
   "cell_type": "code",
   "execution_count": null,
   "id": "blank-buying",
   "metadata": {},
   "outputs": [],
   "source": [
    "sha('satoshi')"
   ]
  },
  {
   "cell_type": "markdown",
   "id": "nonprofit-reliance",
   "metadata": {},
   "source": [
    "Changing the input just a little bit changes the whole hash chaotically."
   ]
  },
  {
   "cell_type": "code",
   "execution_count": null,
   "id": "cosmetic-morrison",
   "metadata": {},
   "outputs": [],
   "source": [
    "sha('satochi2')"
   ]
  },
  {
   "cell_type": "markdown",
   "id": "modern-negotiation",
   "metadata": {},
   "source": [
    "#### Create random hash for testing."
   ]
  },
  {
   "cell_type": "code",
   "execution_count": null,
   "id": "steady-supplement",
   "metadata": {},
   "outputs": [],
   "source": [
    "rh = lambda: sha(time.time())\n",
    "h  = rh(); h"
   ]
  },
  {
   "cell_type": "markdown",
   "id": "mexican-florence",
   "metadata": {},
   "source": [
    "#### Turn hash into one of 256 possible emojis. "
   ]
  },
  {
   "cell_type": "code",
   "execution_count": null,
   "id": "involved-blanket",
   "metadata": {},
   "outputs": [],
   "source": [
    "def hash2emoji(h):\n",
    "    if h[:2]!='0x': h='0x'+h\n",
    "    offset  = int(h[0:4], 0)\n",
    "    unicode = b'\\U' + b'000' + str(hex(0x1F466+offset))[2:].encode()\n",
    "    return unicode.decode('unicode_escape')\n",
    "\n",
    "hash2emoji(h)"
   ]
  },
  {
   "cell_type": "markdown",
   "id": "acting-communist",
   "metadata": {},
   "source": [
    "#### Print hash in a nice way."
   ]
  },
  {
   "cell_type": "code",
   "execution_count": null,
   "id": "sixth-currency",
   "metadata": {},
   "outputs": [],
   "source": [
    "def ph(h):\n",
    "    if len(h)<12: return h\n",
    "    else        : return hash2emoji(h)+' '+h[:12] + '...' + h[-3:]\n",
    "\n",
    "ph(h)"
   ]
  },
  {
   "cell_type": "markdown",
   "id": "flexible-hindu",
   "metadata": {},
   "source": [
    "Print mini hash."
   ]
  },
  {
   "cell_type": "code",
   "execution_count": null,
   "id": "pretty-internet",
   "metadata": {},
   "outputs": [],
   "source": [
    "def pmh(h):\n",
    "    if len(h)<6: return h\n",
    "    else       : return hash2emoji(h)+' '+h[:6]\n",
    "\n",
    "pmh(h)"
   ]
  },
  {
   "cell_type": "markdown",
   "id": "surface-vienna",
   "metadata": {},
   "source": [
    "## Hashable\n",
    "\n",
    "Objects that are hashable have some common properties."
   ]
  },
  {
   "cell_type": "code",
   "execution_count": null,
   "id": "secure-independence",
   "metadata": {},
   "outputs": [],
   "source": [
    "class Hashable:\n",
    "    def __eq__(self, other): return self.hash == other.hash\n",
    "    def __bytes__(self):     return self.hash.encode()\n",
    "    def json(self): return json.dumps({**self.__dict__}, indent=4)\n",
    "\n",
    "    \n",
    "    def __setattr__(self, prop, val):\n",
    "        super().__setattr__(prop, val)\n",
    "        if prop not in ['sig','signed','hash','nonce']: \n",
    "                super().__setattr__('hash', sha(self.__dict__))\n",
    "                \n",
    "    def __str__(self):\n",
    "        s = []\n",
    "        for k,v in self.__dict__.items():\n",
    "            p = f'{k}:'.ljust(15)\n",
    "            if hasattr(v,'messageHash'): s.append(p+ph(v.messageHash.hex()))\n",
    "            elif str(v)[:2]=='0x'      : s.append(p+ph(v))\n",
    "            elif type(v)   ==float     : s.append(p+str(round(v,8))+' eth')\n",
    "            else                       : s.append(p+str(v))\n",
    "        return '\\n'.join(s)"
   ]
  }
 ],
 "metadata": {
  "kernelspec": {
   "display_name": "Python 3",
   "language": "python",
   "name": "python3"
  },
  "language_info": {
   "codemirror_mode": {
    "name": "ipython",
    "version": 3
   },
   "file_extension": ".py",
   "mimetype": "text/x-python",
   "name": "python",
   "nbconvert_exporter": "python",
   "pygments_lexer": "ipython3",
   "version": "3.9.2"
  }
 },
 "nbformat": 4,
 "nbformat_minor": 5
}
