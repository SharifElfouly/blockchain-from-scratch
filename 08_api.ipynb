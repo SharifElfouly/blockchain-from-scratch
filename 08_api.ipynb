{
 "cells": [
  {
   "cell_type": "code",
   "execution_count": 1,
   "id": "tight-horizon",
   "metadata": {},
   "outputs": [],
   "source": [
    "%run 01_hash.ipynb"
   ]
  },
  {
   "cell_type": "code",
   "execution_count": 2,
   "id": "partial-compilation",
   "metadata": {},
   "outputs": [],
   "source": [
    "import json"
   ]
  },
  {
   "cell_type": "markdown",
   "id": "substantial-breathing",
   "metadata": {},
   "source": [
    "# API\n",
    "\n",
    "Very simple API written in flask for posting and requesting blocks and txs. "
   ]
  },
  {
   "cell_type": "code",
   "execution_count": 3,
   "id": "approximate-ranking",
   "metadata": {},
   "outputs": [],
   "source": [
    "from flask import Flask, request\n",
    "from flask_cors import CORS\n",
    "\n",
    "app = Flask(__name__)\n",
    "CORS(app);"
   ]
  },
  {
   "cell_type": "markdown",
   "id": "amazing-magic",
   "metadata": {},
   "source": [
    "## Block"
   ]
  },
  {
   "cell_type": "code",
   "execution_count": 4,
   "id": "exposed-raleigh",
   "metadata": {},
   "outputs": [],
   "source": [
    "blocks = {}"
   ]
  },
  {
   "cell_type": "markdown",
   "id": "characteristic-bacteria",
   "metadata": {},
   "source": [
    "#### Post"
   ]
  },
  {
   "cell_type": "code",
   "execution_count": 5,
   "id": "ranging-tsunami",
   "metadata": {},
   "outputs": [],
   "source": [
    "@app.route('/block', methods=['POST'])\n",
    "def post_block():\n",
    "    b = request.get_json()['block']\n",
    "    b = json.loads(b)\n",
    "    print(b['hash'])\n",
    "    blocks[b['hash']] = b\n",
    "    return \"200 ok\""
   ]
  },
  {
   "cell_type": "markdown",
   "id": "rubber-immune",
   "metadata": {},
   "source": [
    "#### Get"
   ]
  },
  {
   "cell_type": "code",
   "execution_count": 6,
   "id": "vietnamese-romania",
   "metadata": {},
   "outputs": [],
   "source": [
    "@app.route('/block/<block_hash>', methods=['GET'])\n",
    "def get_block(block_hash): return blocks[block_hash]"
   ]
  },
  {
   "cell_type": "markdown",
   "id": "hairy-pleasure",
   "metadata": {},
   "source": [
    "#### Get all Blocks"
   ]
  },
  {
   "cell_type": "code",
   "execution_count": 7,
   "id": "comparative-afternoon",
   "metadata": {},
   "outputs": [],
   "source": [
    "@app.route('/blocks', methods=['GET'])\n",
    "def get_blocks(): return {'blocks': [b for b in blocks.values()]}"
   ]
  },
  {
   "cell_type": "markdown",
   "id": "olympic-bacon",
   "metadata": {},
   "source": [
    "## TX"
   ]
  },
  {
   "cell_type": "code",
   "execution_count": 8,
   "id": "seven-capitol",
   "metadata": {},
   "outputs": [],
   "source": [
    "txs = {}"
   ]
  },
  {
   "cell_type": "markdown",
   "id": "preceding-average",
   "metadata": {},
   "source": [
    "#### Post"
   ]
  },
  {
   "cell_type": "code",
   "execution_count": 9,
   "id": "descending-elite",
   "metadata": {},
   "outputs": [],
   "source": [
    "@app.route('/tx', methods=['POST'])\n",
    "def post_tx():\n",
    "    tx = request.get_json()['tx']\n",
    "    tx = json.loads(tx)\n",
    "    txs[tx['hash']] = tx\n",
    "    return \"200 ok\""
   ]
  },
  {
   "cell_type": "markdown",
   "id": "speaking-chemistry",
   "metadata": {},
   "source": [
    "#### Get"
   ]
  },
  {
   "cell_type": "code",
   "execution_count": 10,
   "id": "collective-address",
   "metadata": {},
   "outputs": [],
   "source": [
    "@app.route('/tx/<tx_hash>', methods=['GET'])\n",
    "def get_tx(tx_hash): return txs[tx_hash]"
   ]
  },
  {
   "cell_type": "markdown",
   "id": "ruled-elizabeth",
   "metadata": {},
   "source": [
    "#### Get all TXs"
   ]
  },
  {
   "cell_type": "code",
   "execution_count": 11,
   "id": "hundred-specialist",
   "metadata": {},
   "outputs": [],
   "source": [
    "@app.route('/txs', methods=['GET'])\n",
    "def get_txs(): return {'transactions': [tx for tx in txs.values()]}"
   ]
  },
  {
   "cell_type": "markdown",
   "id": "hourly-protein",
   "metadata": {},
   "source": [
    "## Run Server"
   ]
  },
  {
   "cell_type": "code",
   "execution_count": null,
   "id": "genuine-header",
   "metadata": {},
   "outputs": [
    {
     "name": "stdout",
     "output_type": "stream",
     "text": [
      " * Serving Flask app \"__main__\" (lazy loading)\n",
      " * Environment: production\n",
      "\u001b[31m   WARNING: This is a development server. Do not use it in a production deployment.\u001b[0m\n",
      "\u001b[2m   Use a production WSGI server instead.\u001b[0m\n",
      " * Debug mode: off\n"
     ]
    },
    {
     "name": "stderr",
     "output_type": "stream",
     "text": [
      " * Running on http://127.0.0.1:5000/ (Press CTRL+C to quit)\n"
     ]
    }
   ],
   "source": [
    "PORT = 5000\n",
    "\n",
    "app.run(port=PORT)"
   ]
  }
 ],
 "metadata": {
  "kernelspec": {
   "display_name": "Python 3",
   "language": "python",
   "name": "python3"
  },
  "language_info": {
   "codemirror_mode": {
    "name": "ipython",
    "version": 3
   },
   "file_extension": ".py",
   "mimetype": "text/x-python",
   "name": "python",
   "nbconvert_exporter": "python",
   "pygments_lexer": "ipython3",
   "version": "3.8.2"
  }
 },
 "nbformat": 4,
 "nbformat_minor": 5
}
