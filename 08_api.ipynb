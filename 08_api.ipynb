{
 "cells": [
  {
   "cell_type": "code",
   "execution_count": 1,
   "id": "scenic-charity",
   "metadata": {},
   "outputs": [],
   "source": [
    "%run 01_hash.ipynb"
   ]
  },
  {
   "cell_type": "code",
   "execution_count": 2,
   "id": "received-northern",
   "metadata": {},
   "outputs": [],
   "source": [
    "import json"
   ]
  },
  {
   "cell_type": "markdown",
   "id": "located-production",
   "metadata": {},
   "source": [
    "# API\n",
    "\n",
    "Very simple API written in flask for posting and requesting blocks and txs. "
   ]
  },
  {
   "cell_type": "code",
   "execution_count": 3,
   "id": "necessary-castle",
   "metadata": {},
   "outputs": [],
   "source": [
    "from flask import Flask, request\n",
    "app = Flask(__name__)"
   ]
  },
  {
   "cell_type": "markdown",
   "id": "small-memorial",
   "metadata": {},
   "source": [
    "## Block"
   ]
  },
  {
   "cell_type": "code",
   "execution_count": 4,
   "id": "backed-guide",
   "metadata": {},
   "outputs": [],
   "source": [
    "blocks = {}"
   ]
  },
  {
   "cell_type": "markdown",
   "id": "grand-retreat",
   "metadata": {},
   "source": [
    "#### Post"
   ]
  },
  {
   "cell_type": "code",
   "execution_count": 5,
   "id": "looking-evanescence",
   "metadata": {},
   "outputs": [],
   "source": [
    "@app.route('/block', methods=['POST'])\n",
    "def post_block():\n",
    "    b = request.get_json()['block']\n",
    "    b = json.loads(b)\n",
    "    blocks[b['hash']] = b\n",
    "    return '200 OK'"
   ]
  },
  {
   "cell_type": "markdown",
   "id": "variable-trauma",
   "metadata": {},
   "source": [
    "#### Get"
   ]
  },
  {
   "cell_type": "code",
   "execution_count": 6,
   "id": "upset-equipment",
   "metadata": {},
   "outputs": [],
   "source": [
    "@app.route('/block', methods=['GET'])\n",
    "def get_block():\n",
    "    h = request.get_json()['hash']\n",
    "    return blocks[h]"
   ]
  },
  {
   "cell_type": "markdown",
   "id": "streaming-conclusion",
   "metadata": {},
   "source": [
    "#### Get all Blocks"
   ]
  },
  {
   "cell_type": "code",
   "execution_count": 7,
   "id": "billion-background",
   "metadata": {},
   "outputs": [],
   "source": [
    "@app.route('/blocks', methods=['GET'])\n",
    "def get_blocks(): return blocks"
   ]
  },
  {
   "cell_type": "markdown",
   "id": "seventh-monte",
   "metadata": {},
   "source": [
    "## TX"
   ]
  },
  {
   "cell_type": "code",
   "execution_count": 8,
   "id": "equivalent-distributor",
   "metadata": {},
   "outputs": [],
   "source": [
    "txs = {}"
   ]
  },
  {
   "cell_type": "markdown",
   "id": "continental-mambo",
   "metadata": {},
   "source": [
    "#### Post"
   ]
  },
  {
   "cell_type": "code",
   "execution_count": 9,
   "id": "stuck-ridge",
   "metadata": {},
   "outputs": [],
   "source": [
    "@app.route('/tx', methods=['POST'])\n",
    "def post_tx():\n",
    "    tx = request.get_json()['tx']\n",
    "    tx = json.loads(tx)\n",
    "    txs[tx['hash']] = tx\n",
    "    return '200 OK'"
   ]
  },
  {
   "cell_type": "markdown",
   "id": "massive-shooting",
   "metadata": {},
   "source": [
    "#### Get"
   ]
  },
  {
   "cell_type": "code",
   "execution_count": 10,
   "id": "western-airfare",
   "metadata": {},
   "outputs": [],
   "source": [
    "@app.route('/tx', methods=['GET'])\n",
    "def get_tx():\n",
    "    h = request.get_json()['hash']\n",
    "    return txs[h]"
   ]
  },
  {
   "cell_type": "markdown",
   "id": "traditional-grenada",
   "metadata": {},
   "source": [
    "#### Get all TXs"
   ]
  },
  {
   "cell_type": "code",
   "execution_count": 11,
   "id": "intense-batch",
   "metadata": {},
   "outputs": [],
   "source": [
    "@app.route('/txs', methods=['GET'])\n",
    "def get_txs(): return txs"
   ]
  },
  {
   "cell_type": "markdown",
   "id": "buried-march",
   "metadata": {},
   "source": [
    "## Run Server"
   ]
  },
  {
   "cell_type": "code",
   "execution_count": null,
   "id": "endless-lightning",
   "metadata": {},
   "outputs": [
    {
     "name": "stdout",
     "output_type": "stream",
     "text": [
      " * Serving Flask app \"__main__\" (lazy loading)\n",
      " * Environment: production\n",
      "\u001b[31m   WARNING: This is a development server. Do not use it in a production deployment.\u001b[0m\n",
      "\u001b[2m   Use a production WSGI server instead.\u001b[0m\n",
      " * Debug mode: off\n"
     ]
    },
    {
     "name": "stderr",
     "output_type": "stream",
     "text": [
      " * Running on http://127.0.0.1:5000/ (Press CTRL+C to quit)\n",
      "127.0.0.1 - - [02/Apr/2021 15:50:44] \"\u001b[37mPOST /block HTTP/1.1\u001b[0m\" 200 -\n",
      "127.0.0.1 - - [02/Apr/2021 15:50:44] \"\u001b[37mGET /block HTTP/1.1\u001b[0m\" 200 -\n",
      "127.0.0.1 - - [02/Apr/2021 15:50:44] \"\u001b[37mGET /blocks HTTP/1.1\u001b[0m\" 200 -\n",
      "127.0.0.1 - - [02/Apr/2021 15:50:44] \"\u001b[37mPOST /tx HTTP/1.1\u001b[0m\" 200 -\n",
      "127.0.0.1 - - [02/Apr/2021 15:50:44] \"\u001b[37mPOST /tx HTTP/1.1\u001b[0m\" 200 -\n",
      "127.0.0.1 - - [02/Apr/2021 15:50:44] \"\u001b[37mGET /tx HTTP/1.1\u001b[0m\" 200 -\n",
      "127.0.0.1 - - [02/Apr/2021 15:50:44] \"\u001b[37mGET /txs HTTP/1.1\u001b[0m\" 200 -\n"
     ]
    }
   ],
   "source": [
    "PORT = 5000\n",
    "\n",
    "app.run(port=PORT)"
   ]
  }
 ],
 "metadata": {
  "kernelspec": {
   "display_name": "Python 3",
   "language": "python",
   "name": "python3"
  },
  "language_info": {
   "codemirror_mode": {
    "name": "ipython",
    "version": 3
   },
   "file_extension": ".py",
   "mimetype": "text/x-python",
   "name": "python",
   "nbconvert_exporter": "python",
   "pygments_lexer": "ipython3",
   "version": "3.8.2"
  }
 },
 "nbformat": 4,
 "nbformat_minor": 5
}
