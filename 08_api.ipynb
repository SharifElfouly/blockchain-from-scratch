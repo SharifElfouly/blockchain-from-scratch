{
 "cells": [
  {
   "cell_type": "code",
   "execution_count": 1,
   "metadata": {},
   "outputs": [],
   "source": [
    "%run 01_hash.ipynb"
   ]
  },
  {
   "cell_type": "code",
   "execution_count": 2,
   "metadata": {},
   "outputs": [],
   "source": [
    "import json"
   ]
  },
  {
   "cell_type": "markdown",
   "metadata": {},
   "source": [
    "# API\n",
    "\n",
    "Very simple API written in flask for posting and requesting blocks and txs. "
   ]
  },
  {
   "cell_type": "code",
   "execution_count": 3,
   "metadata": {},
   "outputs": [],
   "source": [
    "from flask import Flask, request\n",
    "from flask_cors import CORS\n",
    "\n",
    "app = Flask(__name__)\n",
    "CORS(app);"
   ]
  },
  {
   "cell_type": "markdown",
   "metadata": {},
   "source": [
    "## Block"
   ]
  },
  {
   "cell_type": "code",
   "execution_count": 4,
   "metadata": {},
   "outputs": [],
   "source": [
    "blocks = {}"
   ]
  },
  {
   "cell_type": "markdown",
   "metadata": {},
   "source": [
    "#### Post"
   ]
  },
  {
   "cell_type": "code",
   "execution_count": 5,
   "metadata": {},
   "outputs": [],
   "source": [
    "@app.route('/block', methods=['POST'])\n",
    "def post_block():\n",
    "    b = request.get_json()['block']\n",
    "    b = json.loads(b)\n",
    "    print(b['hash'])\n",
    "    blocks[b['hash']] = b\n",
    "    return \"200 ok\""
   ]
  },
  {
   "cell_type": "markdown",
   "metadata": {},
   "source": [
    "#### Get"
   ]
  },
  {
   "cell_type": "code",
   "execution_count": 6,
   "metadata": {},
   "outputs": [],
   "source": [
    "@app.route('/block/<block_hash>', methods=['GET'])\n",
    "def get_block(block_hash): return blocks[block_hash]"
   ]
  },
  {
   "cell_type": "markdown",
   "metadata": {},
   "source": [
    "#### Get all Blocks"
   ]
  },
  {
   "cell_type": "code",
   "execution_count": 7,
   "metadata": {},
   "outputs": [],
   "source": [
    "@app.route('/blocks', methods=['GET'])\n",
    "def get_blocks(): return {'blocks': [b for b in blocks.values()]}"
   ]
  },
  {
   "cell_type": "markdown",
   "metadata": {},
   "source": [
    "## TX"
   ]
  },
  {
   "cell_type": "code",
   "execution_count": 8,
   "metadata": {},
   "outputs": [],
   "source": [
    "txs = {}"
   ]
  },
  {
   "cell_type": "markdown",
   "metadata": {},
   "source": [
    "#### Post"
   ]
  },
  {
   "cell_type": "code",
   "execution_count": 9,
   "metadata": {},
   "outputs": [],
   "source": [
    "@app.route('/tx', methods=['POST'])\n",
    "def post_tx():\n",
    "    tx = request.get_json()['tx']\n",
    "    tx = json.loads(tx)\n",
    "    txs[tx['hash']] = tx\n",
    "    return \"200 ok\""
   ]
  },
  {
   "cell_type": "markdown",
   "metadata": {},
   "source": [
    "#### Get"
   ]
  },
  {
   "cell_type": "code",
   "execution_count": 10,
   "metadata": {},
   "outputs": [],
   "source": [
    "@app.route('/tx/<tx_hash>', methods=['GET'])\n",
    "def get_tx(tx_hash): return txs[tx_hash]"
   ]
  },
  {
   "cell_type": "markdown",
   "metadata": {},
   "source": [
    "#### Get all TXs"
   ]
  },
  {
   "cell_type": "code",
   "execution_count": 11,
   "metadata": {},
   "outputs": [],
   "source": [
    "@app.route('/txs', methods=['GET'])\n",
    "def get_txs(): return {'transactions': [tx for tx in txs.values()]}"
   ]
  },
  {
   "cell_type": "markdown",
   "metadata": {},
   "source": [
    "## Run Server"
   ]
  },
  {
   "cell_type": "code",
   "execution_count": null,
   "metadata": {},
   "outputs": [
    {
     "name": "stdout",
     "output_type": "stream",
     "text": [
      " * Serving Flask app \"__main__\" (lazy loading)\n",
      " * Environment: production\n",
      "\u001b[31m   WARNING: This is a development server. Do not use it in a production deployment.\u001b[0m\n",
      "\u001b[2m   Use a production WSGI server instead.\u001b[0m\n",
      " * Debug mode: off\n"
     ]
    },
    {
     "name": "stderr",
     "output_type": "stream",
     "text": [
      " * Running on http://127.0.0.1:5000/ (Press CTRL+C to quit)\n",
      "127.0.0.1 - - [02/Apr/2021 21:30:04] \"\u001b[37mPOST /block HTTP/1.1\u001b[0m\" 200 -\n",
      "127.0.0.1 - - [02/Apr/2021 21:30:04] \"\u001b[37mPOST /block HTTP/1.1\u001b[0m\" 200 -\n",
      "127.0.0.1 - - [02/Apr/2021 21:30:04] \"\u001b[37mGET /block/0x613513a2f797d5a5aa1943ae3694315a859df55662436946964c0ec290f1d986 HTTP/1.1\u001b[0m\" 200 -\n",
      "127.0.0.1 - - [02/Apr/2021 21:30:04] \"\u001b[37mGET /blocks HTTP/1.1\u001b[0m\" 200 -\n",
      "127.0.0.1 - - [02/Apr/2021 21:30:04] \"\u001b[37mPOST /tx HTTP/1.1\u001b[0m\" 200 -\n",
      "127.0.0.1 - - [02/Apr/2021 21:30:04] \"\u001b[37mPOST /tx HTTP/1.1\u001b[0m\" 200 -\n",
      "127.0.0.1 - - [02/Apr/2021 21:30:04] \"\u001b[37mGET /tx/0x20a8848bfd74542ab2caa67644ca5fa8b1cc2365098a61106d569a0c39df9d58 HTTP/1.1\u001b[0m\" 200 -\n",
      "127.0.0.1 - - [02/Apr/2021 21:30:04] \"\u001b[37mGET /txs HTTP/1.1\u001b[0m\" 200 -\n"
     ]
    },
    {
     "name": "stdout",
     "output_type": "stream",
     "text": [
      "0x18f9a8c2b1182fd782ac8d670a8da2ee05621ed6a9b2d2d3cad86441a831e1cc\n",
      "0x613513a2f797d5a5aa1943ae3694315a859df55662436946964c0ec290f1d986\n"
     ]
    },
    {
     "name": "stderr",
     "output_type": "stream",
     "text": [
      "[2021-04-02 21:30:09,275] ERROR in app: Exception on /block/0xa5e4a6a5b48c914adb568f34b5b1a9f88c52c9d6eb2ff8692a38dfdd3d5feca2 [GET]\n",
      "Traceback (most recent call last):\n",
      "  File \"/home/sharif/.local/lib/python3.6/site-packages/flask/app.py\", line 2447, in wsgi_app\n",
      "    response = self.full_dispatch_request()\n",
      "  File \"/home/sharif/.local/lib/python3.6/site-packages/flask/app.py\", line 1952, in full_dispatch_request\n",
      "    rv = self.handle_user_exception(e)\n",
      "  File \"/home/sharif/.local/lib/python3.6/site-packages/flask_cors/extension.py\", line 165, in wrapped_function\n",
      "    return cors_after_request(app.make_response(f(*args, **kwargs)))\n",
      "  File \"/home/sharif/.local/lib/python3.6/site-packages/flask/app.py\", line 1821, in handle_user_exception\n",
      "    reraise(exc_type, exc_value, tb)\n",
      "  File \"/home/sharif/.local/lib/python3.6/site-packages/flask/_compat.py\", line 39, in reraise\n",
      "    raise value\n",
      "  File \"/home/sharif/.local/lib/python3.6/site-packages/flask/app.py\", line 1950, in full_dispatch_request\n",
      "    rv = self.dispatch_request()\n",
      "  File \"/home/sharif/.local/lib/python3.6/site-packages/flask/app.py\", line 1936, in dispatch_request\n",
      "    return self.view_functions[rule.endpoint](**req.view_args)\n",
      "  File \"<ipython-input-6-05bbdffb00ee>\", line 2, in get_block\n",
      "    def get_block(block_hash): return blocks[block_hash]\n",
      "KeyError: '0xa5e4a6a5b48c914adb568f34b5b1a9f88c52c9d6eb2ff8692a38dfdd3d5feca2'\n",
      "127.0.0.1 - - [02/Apr/2021 21:30:09] \"\u001b[35m\u001b[1mGET /block/0xa5e4a6a5b48c914adb568f34b5b1a9f88c52c9d6eb2ff8692a38dfdd3d5feca2 HTTP/1.1\u001b[0m\" 500 -\n",
      "127.0.0.1 - - [02/Apr/2021 21:30:09] \"\u001b[37mGET /blocks HTTP/1.1\u001b[0m\" 200 -\n",
      "127.0.0.1 - - [02/Apr/2021 21:30:40] \"\u001b[37mGET /blocks HTTP/1.1\u001b[0m\" 200 -\n",
      "127.0.0.1 - - [02/Apr/2021 21:30:41] \"\u001b[37mGET /block/0x613513a2f797d5a5aa1943ae3694315a859df55662436946964c0ec290f1d986 HTTP/1.1\u001b[0m\" 200 -\n",
      "127.0.0.1 - - [02/Apr/2021 21:30:49] \"\u001b[37mGET /block/0x18f9a8c2b1182fd782ac8d670a8da2ee05621ed6a9b2d2d3cad86441a831e1cc HTTP/1.1\u001b[0m\" 200 -\n",
      "127.0.0.1 - - [02/Apr/2021 21:30:52] \"\u001b[37mGET /block/0x613513a2f797d5a5aa1943ae3694315a859df55662436946964c0ec290f1d986 HTTP/1.1\u001b[0m\" 200 -\n",
      "127.0.0.1 - - [02/Apr/2021 21:31:13] \"\u001b[37mGET /blocks HTTP/1.1\u001b[0m\" 200 -\n",
      "127.0.0.1 - - [02/Apr/2021 21:32:06] \"\u001b[37mGET /block/0x613513a2f797d5a5aa1943ae3694315a859df55662436946964c0ec290f1d986 HTTP/1.1\u001b[0m\" 200 -\n",
      "127.0.0.1 - - [02/Apr/2021 21:34:40] \"\u001b[37mGET /block/0x18f9a8c2b1182fd782ac8d670a8da2ee05621ed6a9b2d2d3cad86441a831e1cc HTTP/1.1\u001b[0m\" 200 -\n",
      "127.0.0.1 - - [02/Apr/2021 21:36:49] \"\u001b[37mGET /blocks HTTP/1.1\u001b[0m\" 200 -\n",
      "127.0.0.1 - - [02/Apr/2021 21:36:57] \"\u001b[37mGET /blocks HTTP/1.1\u001b[0m\" 200 -\n",
      "127.0.0.1 - - [02/Apr/2021 21:36:57] \"\u001b[37mGET /blocks HTTP/1.1\u001b[0m\" 200 -\n",
      "127.0.0.1 - - [02/Apr/2021 21:38:46] \"\u001b[37mGET /txs HTTP/1.1\u001b[0m\" 200 -\n",
      "127.0.0.1 - - [02/Apr/2021 21:38:46] \"\u001b[37mGET /blocks HTTP/1.1\u001b[0m\" 200 -\n",
      "127.0.0.1 - - [02/Apr/2021 21:38:47] \"\u001b[37mGET /txs HTTP/1.1\u001b[0m\" 200 -\n",
      "127.0.0.1 - - [02/Apr/2021 21:38:47] \"\u001b[37mGET /blocks HTTP/1.1\u001b[0m\" 200 -\n",
      "127.0.0.1 - - [02/Apr/2021 21:38:47] \"\u001b[37mGET /blocks HTTP/1.1\u001b[0m\" 200 -\n",
      "127.0.0.1 - - [02/Apr/2021 21:38:47] \"\u001b[37mGET /txs HTTP/1.1\u001b[0m\" 200 -\n",
      "127.0.0.1 - - [02/Apr/2021 21:38:57] \"\u001b[37mGET /txs HTTP/1.1\u001b[0m\" 200 -\n",
      "127.0.0.1 - - [02/Apr/2021 21:38:57] \"\u001b[37mGET /blocks HTTP/1.1\u001b[0m\" 200 -\n",
      "127.0.0.1 - - [02/Apr/2021 21:39:21] \"\u001b[37mGET /blocks HTTP/1.1\u001b[0m\" 200 -\n",
      "127.0.0.1 - - [02/Apr/2021 21:39:21] \"\u001b[37mGET /txs HTTP/1.1\u001b[0m\" 200 -\n",
      "127.0.0.1 - - [02/Apr/2021 21:39:37] \"\u001b[37mGET /txs HTTP/1.1\u001b[0m\" 200 -\n",
      "127.0.0.1 - - [02/Apr/2021 21:39:37] \"\u001b[37mGET /blocks HTTP/1.1\u001b[0m\" 200 -\n",
      "127.0.0.1 - - [02/Apr/2021 21:39:53] \"\u001b[37mGET /blocks HTTP/1.1\u001b[0m\" 200 -\n",
      "127.0.0.1 - - [02/Apr/2021 21:39:53] \"\u001b[37mGET /txs HTTP/1.1\u001b[0m\" 200 -\n",
      "127.0.0.1 - - [02/Apr/2021 21:40:04] \"\u001b[37mGET /blocks HTTP/1.1\u001b[0m\" 200 -\n",
      "127.0.0.1 - - [02/Apr/2021 21:40:04] \"\u001b[37mGET /txs HTTP/1.1\u001b[0m\" 200 -\n",
      "127.0.0.1 - - [02/Apr/2021 21:41:28] \"\u001b[37mGET /txs HTTP/1.1\u001b[0m\" 200 -\n",
      "127.0.0.1 - - [02/Apr/2021 21:41:28] \"\u001b[37mGET /blocks HTTP/1.1\u001b[0m\" 200 -\n",
      "127.0.0.1 - - [02/Apr/2021 21:41:38] \"\u001b[37mGET /blocks HTTP/1.1\u001b[0m\" 200 -\n",
      "127.0.0.1 - - [02/Apr/2021 21:41:38] \"\u001b[37mGET /txs HTTP/1.1\u001b[0m\" 200 -\n",
      "127.0.0.1 - - [02/Apr/2021 21:41:56] \"\u001b[37mGET /blocks HTTP/1.1\u001b[0m\" 200 -\n",
      "127.0.0.1 - - [02/Apr/2021 21:41:56] \"\u001b[37mGET /txs HTTP/1.1\u001b[0m\" 200 -\n",
      "127.0.0.1 - - [02/Apr/2021 21:45:07] \"\u001b[37mGET /txs HTTP/1.1\u001b[0m\" 200 -\n",
      "127.0.0.1 - - [02/Apr/2021 21:45:07] \"\u001b[37mGET /blocks HTTP/1.1\u001b[0m\" 200 -\n",
      "127.0.0.1 - - [02/Apr/2021 21:45:16] \"\u001b[37mGET /txs HTTP/1.1\u001b[0m\" 200 -\n",
      "127.0.0.1 - - [02/Apr/2021 21:45:16] \"\u001b[37mGET /blocks HTTP/1.1\u001b[0m\" 200 -\n",
      "127.0.0.1 - - [02/Apr/2021 21:46:56] \"\u001b[37mGET /blocks HTTP/1.1\u001b[0m\" 200 -\n",
      "127.0.0.1 - - [02/Apr/2021 21:46:56] \"\u001b[37mGET /txs HTTP/1.1\u001b[0m\" 200 -\n",
      "127.0.0.1 - - [02/Apr/2021 21:46:58] \"\u001b[37mGET /block/0x613513a2f797d5a5aa1943ae3694315a859df55662436946964c0ec290f1d986 HTTP/1.1\u001b[0m\" 200 -\n",
      "127.0.0.1 - - [02/Apr/2021 21:47:03] \"\u001b[37mGET /blocks HTTP/1.1\u001b[0m\" 200 -\n",
      "127.0.0.1 - - [02/Apr/2021 21:47:03] \"\u001b[37mGET /txs HTTP/1.1\u001b[0m\" 200 -\n",
      "127.0.0.1 - - [02/Apr/2021 21:48:28] \"\u001b[37mGET /block/0x613513a2f797d5a5aa1943ae3694315a859df55662436946964c0ec290f1d986 HTTP/1.1\u001b[0m\" 200 -\n",
      "127.0.0.1 - - [02/Apr/2021 21:48:31] \"\u001b[37mGET /block/0x18f9a8c2b1182fd782ac8d670a8da2ee05621ed6a9b2d2d3cad86441a831e1cc HTTP/1.1\u001b[0m\" 200 -\n",
      "127.0.0.1 - - [02/Apr/2021 21:48:34] \"\u001b[37mGET /block/0x613513a2f797d5a5aa1943ae3694315a859df55662436946964c0ec290f1d986 HTTP/1.1\u001b[0m\" 200 -\n",
      "127.0.0.1 - - [02/Apr/2021 21:48:37] \"\u001b[37mGET /block/0x613513a2f797d5a5aa1943ae3694315a859df55662436946964c0ec290f1d986 HTTP/1.1\u001b[0m\" 200 -\n"
     ]
    }
   ],
   "source": [
    "PORT = 5000\n",
    "\n",
    "app.run(port=PORT)"
   ]
  }
 ],
 "metadata": {
  "kernelspec": {
   "display_name": "Python 3",
   "language": "python",
   "name": "python3"
  },
  "language_info": {
   "codemirror_mode": {
    "name": "ipython",
    "version": 3
   },
   "file_extension": ".py",
   "mimetype": "text/x-python",
   "name": "python",
   "nbconvert_exporter": "python",
   "pygments_lexer": "ipython3",
   "version": "3.6.9"
  }
 },
 "nbformat": 4,
 "nbformat_minor": 5
}
