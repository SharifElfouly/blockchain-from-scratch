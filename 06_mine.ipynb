{
 "cells": [
  {
   "cell_type": "code",
   "execution_count": 17,
   "id": "careful-suite",
   "metadata": {},
   "outputs": [],
   "source": [
    "%%capture\n",
    "%run 04_account.ipynb\n",
    "%run 05_block.ipynb"
   ]
  },
  {
   "cell_type": "markdown",
   "id": "photographic-madrid",
   "metadata": {},
   "source": [
    "## Miner\n",
    "\n",
    "Mining is a crucial component on any blockchain relying on proof of work (abbr. pow). It is used to reach consensus in a network of anonymous decentralized nodes. Anyone with an account `acc` can become a miner. \n",
    "\n",
    "The miner takes a new block and tries to solve a specific computational puzzle, a specific hash. This can only be done by brute force. \n",
    "\n",
    "`coinbase` creates a tx to the miner as a reward for providing the pow (also called coinbase tx). "
   ]
  },
  {
   "cell_type": "code",
   "execution_count": 79,
   "id": "mexican-gilbert",
   "metadata": {},
   "outputs": [],
   "source": [
    "class Miner(Hashable):\n",
    "    def __init__(self, acc): \n",
    "        self.acc = acc\n",
    "        self.pub = acc.pub\n",
    "        \n",
    "    def mine(self, txs, prev_header, diff, reward, attempts=1000):\n",
    "        txs.insert(0, self.coinbase(reward))\n",
    "        mt = MerkleTree(txs)\n",
    "        bh = Header(mt.root, prev_header.hash, prev_header.number+1, len(txs))\n",
    "        bh_b = bytes(bh)\n",
    "        nonce = 0\n",
    "        for i in range(attempts):\n",
    "            candidate   = bh_b + str(nonce).encode()\n",
    "            candidate_h = sha(candidate)\n",
    "            if candidate_h[2:2+diff] == '0'*diff: break\n",
    "            nonce += 1\n",
    "            assert nonce != attempts, 'no nonce could be found'\n",
    "        bh.diff   = diff\n",
    "        bh.reward = reward\n",
    "        bh.nonce  = nonce\n",
    "        bh.miner  = self.pub\n",
    "        bh.mined  = True\n",
    "        return Block(bh, txs)\n",
    "        \n",
    "    def coinbase(self, reward): \n",
    "        return self.acc.sign(TX(self.pub, self.pub, reward, 0, self.acc.nonce))"
   ]
  },
  {
   "cell_type": "markdown",
   "id": "remarkable-bibliography",
   "metadata": {},
   "source": [
    "### Genesis Block\n",
    "\n",
    "Is the first block in the blockchain. This is how it all begins. "
   ]
  },
  {
   "cell_type": "code",
   "execution_count": 80,
   "id": "experienced-disaster",
   "metadata": {},
   "outputs": [
    {
     "name": "stdout",
     "output_type": "stream",
     "text": [
      "root:          🔀 0x9aceb893cd...10e\n",
      "hash:          🔯 0xc9441d2ba6...cfa\n",
      "prev_hash:     💮 0x487de97332...be1\n",
      "number:        0\n",
      "n_txs:         2\n",
      "mined:         False\n",
      "time:          Tue Mar 30 21:18:09 2021\n",
      "volume:        14.0 ether\n",
      "fees:          0.12 ether\n",
      "\n",
      "txs:\n",
      "🕡 0xfb3a737e98...8e4\n",
      "🕅 0xdf58975055...c95\n"
     ]
    }
   ],
   "source": [
    "def mine_genesis(txs):\n",
    "    mt  = MerkleTree(txs)\n",
    "    bh  = Header(mt.root, rh(), 0, len(txs))\n",
    "    return Block(bh, txs)\n",
    "\n",
    "gb  = mine_genesis(r_stxs(2)); print(gb)"
   ]
  },
  {
   "cell_type": "markdown",
   "id": "global-logic",
   "metadata": {},
   "source": [
    "### Mining\n",
    "\n",
    "Mine a block on top of the genesis block"
   ]
  },
  {
   "cell_type": "code",
   "execution_count": 84,
   "id": "friendly-boating",
   "metadata": {},
   "outputs": [
    {
     "name": "stdout",
     "output_type": "stream",
     "text": [
      "root:          🔀 0x9abb6ba0f0...d4a\n",
      "hash:          💈 0x229507755c...557\n",
      "prev_hash:     🔯 0xc9441d2ba6...cfa\n",
      "number:        1\n",
      "n_txs:         11\n",
      "mined:         True\n",
      "time:          Tue Mar 30 21:18:18 2021\n",
      "diff:          1\n",
      "reward:        100\n",
      "nonce:         8\n",
      "miner:         📢 0x7cA5161dCf...EA2\n",
      "volume:        168.0 ether\n",
      "fees:          0.62 ether\n",
      "\n",
      "txs:\n",
      "💨 0x42568bbc1d...f21\n",
      "🔨 0xc2312babf1...137\n",
      "📵 0x8f18d713b2...82d\n",
      "💯 0x496a85dc72...33a\n",
      "📻 0x954bd774e2...8fc\n",
      "👾 0x188cab6e01...1de\n",
      "🔑 0xab1872cb5c...7c2\n",
      "👹 0x1349e7e157...271\n",
      "💪 0x4434a3619a...0b6\n",
      "💼 0x566e2f4311...9a6\n",
      "💩 0x43d6da7ff7...7ed\n"
     ]
    }
   ],
   "source": [
    "miner = Miner(acc1)\n",
    "mb = miner.mine(r_stxs(10), gb.bh, 1, 100); print(mb)"
   ]
  }
 ],
 "metadata": {
  "kernelspec": {
   "display_name": "Python 3",
   "language": "python",
   "name": "python3"
  },
  "language_info": {
   "codemirror_mode": {
    "name": "ipython",
    "version": 3
   },
   "file_extension": ".py",
   "mimetype": "text/x-python",
   "name": "python",
   "nbconvert_exporter": "python",
   "pygments_lexer": "ipython3",
   "version": "3.8.2"
  }
 },
 "nbformat": 4,
 "nbformat_minor": 5
}
