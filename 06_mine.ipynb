{
 "cells": [
  {
   "cell_type": "code",
   "execution_count": 7,
   "id": "careful-suite",
   "metadata": {},
   "outputs": [],
   "source": [
    "%%capture\n",
    "%run 04_account.ipynb\n",
    "%run 05_block.ipynb"
   ]
  },
  {
   "cell_type": "markdown",
   "id": "photographic-madrid",
   "metadata": {},
   "source": [
    "## Miner\n",
    "\n",
    "Mining is a crucial component on any blockchain relying on proof of work (abbr. pow). It is used to reach consensus in a network of anonymous decentralized nodes. Anyone with an account `acc` can become a miner. \n",
    "\n",
    "The miner takes a new block and tries to solve a specific computational puzzle, a specific hash. This can only be done by brute force. \n",
    "\n",
    "`coinbase` creates a tx to the miner as a reward for providing the pow (also called coinbase tx). "
   ]
  },
  {
   "cell_type": "code",
   "execution_count": 8,
   "id": "mexican-gilbert",
   "metadata": {},
   "outputs": [],
   "source": [
    "class Miner:\n",
    "    def __init__(self, acc): \n",
    "        self.acc = acc\n",
    "        self.pub = acc.pub\n",
    "        \n",
    "    def mine(self, txs, prev_header, diff, reward, attempts=1000):\n",
    "        txs.insert(0, self.coinbase(reward))\n",
    "        mt = MerkleTree(txs)\n",
    "        bh = Header(mt.root, prev_header.hash, prev_header.number+1, len(txs))\n",
    "        bh.diff   = diff\n",
    "        bh.reward = reward\n",
    "        bh.miner  = self.pub\n",
    "        bh.mined  = True\n",
    "        bh_b = bytes(bh)\n",
    "        nonce = 0\n",
    "        for i in range(attempts):\n",
    "            candidate   = bh_b + str(nonce).encode()\n",
    "            candidate_h = sha(candidate)\n",
    "            if candidate_h[2:2+diff] == '0'*diff: break\n",
    "            nonce += 1\n",
    "            assert nonce != attempts, 'no nonce could be found'\n",
    "        bh.nonce  = nonce\n",
    "        return Block(bh, txs)\n",
    "        \n",
    "    def coinbase(self, reward): \n",
    "        return self.acc.sign(TX(self.pub, self.pub, reward, 0, self.acc.nonce))"
   ]
  },
  {
   "cell_type": "markdown",
   "id": "remarkable-bibliography",
   "metadata": {},
   "source": [
    "### Genesis Block\n",
    "\n",
    "Is the first block in the blockchain. This is how it all begins. "
   ]
  },
  {
   "cell_type": "code",
   "execution_count": 9,
   "id": "experienced-disaster",
   "metadata": {},
   "outputs": [
    {
     "name": "stdout",
     "output_type": "stream",
     "text": [
      "root:          💀 0x1aceb8e9b2...6d2\n",
      "hash:          🕄 0xde2d3d5b47...da6\n",
      "prev_hash:     0x0\n",
      "number:        0\n",
      "n_txs:         2\n",
      "mined:         False\n",
      "time:          1617485067.9508538 eth\n",
      "volume:        10.0 eth\n",
      "fees:          0.05 eth\n",
      "\n",
      "txs:\n",
      "📿 0x99fF -> 💝 0x37FF 8.0 eth\n",
      "📿 0x99fF -> 💝 0x37FF 2.0 eth\n"
     ]
    }
   ],
   "source": [
    "def mine_genesis(txs):\n",
    "    mt  = MerkleTree(txs)\n",
    "    bh  = Header(mt.root, '0x0', 0, len(txs))\n",
    "    return Block(bh, txs)\n",
    "\n",
    "gb  = mine_genesis(r_stxs(2)); print(gb)"
   ]
  },
  {
   "cell_type": "markdown",
   "id": "global-logic",
   "metadata": {},
   "source": [
    "### Mining\n",
    "\n",
    "Mine a block on top of the genesis block"
   ]
  },
  {
   "cell_type": "code",
   "execution_count": 10,
   "id": "friendly-boating",
   "metadata": {},
   "outputs": [
    {
     "name": "stdout",
     "output_type": "stream",
     "text": [
      "root:          📵 0x8fa74ce558...fac\n",
      "hash:          💬 0x4626f8a850...103\n",
      "prev_hash:     🕄 0xde2d3d5b47...da6\n",
      "number:        1\n",
      "n_txs:         11\n",
      "mined:         True\n",
      "time:          1617485069.1429892 eth\n",
      "diff:          1\n",
      "reward:        100\n",
      "miner:         📿 0x99fF32a9F0...011\n",
      "nonce:         5\n",
      "volume:        166.0 eth\n",
      "fees:          0.49 eth\n",
      "\n",
      "txs:\n",
      "📿 0x99fF -> 📿 0x99fF 100.0 eth\n",
      "📿 0x99fF -> 💝 0x37FF 7.0 eth\n",
      "📿 0x99fF -> 💝 0x37FF 9.0 eth\n",
      "📿 0x99fF -> 💝 0x37FF 5.0 eth\n",
      "📿 0x99fF -> 💝 0x37FF 7.0 eth\n",
      "📿 0x99fF -> 💝 0x37FF 8.0 eth\n",
      "📿 0x99fF -> 💝 0x37FF 9.0 eth\n",
      "📿 0x99fF -> 💝 0x37FF 8.0 eth\n",
      "📿 0x99fF -> 💝 0x37FF 6.0 eth\n",
      "📿 0x99fF -> 💝 0x37FF 2.0 eth\n",
      "📿 0x99fF -> 💝 0x37FF 5.0 eth\n"
     ]
    }
   ],
   "source": [
    "miner = Miner(acc1)\n",
    "mb = miner.mine(r_stxs(10), gb.header, 1, 100); print(mb)"
   ]
  },
  {
   "cell_type": "markdown",
   "id": "accredited-architect",
   "metadata": {},
   "source": [
    "### PoW validation"
   ]
  },
  {
   "cell_type": "markdown",
   "id": "willing-provider",
   "metadata": {},
   "source": [
    "We can validate a mined blocks pow very easily."
   ]
  },
  {
   "cell_type": "code",
   "execution_count": 5,
   "id": "swedish-victor",
   "metadata": {},
   "outputs": [],
   "source": [
    "def val_pow(mb):\n",
    "    bh          = mb.header\n",
    "    mb_b        = bytes(bh)\n",
    "    candidate   = mb_b + str(bh.nonce).encode()\n",
    "    candidate_h = sha(candidate)\n",
    "    if candidate_h[2:2+bh.diff] == '0'*bh.diff: return True\n",
    "    else                                      : return False\n",
    "    \n",
    "assert val_pow(mb)"
   ]
  },
  {
   "cell_type": "markdown",
   "id": "better-context",
   "metadata": {},
   "source": [
    "If we change something in the block the pow should break."
   ]
  },
  {
   "cell_type": "code",
   "execution_count": 6,
   "id": "found-dublin",
   "metadata": {},
   "outputs": [],
   "source": [
    "mb.header.prev_hash = rh()\n",
    "assert not val_pow(mb)"
   ]
  }
 ],
 "metadata": {
  "kernelspec": {
   "display_name": "Python 3",
   "language": "python",
   "name": "python3"
  },
  "language_info": {
   "codemirror_mode": {
    "name": "ipython",
    "version": 3
   },
   "file_extension": ".py",
   "mimetype": "text/x-python",
   "name": "python",
   "nbconvert_exporter": "python",
   "pygments_lexer": "ipython3",
   "version": "3.8.2"
  }
 },
 "nbformat": 4,
 "nbformat_minor": 5
}
