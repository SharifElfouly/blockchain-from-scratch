{
 "cells": [
  {
   "cell_type": "code",
   "execution_count": 10,
   "id": "careful-suite",
   "metadata": {},
   "outputs": [],
   "source": [
    "%%capture\n",
    "%run 02_account.ipynb\n",
    "%run 03_block.ipynb"
   ]
  },
  {
   "cell_type": "markdown",
   "id": "photographic-madrid",
   "metadata": {},
   "source": [
    "## Miner\n",
    "\n",
    "Mining is a crucial component on any blockchain relying on proof of work (abbr. pow). It is used to reach consensus in a network of anonymous decentralized nodes.\n",
    "\n",
    "The miner takes a new block and tries to solve a specific computational puzzle, a specific hash. This can only be done by brute force. "
   ]
  },
  {
   "cell_type": "code",
   "execution_count": 15,
   "id": "mexican-gilbert",
   "metadata": {},
   "outputs": [],
   "source": [
    "class Miner:\n",
    "    def __init__(self, acc): \n",
    "        self.acc = acc\n",
    "        self.pub = acc.pub\n",
    "        \n",
    "    def mine(self, txs, prev_header, diff, reward, attempts=1000):\n",
    "        txs.insert(0, self.coinbase(reward))\n",
    "        mt = MerkleTree(txs)\n",
    "        bh = Header(mt.root, prev_header.hash, prev_header.number+1, len(txs))\n",
    "        bh_b = bytes(bh)\n",
    "        nonce = 0\n",
    "        for i in range(attempts):\n",
    "            candidate   = bh_b + str(nonce).encode()\n",
    "            candidate_h = sha(candidate)\n",
    "            if candidate_h[:diff] == '0'*diff: break\n",
    "            nonce += 1\n",
    "        bh.diff   = diff\n",
    "        bh.reward = reward\n",
    "        bh.nonce  = nonce\n",
    "        bh.miner  = self.pub\n",
    "        bh.mined  = True\n",
    "        return Block(bh, txs)\n",
    "        \n",
    "    def coinbase(self, reward): \n",
    "        return self.acc.sign(TX(self.pub, self.pub, reward, 0, self.acc.nonce))"
   ]
  },
  {
   "cell_type": "markdown",
   "id": "remarkable-bibliography",
   "metadata": {},
   "source": [
    "### Genesis Block\n",
    "\n",
    "Is the first block in the blockchain. This is how it all begins. "
   ]
  },
  {
   "cell_type": "code",
   "execution_count": 16,
   "id": "experienced-disaster",
   "metadata": {},
   "outputs": [
    {
     "name": "stdout",
     "output_type": "stream",
     "text": [
      "hash:\t\t💓 2d5d9f95f7fbac63...27f\n",
      "time:\t\tMon Mar 29 21:27:39 2021\n",
      "number:\t\t0\n",
      "prev_hash:\t🔀 9a946c1c33c9f191...41e\n",
      "txs_count:\t2\n",
      "txs_root:\t🕓 ed261466747cb276...36a\n"
     ]
    }
   ],
   "source": [
    "def mine_genesis(txs):\n",
    "    mt  = MerkleTree(txs)\n",
    "    bh  = Header(mt.root, rh(), 0, len(txs))\n",
    "    return Block(bh, txs)\n",
    "\n",
    "gb  = mine_genesis(r_stxs(2)); print(gb)"
   ]
  },
  {
   "cell_type": "markdown",
   "id": "global-logic",
   "metadata": {},
   "source": [
    "### Mining\n",
    "\n",
    "Mine a block on top of the genesis block"
   ]
  },
  {
   "cell_type": "code",
   "execution_count": 17,
   "id": "friendly-boating",
   "metadata": {},
   "outputs": [
    {
     "name": "stdout",
     "output_type": "stream",
     "text": [
      "hash:\t\t🔥 bf1d13d66c07bc16...ea7\n",
      "time:\t\tMon Mar 29 21:27:41 2021\n",
      "number:\t\t1\n",
      "prev_hash:\t💓 2d5d9f95f7fbac63...27f\n",
      "txs_count:\t11\n",
      "txs_root:\t🕒 eca335a01a57ebf3...524\n",
      "miner:\t\t👫 0x0557298e5D0ed7...a3C\n",
      "diff:\t\t2\n",
      "reward:\t\t100\n",
      "nonce:\t\t273\n"
     ]
    }
   ],
   "source": [
    "miner = Miner(acc1)\n",
    "mb = miner.mine(r_stxs(10), gb.bh, 2, 100); print(mb)"
   ]
  }
 ],
 "metadata": {
  "kernelspec": {
   "display_name": "Python 3",
   "language": "python",
   "name": "python3"
  },
  "language_info": {
   "codemirror_mode": {
    "name": "ipython",
    "version": 3
   },
   "file_extension": ".py",
   "mimetype": "text/x-python",
   "name": "python",
   "nbconvert_exporter": "python",
   "pygments_lexer": "ipython3",
   "version": "3.8.2"
  }
 },
 "nbformat": 4,
 "nbformat_minor": 5
}
