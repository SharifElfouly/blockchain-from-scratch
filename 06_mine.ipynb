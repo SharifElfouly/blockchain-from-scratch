{
 "cells": [
  {
   "cell_type": "code",
   "execution_count": 212,
   "id": "careful-suite",
   "metadata": {},
   "outputs": [],
   "source": [
    "%%capture\n",
    "%run 04_account.ipynb\n",
    "%run 05_block.ipynb"
   ]
  },
  {
   "cell_type": "markdown",
   "id": "photographic-madrid",
   "metadata": {},
   "source": [
    "## Miner\n",
    "\n",
    "Mining is a crucial component on any blockchain relying on proof of work (abbr. pow). It is used to reach consensus in a network of anonymous decentralized nodes. Anyone with an account `acc` can become a miner. \n",
    "\n",
    "The miner takes a new block and tries to solve a specific computational puzzle, a specific hash. This can only be done by brute force. \n",
    "\n",
    "`coinbase` creates a tx to the miner as a reward for providing the pow (also called coinbase tx). "
   ]
  },
  {
   "cell_type": "code",
   "execution_count": 213,
   "id": "mexican-gilbert",
   "metadata": {},
   "outputs": [],
   "source": [
    "class Miner:\n",
    "    def __init__(self, acc): \n",
    "        self.acc = acc\n",
    "        self.pub = acc.pub\n",
    "        \n",
    "    def mine(self, txs, prev_header, diff, reward, attempts=1000):\n",
    "        txs.insert(0, self.coinbase(reward))\n",
    "        mt = MerkleTree(txs)\n",
    "        bh = Header(mt.root, prev_header.hash, prev_header.number+1, len(txs))\n",
    "        bh.diff   = diff\n",
    "        bh.reward = reward\n",
    "        bh.miner  = self.pub\n",
    "        bh.mined  = True\n",
    "        bh_b = bytes(bh)\n",
    "        nonce = 0\n",
    "        for i in range(attempts):\n",
    "            candidate   = bh_b + str(nonce).encode()\n",
    "            candidate_h = sha(candidate)\n",
    "            if candidate_h[2:2+diff] == '0'*diff: break\n",
    "            nonce += 1\n",
    "            assert nonce != attempts, 'no nonce could be found'\n",
    "        bh.nonce  = nonce\n",
    "        return Block(bh, txs)\n",
    "        \n",
    "    def coinbase(self, reward): \n",
    "        return self.acc.sign(TX(self.pub, self.pub, reward, 0, self.acc.nonce))"
   ]
  },
  {
   "cell_type": "markdown",
   "id": "remarkable-bibliography",
   "metadata": {},
   "source": [
    "### Genesis Block\n",
    "\n",
    "Is the first block in the blockchain. This is how it all begins. "
   ]
  },
  {
   "cell_type": "code",
   "execution_count": 214,
   "id": "experienced-disaster",
   "metadata": {},
   "outputs": [
    {
     "name": "stdout",
     "output_type": "stream",
     "text": [
      "root:          💹 0x5308a8e7f4...106\n",
      "hash:          📆 0x60a49e7932...82d\n",
      "prev_hash:     👨 0x027b65149a...845\n",
      "number:        0\n",
      "n_txs:         2\n",
      "mined:         False\n",
      "time:          Tue Mar 30 22:04:30 2021\n",
      "volume:        15.0 ether\n",
      "fees:          0.09 ether\n",
      "\n",
      "txs:\n",
      "📅 0x5f22c1925b...74f\n",
      "👩 0x03858325e3...853\n"
     ]
    }
   ],
   "source": [
    "def mine_genesis(txs):\n",
    "    mt  = MerkleTree(txs)\n",
    "    bh  = Header(mt.root, rh(), 0, len(txs))\n",
    "    return Block(bh, txs)\n",
    "\n",
    "gb  = mine_genesis(r_stxs(2)); print(gb)"
   ]
  },
  {
   "cell_type": "markdown",
   "id": "global-logic",
   "metadata": {},
   "source": [
    "### Mining\n",
    "\n",
    "Mine a block on top of the genesis block"
   ]
  },
  {
   "cell_type": "code",
   "execution_count": 215,
   "id": "friendly-boating",
   "metadata": {},
   "outputs": [
    {
     "name": "stdout",
     "output_type": "stream",
     "text": [
      "root:          📡 0x7bcc363ad1...49d\n",
      "hash:          🕉 0xe3514dfacd...815\n",
      "prev_hash:     📆 0x60a49e7932...82d\n",
      "number:        1\n",
      "n_txs:         11\n",
      "mined:         True\n",
      "time:          Tue Mar 30 22:04:31 2021\n",
      "diff:          1\n",
      "reward:        100\n",
      "miner:         🕣 0xfdEbA52fDa...66b\n",
      "nonce:         17\n",
      "volume:        152.0 ether\n",
      "fees:          0.52 ether\n",
      "\n",
      "txs:\n",
      "📛 0x75ffef745d...3d0\n",
      "💋 0x25affa7a01...4b8\n",
      "💏 0x2950dd949b...ba9\n",
      "🔽 0xd719257beb...68c\n",
      "🕗 0xf1d552ea04...527\n",
      "📧 0x81522997fb...348\n",
      "🔋 0xa57013946c...202\n",
      "📞 0x78b7e06a70...6c6\n",
      "👶 0x102ff0ad6d...e59\n",
      "💊 0x24ebac6d18...b00\n",
      "🕡 0xfbfbb6d320...633\n"
     ]
    }
   ],
   "source": [
    "miner = Miner(acc1)\n",
    "mb = miner.mine(r_stxs(10), gb.bh, 1, 100); print(mb)"
   ]
  },
  {
   "cell_type": "markdown",
   "id": "stainless-delight",
   "metadata": {},
   "source": [
    "### PoW validation"
   ]
  },
  {
   "cell_type": "markdown",
   "id": "adjusted-inflation",
   "metadata": {},
   "source": [
    "We can validate a mined blocks pow very easily."
   ]
  },
  {
   "cell_type": "code",
   "execution_count": 208,
   "id": "copyrighted-conspiracy",
   "metadata": {},
   "outputs": [],
   "source": [
    "def val_pow(mb):\n",
    "    bh          = mb.bh\n",
    "    mb_b        = bytes(bh)\n",
    "    candidate   = mb_b + str(bh.nonce).encode()\n",
    "    candidate_h = sha(candidate)\n",
    "    if candidate_h[2:2+bh.diff] == '0'*bh.diff: return True\n",
    "    else                                      : return False\n",
    "    \n",
    "assert val_pow(mb)"
   ]
  },
  {
   "cell_type": "markdown",
   "id": "efficient-retirement",
   "metadata": {},
   "source": [
    "If we change something in the block the pow should break."
   ]
  },
  {
   "cell_type": "code",
   "execution_count": 210,
   "id": "banner-result",
   "metadata": {},
   "outputs": [],
   "source": [
    "mb.bh.prev_hash = rh()\n",
    "assert not val_pow(mb)"
   ]
  }
 ],
 "metadata": {
  "kernelspec": {
   "display_name": "Python 3",
   "language": "python",
   "name": "python3"
  },
  "language_info": {
   "codemirror_mode": {
    "name": "ipython",
    "version": 3
   },
   "file_extension": ".py",
   "mimetype": "text/x-python",
   "name": "python",
   "nbconvert_exporter": "python",
   "pygments_lexer": "ipython3",
   "version": "3.8.2"
  }
 },
 "nbformat": 4,
 "nbformat_minor": 5
}
