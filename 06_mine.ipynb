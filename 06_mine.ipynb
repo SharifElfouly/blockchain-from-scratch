{
 "cells": [
  {
   "cell_type": "code",
   "execution_count": 216,
   "id": "careful-suite",
   "metadata": {},
   "outputs": [],
   "source": [
    "%%capture\n",
    "%run 04_account.ipynb\n",
    "%run 05_block.ipynb"
   ]
  },
  {
   "cell_type": "markdown",
   "id": "photographic-madrid",
   "metadata": {},
   "source": [
    "## Miner\n",
    "\n",
    "Mining is a crucial component on any blockchain relying on proof of work (abbr. pow). It is used to reach consensus in a network of anonymous decentralized nodes. Anyone with an account `acc` can become a miner. \n",
    "\n",
    "The miner takes a new block and tries to solve a specific computational puzzle, a specific hash. This can only be done by brute force. \n",
    "\n",
    "`coinbase` creates a tx to the miner as a reward for providing the pow (also called coinbase tx). "
   ]
  },
  {
   "cell_type": "code",
   "execution_count": 217,
   "id": "mexican-gilbert",
   "metadata": {},
   "outputs": [],
   "source": [
    "class Miner:\n",
    "    def __init__(self, acc): \n",
    "        self.acc = acc\n",
    "        self.pub = acc.pub\n",
    "        \n",
    "    def mine(self, txs, prev_header, diff, reward, attempts=1000):\n",
    "        txs.insert(0, self.coinbase(reward))\n",
    "        mt = MerkleTree(txs)\n",
    "        bh = Header(mt.root, prev_header.hash, prev_header.number+1, len(txs))\n",
    "        bh.diff   = diff\n",
    "        bh.reward = reward\n",
    "        bh.miner  = self.pub\n",
    "        bh.mined  = True\n",
    "        bh_b = bytes(bh)\n",
    "        nonce = 0\n",
    "        for i in range(attempts):\n",
    "            candidate   = bh_b + str(nonce).encode()\n",
    "            candidate_h = sha(candidate)\n",
    "            if candidate_h[2:2+diff] == '0'*diff: break\n",
    "            nonce += 1\n",
    "            assert nonce != attempts, 'no nonce could be found'\n",
    "        bh.nonce  = nonce\n",
    "        return Block(bh, txs)\n",
    "        \n",
    "    def coinbase(self, reward): \n",
    "        return self.acc.sign(TX(self.pub, self.pub, reward, 0, self.acc.nonce))"
   ]
  },
  {
   "cell_type": "markdown",
   "id": "remarkable-bibliography",
   "metadata": {},
   "source": [
    "### Genesis Block\n",
    "\n",
    "Is the first block in the blockchain. This is how it all begins. "
   ]
  },
  {
   "cell_type": "code",
   "execution_count": 227,
   "id": "experienced-disaster",
   "metadata": {},
   "outputs": [
    {
     "name": "stdout",
     "output_type": "stream",
     "text": [
      "root:          🔖 0xb08d037053...f3b\n",
      "hash:          📚 0x74d0d1938d...7d7\n",
      "prev_hash:     0x0\n",
      "number:        0\n",
      "n_txs:         2\n",
      "mined:         False\n",
      "time:          Wed Mar 31 01:04:32 2021\n",
      "volume:        9.0 ether\n",
      "fees:          0.16 ether\n",
      "sz:            2422\n",
      "\n",
      "txs:\n",
      "👯 0x097008cf7c...a2f\n",
      "📳 0x8d2acb877f...f9a\n"
     ]
    }
   ],
   "source": [
    "def mine_genesis(txs):\n",
    "    mt  = MerkleTree(txs)\n",
    "    bh  = Header(mt.root, '0x0', 0, len(txs))\n",
    "    return Block(bh, txs)\n",
    "\n",
    "gb  = mine_genesis(r_stxs(2)); print(gb)"
   ]
  },
  {
   "cell_type": "markdown",
   "id": "global-logic",
   "metadata": {},
   "source": [
    "### Mining\n",
    "\n",
    "Mine a block on top of the genesis block"
   ]
  },
  {
   "cell_type": "code",
   "execution_count": 220,
   "id": "friendly-boating",
   "metadata": {},
   "outputs": [
    {
     "name": "stdout",
     "output_type": "stream",
     "text": [
      "root:          💜 0x3641bb8df5...226\n",
      "hash:          📳 0x8ddace8ecf...99f\n",
      "prev_hash:     💆 0x2082efb5d5...86b\n",
      "number:        1\n",
      "n_txs:         11\n",
      "mined:         True\n",
      "time:          Wed Mar 31 00:59:35 2021\n",
      "diff:          1\n",
      "reward:        100\n",
      "miner:         💚 0x34B23f22C5...621\n",
      "nonce:         0\n",
      "volume:        156.0 ether\n",
      "fees:          0.59 ether\n",
      "sz:            11768\n",
      "\n",
      "txs:\n",
      "🔮 0xc8eb0f058e...5e8\n",
      "🔐 0xaa4e5f1d41...c6e\n",
      "💄 0x1e34bb5a34...46c\n",
      "💁 0x1b7d39c5e6...369\n",
      "🔳 0xcd9b4a22b3...d37\n",
      "🔿 0xd9bf87a193...140\n",
      "🕐 0xead848ea16...af8\n",
      "🔵 0xcf4dbfd3c5...a81\n",
      "💆 0x208c588124...adc\n",
      "💫 0x451a574637...0a6\n",
      "🕄 0xde7051b839...704\n"
     ]
    }
   ],
   "source": [
    "miner = Miner(acc1)\n",
    "mb = miner.mine(r_stxs(10), gb.header, 1, 100); print(mb)"
   ]
  },
  {
   "cell_type": "markdown",
   "id": "accredited-architect",
   "metadata": {},
   "source": [
    "### PoW validation"
   ]
  },
  {
   "cell_type": "markdown",
   "id": "willing-provider",
   "metadata": {},
   "source": [
    "We can validate a mined blocks pow very easily."
   ]
  },
  {
   "cell_type": "code",
   "execution_count": 222,
   "id": "swedish-victor",
   "metadata": {},
   "outputs": [],
   "source": [
    "def val_pow(mb):\n",
    "    bh          = mb.header\n",
    "    mb_b        = bytes(bh)\n",
    "    candidate   = mb_b + str(bh.nonce).encode()\n",
    "    candidate_h = sha(candidate)\n",
    "    if candidate_h[2:2+bh.diff] == '0'*bh.diff: return True\n",
    "    else                                      : return False\n",
    "    \n",
    "assert val_pow(mb)"
   ]
  },
  {
   "cell_type": "markdown",
   "id": "better-context",
   "metadata": {},
   "source": [
    "If we change something in the block the pow should break."
   ]
  },
  {
   "cell_type": "code",
   "execution_count": 224,
   "id": "found-dublin",
   "metadata": {},
   "outputs": [],
   "source": [
    "mb.header.prev_hash = rh()\n",
    "assert not val_pow(mb)"
   ]
  }
 ],
 "metadata": {
  "kernelspec": {
   "display_name": "Python 3",
   "language": "python",
   "name": "python3"
  },
  "language_info": {
   "codemirror_mode": {
    "name": "ipython",
    "version": 3
   },
   "file_extension": ".py",
   "mimetype": "text/x-python",
   "name": "python",
   "nbconvert_exporter": "python",
   "pygments_lexer": "ipython3",
   "version": "3.8.2"
  }
 },
 "nbformat": 4,
 "nbformat_minor": 5
}
